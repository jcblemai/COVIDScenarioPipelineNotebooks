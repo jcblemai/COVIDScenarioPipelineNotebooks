{
 "cells": [
  {
   "cell_type": "code",
   "execution_count": 1,
   "metadata": {},
   "outputs": [
    {
     "name": "stdout",
     "output_type": "stream",
     "text": [
      "Mobility files as matrices are not recommended. Please switch soon to long form csv files.\n",
      "\n",
      ">> Scenario: Scenario1\n",
      ">> Starting 10 model runs beginning from 1\n",
      ">> Setup *** minimal_Scenario1 *** from 2020-01-15 to 2020-05-31\n",
      ">> writing to folder : model_output/minimal_Scenario1/minimal_Scenario1\n",
      "    \n"
     ]
    }
   ],
   "source": [
    "import multiprocessing\n",
    "import pathlib\n",
    "import time\n",
    "\n",
    "import click\n",
    "import numpy as np\n",
    "from COVIDScenarioPipeline.SEIR import seir, setup\n",
    "from COVIDScenarioPipeline.SEIR.utils import config\n",
    "from COVIDScenarioPipeline.SEIR.profile import profile_options\n",
    "\n",
    "\n",
    "config.set_file('config.yml')\n",
    "spatial_config = config[\"spatial_setup\"]\n",
    "spatial_base_path = pathlib.Path(spatial_config[\"base_path\"].get())\n",
    "scenario = 'Scenario1'\n",
    "nsim = 10\n",
    "interactive = False\n",
    "write_csv = False\n",
    "write_parquet = True\n",
    "index = 1\n",
    "ncomp = 7\n",
    "S, E, I1, I2, I3, R, cumI = np.arange(ncomp)\n",
    "\n",
    "\n",
    "\n",
    "s = setup.Setup(setup_name=config[\"name\"].get() + \"_\" + str(scenario),\n",
    "                        spatial_setup=setup.SpatialSetup(\n",
    "                            setup_name=spatial_config[\"setup_name\"].get(),\n",
    "                            geodata_file=spatial_base_path / spatial_config[\"geodata\"].get(),\n",
    "                            mobility_file=spatial_base_path / spatial_config[\"mobility\"].get(),\n",
    "                            popnodes_key=spatial_config[\"popnodes\"].get(),\n",
    "                            nodenames_key=spatial_config[\"nodenames\"].get()\n",
    "                        ),\n",
    "                        nsim=nsim,\n",
    "                        npi_scenario=scenario,\n",
    "                        npi_config=config[\"interventions\"][\"settings\"][scenario],\n",
    "                        seeding_config=config[\"seeding\"],\n",
    "                        ti=config[\"start_date\"].as_date(),\n",
    "                        tf=config[\"end_date\"].as_date(),\n",
    "                        interactive=interactive,\n",
    "                        write_csv=write_csv,\n",
    "                        write_parquet=write_parquet,\n",
    "                        dt=config[\"dt\"].as_number(),\n",
    "                        first_sim_index = index)\n",
    "\n",
    "\n",
    "print(f\"\"\"\n",
    ">> Scenario: {scenario}\n",
    ">> Starting {s.nsim} model runs beginning from {s.first_sim_index}\n",
    ">> Setup *** {s.setup_name} *** from {s.ti} to {s.tf}\n",
    ">> writing to folder : {s.datadir}{s.setup_name}\n",
    "    \"\"\")\n",
    "onerun_SEIR = lambda sim_id2write, s: seir.onerun_SEIR(sim_id2write, s)\n",
    "onerun_SEIR_loadID = lambda sim_id2write, s, sim_id2load: seir.onerun_SEIR_loadID(sim_id2write, s, sim_id2load)"
   ]
  },
  {
   "cell_type": "code",
   "execution_count": 2,
   "metadata": {},
   "outputs": [
    {
     "name": "stdout",
     "output_type": "stream",
     "text": [
      "Warning: The ReduceR0 is redundant with the newer Reduce NPI template configured with parameter: r0\n",
      "Warning: The intervention in config: interventions.settings.None does nothing.\n",
      "Warning: The ReduceR0 is redundant with the newer Reduce NPI template configured with parameter: r0\n"
     ]
    },
    {
     "ename": "ValueError",
     "evalue": "place 20002 does not exist in seeding::states_file. You can set ignore_missing=TRUE to bypass this error",
     "output_type": "error",
     "traceback": [
      "\u001b[0;31m---------------------------------------------------------------------------\u001b[0m",
      "\u001b[0;31mValueError\u001b[0m                                Traceback (most recent call last)",
      "\u001b[0;32m<ipython-input-2-bf659b46fad4>\u001b[0m in \u001b[0;36m<module>\u001b[0;34m\u001b[0m\n\u001b[0;32m----> 1\u001b[0;31m \u001b[0monerun_SEIR\u001b[0m\u001b[0;34m(\u001b[0m\u001b[0;36m1\u001b[0m\u001b[0;34m,\u001b[0m\u001b[0ms\u001b[0m\u001b[0;34m)\u001b[0m\u001b[0;34m\u001b[0m\u001b[0;34m\u001b[0m\u001b[0m\n\u001b[0m\u001b[1;32m      2\u001b[0m \u001b[0monerun_SEIR_loadID\u001b[0m\u001b[0;34m(\u001b[0m\u001b[0;36m2\u001b[0m\u001b[0;34m,\u001b[0m\u001b[0ms\u001b[0m\u001b[0;34m,\u001b[0m\u001b[0;36m1\u001b[0m\u001b[0;34m)\u001b[0m\u001b[0;34m\u001b[0m\u001b[0;34m\u001b[0m\u001b[0m\n",
      "\u001b[0;32m<ipython-input-1-1a6f245f1897>\u001b[0m in \u001b[0;36m<lambda>\u001b[0;34m(sim_id2write, s)\u001b[0m\n\u001b[1;32m     51\u001b[0m \u001b[0;34m>>\u001b[0m \u001b[0mwriting\u001b[0m \u001b[0mto\u001b[0m \u001b[0mfolder\u001b[0m \u001b[0;34m:\u001b[0m \u001b[0;34m{\u001b[0m\u001b[0ms\u001b[0m\u001b[0;34m.\u001b[0m\u001b[0mdatadir\u001b[0m\u001b[0;34m}\u001b[0m\u001b[0;34m{\u001b[0m\u001b[0ms\u001b[0m\u001b[0;34m.\u001b[0m\u001b[0msetup_name\u001b[0m\u001b[0;34m}\u001b[0m\u001b[0;34m\u001b[0m\u001b[0;34m\u001b[0m\u001b[0m\n\u001b[1;32m     52\u001b[0m     \"\"\")\n\u001b[0;32m---> 53\u001b[0;31m \u001b[0monerun_SEIR\u001b[0m \u001b[0;34m=\u001b[0m \u001b[0;32mlambda\u001b[0m \u001b[0msim_id2write\u001b[0m\u001b[0;34m,\u001b[0m \u001b[0ms\u001b[0m\u001b[0;34m:\u001b[0m \u001b[0mseir\u001b[0m\u001b[0;34m.\u001b[0m\u001b[0monerun_SEIR\u001b[0m\u001b[0;34m(\u001b[0m\u001b[0msim_id2write\u001b[0m\u001b[0;34m,\u001b[0m \u001b[0ms\u001b[0m\u001b[0;34m)\u001b[0m\u001b[0;34m\u001b[0m\u001b[0;34m\u001b[0m\u001b[0m\n\u001b[0m\u001b[1;32m     54\u001b[0m \u001b[0monerun_SEIR_loadID\u001b[0m \u001b[0;34m=\u001b[0m \u001b[0;32mlambda\u001b[0m \u001b[0msim_id2write\u001b[0m\u001b[0;34m,\u001b[0m \u001b[0ms\u001b[0m\u001b[0;34m,\u001b[0m \u001b[0msim_id2load\u001b[0m\u001b[0;34m:\u001b[0m \u001b[0mseir\u001b[0m\u001b[0;34m.\u001b[0m\u001b[0monerun_SEIR_loadID\u001b[0m\u001b[0;34m(\u001b[0m\u001b[0msim_id2write\u001b[0m\u001b[0;34m,\u001b[0m \u001b[0ms\u001b[0m\u001b[0;34m,\u001b[0m \u001b[0msim_id2load\u001b[0m\u001b[0;34m)\u001b[0m\u001b[0;34m\u001b[0m\u001b[0;34m\u001b[0m\u001b[0m\n",
      "\u001b[0;32m~/Documents/phd/COVID19_Minimal/COVIDScenarioPipeline/SEIR/seir.py\u001b[0m in \u001b[0;36monerun_SEIR\u001b[0;34m(sim_id, s)\u001b[0m\n\u001b[1;32m     25\u001b[0m     \u001b[0mnpi\u001b[0m \u001b[0;34m=\u001b[0m \u001b[0mNPI\u001b[0m\u001b[0;34m.\u001b[0m\u001b[0mNPIBase\u001b[0m\u001b[0;34m.\u001b[0m\u001b[0mexecute\u001b[0m\u001b[0;34m(\u001b[0m\u001b[0mnpi_config\u001b[0m\u001b[0;34m=\u001b[0m\u001b[0ms\u001b[0m\u001b[0;34m.\u001b[0m\u001b[0mnpi_config\u001b[0m\u001b[0;34m,\u001b[0m \u001b[0mglobal_config\u001b[0m\u001b[0;34m=\u001b[0m\u001b[0mconfig\u001b[0m\u001b[0;34m,\u001b[0m \u001b[0mgeoids\u001b[0m\u001b[0;34m=\u001b[0m\u001b[0ms\u001b[0m\u001b[0;34m.\u001b[0m\u001b[0mspatset\u001b[0m\u001b[0;34m.\u001b[0m\u001b[0mnodenames\u001b[0m\u001b[0;34m)\u001b[0m\u001b[0;34m\u001b[0m\u001b[0;34m\u001b[0m\u001b[0m\n\u001b[1;32m     26\u001b[0m \u001b[0;34m\u001b[0m\u001b[0m\n\u001b[0;32m---> 27\u001b[0;31m     \u001b[0my0\u001b[0m\u001b[0;34m,\u001b[0m \u001b[0mseeding\u001b[0m \u001b[0;34m=\u001b[0m \u001b[0msetup\u001b[0m\u001b[0;34m.\u001b[0m\u001b[0mseeding_draw\u001b[0m\u001b[0;34m(\u001b[0m\u001b[0ms\u001b[0m\u001b[0;34m,\u001b[0m \u001b[0msim_id\u001b[0m\u001b[0;34m)\u001b[0m\u001b[0;34m\u001b[0m\u001b[0;34m\u001b[0m\u001b[0m\n\u001b[0m\u001b[1;32m     28\u001b[0m \u001b[0;34m\u001b[0m\u001b[0m\n\u001b[1;32m     29\u001b[0m     \u001b[0mmobility_geoid_indices\u001b[0m \u001b[0;34m=\u001b[0m \u001b[0ms\u001b[0m\u001b[0;34m.\u001b[0m\u001b[0mmobility\u001b[0m\u001b[0;34m.\u001b[0m\u001b[0mindices\u001b[0m\u001b[0;34m\u001b[0m\u001b[0;34m\u001b[0m\u001b[0m\n",
      "\u001b[0;32m~/Documents/phd/COVID19_Minimal/COVIDScenarioPipeline/SEIR/setup.py\u001b[0m in \u001b[0;36mseeding_draw\u001b[0;34m(s, sim_id)\u001b[0m\n\u001b[1;32m    199\u001b[0m                 \u001b[0my0\u001b[0m\u001b[0;34m[\u001b[0m\u001b[0mS\u001b[0m\u001b[0;34m,\u001b[0m \u001b[0ms\u001b[0m\u001b[0;34m.\u001b[0m\u001b[0mspatset\u001b[0m\u001b[0;34m.\u001b[0m\u001b[0mnodenames\u001b[0m\u001b[0;34m.\u001b[0m\u001b[0mindex\u001b[0m\u001b[0;34m(\u001b[0m\u001b[0mpl\u001b[0m\u001b[0;34m)\u001b[0m\u001b[0;34m]\u001b[0m \u001b[0;34m=\u001b[0m \u001b[0ms\u001b[0m\u001b[0;34m.\u001b[0m\u001b[0mpopnodes\u001b[0m\u001b[0;34m[\u001b[0m\u001b[0ms\u001b[0m\u001b[0;34m.\u001b[0m\u001b[0mspatset\u001b[0m\u001b[0;34m.\u001b[0m\u001b[0mnodenames\u001b[0m\u001b[0;34m.\u001b[0m\u001b[0mindex\u001b[0m\u001b[0;34m(\u001b[0m\u001b[0mpl\u001b[0m\u001b[0;34m)\u001b[0m\u001b[0;34m]\u001b[0m\u001b[0;34m\u001b[0m\u001b[0;34m\u001b[0m\u001b[0m\n\u001b[1;32m    200\u001b[0m             \u001b[0;32melse\u001b[0m\u001b[0;34m:\u001b[0m\u001b[0;34m\u001b[0m\u001b[0;34m\u001b[0m\u001b[0m\n\u001b[0;32m--> 201\u001b[0;31m                 \u001b[0;32mraise\u001b[0m \u001b[0mValueError\u001b[0m\u001b[0;34m(\u001b[0m\u001b[0;34mf\"place {pl} does not exist in seeding::states_file. You can set ignore_missing=TRUE to bypass this error\"\u001b[0m\u001b[0;34m)\u001b[0m\u001b[0;34m\u001b[0m\u001b[0;34m\u001b[0m\u001b[0m\n\u001b[0m\u001b[1;32m    202\u001b[0m \u001b[0;34m\u001b[0m\u001b[0m\n\u001b[1;32m    203\u001b[0m     \u001b[0;32melse\u001b[0m\u001b[0;34m:\u001b[0m\u001b[0;34m\u001b[0m\u001b[0;34m\u001b[0m\u001b[0m\n",
      "\u001b[0;31mValueError\u001b[0m: place 20002 does not exist in seeding::states_file. You can set ignore_missing=TRUE to bypass this error"
     ]
    }
   ],
   "source": [
    "onerun_SEIR(1,s)\n",
    "onerun_SEIR_loadID(2,s,1)"
   ]
  },
  {
   "cell_type": "code",
   "execution_count": null,
   "metadata": {},
   "outputs": [],
   "source": []
  },
  {
   "cell_type": "code",
   "execution_count": 57,
   "metadata": {},
   "outputs": [
    {
     "name": "stdout",
     "output_type": "stream",
     "text": [
      "WARNING: State load does not exist for node 20002, assuming fully susceptible population\n"
     ]
    }
   ],
   "source": [
    "states = pd.read_csv(s.seeding_config[\"states_file\"].as_str(), converters={'place': lambda x: str(x)})\n",
    "if (states.empty):\n",
    "    raise ValueError(f\"There is no entry for initial time ti in the provided seeding::states_file.\")\n",
    "\n",
    "y0 = np.zeros((ncomp, s.nnodes))\n",
    "\n",
    "for pl in s.spatset.nodenames:\n",
    "    if pl in list(states['place']):\n",
    "        y0[S][s.spatset.nodenames.index(pl)] =  float(states[(states['place'] == pl) & (states['comp'] == 'S')]['amount'])\n",
    "        y0[E][s.spatset.nodenames.index(pl)] =  float(states[(states['place'] == pl) & (states['comp'] == 'E')]['amount'])\n",
    "        y0[I1][s.spatset.nodenames.index(pl)] = float(states[(states['place'] == pl) & (states['comp'] == 'I1')]['amount'])\n",
    "        y0[I2][s.spatset.nodenames.index(pl)] = float(states[(states['place'] == pl) & (states['comp'] == 'I2')]['amount'])\n",
    "        y0[I3][s.spatset.nodenames.index(pl)] = float(states[(states['place'] == pl) & (states['comp'] == 'I3')]['amount'])\n",
    "        y0[R][s.spatset.nodenames.index(pl)] =  float(states[(states['place'] == pl) & (states['comp'] == 'R')]['amount'])\n",
    "        y0[cumI][s.spatset.nodenames.index(pl)] = y0[I1][s.spatset.nodenames.index(pl)] + y0[I2][s.spatset.nodenames.index(pl)] + y0[I3][s.spatset.nodenames.index(pl)]\n",
    "    elif s.seeding_config[\"ignore_missing\"].get():\n",
    "        print(f'WARNING: State load does not exist for node {pl}, assuming fully susceptible population')\n",
    "        y0[S, s.spatset.nodenames.index(pl)] = s.popnodes[s.spatset.nodenames.index(pl)]\n",
    "    else:\n",
    "        raise ValueError(f\"place {pl} does not exist in seeding::states_file. You can set ignore_missing=TRUE to bypass this error\")"
   ]
  },
  {
   "cell_type": "code",
   "execution_count": 51,
   "metadata": {},
   "outputs": [
    {
     "data": {
      "text/plain": [
       "0         True\n",
       "1         True\n",
       "2         True\n",
       "3         True\n",
       "4         True\n",
       "         ...  \n",
       "18847    False\n",
       "18848    False\n",
       "18849    False\n",
       "18850    False\n",
       "18851    False\n",
       "Name: comp, Length: 18852, dtype: bool"
      ]
     },
     "execution_count": 51,
     "metadata": {},
     "output_type": "execute_result"
    }
   ],
   "source": [
    "states['comp'] == 'S'"
   ]
  },
  {
   "cell_type": "code",
   "execution_count": 45,
   "metadata": {},
   "outputs": [
    {
     "data": {
      "text/plain": [
       "array([2000.,    0.,    0.,    0.,    0.,    0.,    0.])"
      ]
     },
     "execution_count": 45,
     "metadata": {},
     "output_type": "execute_result"
    }
   ],
   "source": [
    "y0[:,1]"
   ]
  },
  {
   "cell_type": "code",
   "execution_count": 12,
   "metadata": {},
   "outputs": [
    {
     "data": {
      "text/plain": [
       "Timestamp('2020-01-15 00:00:00')"
      ]
     },
     "execution_count": 12,
     "metadata": {},
     "output_type": "execute_result"
    }
   ],
   "source": [
    "states['time'][0]"
   ]
  },
  {
   "cell_type": "code",
   "execution_count": 2,
   "metadata": {},
   "outputs": [
    {
     "name": "stdout",
     "output_type": "stream",
     "text": [
      "WARNING: State load does not exist for node 20002, assuming fully susceptible population\n"
     ]
    }
   ],
   "source": [
    "y0, i = setup.seeding_draw(s,1)"
   ]
  },
  {
   "cell_type": "code",
   "execution_count": 3,
   "metadata": {},
   "outputs": [
    {
     "data": {
      "text/plain": [
       "array([[156520.        ,   2000.        ],\n",
       "       [  1275.47327772,      0.        ],\n",
       "       [   365.35379596,      0.        ],\n",
       "       [   353.5132001 ,      0.        ],\n",
       "       [   306.51315982,      0.        ],\n",
       "       [  3489.1465664 ,      0.        ],\n",
       "       [  4514.52672228,      0.        ]])"
      ]
     },
     "execution_count": 3,
     "metadata": {},
     "output_type": "execute_result"
    }
   ],
   "source": [
    "y0"
   ]
  },
  {
   "cell_type": "code",
   "execution_count": 6,
   "metadata": {},
   "outputs": [
    {
     "name": "stdout",
     "output_type": "stream",
     "text": [
      "WARNING: State load does not exist for node 20002, assuming fully susceptible population\n"
     ]
    }
   ],
   "source": [
    "y0, i = setup.seeding_load(s,1)"
   ]
  },
  {
   "cell_type": "code",
   "execution_count": 7,
   "metadata": {},
   "outputs": [
    {
     "data": {
      "text/plain": [
       "array([[156520.        ,   2000.        ],\n",
       "       [  1275.47327772,      0.        ],\n",
       "       [   365.35379596,      0.        ],\n",
       "       [   353.5132001 ,      0.        ],\n",
       "       [   306.51315982,      0.        ],\n",
       "       [  3489.1465664 ,      0.        ],\n",
       "       [  4514.52672228,      0.        ]])"
      ]
     },
     "execution_count": 7,
     "metadata": {},
     "output_type": "execute_result"
    }
   ],
   "source": [
    "y0"
   ]
  }
 ],
 "metadata": {
  "kernelspec": {
   "display_name": "Python 3.7.5 64-bit",
   "language": "python",
   "name": "python37564bitb6a8cbcde2634e63883867447f9de255"
  },
  "language_info": {
   "codemirror_mode": {
    "name": "ipython",
    "version": 3
   },
   "file_extension": ".py",
   "mimetype": "text/x-python",
   "name": "python",
   "nbconvert_exporter": "python",
   "pygments_lexer": "ipython3",
   "version": "3.7.7"
  }
 },
 "nbformat": 4,
 "nbformat_minor": 4
}

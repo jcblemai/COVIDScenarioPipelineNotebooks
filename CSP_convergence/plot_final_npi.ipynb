{
 "cells": [
  {
   "cell_type": "code",
   "execution_count": 1,
   "metadata": {
    "execution": {
     "iopub.execute_input": "2021-11-29T22:46:58.091912Z",
     "iopub.status.busy": "2021-11-29T22:46:58.091441Z",
     "iopub.status.idle": "2021-11-29T22:47:00.145687Z",
     "shell.execute_reply": "2021-11-29T22:47:00.145002Z",
     "shell.execute_reply.started": "2021-11-29T22:46:58.091816Z"
    },
    "tags": []
   },
   "outputs": [],
   "source": [
    "import pyarrow.parquet as pq\n",
    "import pyarrow as pa\n",
    "import pathlib, os, glob\n",
    "import tempfile\n",
    "import numpy as np\n",
    "import pyarrow.dataset as ds\n",
    "from dask import delayed\n",
    "from fastparquet import ParquetFile\n",
    "import pandas as pd\n",
    "import dask.dataframe as dd\n",
    "import matplotlib.pyplot as plt\n",
    "from tqdm import tqdm"
   ]
  },
  {
   "cell_type": "code",
   "execution_count": 2,
   "metadata": {
    "execution": {
     "iopub.execute_input": "2021-11-29T22:47:00.147463Z",
     "iopub.status.busy": "2021-11-29T22:47:00.147172Z",
     "iopub.status.idle": "2021-11-29T22:47:00.153452Z",
     "shell.execute_reply": "2021-11-29T22:47:00.152781Z",
     "shell.execute_reply.started": "2021-11-29T22:47:00.147435Z"
    },
    "tags": []
   },
   "outputs": [],
   "source": [
    "geodata = pd.read_csv('../COVID19_USA/data/geodata_territories_2019_statelevel.csv',\n",
    "                     converters={'geoid': lambda x: str(x)})"
   ]
  },
  {
   "cell_type": "code",
   "execution_count": 3,
   "metadata": {
    "execution": {
     "iopub.execute_input": "2021-11-29T22:47:00.154763Z",
     "iopub.status.busy": "2021-11-29T22:47:00.154459Z",
     "iopub.status.idle": "2021-11-29T22:47:00.202675Z",
     "shell.execute_reply": "2021-11-29T22:47:00.201901Z",
     "shell.execute_reply.started": "2021-11-29T22:47:00.154741Z"
    },
    "tags": []
   },
   "outputs": [],
   "source": [
    "run_ids = ['R10_optWan_highBoo_test5poispois_CA-FL-MD-MN-WA', 'R10_optWan_highBoo_WildOnly_CA-FL-MD-MN-WA']\n",
    "def get_folder(run_id, ftype='hnpi'):\n",
    "    return f's3pull/{run_id}/{ftype}/USA/inference/med/{run_id}/global/final/'\n"
   ]
  },
  {
   "cell_type": "code",
   "execution_count": 9,
   "metadata": {
    "execution": {
     "iopub.execute_input": "2021-11-29T22:47:23.058565Z",
     "iopub.status.busy": "2021-11-29T22:47:23.058314Z",
     "iopub.status.idle": "2021-11-29T22:47:23.073376Z",
     "shell.execute_reply": "2021-11-29T22:47:23.072659Z",
     "shell.execute_reply.started": "2021-11-29T22:47:23.058543Z"
    },
    "tags": []
   },
   "outputs": [
    {
     "name": "stdout",
     "output_type": "stream",
     "text": [
      "R10_optWan_highBoo_test5poispois_CA-FL-MD-MN-WA 299\n",
      "R10_optWan_highBoo_WildOnly_CA-FL-MD-MN-WA 299\n",
      "598\n"
     ]
    }
   ],
   "source": [
    "max_f = -1\n",
    "run_files = {}\n",
    "all_files = []\n",
    "ftype = 'snpi'\n",
    "for run_id in run_ids:\n",
    "    file_list = glob.glob(get_folder(run_id, ftype) + \"*.parquet\") # \"*.csv\")# \n",
    "    file_list.sort()\n",
    "    file_list = file_list[:max_f]\n",
    "    print(run_id, len(file_list))\n",
    "    run_files[run_id] = file_list \n",
    "    all_files += file_list \n",
    "print(len(all_files))"
   ]
  },
  {
   "cell_type": "code",
   "execution_count": null,
   "metadata": {
    "tags": []
   },
   "outputs": [],
   "source": []
  },
  {
   "cell_type": "code",
   "execution_count": 10,
   "metadata": {
    "execution": {
     "iopub.execute_input": "2021-11-29T22:47:30.232833Z",
     "iopub.status.busy": "2021-11-29T22:47:30.232588Z",
     "iopub.status.idle": "2021-11-29T22:47:31.883574Z",
     "shell.execute_reply": "2021-11-29T22:47:31.882732Z",
     "shell.execute_reply.started": "2021-11-29T22:47:30.232810Z"
    },
    "tags": []
   },
   "outputs": [
    {
     "name": "stderr",
     "output_type": "stream",
     "text": [
      " 10%|█         | 31/299 [00:00<00:00, 302.68it/s]"
     ]
    },
    {
     "name": "stdout",
     "output_type": "stream",
     "text": [
      "R10_optWan_highBoo_test5poispois_CA-FL-MD-MN-WA as 10 features\n"
     ]
    },
    {
     "name": "stderr",
     "output_type": "stream",
     "text": [
      "100%|██████████| 299/299 [00:00<00:00, 359.63it/s]\n",
      " 12%|█▏        | 36/299 [00:00<00:00, 358.22it/s]"
     ]
    },
    {
     "name": "stdout",
     "output_type": "stream",
     "text": [
      "R10_optWan_highBoo_WildOnly_CA-FL-MD-MN-WA as 10 features\n"
     ]
    },
    {
     "name": "stderr",
     "output_type": "stream",
     "text": [
      "100%|██████████| 299/299 [00:00<00:00, 373.24it/s]\n"
     ]
    }
   ],
   "source": [
    "features_matrices = {}\n",
    "for run_id in run_ids:\n",
    "    fn = run_files[run_id][0]\n",
    "    n_feature = len(pq.read_table(fn).to_pandas().sort_values(['geoid','npi_name'], ignore_index=True)['reduction'].to_numpy())\n",
    "    print(f\"{run_id} as {n_feature} features\")\n",
    "    arr = np.empty((300,n_feature))\n",
    "    arr[:] = np.NaN#1000\n",
    "    features_matrices[run_id] = arr\n",
    "    \n",
    "    for fn in tqdm(run_files[run_id]):\n",
    "        features = pq.read_table(fn).to_pandas().sort_values(['geoid','npi_name'], ignore_index=True)['reduction'].to_numpy()\n",
    "        slot = int(fn.split('/')[-1].split('.')[0]) -1\n",
    "        run_id = fn.split('/')[-1].split('.')[1]\n",
    "        features_matrices[run_id][slot] = features"
   ]
  },
  {
   "cell_type": "code",
   "execution_count": 11,
   "metadata": {
    "execution": {
     "iopub.execute_input": "2021-11-29T22:47:38.528433Z",
     "iopub.status.busy": "2021-11-29T22:47:38.528187Z",
     "iopub.status.idle": "2021-11-29T22:47:38.562830Z",
     "shell.execute_reply": "2021-11-29T22:47:38.562179Z",
     "shell.execute_reply.started": "2021-11-29T22:47:38.528410Z"
    },
    "tags": []
   },
   "outputs": [],
   "source": [
    "dfs = []\n",
    "for run_id in run_ids:\n",
    "    fn = run_files[run_id][0]\n",
    "    my_df = pq.read_table(fn).to_pandas().sort_values(['geoid','npi_name'], ignore_index=True).drop('reduction', axis = 1)\n",
    "    feat_mat = features_matrices[run_id]\n",
    "\n",
    "    my_df['mean'] = np.nanmean(feat_mat, axis = 0)\n",
    "    my_df['q0.025'] = np.nanquantile(feat_mat, q=0.025, axis=0)\n",
    "    my_df['q0.05'] = np.nanquantile(feat_mat, q=0.05, axis=0)\n",
    "    my_df['median'] = np.nanmedian(feat_mat, axis = 0)\n",
    "    my_df['q0.95'] = np.nanquantile(feat_mat, q=0.95, axis=0)\n",
    "    my_df['q0.975'] = np.nanquantile(feat_mat, q=0.975, axis=0)\n",
    "    my_df['run_id'] = run_id\n",
    "    my_df['npi_type'] = ftype\n",
    "    dfs.append(my_df)"
   ]
  },
  {
   "cell_type": "code",
   "execution_count": 13,
   "metadata": {
    "execution": {
     "iopub.execute_input": "2021-11-29T22:47:54.366746Z",
     "iopub.status.busy": "2021-11-29T22:47:54.366530Z",
     "iopub.status.idle": "2021-11-29T22:47:54.371325Z",
     "shell.execute_reply": "2021-11-29T22:47:54.370499Z",
     "shell.execute_reply.started": "2021-11-29T22:47:54.366726Z"
    },
    "tags": []
   },
   "outputs": [],
   "source": [
    "full_df = pd.concat(dfs)"
   ]
  },
  {
   "cell_type": "code",
   "execution_count": 18,
   "metadata": {
    "execution": {
     "iopub.execute_input": "2021-11-29T22:49:35.431321Z",
     "iopub.status.busy": "2021-11-29T22:49:35.430966Z",
     "iopub.status.idle": "2021-11-29T22:49:35.435801Z",
     "shell.execute_reply": "2021-11-29T22:49:35.435051Z",
     "shell.execute_reply.started": "2021-11-29T22:49:35.431286Z"
    },
    "tags": []
   },
   "outputs": [
    {
     "data": {
      "text/plain": [
       "['R10_optWan_highBoo_test5poispois_CA-FL-MD-MN-WA',\n",
       " 'R10_optWan_highBoo_WildOnly_CA-FL-MD-MN-WA']"
      ]
     },
     "execution_count": 18,
     "metadata": {},
     "output_type": "execute_result"
    }
   ],
   "source": [
    "run_ids"
   ]
  },
  {
   "cell_type": "code",
   "execution_count": 19,
   "metadata": {
    "execution": {
     "iopub.execute_input": "2021-11-29T22:50:38.484983Z",
     "iopub.status.busy": "2021-11-29T22:50:38.484779Z",
     "iopub.status.idle": "2021-11-29T22:50:38.500664Z",
     "shell.execute_reply": "2021-11-29T22:50:38.500071Z",
     "shell.execute_reply.started": "2021-11-29T22:50:38.484965Z"
    },
    "tags": []
   },
   "outputs": [],
   "source": [
    "full_df.to_csv(f'hnpi-snpi{\"\".join(run_ids)}', index=False)"
   ]
  },
  {
   "cell_type": "code",
   "execution_count": 20,
   "metadata": {
    "execution": {
     "iopub.execute_input": "2021-11-29T22:51:30.814802Z",
     "iopub.status.busy": "2021-11-29T22:51:30.814556Z",
     "iopub.status.idle": "2021-11-29T22:51:30.833682Z",
     "shell.execute_reply": "2021-11-29T22:51:30.833023Z",
     "shell.execute_reply.started": "2021-11-29T22:51:30.814779Z"
    },
    "tags": []
   },
   "outputs": [
    {
     "data": {
      "text/html": [
       "<div>\n",
       "<style scoped>\n",
       "    .dataframe tbody tr th:only-of-type {\n",
       "        vertical-align: middle;\n",
       "    }\n",
       "\n",
       "    .dataframe tbody tr th {\n",
       "        vertical-align: top;\n",
       "    }\n",
       "\n",
       "    .dataframe thead th {\n",
       "        text-align: right;\n",
       "    }\n",
       "</style>\n",
       "<table border=\"1\" class=\"dataframe\">\n",
       "  <thead>\n",
       "    <tr style=\"text-align: right;\">\n",
       "      <th></th>\n",
       "      <th>geoid</th>\n",
       "      <th>npi_name</th>\n",
       "      <th>start_date</th>\n",
       "      <th>end_date</th>\n",
       "      <th>parameter</th>\n",
       "      <th>mean</th>\n",
       "      <th>q0.025</th>\n",
       "      <th>q0.05</th>\n",
       "      <th>median</th>\n",
       "      <th>q0.95</th>\n",
       "      <th>q0.975</th>\n",
       "      <th>run_id</th>\n",
       "      <th>npi_type</th>\n",
       "    </tr>\n",
       "  </thead>\n",
       "  <tbody>\n",
       "    <tr>\n",
       "      <th>0</th>\n",
       "      <td>06000</td>\n",
       "      <td>CA_Dose1_apr2021_age0to17</td>\n",
       "      <td>2021-04-01</td>\n",
       "      <td>2021-04-30</td>\n",
       "      <td>nu1age0to17</td>\n",
       "      <td>0.000180</td>\n",
       "      <td>0.000180</td>\n",
       "      <td>0.000180</td>\n",
       "      <td>0.000180</td>\n",
       "      <td>0.000180</td>\n",
       "      <td>0.000180</td>\n",
       "      <td>R10_optWan_highBoo_test5poispois_CA-FL-MD-MN-WA</td>\n",
       "      <td>snpi</td>\n",
       "    </tr>\n",
       "    <tr>\n",
       "      <th>1</th>\n",
       "      <td>06000</td>\n",
       "      <td>CA_Dose1_apr2021_age18to64</td>\n",
       "      <td>2021-04-01</td>\n",
       "      <td>2021-04-30</td>\n",
       "      <td>nu1age18to64</td>\n",
       "      <td>0.013210</td>\n",
       "      <td>0.013210</td>\n",
       "      <td>0.013210</td>\n",
       "      <td>0.013210</td>\n",
       "      <td>0.013210</td>\n",
       "      <td>0.013210</td>\n",
       "      <td>R10_optWan_highBoo_test5poispois_CA-FL-MD-MN-WA</td>\n",
       "      <td>snpi</td>\n",
       "    </tr>\n",
       "    <tr>\n",
       "      <th>2</th>\n",
       "      <td>06000</td>\n",
       "      <td>CA_Dose1_apr2021_age65to100</td>\n",
       "      <td>2021-04-01</td>\n",
       "      <td>2021-04-30</td>\n",
       "      <td>nu1age65to100</td>\n",
       "      <td>0.022040</td>\n",
       "      <td>0.022040</td>\n",
       "      <td>0.022040</td>\n",
       "      <td>0.022040</td>\n",
       "      <td>0.022040</td>\n",
       "      <td>0.022040</td>\n",
       "      <td>R10_optWan_highBoo_test5poispois_CA-FL-MD-MN-WA</td>\n",
       "      <td>snpi</td>\n",
       "    </tr>\n",
       "    <tr>\n",
       "      <th>3</th>\n",
       "      <td>06000</td>\n",
       "      <td>CA_Dose1_apr2022_age0to17</td>\n",
       "      <td>2022-04-01</td>\n",
       "      <td>2022-04-30</td>\n",
       "      <td>nu1age0to17</td>\n",
       "      <td>0.001330</td>\n",
       "      <td>0.001330</td>\n",
       "      <td>0.001330</td>\n",
       "      <td>0.001330</td>\n",
       "      <td>0.001330</td>\n",
       "      <td>0.001330</td>\n",
       "      <td>R10_optWan_highBoo_test5poispois_CA-FL-MD-MN-WA</td>\n",
       "      <td>snpi</td>\n",
       "    </tr>\n",
       "    <tr>\n",
       "      <th>4</th>\n",
       "      <td>06000</td>\n",
       "      <td>CA_Dose1_apr2022_age18to64</td>\n",
       "      <td>2022-04-01</td>\n",
       "      <td>2022-04-30</td>\n",
       "      <td>nu1age18to64</td>\n",
       "      <td>0.000790</td>\n",
       "      <td>0.000790</td>\n",
       "      <td>0.000790</td>\n",
       "      <td>0.000790</td>\n",
       "      <td>0.000790</td>\n",
       "      <td>0.000790</td>\n",
       "      <td>R10_optWan_highBoo_test5poispois_CA-FL-MD-MN-WA</td>\n",
       "      <td>snpi</td>\n",
       "    </tr>\n",
       "    <tr>\n",
       "      <th>...</th>\n",
       "      <td>...</td>\n",
       "      <td>...</td>\n",
       "      <td>...</td>\n",
       "      <td>...</td>\n",
       "      <td>...</td>\n",
       "      <td>...</td>\n",
       "      <td>...</td>\n",
       "      <td>...</td>\n",
       "      <td>...</td>\n",
       "      <td>...</td>\n",
       "      <td>...</td>\n",
       "      <td>...</td>\n",
       "      <td>...</td>\n",
       "    </tr>\n",
       "    <tr>\n",
       "      <th>5</th>\n",
       "      <td>24000</td>\n",
       "      <td>MD_incidCshift2</td>\n",
       "      <td>2020-07-01</td>\n",
       "      <td>2021-03-06</td>\n",
       "      <td>inciditoc_all</td>\n",
       "      <td>0.608438</td>\n",
       "      <td>0.509566</td>\n",
       "      <td>0.521192</td>\n",
       "      <td>0.606281</td>\n",
       "      <td>0.699589</td>\n",
       "      <td>0.719820</td>\n",
       "      <td>R10_optWan_highBoo_WildOnly_CA-FL-MD-MN-WA</td>\n",
       "      <td>hnpi</td>\n",
       "    </tr>\n",
       "    <tr>\n",
       "      <th>6</th>\n",
       "      <td>27000</td>\n",
       "      <td>MN_incidCshift1</td>\n",
       "      <td>2020-01-01</td>\n",
       "      <td>2020-06-14</td>\n",
       "      <td>inciditoc_all</td>\n",
       "      <td>0.875154</td>\n",
       "      <td>0.758705</td>\n",
       "      <td>0.784523</td>\n",
       "      <td>0.875759</td>\n",
       "      <td>0.963212</td>\n",
       "      <td>0.975130</td>\n",
       "      <td>R10_optWan_highBoo_WildOnly_CA-FL-MD-MN-WA</td>\n",
       "      <td>hnpi</td>\n",
       "    </tr>\n",
       "    <tr>\n",
       "      <th>7</th>\n",
       "      <td>27000</td>\n",
       "      <td>MN_incidCshift2</td>\n",
       "      <td>2020-06-15</td>\n",
       "      <td>2021-03-06</td>\n",
       "      <td>inciditoc_all</td>\n",
       "      <td>0.526455</td>\n",
       "      <td>0.391189</td>\n",
       "      <td>0.404380</td>\n",
       "      <td>0.529187</td>\n",
       "      <td>0.629567</td>\n",
       "      <td>0.645994</td>\n",
       "      <td>R10_optWan_highBoo_WildOnly_CA-FL-MD-MN-WA</td>\n",
       "      <td>hnpi</td>\n",
       "    </tr>\n",
       "    <tr>\n",
       "      <th>8</th>\n",
       "      <td>53000</td>\n",
       "      <td>WA_incidCshift1</td>\n",
       "      <td>2020-01-01</td>\n",
       "      <td>2020-05-31</td>\n",
       "      <td>inciditoc_all</td>\n",
       "      <td>0.893273</td>\n",
       "      <td>0.773054</td>\n",
       "      <td>0.789689</td>\n",
       "      <td>0.892329</td>\n",
       "      <td>0.984719</td>\n",
       "      <td>0.990969</td>\n",
       "      <td>R10_optWan_highBoo_WildOnly_CA-FL-MD-MN-WA</td>\n",
       "      <td>hnpi</td>\n",
       "    </tr>\n",
       "    <tr>\n",
       "      <th>9</th>\n",
       "      <td>53000</td>\n",
       "      <td>WA_incidCshift2</td>\n",
       "      <td>2020-06-01</td>\n",
       "      <td>2021-03-06</td>\n",
       "      <td>inciditoc_all</td>\n",
       "      <td>0.599411</td>\n",
       "      <td>0.480236</td>\n",
       "      <td>0.497359</td>\n",
       "      <td>0.602191</td>\n",
       "      <td>0.702629</td>\n",
       "      <td>0.723272</td>\n",
       "      <td>R10_optWan_highBoo_WildOnly_CA-FL-MD-MN-WA</td>\n",
       "      <td>hnpi</td>\n",
       "    </tr>\n",
       "  </tbody>\n",
       "</table>\n",
       "<p>577 rows × 13 columns</p>\n",
       "</div>"
      ],
      "text/plain": [
       "    geoid                     npi_name  start_date    end_date      parameter  \\\n",
       "0   06000    CA_Dose1_apr2021_age0to17  2021-04-01  2021-04-30    nu1age0to17   \n",
       "1   06000   CA_Dose1_apr2021_age18to64  2021-04-01  2021-04-30   nu1age18to64   \n",
       "2   06000  CA_Dose1_apr2021_age65to100  2021-04-01  2021-04-30  nu1age65to100   \n",
       "3   06000    CA_Dose1_apr2022_age0to17  2022-04-01  2022-04-30    nu1age0to17   \n",
       "4   06000   CA_Dose1_apr2022_age18to64  2022-04-01  2022-04-30   nu1age18to64   \n",
       "..    ...                          ...         ...         ...            ...   \n",
       "5   24000              MD_incidCshift2  2020-07-01  2021-03-06  inciditoc_all   \n",
       "6   27000              MN_incidCshift1  2020-01-01  2020-06-14  inciditoc_all   \n",
       "7   27000              MN_incidCshift2  2020-06-15  2021-03-06  inciditoc_all   \n",
       "8   53000              WA_incidCshift1  2020-01-01  2020-05-31  inciditoc_all   \n",
       "9   53000              WA_incidCshift2  2020-06-01  2021-03-06  inciditoc_all   \n",
       "\n",
       "        mean    q0.025     q0.05    median     q0.95    q0.975  \\\n",
       "0   0.000180  0.000180  0.000180  0.000180  0.000180  0.000180   \n",
       "1   0.013210  0.013210  0.013210  0.013210  0.013210  0.013210   \n",
       "2   0.022040  0.022040  0.022040  0.022040  0.022040  0.022040   \n",
       "3   0.001330  0.001330  0.001330  0.001330  0.001330  0.001330   \n",
       "4   0.000790  0.000790  0.000790  0.000790  0.000790  0.000790   \n",
       "..       ...       ...       ...       ...       ...       ...   \n",
       "5   0.608438  0.509566  0.521192  0.606281  0.699589  0.719820   \n",
       "6   0.875154  0.758705  0.784523  0.875759  0.963212  0.975130   \n",
       "7   0.526455  0.391189  0.404380  0.529187  0.629567  0.645994   \n",
       "8   0.893273  0.773054  0.789689  0.892329  0.984719  0.990969   \n",
       "9   0.599411  0.480236  0.497359  0.602191  0.702629  0.723272   \n",
       "\n",
       "                                             run_id npi_type  \n",
       "0   R10_optWan_highBoo_test5poispois_CA-FL-MD-MN-WA     snpi  \n",
       "1   R10_optWan_highBoo_test5poispois_CA-FL-MD-MN-WA     snpi  \n",
       "2   R10_optWan_highBoo_test5poispois_CA-FL-MD-MN-WA     snpi  \n",
       "3   R10_optWan_highBoo_test5poispois_CA-FL-MD-MN-WA     snpi  \n",
       "4   R10_optWan_highBoo_test5poispois_CA-FL-MD-MN-WA     snpi  \n",
       "..                                              ...      ...  \n",
       "5        R10_optWan_highBoo_WildOnly_CA-FL-MD-MN-WA     hnpi  \n",
       "6        R10_optWan_highBoo_WildOnly_CA-FL-MD-MN-WA     hnpi  \n",
       "7        R10_optWan_highBoo_WildOnly_CA-FL-MD-MN-WA     hnpi  \n",
       "8        R10_optWan_highBoo_WildOnly_CA-FL-MD-MN-WA     hnpi  \n",
       "9        R10_optWan_highBoo_WildOnly_CA-FL-MD-MN-WA     hnpi  \n",
       "\n",
       "[577 rows x 13 columns]"
      ]
     },
     "execution_count": 20,
     "metadata": {},
     "output_type": "execute_result"
    }
   ],
   "source": [
    "full_df"
   ]
  },
  {
   "cell_type": "code",
   "execution_count": null,
   "metadata": {
    "execution": {
     "iopub.status.busy": "2021-11-29T22:47:00.421291Z",
     "iopub.status.idle": "2021-11-29T22:47:00.421724Z",
     "shell.execute_reply": "2021-11-29T22:47:00.421481Z"
    },
    "tags": []
   },
   "outputs": [],
   "source": [
    "my_df "
   ]
  },
  {
   "cell_type": "code",
   "execution_count": null,
   "metadata": {
    "execution": {
     "iopub.status.busy": "2021-11-29T22:47:00.422526Z",
     "iopub.status.idle": "2021-11-29T22:47:00.422830Z",
     "shell.execute_reply": "2021-11-29T22:47:00.422672Z"
    },
    "tags": []
   },
   "outputs": [],
   "source": [
    "df = my_df[my_df['parameter']=='r0']"
   ]
  },
  {
   "cell_type": "code",
   "execution_count": null,
   "metadata": {
    "execution": {
     "iopub.status.busy": "2021-11-29T22:47:00.423728Z",
     "iopub.status.idle": "2021-11-29T22:47:00.424078Z",
     "shell.execute_reply": "2021-11-29T22:47:00.423920Z"
    },
    "tags": []
   },
   "outputs": [],
   "source": [
    "df"
   ]
  }
 ],
 "metadata": {
  "kernelspec": {
   "display_name": "Python (covidSP)",
   "language": "python",
   "name": "covidsp"
  },
  "language_info": {
   "codemirror_mode": {
    "name": "ipython",
    "version": 3
   },
   "file_extension": ".py",
   "mimetype": "text/x-python",
   "name": "python",
   "nbconvert_exporter": "python",
   "pygments_lexer": "ipython3",
   "version": "3.7.9"
  }
 },
 "nbformat": 4,
 "nbformat_minor": 4
}

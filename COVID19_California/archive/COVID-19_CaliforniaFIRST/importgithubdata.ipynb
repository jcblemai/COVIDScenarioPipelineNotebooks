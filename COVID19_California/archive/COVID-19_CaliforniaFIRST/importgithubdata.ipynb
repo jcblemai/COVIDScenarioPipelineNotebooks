{
 "cells": [
  {
   "cell_type": "code",
   "execution_count": 17,
   "metadata": {},
   "outputs": [],
   "source": [
    "import pandas as pd\n",
    "import geopandas as gpd\n",
    "import numpy as np\n",
    "from shapely.geometry import Point, Polygon\n",
    "from sys import path\n",
    "path.insert(1,'SEIR/')\n",
    "from SEIR import setup, seir\n",
    "import datetime\n",
    "\n",
    "s = setup.Setup(setup_name = 'midSD',\n",
    "                spatial_setup = setup.CaliforniaSpatialSetup(),\n",
    "                nsim = 5, \n",
    "                ti = datetime.date(2020, 1, 23),\n",
    "                tf = datetime.date(2020, 4, 1))\n",
    "\n",
    "seeding_place = 6075\n",
    "seeding_amount = [3]\n",
    "s.buildIC(seeding_places = [int(s.spatset.data[s.spatset.data['name'] == seeding_place].id)], \n",
    "          seeding_amount = seeding_amount)\n",
    "\n",
    "url = 'https://raw.githubusercontent.com/CSSEGISandData/COVID-19/master/csse_covid_19_data/csse_covid_19_time_series/time_series_19-covid-Confirmed.csv'\n",
    "cases_data = pd.read_csv(url)\n",
    "\n",
    "\n",
    "counties_shp = gpd.read_file('data/california/california-counties-shp/california-counties.shp')\n",
    "counties_shp.sort_values('GEOID', inplace=True)\n",
    "\n",
    "cases_data = cases_data[cases_data['Country/Region'].str.contains('US')]\n",
    "cases_data = cases_data[cases_data['Province/State'].str.contains('CA')].reset_index(drop=True)\n",
    "\n",
    "cases_geoid = [0]*len(cases_data)\n",
    "for idx, row in cases_data.iterrows():\n",
    "    cases_pos = Point(row['Long'], row['Lat'])\n",
    "    for key, geom in counties_shp['geometry'].items():\n",
    "        if (cases_pos.within(geom)):\n",
    "            cases_geoid[idx] = int(counties_shp['GEOID'][key])"
   ]
  },
  {
   "cell_type": "code",
   "execution_count": null,
   "metadata": {},
   "outputs": [],
   "source": []
  },
  {
   "cell_type": "code",
   "execution_count": 6,
   "metadata": {},
   "outputs": [],
   "source": [
    "cases_data.index = cases_geoid\n",
    "cases_data = cases_data.T[4:]\n",
    "cases_data.index = pd.to_datetime(cases_data.index)"
   ]
  },
  {
   "cell_type": "code",
   "execution_count": 7,
   "metadata": {},
   "outputs": [],
   "source": []
  },
  {
   "cell_type": "code",
   "execution_count": 8,
   "metadata": {},
   "outputs": [
    {
     "data": {
      "text/plain": [
       "<matplotlib.axes._subplots.AxesSubplot at 0x1272d9490>"
      ]
     },
     "execution_count": 8,
     "metadata": {},
     "output_type": "execute_result"
    }
   ],
   "source": [
    "cum_cases_data = cases_data.diff()\n",
    "cum_cases_data[cum_cases_data < 0] = 0\n",
    "cum_cases_data = cum_cases_data.cumsum()\n",
    "cum_cases_data.plot()"
   ]
  },
  {
   "cell_type": "code",
   "execution_count": 10,
   "metadata": {},
   "outputs": [],
   "source": [
    "filter = np.array((s.nnodes, s.t_span))"
   ]
  },
  {
   "cell_type": "code",
   "execution_count": 11,
   "metadata": {},
   "outputs": [],
   "source": [
    "cum_cases_data = cum_cases_data.resample('D').backfill()"
   ]
  },
  {
   "cell_type": "code",
   "execution_count": null,
   "metadata": {},
   "outputs": [],
   "source": []
  },
  {
   "cell_type": "code",
   "execution_count": 12,
   "metadata": {},
   "outputs": [
    {
     "data": {
      "text/plain": [
       "<matplotlib.axes._subplots.AxesSubplot at 0x129765d10>"
      ]
     },
     "execution_count": 12,
     "metadata": {},
     "output_type": "execute_result"
    },
    {
     "data": {
      "image/png": "[encoded data removed]",
      "text/plain": [
       "<Figure size 432x288 with 1 Axes>"
      ]
     },
     "metadata": {
      "needs_background": "light"
     },
     "output_type": "display_data"
    }
   ],
   "source": [
    "cum_cases_data.plot()"
   ]
  },
  {
   "cell_type": "code",
   "execution_count": 13,
   "metadata": {},
   "outputs": [],
   "source": [
    "cum_cases_all = pd.DataFrame(0, index = pd.date_range(s.ti, s.tf, freq ='D'), columns = np.arange(s.nnodes))"
   ]
  },
  {
   "cell_type": "code",
   "execution_count": 14,
   "metadata": {},
   "outputs": [],
   "source": [
    "for col in list(cum_cases_data):\n",
    "    cum_cases_all[s.spatset.data[s.spatset.data['name'] == col].id] = cum_cases_data[col]\n",
    "cum_cases_all.fillna(method='ffill', inplace=True)"
   ]
  },
  {
   "cell_type": "code",
   "execution_count": 15,
   "metadata": {},
   "outputs": [
    {
     "data": {
      "text/plain": [
       "array([[0., 0., 0., ..., 0., 0., 0.],\n",
       "       [0., 0., 0., ..., 0., 0., 0.],\n",
       "       [0., 0., 0., ..., 0., 0., 0.],\n",
       "       ...,\n",
       "       [1., 0., 0., ..., 0., 1., 0.],\n",
       "       [1., 0., 0., ..., 0., 1., 0.],\n",
       "       [1., 0., 0., ..., 0., 1., 0.]])"
      ]
     },
     "execution_count": 15,
     "metadata": {},
     "output_type": "execute_result"
    }
   ],
   "source": [
    "cum_cases_all.to_numpy()"
   ]
  },
  {
   "cell_type": "code",
   "execution_count": null,
   "metadata": {},
   "outputs": [],
   "source": []
  },
  {
   "cell_type": "code",
   "execution_count": 18,
   "metadata": {},
   "outputs": [],
   "source": [
    "np.savetxt(f'data/california/filter_github.txt', cum_cases_all.to_numpy())"
   ]
  }
 ],
 "metadata": {
  "kernelspec": {
   "display_name": "Python 3.7.5 64-bit",
   "language": "python",
   "name": "python37564bitb6a8cbcde2634e63883867447f9de255"
  },
  "language_info": {
   "codemirror_mode": {
    "name": "ipython",
    "version": 3
   },
   "file_extension": ".py",
   "mimetype": "text/x-python",
   "name": "python",
   "nbconvert_exporter": "python",
   "pygments_lexer": "ipython3",
   "version": "3.7.7"
  }
 },
 "nbformat": 4,
 "nbformat_minor": 4
}

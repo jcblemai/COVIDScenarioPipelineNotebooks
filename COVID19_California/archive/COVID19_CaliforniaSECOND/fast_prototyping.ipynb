{
 "cells": [
  {
   "cell_type": "code",
   "execution_count": 1,
   "metadata": {},
   "outputs": [
    {
     "name": "stderr",
     "output_type": "stream",
     "text": [
      "/usr/local/lib/python3.7/site-packages/rpy2/robjects/pandas2ri.py:15: FutureWarning: pandas.core.index is deprecated and will be removed in a future version.  The public classes are available in the top-level namespace.\n",
      "  from pandas.core.index import Index as PandasIndex\n"
     ]
    }
   ],
   "source": [
    "import numpy as np\n",
    "import pandas as pd\n",
    "import datetime, time, multiprocessing, itertools, sys\n",
    "import matplotlib.pyplot as plt\n",
    "from COVIDScenarioPipeline.SEIR import seir, setup, results\n",
    "import scipy\n",
    "import time, itertools, multiprocessing\n",
    "from numba import jit, jitclass, int64, float64\n",
    "import numpy as np\n",
    "from rpy2 import robjects\n",
    "from rpy2.robjects import pandas2ri\n",
    "pandas2ri.activate()\n",
    "import pandas as pd\n",
    "import warnings, random\n",
    "from rpy2.rinterface import RRuntimeWarning\n",
    "warnings.filterwarnings(\"ignore\", category=RRuntimeWarning)\n",
    "import rpy2.robjects as ro\n",
    "from rpy2.robjects.conversion import localconverter\n",
    "r_source = robjects.r['source']\n",
    "r_assign = robjects.r['assign']\n",
    "r_options = robjects.r['options']\n",
    "r_options(warn=-1)\n",
    "from rpy2.rinterface_lib.callbacks import logger as rpy2_logger\n",
    "import logging, scipy\n",
    "rpy2_logger.setLevel(logging.ERROR)\n",
    "\n",
    "ncomp = 7\n",
    "S, E, I1, I2, I3, R, cumI = np.arange(ncomp)\n",
    "class WestCoastSpatialSetup():\n",
    "    \"\"\"\n",
    "        Setup for West Coast at the county scale.\n",
    "    \"\"\"\n",
    "    def __init__(self):\n",
    "        self.setup_name = 'west-coast-AZ-NV'\n",
    "        self.folder = f'data/{self.setup_name}/'\n",
    "\n",
    "        self.data = pd.read_csv(f'{self.folder}geodata.csv')\n",
    "        self.mobility = np.loadtxt(f'{self.folder}mobility.txt')\n",
    "        self.popnodes = self.data['pop2010'].to_numpy()\n",
    "        self.nnodes = len(self.data)\n",
    "        #self.counties_shp = gpd.read_file(f'data/{folder}california-counties-shp/california-counties.shp')\n",
    "        #self.counties_shp.sort_values('GEOID', inplace=True)\n",
    "        \n",
    "if __name__ == '__main__':          # For windows thread\n",
    "\n",
    "    s = setup.Setup(setup_name = 'mid-west-coast-AZ-NV_', #'mid-Maryland',\n",
    "                    spatial_setup = WestCoastSpatialSetup(), #MarylandSpatialSetup(),\n",
    "                    nsim = int( 100),\n",
    "                    ti = datetime.date(2020, 1, 31),\n",
    "                    tf = datetime.date(2020, 10, 1),\n",
    "                    interactive = False,\n",
    "                    write_csv = True,\n",
    "                    dt = 1/4)\n",
    "\n",
    "\n",
    "\n",
    "    s.script_npi = 'COVIDScenarioPipeline/data/NPI_Scenario5_Wuhan.R'\n",
    "    \n",
    "    s.script_import = 'COVIDScenarioPipeline/R/distribute_airport_importations_to_counties.R'\n",
    "\n",
    "    p = setup.COVID19Parameters(s)\n",
    "    #p.addNPIfromcsv('data/east-coast/EastCoast_3phase_pc.csv')\n",
    "\n",
    "    #seeding_place = 6075\n",
    "    #seeding_amount = [0]\n",
    "    #s.buildIC(seeding_places = [int(s.spatset.data[s.spatset.data['geoid'] == seeding_place].id)], \n",
    "    #        seeding_amount = seeding_amount)\n",
    "\n",
    "    s.set_filter(np.loadtxt('data/west-coast-AZ-NV/filtergithub.txt'))\n",
    " "
   ]
  },
  {
   "cell_type": "code",
   "execution_count": null,
   "metadata": {},
   "outputs": [],
   "source": []
  },
  {
   "cell_type": "code",
   "execution_count": 2,
   "metadata": {},
   "outputs": [],
   "source": [
    "a = seir.onerun_SEIR(s, 0)"
   ]
  },
  {
   "cell_type": "code",
   "execution_count": 3,
   "metadata": {},
   "outputs": [
    {
     "data": {
      "text/html": [
       "<div>\n",
       "<style scoped>\n",
       "    .dataframe tbody tr th:only-of-type {\n",
       "        vertical-align: middle;\n",
       "    }\n",
       "\n",
       "    .dataframe tbody tr th {\n",
       "        vertical-align: top;\n",
       "    }\n",
       "\n",
       "    .dataframe thead th {\n",
       "        text-align: right;\n",
       "    }\n",
       "</style>\n",
       "<table border=\"1\" class=\"dataframe\">\n",
       "  <thead>\n",
       "    <tr style=\"text-align: right;\">\n",
       "      <th></th>\n",
       "      <th>comp</th>\n",
       "      <th>4001</th>\n",
       "      <th>4003</th>\n",
       "      <th>4005</th>\n",
       "      <th>4007</th>\n",
       "      <th>4009</th>\n",
       "      <th>4011</th>\n",
       "      <th>4012</th>\n",
       "      <th>4013</th>\n",
       "      <th>4015</th>\n",
       "      <th>...</th>\n",
       "      <th>53059</th>\n",
       "      <th>53061</th>\n",
       "      <th>53063</th>\n",
       "      <th>53065</th>\n",
       "      <th>53067</th>\n",
       "      <th>53069</th>\n",
       "      <th>53071</th>\n",
       "      <th>53073</th>\n",
       "      <th>53075</th>\n",
       "      <th>53077</th>\n",
       "    </tr>\n",
       "  </thead>\n",
       "  <tbody>\n",
       "    <tr>\n",
       "      <th>2020-01-31</th>\n",
       "      <td>S</td>\n",
       "      <td>71528.0</td>\n",
       "      <td>131422.0</td>\n",
       "      <td>134514.0</td>\n",
       "      <td>53596.0</td>\n",
       "      <td>37216.0</td>\n",
       "      <td>8433.0</td>\n",
       "      <td>20466.0</td>\n",
       "      <td>3817120.0</td>\n",
       "      <td>200070.0</td>\n",
       "      <td>...</td>\n",
       "      <td>11086.0</td>\n",
       "      <td>711333.0</td>\n",
       "      <td>471231.0</td>\n",
       "      <td>43488.0</td>\n",
       "      <td>251762.0</td>\n",
       "      <td>3983.0</td>\n",
       "      <td>58819.0</td>\n",
       "      <td>201094.0</td>\n",
       "      <td>44817.0</td>\n",
       "      <td>243090.0</td>\n",
       "    </tr>\n",
       "    <tr>\n",
       "      <th>2020-01-31</th>\n",
       "      <td>E</td>\n",
       "      <td>0.0</td>\n",
       "      <td>0.0</td>\n",
       "      <td>0.0</td>\n",
       "      <td>0.0</td>\n",
       "      <td>0.0</td>\n",
       "      <td>0.0</td>\n",
       "      <td>0.0</td>\n",
       "      <td>155.0</td>\n",
       "      <td>0.0</td>\n",
       "      <td>...</td>\n",
       "      <td>0.0</td>\n",
       "      <td>0.0</td>\n",
       "      <td>0.0</td>\n",
       "      <td>0.0</td>\n",
       "      <td>0.0</td>\n",
       "      <td>0.0</td>\n",
       "      <td>0.0</td>\n",
       "      <td>0.0</td>\n",
       "      <td>0.0</td>\n",
       "      <td>0.0</td>\n",
       "    </tr>\n",
       "    <tr>\n",
       "      <th>2020-01-31</th>\n",
       "      <td>I1</td>\n",
       "      <td>0.0</td>\n",
       "      <td>0.0</td>\n",
       "      <td>0.0</td>\n",
       "      <td>0.0</td>\n",
       "      <td>0.0</td>\n",
       "      <td>0.0</td>\n",
       "      <td>0.0</td>\n",
       "      <td>116.0</td>\n",
       "      <td>0.0</td>\n",
       "      <td>...</td>\n",
       "      <td>0.0</td>\n",
       "      <td>0.0</td>\n",
       "      <td>0.0</td>\n",
       "      <td>0.0</td>\n",
       "      <td>0.0</td>\n",
       "      <td>0.0</td>\n",
       "      <td>0.0</td>\n",
       "      <td>0.0</td>\n",
       "      <td>0.0</td>\n",
       "      <td>0.0</td>\n",
       "    </tr>\n",
       "    <tr>\n",
       "      <th>2020-01-31</th>\n",
       "      <td>I2</td>\n",
       "      <td>0.0</td>\n",
       "      <td>0.0</td>\n",
       "      <td>0.0</td>\n",
       "      <td>0.0</td>\n",
       "      <td>0.0</td>\n",
       "      <td>0.0</td>\n",
       "      <td>0.0</td>\n",
       "      <td>125.0</td>\n",
       "      <td>0.0</td>\n",
       "      <td>...</td>\n",
       "      <td>0.0</td>\n",
       "      <td>1.0</td>\n",
       "      <td>0.0</td>\n",
       "      <td>0.0</td>\n",
       "      <td>0.0</td>\n",
       "      <td>0.0</td>\n",
       "      <td>0.0</td>\n",
       "      <td>0.0</td>\n",
       "      <td>0.0</td>\n",
       "      <td>0.0</td>\n",
       "    </tr>\n",
       "    <tr>\n",
       "      <th>2020-01-31</th>\n",
       "      <td>I3</td>\n",
       "      <td>0.0</td>\n",
       "      <td>0.0</td>\n",
       "      <td>0.0</td>\n",
       "      <td>0.0</td>\n",
       "      <td>0.0</td>\n",
       "      <td>0.0</td>\n",
       "      <td>0.0</td>\n",
       "      <td>125.0</td>\n",
       "      <td>0.0</td>\n",
       "      <td>...</td>\n",
       "      <td>0.0</td>\n",
       "      <td>0.0</td>\n",
       "      <td>0.0</td>\n",
       "      <td>0.0</td>\n",
       "      <td>0.0</td>\n",
       "      <td>0.0</td>\n",
       "      <td>0.0</td>\n",
       "      <td>0.0</td>\n",
       "      <td>0.0</td>\n",
       "      <td>0.0</td>\n",
       "    </tr>\n",
       "    <tr>\n",
       "      <th>...</th>\n",
       "      <td>...</td>\n",
       "      <td>...</td>\n",
       "      <td>...</td>\n",
       "      <td>...</td>\n",
       "      <td>...</td>\n",
       "      <td>...</td>\n",
       "      <td>...</td>\n",
       "      <td>...</td>\n",
       "      <td>...</td>\n",
       "      <td>...</td>\n",
       "      <td>...</td>\n",
       "      <td>...</td>\n",
       "      <td>...</td>\n",
       "      <td>...</td>\n",
       "      <td>...</td>\n",
       "      <td>...</td>\n",
       "      <td>...</td>\n",
       "      <td>...</td>\n",
       "      <td>...</td>\n",
       "      <td>...</td>\n",
       "      <td>...</td>\n",
       "    </tr>\n",
       "    <tr>\n",
       "      <th>2020-10-01</th>\n",
       "      <td>I2</td>\n",
       "      <td>13.0</td>\n",
       "      <td>27.0</td>\n",
       "      <td>16.0</td>\n",
       "      <td>13.0</td>\n",
       "      <td>10.0</td>\n",
       "      <td>4.0</td>\n",
       "      <td>6.0</td>\n",
       "      <td>797.0</td>\n",
       "      <td>47.0</td>\n",
       "      <td>...</td>\n",
       "      <td>5.0</td>\n",
       "      <td>361.0</td>\n",
       "      <td>216.0</td>\n",
       "      <td>29.0</td>\n",
       "      <td>137.0</td>\n",
       "      <td>1.0</td>\n",
       "      <td>22.0</td>\n",
       "      <td>112.0</td>\n",
       "      <td>16.0</td>\n",
       "      <td>117.0</td>\n",
       "    </tr>\n",
       "    <tr>\n",
       "      <th>2020-10-01</th>\n",
       "      <td>I3</td>\n",
       "      <td>16.0</td>\n",
       "      <td>14.0</td>\n",
       "      <td>22.0</td>\n",
       "      <td>19.0</td>\n",
       "      <td>11.0</td>\n",
       "      <td>5.0</td>\n",
       "      <td>9.0</td>\n",
       "      <td>995.0</td>\n",
       "      <td>57.0</td>\n",
       "      <td>...</td>\n",
       "      <td>4.0</td>\n",
       "      <td>429.0</td>\n",
       "      <td>317.0</td>\n",
       "      <td>31.0</td>\n",
       "      <td>173.0</td>\n",
       "      <td>1.0</td>\n",
       "      <td>44.0</td>\n",
       "      <td>133.0</td>\n",
       "      <td>22.0</td>\n",
       "      <td>145.0</td>\n",
       "    </tr>\n",
       "    <tr>\n",
       "      <th>2020-10-01</th>\n",
       "      <td>R</td>\n",
       "      <td>64485.0</td>\n",
       "      <td>118825.0</td>\n",
       "      <td>122623.0</td>\n",
       "      <td>49328.0</td>\n",
       "      <td>33234.0</td>\n",
       "      <td>7752.0</td>\n",
       "      <td>18540.0</td>\n",
       "      <td>3462866.0</td>\n",
       "      <td>180795.0</td>\n",
       "      <td>...</td>\n",
       "      <td>9243.0</td>\n",
       "      <td>597838.0</td>\n",
       "      <td>412076.0</td>\n",
       "      <td>37142.0</td>\n",
       "      <td>210648.0</td>\n",
       "      <td>3295.0</td>\n",
       "      <td>51742.0</td>\n",
       "      <td>168386.0</td>\n",
       "      <td>38894.0</td>\n",
       "      <td>210834.0</td>\n",
       "    </tr>\n",
       "    <tr>\n",
       "      <th>2020-10-01</th>\n",
       "      <td>cumI</td>\n",
       "      <td>62634.0</td>\n",
       "      <td>114904.0</td>\n",
       "      <td>123544.0</td>\n",
       "      <td>51526.0</td>\n",
       "      <td>33600.0</td>\n",
       "      <td>7105.0</td>\n",
       "      <td>19212.0</td>\n",
       "      <td>3569937.0</td>\n",
       "      <td>179391.0</td>\n",
       "      <td>...</td>\n",
       "      <td>8276.0</td>\n",
       "      <td>579377.0</td>\n",
       "      <td>404277.0</td>\n",
       "      <td>36172.0</td>\n",
       "      <td>201534.0</td>\n",
       "      <td>3149.0</td>\n",
       "      <td>51852.0</td>\n",
       "      <td>160825.0</td>\n",
       "      <td>41643.0</td>\n",
       "      <td>203641.0</td>\n",
       "    </tr>\n",
       "    <tr>\n",
       "      <th>2020-10-01</th>\n",
       "      <td>diffI</td>\n",
       "      <td>6.0</td>\n",
       "      <td>6.0</td>\n",
       "      <td>7.0</td>\n",
       "      <td>1.0</td>\n",
       "      <td>2.0</td>\n",
       "      <td>1.0</td>\n",
       "      <td>5.0</td>\n",
       "      <td>255.0</td>\n",
       "      <td>14.0</td>\n",
       "      <td>...</td>\n",
       "      <td>0.0</td>\n",
       "      <td>129.0</td>\n",
       "      <td>76.0</td>\n",
       "      <td>13.0</td>\n",
       "      <td>47.0</td>\n",
       "      <td>0.0</td>\n",
       "      <td>8.0</td>\n",
       "      <td>41.0</td>\n",
       "      <td>5.0</td>\n",
       "      <td>56.0</td>\n",
       "    </tr>\n",
       "  </tbody>\n",
       "</table>\n",
       "<p>1960 rows × 166 columns</p>\n",
       "</div>"
      ],
      "text/plain": [
       "             comp     4001      4003      4005     4007     4009    4011  \\\n",
       "2020-01-31      S  71528.0  131422.0  134514.0  53596.0  37216.0  8433.0   \n",
       "2020-01-31      E      0.0       0.0       0.0      0.0      0.0     0.0   \n",
       "2020-01-31     I1      0.0       0.0       0.0      0.0      0.0     0.0   \n",
       "2020-01-31     I2      0.0       0.0       0.0      0.0      0.0     0.0   \n",
       "2020-01-31     I3      0.0       0.0       0.0      0.0      0.0     0.0   \n",
       "...           ...      ...       ...       ...      ...      ...     ...   \n",
       "2020-10-01     I2     13.0      27.0      16.0     13.0     10.0     4.0   \n",
       "2020-10-01     I3     16.0      14.0      22.0     19.0     11.0     5.0   \n",
       "2020-10-01      R  64485.0  118825.0  122623.0  49328.0  33234.0  7752.0   \n",
       "2020-10-01   cumI  62634.0  114904.0  123544.0  51526.0  33600.0  7105.0   \n",
       "2020-10-01  diffI      6.0       6.0       7.0      1.0      2.0     1.0   \n",
       "\n",
       "               4012       4013      4015  ...    53059     53061     53063  \\\n",
       "2020-01-31  20466.0  3817120.0  200070.0  ...  11086.0  711333.0  471231.0   \n",
       "2020-01-31      0.0      155.0       0.0  ...      0.0       0.0       0.0   \n",
       "2020-01-31      0.0      116.0       0.0  ...      0.0       0.0       0.0   \n",
       "2020-01-31      0.0      125.0       0.0  ...      0.0       1.0       0.0   \n",
       "2020-01-31      0.0      125.0       0.0  ...      0.0       0.0       0.0   \n",
       "...             ...        ...       ...  ...      ...       ...       ...   \n",
       "2020-10-01      6.0      797.0      47.0  ...      5.0     361.0     216.0   \n",
       "2020-10-01      9.0      995.0      57.0  ...      4.0     429.0     317.0   \n",
       "2020-10-01  18540.0  3462866.0  180795.0  ...   9243.0  597838.0  412076.0   \n",
       "2020-10-01  19212.0  3569937.0  179391.0  ...   8276.0  579377.0  404277.0   \n",
       "2020-10-01      5.0      255.0      14.0  ...      0.0     129.0      76.0   \n",
       "\n",
       "              53065     53067   53069    53071     53073    53075     53077  \n",
       "2020-01-31  43488.0  251762.0  3983.0  58819.0  201094.0  44817.0  243090.0  \n",
       "2020-01-31      0.0       0.0     0.0      0.0       0.0      0.0       0.0  \n",
       "2020-01-31      0.0       0.0     0.0      0.0       0.0      0.0       0.0  \n",
       "2020-01-31      0.0       0.0     0.0      0.0       0.0      0.0       0.0  \n",
       "2020-01-31      0.0       0.0     0.0      0.0       0.0      0.0       0.0  \n",
       "...             ...       ...     ...      ...       ...      ...       ...  \n",
       "2020-10-01     29.0     137.0     1.0     22.0     112.0     16.0     117.0  \n",
       "2020-10-01     31.0     173.0     1.0     44.0     133.0     22.0     145.0  \n",
       "2020-10-01  37142.0  210648.0  3295.0  51742.0  168386.0  38894.0  210834.0  \n",
       "2020-10-01  36172.0  201534.0  3149.0  51852.0  160825.0  41643.0  203641.0  \n",
       "2020-10-01     13.0      47.0     0.0      8.0      41.0      5.0      56.0  \n",
       "\n",
       "[1960 rows x 166 columns]"
      ]
     },
     "execution_count": 3,
     "metadata": {},
     "output_type": "execute_result"
    }
   ],
   "source": [
    "a"
   ]
  },
  {
   "cell_type": "code",
   "execution_count": 11,
   "metadata": {},
   "outputs": [
    {
     "data": {
      "text/plain": [
       "165"
      ]
     },
     "execution_count": 11,
     "metadata": {},
     "output_type": "execute_result"
    }
   ],
   "source": [
    "s.nnodes"
   ]
  },
  {
   "cell_type": "code",
   "execution_count": 5,
   "metadata": {},
   "outputs": [],
   "source": [
    "filter = np.loadtxt('data/west-coast-AZ-NV/filtergithub.txt')"
   ]
  },
  {
   "cell_type": "code",
   "execution_count": 6,
   "metadata": {},
   "outputs": [
    {
     "data": {
      "text/plain": [
       "(275, 165)"
      ]
     },
     "execution_count": 6,
     "metadata": {},
     "output_type": "execute_result"
    }
   ],
   "source": [
    "filter.shape"
   ]
  },
  {
   "cell_type": "code",
   "execution_count": 9,
   "metadata": {},
   "outputs": [],
   "source": [
    "    r_assign('ti_str', str(s.ti))\n",
    "    r_assign('tf_str', str(s.tf))\n",
    "    r_assign('foldername', s.spatset.folder)\n",
    "    r_source(s.script_npi)\n",
    "    npi = robjects.r['NPI']"
   ]
  },
  {
   "cell_type": "code",
   "execution_count": 10,
   "metadata": {},
   "outputs": [
    {
     "data": {
      "text/plain": [
       "(165, 245)"
      ]
     },
     "execution_count": 10,
     "metadata": {},
     "output_type": "execute_result"
    }
   ],
   "source": [
    "npi.shape"
   ]
  },
  {
   "cell_type": "code",
   "execution_count": 5,
   "metadata": {},
   "outputs": [
    {
     "ename": "AttributeError",
     "evalue": "'Setup' object has no attribute 'script_npi'",
     "output_type": "error",
     "traceback": [
      "\u001b[0;31m---------------------------------------------------------------------------\u001b[0m",
      "\u001b[0;31mAttributeError\u001b[0m                            Traceback (most recent call last)",
      "\u001b[0;32m<ipython-input-5-ab5b2b011479>\u001b[0m in \u001b[0;36m<module>\u001b[0;34m\u001b[0m\n\u001b[0;32m----> 1\u001b[0;31m \u001b[0mseir\u001b[0m\u001b[0;34m.\u001b[0m\u001b[0monerun_SEIR\u001b[0m\u001b[0;34m(\u001b[0m\u001b[0ms\u001b[0m\u001b[0;34m,\u001b[0m \u001b[0mp\u001b[0m\u001b[0;34m,\u001b[0m \u001b[0;36m0\u001b[0m\u001b[0;34m)\u001b[0m\u001b[0;34m\u001b[0m\u001b[0;34m\u001b[0m\u001b[0m\n\u001b[0m",
      "\u001b[0;32m~/Documents/phd/COVID19_California/COVIDScenarioPipeline/SEIR/seir.py\u001b[0m in \u001b[0;36monerun_SEIR\u001b[0;34m(s, p, uid)\u001b[0m\n\u001b[1;32m     28\u001b[0m     \u001b[0mr_assign\u001b[0m\u001b[0;34m(\u001b[0m\u001b[0;34m'tf_str'\u001b[0m\u001b[0;34m,\u001b[0m \u001b[0mstr\u001b[0m\u001b[0;34m(\u001b[0m\u001b[0ms\u001b[0m\u001b[0;34m.\u001b[0m\u001b[0mti\u001b[0m\u001b[0;34m)\u001b[0m\u001b[0;34m)\u001b[0m\u001b[0;34m\u001b[0m\u001b[0;34m\u001b[0m\u001b[0m\n\u001b[1;32m     29\u001b[0m     \u001b[0mr_assign\u001b[0m\u001b[0;34m(\u001b[0m\u001b[0;34m'foldername'\u001b[0m\u001b[0;34m,\u001b[0m \u001b[0ms\u001b[0m\u001b[0;34m.\u001b[0m\u001b[0mspatset\u001b[0m\u001b[0;34m.\u001b[0m\u001b[0mfolder\u001b[0m\u001b[0;34m)\u001b[0m\u001b[0;34m\u001b[0m\u001b[0;34m\u001b[0m\u001b[0m\n\u001b[0;32m---> 30\u001b[0;31m     \u001b[0mr_source\u001b[0m\u001b[0;34m(\u001b[0m\u001b[0ms\u001b[0m\u001b[0;34m.\u001b[0m\u001b[0mscript_npi\u001b[0m\u001b[0;34m)\u001b[0m\u001b[0;34m\u001b[0m\u001b[0;34m\u001b[0m\u001b[0m\n\u001b[0m\u001b[1;32m     31\u001b[0m     \u001b[0mnpi\u001b[0m \u001b[0;34m=\u001b[0m \u001b[0mrobjects\u001b[0m\u001b[0;34m.\u001b[0m\u001b[0mr\u001b[0m\u001b[0;34m[\u001b[0m\u001b[0;34m'NPI'\u001b[0m\u001b[0;34m]\u001b[0m\u001b[0;34m.\u001b[0m\u001b[0mT\u001b[0m\u001b[0;34m\u001b[0m\u001b[0;34m\u001b[0m\u001b[0m\n\u001b[1;32m     32\u001b[0m     \u001b[0mp\u001b[0m\u001b[0;34m.\u001b[0m\u001b[0maddNPIfromR\u001b[0m\u001b[0;34m(\u001b[0m\u001b[0mnpi\u001b[0m\u001b[0;34m)\u001b[0m\u001b[0;34m\u001b[0m\u001b[0;34m\u001b[0m\u001b[0m\n",
      "\u001b[0;31mAttributeError\u001b[0m: 'Setup' object has no attribute 'script_npi'"
     ]
    }
   ],
   "source": []
  },
  {
   "cell_type": "code",
   "execution_count": 3,
   "metadata": {},
   "outputs": [],
   "source": [
    "from rpy2 import robjects\n",
    "from rpy2.robjects import pandas2ri\n",
    "pandas2ri.activate()\n",
    "import pandas as pd\n",
    "import warnings\n",
    "from rpy2.rinterface import RRuntimeWarning\n",
    "warnings.filterwarnings(\"ignore\", category=RRuntimeWarning)\n",
    "import rpy2.robjects as ro\n",
    "from rpy2.robjects.conversion import localconverter\n",
    "r_source = robjects.r['source']\n",
    "r_assign = robjects.r['assign']\n",
    "r_options = robjects.r['options']\n",
    "r_options(warn=-1)\n",
    "from rpy2.rinterface_lib.callbacks import logger as rpy2_logger\n",
    "import logging\n",
    "rpy2_logger.setLevel(logging.ERROR)"
   ]
  },
  {
   "cell_type": "code",
   "execution_count": 33,
   "metadata": {},
   "outputs": [
    {
     "name": "stdout",
     "output_type": "stream",
     "text": [
      "[1] \"Stochastic importation seed procedure engaged.\"\n"
     ]
    }
   ],
   "source": [
    "    r_assign('region', s.spatset.setup_name)\n",
    "    r_source(s.script_import)\n",
    "    importation = robjects.r['county_importations_total']"
   ]
  },
  {
   "cell_type": "code",
   "execution_count": 24,
   "metadata": {},
   "outputs": [],
   "source": [
    "#with pd.option_context('display.max_rows', None, 'display.max_columns', None):\n",
    "    #print(importation.isna().sum())"
   ]
  },
  {
   "cell_type": "code",
   "execution_count": 34,
   "metadata": {},
   "outputs": [],
   "source": [
    "importation = importation.pivot(index='date', columns='fips_cty', values='importations')\n",
    "importation = importation.fillna(value = 0)"
   ]
  },
  {
   "cell_type": "code",
   "execution_count": 27,
   "metadata": {},
   "outputs": [],
   "source": [
    "#with pd.option_context('display.max_rows', None, 'display.max_columns', None):  # more options can be specified also\n",
    "#    print(importation.iloc[0])"
   ]
  },
  {
   "cell_type": "code",
   "execution_count": 28,
   "metadata": {},
   "outputs": [
    {
     "data": {
      "text/plain": [
       "0"
      ]
     },
     "execution_count": 28,
     "metadata": {},
     "output_type": "execute_result"
    }
   ],
   "source": [
    "importation.iloc[0].isna().sum()"
   ]
  },
  {
   "cell_type": "code",
   "execution_count": 30,
   "metadata": {},
   "outputs": [
    {
     "data": {
      "text/plain": [
       "(275, 162)"
      ]
     },
     "execution_count": 30,
     "metadata": {},
     "output_type": "execute_result"
    }
   ],
   "source": [
    "importation.shape"
   ]
  },
  {
   "cell_type": "code",
   "execution_count": 32,
   "metadata": {},
   "outputs": [
    {
     "data": {
      "text/plain": [
       "165"
      ]
     },
     "execution_count": 32,
     "metadata": {},
     "output_type": "execute_result"
    }
   ],
   "source": [
    "s.nnodes"
   ]
  },
  {
   "cell_type": "code",
   "execution_count": 38,
   "metadata": {},
   "outputs": [
    {
     "data": {
      "text/plain": [
       "182"
      ]
     },
     "execution_count": 38,
     "metadata": {},
     "output_type": "execute_result"
    }
   ],
   "source": [
    "s.t_span"
   ]
  },
  {
   "cell_type": "code",
   "execution_count": 36,
   "metadata": {},
   "outputs": [],
   "source": [
    "\n",
    "    importation.index = pd.to_datetime(importation.index)\n",
    "    importation.columns = pd.to_numeric(importation.columns)\n",
    "    for col in s.spatset.data['geoid']:\n",
    "        if col not in importation.columns:\n",
    "            importation[col] = 0\n",
    "    importation = importation.reindex(sorted(importation.columns), axis=1)\n",
    "    idx = pd.date_range(s.ti, s.tf)\n",
    "    importation = importation.reindex(idx, fill_value=0)\n",
    "    importation = importation.to_numpy()"
   ]
  },
  {
   "cell_type": "code",
   "execution_count": 40,
   "metadata": {},
   "outputs": [
    {
     "data": {
      "text/plain": [
       "(183, 165)"
      ]
     },
     "execution_count": 40,
     "metadata": {},
     "output_type": "execute_result"
    }
   ],
   "source": [
    "importation.shape"
   ]
  },
  {
   "cell_type": "code",
   "execution_count": 3,
   "metadata": {},
   "outputs": [
    {
     "data": {
      "text/plain": [
       "'2020-01-31'"
      ]
     },
     "execution_count": 3,
     "metadata": {},
     "output_type": "execute_result"
    }
   ],
   "source": [
    "str(s.ti)"
   ]
  }
 ],
 "metadata": {
  "kernelspec": {
   "display_name": "Python 3.7.5 64-bit",
   "language": "python",
   "name": "python37564bitb6a8cbcde2634e63883867447f9de255"
  },
  "language_info": {
   "codemirror_mode": {
    "name": "ipython",
    "version": 3
   },
   "file_extension": ".py",
   "mimetype": "text/x-python",
   "name": "python",
   "nbconvert_exporter": "python",
   "pygments_lexer": "ipython3",
   "version": "3.7.6"
  }
 },
 "nbformat": 4,
 "nbformat_minor": 4
}

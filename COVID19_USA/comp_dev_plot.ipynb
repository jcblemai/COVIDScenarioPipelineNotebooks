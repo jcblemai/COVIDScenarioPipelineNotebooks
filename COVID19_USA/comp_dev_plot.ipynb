{
 "cells": [
  {
   "cell_type": "code",
   "execution_count": 2,
   "metadata": {
    "execution": {
     "iopub.execute_input": "2022-01-16T19:41:06.549834Z",
     "iopub.status.busy": "2022-01-16T19:41:06.549518Z",
     "iopub.status.idle": "2022-01-16T19:41:11.853873Z",
     "shell.execute_reply": "2022-01-16T19:41:11.852969Z",
     "shell.execute_reply.started": "2022-01-16T19:41:06.549807Z"
    },
    "scrolled": true,
    "tags": []
   },
   "outputs": [
    {
     "ename": "NotFoundError",
     "evalue": "seir.parameters.sigma not found",
     "output_type": "error",
     "traceback": [
      "\u001b[0;31m---------------------------------------------------------------------------\u001b[0m",
      "\u001b[0;31mNotFoundError\u001b[0m                             Traceback (most recent call last)",
      "\u001b[0;32m/var/folders/y5/jj4qlxkx619gkh07d2zt6h840000gn/T/ipykernel_33764/1629137640.py\u001b[0m in \u001b[0;36m<module>\u001b[0;34m\u001b[0m\n\u001b[1;32m     74\u001b[0m \u001b[0;34m\u001b[0m\u001b[0m\n\u001b[1;32m     75\u001b[0m \u001b[0;34m\u001b[0m\u001b[0m\n\u001b[0;32m---> 76\u001b[0;31m     s = setup.Setup(\n\u001b[0m\u001b[1;32m     77\u001b[0m         \u001b[0msetup_name\u001b[0m\u001b[0;34m=\u001b[0m\u001b[0mconfig\u001b[0m\u001b[0;34m[\u001b[0m\u001b[0;34m\"name\"\u001b[0m\u001b[0;34m]\u001b[0m\u001b[0;34m.\u001b[0m\u001b[0mget\u001b[0m\u001b[0;34m(\u001b[0m\u001b[0;34m)\u001b[0m \u001b[0;34m+\u001b[0m \u001b[0;34m\"_\"\u001b[0m \u001b[0;34m+\u001b[0m \u001b[0mstr\u001b[0m\u001b[0;34m(\u001b[0m\u001b[0mscenario\u001b[0m\u001b[0;34m)\u001b[0m\u001b[0;34m,\u001b[0m\u001b[0;34m\u001b[0m\u001b[0;34m\u001b[0m\u001b[0m\n\u001b[1;32m     78\u001b[0m         spatial_setup=setup.SpatialSetup(\n",
      "\u001b[0;32m~/Documents/phd/COVIDScenarioPipeline/COVIDScenarioPipeline/SEIR/setup.py\u001b[0m in \u001b[0;36m__init__\u001b[0;34m(self, setup_name, spatial_setup, nsim, ti, tf, npi_scenario, config_version, npi_config, seeding_config, initial_conditions_config, parameters_config, compartments_config, interactive, write_csv, write_parquet, dt, nbetas, first_sim_index, in_run_id, in_prefix, out_run_id, out_prefix)\u001b[0m\n\u001b[1;32m    146\u001b[0m                              f\"Should be either non-specified (default: 'old'), or set to 'old' or 'v2'.\")\n\u001b[1;32m    147\u001b[0m \u001b[0;34m\u001b[0m\u001b[0m\n\u001b[0;32m--> 148\u001b[0;31m         self.parameters = parameters.Parameters(parameter_config=self.parameters_config,\n\u001b[0m\u001b[1;32m    149\u001b[0m                                                 config_version=config_version)\n\u001b[1;32m    150\u001b[0m         self.seedingAndIC = seeding_ic.SeedingAndIC(seeding_config=self.seeding_config,\n",
      "\u001b[0;32m~/Documents/phd/COVIDScenarioPipeline/COVIDScenarioPipeline/SEIR/parameters.py\u001b[0m in \u001b[0;36m__init__\u001b[0;34m(self, parameter_config, config_version)\u001b[0m\n\u001b[1;32m     69\u001b[0m             \u001b[0;32mif\u001b[0m \u001b[0;34m\"alpha\"\u001b[0m \u001b[0;32min\u001b[0m \u001b[0mself\u001b[0m\u001b[0;34m.\u001b[0m\u001b[0mpconfig\u001b[0m\u001b[0;34m:\u001b[0m\u001b[0;34m\u001b[0m\u001b[0;34m\u001b[0m\u001b[0m\n\u001b[1;32m     70\u001b[0m                 \u001b[0mself\u001b[0m\u001b[0;34m.\u001b[0m\u001b[0malpha_val\u001b[0m \u001b[0;34m=\u001b[0m \u001b[0mself\u001b[0m\u001b[0;34m.\u001b[0m\u001b[0mpconfig\u001b[0m\u001b[0;34m[\u001b[0m\u001b[0;34m\"alpha\"\u001b[0m\u001b[0;34m]\u001b[0m\u001b[0;34m.\u001b[0m\u001b[0mas_evaled_expression\u001b[0m\u001b[0;34m(\u001b[0m\u001b[0;34m)\u001b[0m\u001b[0;34m\u001b[0m\u001b[0;34m\u001b[0m\u001b[0m\n\u001b[0;32m---> 71\u001b[0;31m             \u001b[0mself\u001b[0m\u001b[0;34m.\u001b[0m\u001b[0msigma_val\u001b[0m \u001b[0;34m=\u001b[0m \u001b[0mself\u001b[0m\u001b[0;34m.\u001b[0m\u001b[0mpconfig\u001b[0m\u001b[0;34m[\u001b[0m\u001b[0;34m\"sigma\"\u001b[0m\u001b[0;34m]\u001b[0m\u001b[0;34m.\u001b[0m\u001b[0mas_evaled_expression\u001b[0m\u001b[0;34m(\u001b[0m\u001b[0;34m)\u001b[0m\u001b[0;34m\u001b[0m\u001b[0;34m\u001b[0m\u001b[0m\n\u001b[0m\u001b[1;32m     72\u001b[0m             \u001b[0mgamma_dist\u001b[0m \u001b[0;34m=\u001b[0m \u001b[0mself\u001b[0m\u001b[0;34m.\u001b[0m\u001b[0mpconfig\u001b[0m\u001b[0;34m[\u001b[0m\u001b[0;34m\"gamma\"\u001b[0m\u001b[0;34m]\u001b[0m\u001b[0;34m.\u001b[0m\u001b[0mas_random_distribution\u001b[0m\u001b[0;34m(\u001b[0m\u001b[0;34m)\u001b[0m\u001b[0;34m\u001b[0m\u001b[0;34m\u001b[0m\u001b[0m\n\u001b[1;32m     73\u001b[0m             \u001b[0mR0s_dist\u001b[0m \u001b[0;34m=\u001b[0m \u001b[0mself\u001b[0m\u001b[0;34m.\u001b[0m\u001b[0mpconfig\u001b[0m\u001b[0;34m[\u001b[0m\u001b[0;34m\"R0s\"\u001b[0m\u001b[0;34m]\u001b[0m\u001b[0;34m.\u001b[0m\u001b[0mas_random_distribution\u001b[0m\u001b[0;34m(\u001b[0m\u001b[0;34m)\u001b[0m\u001b[0;34m\u001b[0m\u001b[0;34m\u001b[0m\u001b[0m\n",
      "\u001b[0;32m~/Documents/phd/COVIDScenarioPipeline/COVIDScenarioPipeline/SEIR/utils.py\u001b[0m in \u001b[0;36mwrapper\u001b[0;34m(*args, **kwargs)\u001b[0m\n\u001b[1;32m     19\u001b[0m         \u001b[0;34m@\u001b[0m\u001b[0mfunctools\u001b[0m\u001b[0;34m.\u001b[0m\u001b[0mwraps\u001b[0m\u001b[0;34m(\u001b[0m\u001b[0mfunc\u001b[0m\u001b[0;34m)\u001b[0m\u001b[0;34m\u001b[0m\u001b[0;34m\u001b[0m\u001b[0m\n\u001b[1;32m     20\u001b[0m         \u001b[0;32mdef\u001b[0m \u001b[0mwrapper\u001b[0m\u001b[0;34m(\u001b[0m\u001b[0;34m*\u001b[0m\u001b[0margs\u001b[0m\u001b[0;34m,\u001b[0m \u001b[0;34m**\u001b[0m\u001b[0mkwargs\u001b[0m\u001b[0;34m)\u001b[0m\u001b[0;34m:\u001b[0m\u001b[0;34m\u001b[0m\u001b[0;34m\u001b[0m\u001b[0m\n\u001b[0;32m---> 21\u001b[0;31m             \u001b[0;32mreturn\u001b[0m \u001b[0mfunc\u001b[0m\u001b[0;34m(\u001b[0m\u001b[0;34m*\u001b[0m\u001b[0margs\u001b[0m\u001b[0;34m,\u001b[0m \u001b[0;34m**\u001b[0m\u001b[0mkwargs\u001b[0m\u001b[0;34m)\u001b[0m\u001b[0;34m\u001b[0m\u001b[0;34m\u001b[0m\u001b[0m\n\u001b[0m\u001b[1;32m     22\u001b[0m \u001b[0;34m\u001b[0m\u001b[0m\n\u001b[1;32m     23\u001b[0m         \u001b[0msetattr\u001b[0m\u001b[0;34m(\u001b[0m\u001b[0mcls\u001b[0m\u001b[0;34m,\u001b[0m \u001b[0mfunc\u001b[0m\u001b[0;34m.\u001b[0m\u001b[0m__name__\u001b[0m\u001b[0;34m,\u001b[0m \u001b[0mwrapper\u001b[0m\u001b[0;34m)\u001b[0m\u001b[0;34m\u001b[0m\u001b[0;34m\u001b[0m\u001b[0m\n",
      "\u001b[0;32m~/Documents/phd/COVIDScenarioPipeline/COVIDScenarioPipeline/SEIR/utils.py\u001b[0m in \u001b[0;36mas_evaled_expression\u001b[0;34m(self)\u001b[0m\n\u001b[1;32m     59\u001b[0m     \u001b[0;34m\"Evaluates an expression string, returning a float. Raises ValueError on parsing errors.\"\u001b[0m\u001b[0;34m\u001b[0m\u001b[0;34m\u001b[0m\u001b[0m\n\u001b[1;32m     60\u001b[0m \u001b[0;34m\u001b[0m\u001b[0m\n\u001b[0;32m---> 61\u001b[0;31m     \u001b[0mvalue\u001b[0m \u001b[0;34m=\u001b[0m \u001b[0mself\u001b[0m\u001b[0;34m.\u001b[0m\u001b[0mget\u001b[0m\u001b[0;34m(\u001b[0m\u001b[0;34m)\u001b[0m\u001b[0;34m\u001b[0m\u001b[0;34m\u001b[0m\u001b[0m\n\u001b[0m\u001b[1;32m     62\u001b[0m     \u001b[0;32mif\u001b[0m \u001b[0misinstance\u001b[0m\u001b[0;34m(\u001b[0m\u001b[0mvalue\u001b[0m\u001b[0;34m,\u001b[0m \u001b[0mnumbers\u001b[0m\u001b[0;34m.\u001b[0m\u001b[0mNumber\u001b[0m\u001b[0;34m)\u001b[0m\u001b[0;34m:\u001b[0m\u001b[0;34m\u001b[0m\u001b[0;34m\u001b[0m\u001b[0m\n\u001b[1;32m     63\u001b[0m         \u001b[0;32mreturn\u001b[0m \u001b[0mvalue\u001b[0m\u001b[0;34m\u001b[0m\u001b[0;34m\u001b[0m\u001b[0m\n",
      "\u001b[0;32m~/opt/miniconda3/envs/covidSProd6/lib/python3.9/site-packages/confuse/core.py\u001b[0m in \u001b[0;36mget\u001b[0;34m(self, template)\u001b[0m\n\u001b[1;32m    368\u001b[0m         \u001b[0mdoesn\u001b[0m\u001b[0;31m'\u001b[0m\u001b[0mt\u001b[0m \u001b[0msatisfy\u001b[0m \u001b[0mthe\u001b[0m \u001b[0mtemplate\u001b[0m\u001b[0;34m.\u001b[0m\u001b[0;34m\u001b[0m\u001b[0;34m\u001b[0m\u001b[0m\n\u001b[1;32m    369\u001b[0m         \"\"\"\n\u001b[0;32m--> 370\u001b[0;31m         \u001b[0;32mreturn\u001b[0m \u001b[0mtemplates\u001b[0m\u001b[0;34m.\u001b[0m\u001b[0mas_template\u001b[0m\u001b[0;34m(\u001b[0m\u001b[0mtemplate\u001b[0m\u001b[0;34m)\u001b[0m\u001b[0;34m.\u001b[0m\u001b[0mvalue\u001b[0m\u001b[0;34m(\u001b[0m\u001b[0mself\u001b[0m\u001b[0;34m,\u001b[0m \u001b[0mtemplate\u001b[0m\u001b[0;34m)\u001b[0m\u001b[0;34m\u001b[0m\u001b[0;34m\u001b[0m\u001b[0m\n\u001b[0m\u001b[1;32m    371\u001b[0m \u001b[0;34m\u001b[0m\u001b[0m\n\u001b[1;32m    372\u001b[0m     \u001b[0;31m# Shortcuts for common templates.\u001b[0m\u001b[0;34m\u001b[0m\u001b[0;34m\u001b[0m\u001b[0m\n",
      "\u001b[0;32m~/opt/miniconda3/envs/covidSProd6/lib/python3.9/site-packages/confuse/templates.py\u001b[0m in \u001b[0;36mvalue\u001b[0;34m(self, view, template)\u001b[0m\n\u001b[1;32m     68\u001b[0m \u001b[0;34m\u001b[0m\u001b[0m\n\u001b[1;32m     69\u001b[0m         \u001b[0;31m# Get default value, or raise if required.\u001b[0m\u001b[0;34m\u001b[0m\u001b[0;34m\u001b[0m\u001b[0m\n\u001b[0;32m---> 70\u001b[0;31m         \u001b[0;32mreturn\u001b[0m \u001b[0mself\u001b[0m\u001b[0;34m.\u001b[0m\u001b[0mget_default_value\u001b[0m\u001b[0;34m(\u001b[0m\u001b[0mview\u001b[0m\u001b[0;34m.\u001b[0m\u001b[0mname\u001b[0m\u001b[0;34m)\u001b[0m\u001b[0;34m\u001b[0m\u001b[0;34m\u001b[0m\u001b[0m\n\u001b[0m\u001b[1;32m     71\u001b[0m \u001b[0;34m\u001b[0m\u001b[0m\n\u001b[1;32m     72\u001b[0m     \u001b[0;32mdef\u001b[0m \u001b[0mget_default_value\u001b[0m\u001b[0;34m(\u001b[0m\u001b[0mself\u001b[0m\u001b[0;34m,\u001b[0m \u001b[0mkey_name\u001b[0m\u001b[0;34m=\u001b[0m\u001b[0;34m'default'\u001b[0m\u001b[0;34m)\u001b[0m\u001b[0;34m:\u001b[0m\u001b[0;34m\u001b[0m\u001b[0;34m\u001b[0m\u001b[0m\n",
      "\u001b[0;32m~/opt/miniconda3/envs/covidSProd6/lib/python3.9/site-packages/confuse/templates.py\u001b[0m in \u001b[0;36mget_default_value\u001b[0;34m(self, key_name)\u001b[0m\n\u001b[1;32m     77\u001b[0m         \u001b[0;32mif\u001b[0m \u001b[0;32mnot\u001b[0m \u001b[0mhasattr\u001b[0m\u001b[0;34m(\u001b[0m\u001b[0mself\u001b[0m\u001b[0;34m,\u001b[0m \u001b[0;34m'default'\u001b[0m\u001b[0;34m)\u001b[0m \u001b[0;32mor\u001b[0m \u001b[0mself\u001b[0m\u001b[0;34m.\u001b[0m\u001b[0mdefault\u001b[0m \u001b[0;32mis\u001b[0m \u001b[0mREQUIRED\u001b[0m\u001b[0;34m:\u001b[0m\u001b[0;34m\u001b[0m\u001b[0;34m\u001b[0m\u001b[0m\n\u001b[1;32m     78\u001b[0m             \u001b[0;31m# The value is required. A missing value is an error.\u001b[0m\u001b[0;34m\u001b[0m\u001b[0;34m\u001b[0m\u001b[0m\n\u001b[0;32m---> 79\u001b[0;31m             \u001b[0;32mraise\u001b[0m \u001b[0mexceptions\u001b[0m\u001b[0;34m.\u001b[0m\u001b[0mNotFoundError\u001b[0m\u001b[0;34m(\u001b[0m\u001b[0;34mu\"{} not found\"\u001b[0m\u001b[0;34m.\u001b[0m\u001b[0mformat\u001b[0m\u001b[0;34m(\u001b[0m\u001b[0mkey_name\u001b[0m\u001b[0;34m)\u001b[0m\u001b[0;34m)\u001b[0m\u001b[0;34m\u001b[0m\u001b[0;34m\u001b[0m\u001b[0m\n\u001b[0m\u001b[1;32m     80\u001b[0m         \u001b[0;31m# The value is not required.\u001b[0m\u001b[0;34m\u001b[0m\u001b[0;34m\u001b[0m\u001b[0m\n\u001b[1;32m     81\u001b[0m         \u001b[0;32mreturn\u001b[0m \u001b[0mself\u001b[0m\u001b[0;34m.\u001b[0m\u001b[0mdefault\u001b[0m\u001b[0;34m\u001b[0m\u001b[0;34m\u001b[0m\u001b[0m\n",
      "\u001b[0;31mNotFoundError\u001b[0m: seir.parameters.sigma not found"
     ]
    }
   ],
   "source": [
    "import numpy as np\n",
    "import pandas as pd\n",
    "import datetime\n",
    "\n",
    "import pytest\n",
    "\n",
    "from Outcomes import outcomes\n",
    "from SEIR.utils import config\n",
    "\n",
    "import pandas as pd\n",
    "import numpy as np\n",
    "import datetime\n",
    "import matplotlib.pyplot as plt\n",
    "import glob, os, sys\n",
    "from pathlib import Path\n",
    "\n",
    "#import seaborn as sns\n",
    "import pyarrow.parquet as pq\n",
    "import click\n",
    "import pyarrow as pa\n",
    "\n",
    "import os\n",
    "\n",
    "import pandas as pd\n",
    "import numpy as np\n",
    "import datetime\n",
    "import matplotlib.pyplot as plt\n",
    "import glob, os, sys\n",
    "from pathlib import Path\n",
    "#import seaborn as sns\n",
    "import matplotlib._color_data as mcd\n",
    "import pyarrow.parquet as pq\n",
    "import click\n",
    "\n",
    "import matplotlib.dates as mdates\n",
    "import matplotlib.cbook as cbook\n",
    "from matplotlib.backends.backend_pdf import PdfPages\n",
    "\n",
    "from SEIR import NPI, setup, file_paths\n",
    "from SEIR.utils import config\n",
    "import pathlib\n",
    "\n",
    "config_names = ['config_SMH_R12_optSev_highIE_resume.yml']\n",
    "#config_names = ['config_test_npi_reduce.yml']\n",
    "ndraw = 10\n",
    "res = {}"
   ]
  },
  {
   "cell_type": "code",
   "execution_count": 4,
   "metadata": {
    "execution": {
     "iopub.execute_input": "2022-01-16T19:44:25.053223Z",
     "iopub.status.busy": "2022-01-16T19:44:25.053008Z",
     "iopub.status.idle": "2022-01-16T19:44:25.425731Z",
     "shell.execute_reply": "2022-01-16T19:44:25.425150Z",
     "shell.execute_reply.started": "2022-01-16T19:44:25.053202Z"
    },
    "tags": []
   },
   "outputs": [],
   "source": [
    "df = pq.read_table('model_output/seir/USA/inference/med/test/global/intermediate/000000001.000000001.000000001.test.seir.parquet').to_pandas()"
   ]
  },
  {
   "cell_type": "code",
   "execution_count": 13,
   "metadata": {
    "execution": {
     "iopub.execute_input": "2022-01-16T19:46:42.467274Z",
     "iopub.status.busy": "2022-01-16T19:46:42.467075Z",
     "iopub.status.idle": "2022-01-16T19:46:42.565748Z",
     "shell.execute_reply": "2022-01-16T19:46:42.565080Z",
     "shell.execute_reply.started": "2022-01-16T19:46:42.467255Z"
    },
    "tags": []
   },
   "outputs": [],
   "source": [
    "df = df[(df['value_type'] == 'incidence') & (df['mc_infection_stage'] == 'I1')].drop(['mc_infection_stage','value_type'],axis=1)"
   ]
  },
  {
   "cell_type": "code",
   "execution_count": 19,
   "metadata": {
    "execution": {
     "iopub.execute_input": "2022-01-16T19:50:07.110842Z",
     "iopub.status.busy": "2022-01-16T19:50:07.110619Z",
     "iopub.status.idle": "2022-01-16T19:50:07.355157Z",
     "shell.execute_reply": "2022-01-16T19:50:07.354498Z",
     "shell.execute_reply.started": "2022-01-16T19:50:07.110820Z"
    },
    "tags": []
   },
   "outputs": [
    {
     "data": {
      "text/plain": [
       "<AxesSubplot:xlabel='date'>"
      ]
     },
     "execution_count": 19,
     "metadata": {},
     "output_type": "execute_result"
    },
    {
     "data": {
      "image/png": "[encoded data removed]",
      "text/plain": [
       "<Figure size 432x288 with 1 Axes>"
      ]
     },
     "metadata": {
      "needs_background": "light"
     },
     "output_type": "display_data"
    }
   ],
   "source": [
    "df.groupby('date').sum().sum(axis=1).plot()"
   ]
  },
  {
   "cell_type": "code",
   "execution_count": 54,
   "metadata": {
    "execution": {
     "iopub.execute_input": "2022-01-16T21:10:59.908413Z",
     "iopub.status.busy": "2022-01-16T21:10:59.908194Z",
     "iopub.status.idle": "2022-01-16T21:11:00.909079Z",
     "shell.execute_reply": "2022-01-16T21:11:00.908175Z",
     "shell.execute_reply.started": "2022-01-16T21:10:59.908391Z"
    },
    "tags": []
   },
   "outputs": [
    {
     "data": {
      "text/plain": [
       "<AxesSubplot:xlabel='date'>"
      ]
     },
     "execution_count": 54,
     "metadata": {},
     "output_type": "execute_result"
    },
    {
     "data": {
      "image/png": "[encoded data removed]",
      "text/plain": [
       "<Figure size 432x288 with 1 Axes>"
      ]
     },
     "metadata": {
      "needs_background": "light"
     },
     "output_type": "display_data"
    }
   ],
   "source": [
    "df = pq.read_table('model_output/seir/USA/inference/med/test/global/intermediate/000000001.000000000.test.seir.parquet').to_pandas()\n",
    "df = df[(df['value_type'] == 'incidence') & (df['mc_infection_stage'] == 'I1')].drop(['mc_infection_stage','value_type'],axis=1)\n",
    "df.groupby('date').sum().sum(axis=1).plot()"
   ]
  },
  {
   "cell_type": "code",
   "execution_count": 51,
   "metadata": {
    "execution": {
     "iopub.execute_input": "2022-01-16T20:13:48.447388Z",
     "iopub.status.busy": "2022-01-16T20:13:48.447181Z",
     "iopub.status.idle": "2022-01-16T20:13:48.733885Z",
     "shell.execute_reply": "2022-01-16T20:13:48.733064Z",
     "shell.execute_reply.started": "2022-01-16T20:13:48.447366Z"
    },
    "tags": []
   },
   "outputs": [
    {
     "data": {
      "text/plain": [
       "<AxesSubplot:xlabel='date'>"
      ]
     },
     "execution_count": 51,
     "metadata": {},
     "output_type": "execute_result"
    },
    {
     "data": {
      "image/png": "[encoded data removed]",
      "text/plain": [
       "<Figure size 432x288 with 1 Axes>"
      ]
     },
     "metadata": {
      "needs_background": "light"
     },
     "output_type": "display_data"
    }
   ],
   "source": [
    "df = pq.read_table('model_output/hosp/USA/inference/med/test/global/intermediate/000000001.000000001.000000001.test.hosp.parquet').to_pandas()\n",
    "df.groupby('date').sum()['incidC'].plot()"
   ]
  },
  {
   "cell_type": "code",
   "execution_count": null,
   "metadata": {},
   "outputs": [
    {
     "data": {
      "text/plain": [
       "<AxesSubplot:xlabel='date'>"
      ]
     },
     "execution_count": 60,
     "metadata": {},
     "output_type": "execute_result"
    },
    {
     "data": {
      "image/png": "[encoded data removed]",
      "text/plain": [
       "<Figure size 432x288 with 1 Axes>"
      ]
     },
     "metadata": {
      "needs_background": "light"
     },
     "output_type": "display_data"
    }
   ],
   "source": [
    "df = pq.read_table('model_output/hosp/USA/inference/med/test/global/intermediate/000000001.000000001.000000001.test.hosp.parquet').to_pandas()\n",
    "df.groupby('date').sum()['incidC'].plot()"
   ]
  },
  {
   "cell_type": "code",
   "execution_count": 61,
   "metadata": {
    "execution": {
     "iopub.execute_input": "2022-01-16T21:16:14.083320Z",
     "iopub.status.busy": "2022-01-16T21:16:14.083101Z",
     "iopub.status.idle": "2022-01-16T21:16:14.100668Z",
     "shell.execute_reply": "2022-01-16T21:16:14.100037Z",
     "shell.execute_reply.started": "2022-01-16T21:16:14.083298Z"
    },
    "tags": []
   },
   "outputs": [
    {
     "data": {
      "text/html": [
       "<div>\n",
       "<style scoped>\n",
       "    .dataframe tbody tr th:only-of-type {\n",
       "        vertical-align: middle;\n",
       "    }\n",
       "\n",
       "    .dataframe tbody tr th {\n",
       "        vertical-align: top;\n",
       "    }\n",
       "\n",
       "    .dataframe thead th {\n",
       "        text-align: right;\n",
       "    }\n",
       "</style>\n",
       "<table border=\"1\" class=\"dataframe\">\n",
       "  <thead>\n",
       "    <tr style=\"text-align: right;\">\n",
       "      <th></th>\n",
       "      <th>geoid</th>\n",
       "      <th>npi_name</th>\n",
       "      <th>start_date</th>\n",
       "      <th>end_date</th>\n",
       "      <th>parameter</th>\n",
       "      <th>reduction</th>\n",
       "    </tr>\n",
       "  </thead>\n",
       "  <tbody>\n",
       "    <tr>\n",
       "      <th>0</th>\n",
       "      <td>56000</td>\n",
       "      <td>local_variance</td>\n",
       "      <td>2020-01-01</td>\n",
       "      <td>2022-04-09</td>\n",
       "      <td>r0</td>\n",
       "      <td>0.022144</td>\n",
       "    </tr>\n",
       "    <tr>\n",
       "      <th>1</th>\n",
       "      <td>50000</td>\n",
       "      <td>local_variance</td>\n",
       "      <td>2020-01-01</td>\n",
       "      <td>2022-04-09</td>\n",
       "      <td>r0</td>\n",
       "      <td>0.026780</td>\n",
       "    </tr>\n",
       "    <tr>\n",
       "      <th>2</th>\n",
       "      <td>11000</td>\n",
       "      <td>local_variance</td>\n",
       "      <td>2020-01-01</td>\n",
       "      <td>2022-04-09</td>\n",
       "      <td>r0</td>\n",
       "      <td>0.039615</td>\n",
       "    </tr>\n",
       "    <tr>\n",
       "      <th>3</th>\n",
       "      <td>02000</td>\n",
       "      <td>local_variance</td>\n",
       "      <td>2020-01-01</td>\n",
       "      <td>2022-04-09</td>\n",
       "      <td>r0</td>\n",
       "      <td>0.015533</td>\n",
       "    </tr>\n",
       "    <tr>\n",
       "      <th>4</th>\n",
       "      <td>38000</td>\n",
       "      <td>local_variance</td>\n",
       "      <td>2020-01-01</td>\n",
       "      <td>2022-04-09</td>\n",
       "      <td>r0</td>\n",
       "      <td>-0.033190</td>\n",
       "    </tr>\n",
       "    <tr>\n",
       "      <th>...</th>\n",
       "      <td>...</td>\n",
       "      <td>...</td>\n",
       "      <td>...</td>\n",
       "      <td>...</td>\n",
       "      <td>...</td>\n",
       "      <td>...</td>\n",
       "    </tr>\n",
       "    <tr>\n",
       "      <th>4713</th>\n",
       "      <td>56000</td>\n",
       "      <td>WY_Dose1_apr2022_age18to64</td>\n",
       "      <td>2022-04-01</td>\n",
       "      <td>2022-04-09</td>\n",
       "      <td>nu1age18to64_new</td>\n",
       "      <td>0.000550</td>\n",
       "    </tr>\n",
       "    <tr>\n",
       "      <th>4714</th>\n",
       "      <td>56000</td>\n",
       "      <td>WY_Dose1_apr2022_age65to100</td>\n",
       "      <td>2022-04-01</td>\n",
       "      <td>2022-04-09</td>\n",
       "      <td>nu1age65to100_new</td>\n",
       "      <td>0.001180</td>\n",
       "    </tr>\n",
       "    <tr>\n",
       "      <th>4715</th>\n",
       "      <td>56000</td>\n",
       "      <td>WY_Dose3_apr2022_0to17</td>\n",
       "      <td>2022-04-01</td>\n",
       "      <td>2022-04-09</td>\n",
       "      <td>nu3age0to17_new</td>\n",
       "      <td>0.000667</td>\n",
       "    </tr>\n",
       "    <tr>\n",
       "      <th>4716</th>\n",
       "      <td>56000</td>\n",
       "      <td>WY_Dose3_apr2022_18to64</td>\n",
       "      <td>2022-04-01</td>\n",
       "      <td>2022-04-09</td>\n",
       "      <td>nu3age18to64_new</td>\n",
       "      <td>0.001376</td>\n",
       "    </tr>\n",
       "    <tr>\n",
       "      <th>4717</th>\n",
       "      <td>56000</td>\n",
       "      <td>WY_Dose3_apr2022_65to100</td>\n",
       "      <td>2022-04-01</td>\n",
       "      <td>2022-04-09</td>\n",
       "      <td>nu3age65to100_new</td>\n",
       "      <td>0.001366</td>\n",
       "    </tr>\n",
       "  </tbody>\n",
       "</table>\n",
       "<p>4718 rows × 6 columns</p>\n",
       "</div>"
      ],
      "text/plain": [
       "      geoid                     npi_name  start_date    end_date  \\\n",
       "0     56000               local_variance  2020-01-01  2022-04-09   \n",
       "1     50000               local_variance  2020-01-01  2022-04-09   \n",
       "2     11000               local_variance  2020-01-01  2022-04-09   \n",
       "3     02000               local_variance  2020-01-01  2022-04-09   \n",
       "4     38000               local_variance  2020-01-01  2022-04-09   \n",
       "...     ...                          ...         ...         ...   \n",
       "4713  56000   WY_Dose1_apr2022_age18to64  2022-04-01  2022-04-09   \n",
       "4714  56000  WY_Dose1_apr2022_age65to100  2022-04-01  2022-04-09   \n",
       "4715  56000       WY_Dose3_apr2022_0to17  2022-04-01  2022-04-09   \n",
       "4716  56000      WY_Dose3_apr2022_18to64  2022-04-01  2022-04-09   \n",
       "4717  56000     WY_Dose3_apr2022_65to100  2022-04-01  2022-04-09   \n",
       "\n",
       "              parameter  reduction  \n",
       "0                    r0   0.022144  \n",
       "1                    r0   0.026780  \n",
       "2                    r0   0.039615  \n",
       "3                    r0   0.015533  \n",
       "4                    r0  -0.033190  \n",
       "...                 ...        ...  \n",
       "4713   nu1age18to64_new   0.000550  \n",
       "4714  nu1age65to100_new   0.001180  \n",
       "4715    nu3age0to17_new   0.000667  \n",
       "4716   nu3age18to64_new   0.001376  \n",
       "4717  nu3age65to100_new   0.001366  \n",
       "\n",
       "[4718 rows x 6 columns]"
      ]
     },
     "execution_count": 61,
     "metadata": {},
     "output_type": "execute_result"
    }
   ],
   "source": [
    "df = pq.read_table('model_output/snpi/USA/inference/med/test/global/intermediate/000000001.000000001.000000001.test.snpi.parquet').to_pandas()\n",
    "df"
   ]
  },
  {
   "cell_type": "code",
   "execution_count": 27,
   "metadata": {
    "execution": {
     "iopub.execute_input": "2022-01-16T19:57:41.714774Z",
     "iopub.status.busy": "2022-01-16T19:57:41.714552Z",
     "iopub.status.idle": "2022-01-16T19:57:48.092929Z",
     "shell.execute_reply": "2022-01-16T19:57:48.092134Z",
     "shell.execute_reply.started": "2022-01-16T19:57:41.714752Z"
    },
    "tags": []
   },
   "outputs": [],
   "source": [
    "import numpy as np\n",
    "import os\n",
    "import pytest\n",
    "import warnings\n",
    "import shutil\n",
    "\n",
    "import pathlib\n",
    "import pyarrow as pa\n",
    "import pyarrow.parquet as pq\n",
    "import filecmp\n",
    "import pandas as pd\n",
    "import matplotlib.pyplot as plt\n",
    "\n",
    "import SEIR.seir\n",
    "from SEIR import compartments, seir, NPI, file_paths, setup\n",
    "\n",
    "from SEIR.utils import config\n",
    "\n",
    "DATA_DIR = \"data/\"\n",
    "\n",
    "config.clear()\n",
    "config.read(user=False)\n",
    "config.set_file(f\"config_SMH_R12_optSev_highIE_resume.yml\")\n",
    "sim_id = 1\n",
    "\n",
    "ss = setup.SpatialSetup(setup_name=\"test_seir\",\n",
    "                        geodata_file=f\"{DATA_DIR}/geodata_2019_statelevel.csv\",\n",
    "                        mobility_file=f\"{DATA_DIR}/mobility_2011-2015_statelevel.csv\",\n",
    "                        popnodes_key=\"pop2019est\",\n",
    "                        nodenames_key=\"geoid\")\n",
    "\n",
    "index = 1\n",
    "run_id = 'test_SeedOneNode'\n",
    "prefix = ''\n",
    "s = setup.Setup(\n",
    "    setup_name=config[\"name\"].get() + \"_\" + str(scenario),\n",
    "    spatial_setup=setup.SpatialSetup(\n",
    "        setup_name=spatial_config[\"setup_name\"].get(),\n",
    "        geodata_file=spatial_base_path / spatial_config[\"geodata\"].get(),\n",
    "        mobility_file=spatial_base_path / spatial_config[\"mobility\"].get(),\n",
    "        popnodes_key=spatial_config[\"popnodes\"].get(),\n",
    "        nodenames_key=spatial_config[\"nodenames\"].get()\n",
    "    ),\n",
    "    nsim=nsim,\n",
    "    npi_scenario=scenario,\n",
    "    npi_config=config[\"interventions\"][\"settings\"][scenario],\n",
    "    seeding_config=config[\"seeding\"],\n",
    "    initial_conditions_config=config[\"initial_conditions\"],\n",
    "    parameters_config=config[\"seir\"][\"parameters\"],\n",
    "    compartments_config=config[\"seir\"],\n",
    "    ti=config[\"start_date\"].as_date(),\n",
    "    tf=config[\"end_date\"].as_date(),\n",
    "    interactive=interactive,\n",
    "    write_csv=write_csv,\n",
    "    write_parquet=write_parquet,\n",
    "    dt=config[\"dt\"].as_number(),\n",
    "    first_sim_index = index,\n",
    "    in_run_id = run_id,\n",
    "    in_prefix = prefix,\n",
    "    out_run_id = run_id,\n",
    "    out_prefix = prefix\n",
    ")"
   ]
  },
  {
   "cell_type": "code",
   "execution_count": 24,
   "metadata": {
    "execution": {
     "iopub.execute_input": "2022-01-16T19:56:48.677251Z",
     "iopub.status.busy": "2022-01-16T19:56:48.676953Z",
     "iopub.status.idle": "2022-01-16T19:57:23.888824Z",
     "shell.execute_reply": "2022-01-16T19:57:23.888208Z",
     "shell.execute_reply.started": "2022-01-16T19:56:48.677229Z"
    },
    "tags": []
   },
   "outputs": [],
   "source": [
    "npi = NPI.NPIBase.execute(npi_config=s.npi_config,\n",
    "                                  global_config=config,\n",
    "                                  geoids=s.spatset.nodenames,\n",
    "                                  pnames_overlap_operation_sum=s.parameters.intervention_overlap_operation['sum'])"
   ]
  },
  {
   "cell_type": "code",
   "execution_count": 32,
   "metadata": {
    "execution": {
     "iopub.execute_input": "2022-01-16T19:58:40.231987Z",
     "iopub.status.busy": "2022-01-16T19:58:40.231720Z",
     "iopub.status.idle": "2022-01-16T19:58:40.237364Z",
     "shell.execute_reply": "2022-01-16T19:58:40.236820Z",
     "shell.execute_reply.started": "2022-01-16T19:58:40.231963Z"
    },
    "tags": []
   },
   "outputs": [],
   "source": [
    "p_draw = s.parameters.parameters_quick_draw(s.n_days, s.nnodes)"
   ]
  },
  {
   "cell_type": "code",
   "execution_count": 34,
   "metadata": {
    "execution": {
     "iopub.execute_input": "2022-01-16T19:58:56.896101Z",
     "iopub.status.busy": "2022-01-16T19:58:56.895718Z",
     "iopub.status.idle": "2022-01-16T19:58:56.956548Z",
     "shell.execute_reply": "2022-01-16T19:58:56.955904Z",
     "shell.execute_reply.started": "2022-01-16T19:58:56.896067Z"
    },
    "tags": []
   },
   "outputs": [],
   "source": [
    "parameters = s.parameters.parameters_reduce(p_draw, npi)"
   ]
  },
  {
   "cell_type": "code",
   "execution_count": 35,
   "metadata": {
    "execution": {
     "iopub.execute_input": "2022-01-16T19:59:09.590664Z",
     "iopub.status.busy": "2022-01-16T19:59:09.590413Z",
     "iopub.status.idle": "2022-01-16T19:59:09.594405Z",
     "shell.execute_reply": "2022-01-16T19:59:09.593841Z",
     "shell.execute_reply.started": "2022-01-16T19:59:09.590639Z"
    },
    "tags": []
   },
   "outputs": [
    {
     "data": {
      "text/plain": [
       "(29, 830, 51)"
      ]
     },
     "execution_count": 35,
     "metadata": {},
     "output_type": "execute_result"
    }
   ],
   "source": [
    "parameters.shape"
   ]
  },
  {
   "cell_type": "code",
   "execution_count": 39,
   "metadata": {
    "execution": {
     "iopub.execute_input": "2022-01-16T20:01:10.316325Z",
     "iopub.status.busy": "2022-01-16T20:01:10.316109Z",
     "iopub.status.idle": "2022-01-16T20:01:10.320002Z",
     "shell.execute_reply": "2022-01-16T20:01:10.319531Z",
     "shell.execute_reply.started": "2022-01-16T20:01:10.316303Z"
    },
    "tags": []
   },
   "outputs": [
    {
     "data": {
      "text/plain": [
       "dict_keys(['sigma_NEW', 'alpha_NEW', 'r0_NEW', 'gamma_NEW', 'theta1_WILD_NEW', 'theta2_WILD_NEW', 'theta1_ALPHA_NEW', 'theta2_ALPHA_NEW', 'thetaW_age0to17_NEW', 'thetaW_age18to64_NEW', 'thetaW_age65to100_NEW', 'theta1_DELTA_NEW', 'theta2_DELTA_NEW', 'thetaW_OMICRON_age0to17_NEW', 'thetaW_OMICRON_age18to64_NEW', 'thetaW_OMICRON_age65to100_NEW', 'theta1_OMICRON_NEW', 'theta2_OMICRON_NEW', 'nu1age0to17_NEW', 'nu3age0to17_NEW', 'nu1age18to64_NEW', 'nu3age18to64_NEW', 'nu1age65to100_NEW', 'nu3age65to100_NEW', 'nu2_NEW', 'chi1_NEW', 'chi2_NEW', 'chi3_NEW', 'epsilon_NEW'])"
      ]
     },
     "execution_count": 39,
     "metadata": {},
     "output_type": "execute_result"
    }
   ],
   "source": [
    "s.parameters.get_pnames2pindex().keys()"
   ]
  },
  {
   "cell_type": "code",
   "execution_count": 45,
   "metadata": {
    "execution": {
     "iopub.execute_input": "2022-01-16T20:03:07.211072Z",
     "iopub.status.busy": "2022-01-16T20:03:07.210846Z",
     "iopub.status.idle": "2022-01-16T20:03:07.316718Z",
     "shell.execute_reply": "2022-01-16T20:03:07.315782Z",
     "shell.execute_reply.started": "2022-01-16T20:03:07.211049Z"
    },
    "tags": []
   },
   "outputs": [
    {
     "data": {
      "text/plain": [
       "[<matplotlib.lines.Line2D at 0x1a8ad5340>]"
      ]
     },
     "execution_count": 45,
     "metadata": {},
     "output_type": "execute_result"
    },
    {
     "data": {
      "image/png": "[encoded data removed]",
      "text/plain": [
       "<Figure size 432x288 with 1 Axes>"
      ]
     },
     "metadata": {
      "needs_background": "light"
     },
     "output_type": "display_data"
    }
   ],
   "source": [
    "fig, ax = plt.subplots(1,1)\n",
    "ax.plot(p_draw[s.parameters.get_pnames2pindex()['r0_NEW']].sum(axis=1))\n",
    "ax.plot(parameters[s.parameters.get_pnames2pindex()['r0_NEW']].sum(axis=1))"
   ]
  },
  {
   "cell_type": "code",
   "execution_count": 43,
   "metadata": {
    "execution": {
     "iopub.execute_input": "2022-01-16T20:02:37.370690Z",
     "iopub.status.busy": "2022-01-16T20:02:37.370448Z",
     "iopub.status.idle": "2022-01-16T20:02:37.381302Z",
     "shell.execute_reply": "2022-01-16T20:02:37.380704Z",
     "shell.execute_reply.started": "2022-01-16T20:02:37.370664Z"
    },
    "tags": []
   },
   "outputs": [
    {
     "data": {
      "text/plain": [
       "array([117.3, 117.3, 117.3, 117.3, 117.3, 117.3, 117.3, 117.3, 117.3,\n",
       "       117.3, 117.3, 117.3, 117.3, 117.3, 117.3, 117.3, 117.3, 117.3,\n",
       "       117.3, 117.3, 117.3, 117.3, 117.3, 117.3, 117.3, 117.3, 117.3,\n",
       "       117.3, 117.3, 117.3, 117.3, 117.3, 117.3, 117.3, 117.3, 117.3,\n",
       "       117.3, 117.3, 117.3, 117.3, 117.3, 117.3, 117.3, 117.3, 117.3,\n",
       "       117.3, 117.3, 117.3, 117.3, 117.3, 117.3, 117.3, 117.3, 117.3,\n",
       "       117.3, 117.3, 117.3, 117.3, 117.3, 117.3, 117.3, 117.3, 117.3,\n",
       "       117.3, 117.3, 117.3, 117.3, 117.3, 117.3, 117.3, 117.3, 117.3,\n",
       "       117.3, 117.3, 117.3, 117.3, 117.3, 117.3, 117.3, 117.3, 117.3,\n",
       "       117.3, 117.3, 117.3, 117.3, 117.3, 117.3, 117.3, 117.3, 117.3,\n",
       "       117.3, 117.3, 117.3, 117.3, 117.3, 117.3, 117.3, 117.3, 117.3,\n",
       "       117.3, 117.3, 117.3, 117.3, 117.3, 117.3, 117.3, 117.3, 117.3,\n",
       "       117.3, 117.3, 117.3, 117.3, 117.3, 117.3, 117.3, 117.3, 117.3,\n",
       "       117.3, 117.3, 117.3, 117.3, 117.3, 117.3, 117.3, 117.3, 117.3,\n",
       "       117.3, 117.3, 117.3, 117.3, 117.3, 117.3, 117.3, 117.3, 117.3,\n",
       "       117.3, 117.3, 117.3, 117.3, 117.3, 117.3, 117.3, 117.3, 117.3,\n",
       "       117.3, 117.3, 117.3, 117.3, 117.3, 117.3, 117.3, 117.3, 117.3,\n",
       "       117.3, 117.3, 117.3, 117.3, 117.3, 117.3, 117.3, 117.3, 117.3,\n",
       "       117.3, 117.3, 117.3, 117.3, 117.3, 117.3, 117.3, 117.3, 117.3,\n",
       "       117.3, 117.3, 117.3, 117.3, 117.3, 117.3, 117.3, 117.3, 117.3,\n",
       "       117.3, 117.3, 117.3, 117.3, 117.3, 117.3, 117.3, 117.3, 117.3,\n",
       "       117.3, 117.3, 117.3, 117.3, 117.3, 117.3, 117.3, 117.3, 117.3,\n",
       "       117.3, 117.3, 117.3, 117.3, 117.3, 117.3, 117.3, 117.3, 117.3,\n",
       "       117.3, 117.3, 117.3, 117.3, 117.3, 117.3, 117.3, 117.3, 117.3,\n",
       "       117.3, 117.3, 117.3, 117.3, 117.3, 117.3, 117.3, 117.3, 117.3,\n",
       "       117.3, 117.3, 117.3, 117.3, 117.3, 117.3, 117.3, 117.3, 117.3,\n",
       "       117.3, 117.3, 117.3, 117.3, 117.3, 117.3, 117.3, 117.3, 117.3,\n",
       "       117.3, 117.3, 117.3, 117.3, 117.3, 117.3, 117.3, 117.3, 117.3,\n",
       "       117.3, 117.3, 117.3, 117.3, 117.3, 117.3, 117.3, 117.3, 117.3,\n",
       "       117.3, 117.3, 117.3, 117.3, 117.3, 117.3, 117.3, 117.3, 117.3,\n",
       "       117.3, 117.3, 117.3, 117.3, 117.3, 117.3, 117.3, 117.3, 117.3,\n",
       "       117.3, 117.3, 117.3, 117.3, 117.3, 117.3, 117.3, 117.3, 117.3,\n",
       "       117.3, 117.3, 117.3, 117.3, 117.3, 117.3, 117.3, 117.3, 117.3,\n",
       "       117.3, 117.3, 117.3, 117.3, 117.3, 117.3, 117.3, 117.3, 117.3,\n",
       "       117.3, 117.3, 117.3, 117.3, 117.3, 117.3, 117.3, 117.3, 117.3,\n",
       "       117.3, 117.3, 117.3, 117.3, 117.3, 117.3, 117.3, 117.3, 117.3,\n",
       "       117.3, 117.3, 117.3, 117.3, 117.3, 117.3, 117.3, 117.3, 117.3,\n",
       "       117.3, 117.3, 117.3, 117.3, 117.3, 117.3, 117.3, 117.3, 117.3,\n",
       "       117.3, 117.3, 117.3, 117.3, 117.3, 117.3, 117.3, 117.3, 117.3,\n",
       "       117.3, 117.3, 117.3, 117.3, 117.3, 117.3, 117.3, 117.3, 117.3,\n",
       "       117.3, 117.3, 117.3, 117.3, 117.3, 117.3, 117.3, 117.3, 117.3,\n",
       "       117.3, 117.3, 117.3, 117.3, 117.3, 117.3, 117.3, 117.3, 117.3,\n",
       "       117.3, 117.3, 117.3, 117.3, 117.3, 117.3, 117.3, 117.3, 117.3,\n",
       "       117.3, 117.3, 117.3, 117.3, 117.3, 117.3, 117.3, 117.3, 117.3,\n",
       "       117.3, 117.3, 117.3, 117.3, 117.3, 117.3, 117.3, 117.3, 117.3,\n",
       "       117.3, 117.3, 117.3, 117.3, 117.3, 117.3, 117.3, 117.3, 117.3,\n",
       "       117.3, 117.3, 117.3, 117.3, 117.3, 117.3, 117.3, 117.3, 117.3,\n",
       "       117.3, 117.3, 117.3, 117.3, 117.3, 117.3, 117.3, 117.3, 117.3,\n",
       "       117.3, 117.3, 117.3, 117.3, 117.3, 117.3, 117.3, 117.3, 117.3,\n",
       "       117.3, 117.3, 117.3, 117.3, 117.3, 117.3, 117.3, 117.3, 117.3,\n",
       "       117.3, 117.3, 117.3, 117.3, 117.3, 117.3, 117.3, 117.3, 117.3,\n",
       "       117.3, 117.3, 117.3, 117.3, 117.3, 117.3, 117.3, 117.3, 117.3,\n",
       "       117.3, 117.3, 117.3, 117.3, 117.3, 117.3, 117.3, 117.3, 117.3,\n",
       "       117.3, 117.3, 117.3, 117.3, 117.3, 117.3, 117.3, 117.3, 117.3,\n",
       "       117.3, 117.3, 117.3, 117.3, 117.3, 117.3, 117.3, 117.3, 117.3,\n",
       "       117.3, 117.3, 117.3, 117.3, 117.3, 117.3, 117.3, 117.3, 117.3,\n",
       "       117.3, 117.3, 117.3, 117.3, 117.3, 117.3, 117.3, 117.3, 117.3,\n",
       "       117.3, 117.3, 117.3, 117.3, 117.3, 117.3, 117.3, 117.3, 117.3,\n",
       "       117.3, 117.3, 117.3, 117.3, 117.3, 117.3, 117.3, 117.3, 117.3,\n",
       "       117.3, 117.3, 117.3, 117.3, 117.3, 117.3, 117.3, 117.3, 117.3,\n",
       "       117.3, 117.3, 117.3, 117.3, 117.3, 117.3, 117.3, 117.3, 117.3,\n",
       "       117.3, 117.3, 117.3, 117.3, 117.3, 117.3, 117.3, 117.3, 117.3,\n",
       "       117.3, 117.3, 117.3, 117.3, 117.3, 117.3, 117.3, 117.3, 117.3,\n",
       "       117.3, 117.3, 117.3, 117.3, 117.3, 117.3, 117.3, 117.3, 117.3,\n",
       "       117.3, 117.3, 117.3, 117.3, 117.3, 117.3, 117.3, 117.3, 117.3,\n",
       "       117.3, 117.3, 117.3, 117.3, 117.3, 117.3, 117.3, 117.3, 117.3,\n",
       "       117.3, 117.3, 117.3, 117.3, 117.3, 117.3, 117.3, 117.3, 117.3,\n",
       "       117.3, 117.3, 117.3, 117.3, 117.3, 117.3, 117.3, 117.3, 117.3,\n",
       "       117.3, 117.3, 117.3, 117.3, 117.3, 117.3, 117.3, 117.3, 117.3,\n",
       "       117.3, 117.3, 117.3, 117.3, 117.3, 117.3, 117.3, 117.3, 117.3,\n",
       "       117.3, 117.3, 117.3, 117.3, 117.3, 117.3, 117.3, 117.3, 117.3,\n",
       "       117.3, 117.3, 117.3, 117.3, 117.3, 117.3, 117.3, 117.3, 117.3,\n",
       "       117.3, 117.3, 117.3, 117.3, 117.3, 117.3, 117.3, 117.3, 117.3,\n",
       "       117.3, 117.3, 117.3, 117.3, 117.3, 117.3, 117.3, 117.3, 117.3,\n",
       "       117.3, 117.3, 117.3, 117.3, 117.3, 117.3, 117.3, 117.3, 117.3,\n",
       "       117.3, 117.3, 117.3, 117.3, 117.3, 117.3, 117.3, 117.3, 117.3,\n",
       "       117.3, 117.3, 117.3, 117.3, 117.3, 117.3, 117.3, 117.3, 117.3,\n",
       "       117.3, 117.3, 117.3, 117.3, 117.3, 117.3, 117.3, 117.3, 117.3,\n",
       "       117.3, 117.3, 117.3, 117.3, 117.3, 117.3, 117.3, 117.3, 117.3,\n",
       "       117.3, 117.3, 117.3, 117.3, 117.3, 117.3, 117.3, 117.3, 117.3,\n",
       "       117.3, 117.3, 117.3, 117.3, 117.3, 117.3, 117.3, 117.3, 117.3,\n",
       "       117.3, 117.3, 117.3, 117.3, 117.3, 117.3, 117.3, 117.3, 117.3,\n",
       "       117.3, 117.3, 117.3, 117.3, 117.3, 117.3, 117.3, 117.3, 117.3,\n",
       "       117.3, 117.3, 117.3, 117.3, 117.3, 117.3, 117.3, 117.3, 117.3,\n",
       "       117.3, 117.3, 117.3, 117.3, 117.3, 117.3, 117.3, 117.3, 117.3,\n",
       "       117.3, 117.3, 117.3, 117.3, 117.3, 117.3, 117.3, 117.3, 117.3,\n",
       "       117.3, 117.3, 117.3, 117.3, 117.3, 117.3, 117.3, 117.3, 117.3,\n",
       "       117.3, 117.3, 117.3, 117.3, 117.3, 117.3, 117.3, 117.3, 117.3,\n",
       "       117.3, 117.3, 117.3, 117.3, 117.3, 117.3, 117.3, 117.3, 117.3,\n",
       "       117.3, 117.3, 117.3, 117.3, 117.3, 117.3, 117.3, 117.3, 117.3,\n",
       "       117.3, 117.3, 117.3, 117.3, 117.3, 117.3, 117.3, 117.3, 117.3,\n",
       "       117.3, 117.3, 117.3, 117.3, 117.3, 117.3, 117.3, 117.3, 117.3,\n",
       "       117.3, 117.3])"
      ]
     },
     "execution_count": 43,
     "metadata": {},
     "output_type": "execute_result"
    }
   ],
   "source": []
  }
 ],
 "metadata": {
  "kernelspec": {
   "display_name": "Python (covidSProd6)",
   "language": "python",
   "name": "covidsprod6"
  },
  "language_info": {
   "codemirror_mode": {
    "name": "ipython",
    "version": 3
   },
   "file_extension": ".py",
   "mimetype": "text/x-python",
   "name": "python",
   "nbconvert_exporter": "python",
   "pygments_lexer": "ipython3",
   "version": "3.9.7"
  }
 },
 "nbformat": 4,
 "nbformat_minor": 4
}

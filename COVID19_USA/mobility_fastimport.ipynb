{
 "cells": [
  {
   "cell_type": "code",
   "execution_count": 4,
   "metadata": {},
   "outputs": [
    {
     "name": "stderr",
     "output_type": "stream",
     "text": [
      "/usr/local/lib/python3.7/site-packages/scipy/sparse/_index.py:84: SparseEfficiencyWarning: Changing the sparsity structure of a csr_matrix is expensive. lil_matrix is more efficient.\n",
      "  self._set_intXint(row, col, x.flat[0])\n"
     ]
    }
   ],
   "source": [
    "import pandas as pd\n",
    "import glob, os, sys\n",
    "from pathlib import Path\n",
    "import pyarrow.parquet as pq\n",
    "import pyarrow as pa\n",
    "import numpy as np\n",
    "import datetime\n",
    "import multiprocessing\n",
    "import pathlib\n",
    "import time\n",
    "from COVIDScenarioPipeline.SEIR.utils import config\n",
    "import click\n",
    "import matplotlib.pyplot as plt\n",
    "\n",
    "from COVIDScenarioPipeline.SEIR import  setup\n",
    "from COVIDScenarioPipeline.SEIR.utils import config\n",
    "from COVIDScenarioPipeline.SEIR.profile import profile_options\n",
    "\n",
    "#config.set_file(config_path)\n",
    "\n",
    "config.set_file('config_unperturbed_filtering.yml')\n",
    "\n",
    "spatial_config = config[\"spatial_setup\"]\n",
    "spatial_base_path = pathlib.Path(spatial_config[\"base_path\"].get())\n",
    "scenario = 'LockdownUK_firstcase_5x'\n",
    "spatial_setup=setup.SpatialSetup(\n",
    "                            setup_name=spatial_config[\"setup_name\"].get(),\n",
    "                            geodata_file=spatial_base_path / spatial_config[\"geodata\"].get(),\n",
    "                            mobility_file=spatial_base_path / spatial_config[\"mobility\"].get(),\n",
    "                            popnodes_key=spatial_config[\"popnodes\"].get(),\n",
    "                            nodenames_key=spatial_config[\"nodenames\"].get())"
   ]
  },
  {
   "cell_type": "code",
   "execution_count": null,
   "metadata": {},
   "outputs": [],
   "source": [
    "self.mobility = scipy.sparse.csr_matrix((self.nnodes, self.nnodes))\n",
    "for index, row in mobility_data.iterrows():\n",
    "    self.mobility[self.nodenames.index(row['ori']),self.nodenames.index(row['dest'])] = row['amount']\n",
    "    if (self.nodenames.index(row['ori']) == self.nodenames.index(row['dest'])):\n",
    "        raise ValueError(f\"Mobility fluxes with same origin and destination: '{row['ori']}' to {row['dest']} in long form matrix. This is not supported\")"
   ]
  },
  {
   "cell_type": "code",
   "execution_count": 10,
   "metadata": {},
   "outputs": [
    {
     "data": {
      "text/plain": [
       "(165404,)"
      ]
     },
     "execution_count": 10,
     "metadata": {},
     "output_type": "execute_result"
    }
   ],
   "source": [
    "spatial_setup.mobility.indices.shape  # Columns for each data"
   ]
  },
  {
   "cell_type": "code",
   "execution_count": 12,
   "metadata": {},
   "outputs": [
    {
     "data": {
      "text/plain": [
       "(165404,)"
      ]
     },
     "execution_count": 12,
     "metadata": {},
     "output_type": "execute_result"
    }
   ],
   "source": [
    "spatial_setup.mobility.data.shape    # Data"
   ]
  },
  {
   "cell_type": "code",
   "execution_count": 9,
   "metadata": {},
   "outputs": [
    {
     "data": {
      "text/plain": [
       "(3144,)"
      ]
     },
     "execution_count": 9,
     "metadata": {},
     "output_type": "execute_result"
    }
   ],
   "source": [
    "spatial_setup.mobility.indptr.shape  #"
   ]
  },
  {
   "cell_type": "code",
   "execution_count": 13,
   "metadata": {},
   "outputs": [],
   "source": [
    "mobility_data = pd.read_csv(spatial_base_path / spatial_config[\"mobility\"].get(), converters={'ori': lambda x: str(x), 'dest': lambda x: str(x)})"
   ]
  },
  {
   "cell_type": "code",
   "execution_count": 35,
   "metadata": {},
   "outputs": [
    {
     "data": {
      "text/html": [
       "<div>\n",
       "<style scoped>\n",
       "    .dataframe tbody tr th:only-of-type {\n",
       "        vertical-align: middle;\n",
       "    }\n",
       "\n",
       "    .dataframe tbody tr th {\n",
       "        vertical-align: top;\n",
       "    }\n",
       "\n",
       "    .dataframe thead th {\n",
       "        text-align: right;\n",
       "    }\n",
       "</style>\n",
       "<table border=\"1\" class=\"dataframe\">\n",
       "  <thead>\n",
       "    <tr style=\"text-align: right;\">\n",
       "      <th></th>\n",
       "      <th>ori</th>\n",
       "      <th>dest</th>\n",
       "      <th>amount</th>\n",
       "    </tr>\n",
       "  </thead>\n",
       "  <tbody>\n",
       "    <tr>\n",
       "      <th>0</th>\n",
       "      <td>01001</td>\n",
       "      <td>01007</td>\n",
       "      <td>10</td>\n",
       "    </tr>\n",
       "    <tr>\n",
       "      <th>1</th>\n",
       "      <td>01001</td>\n",
       "      <td>01015</td>\n",
       "      <td>10</td>\n",
       "    </tr>\n",
       "    <tr>\n",
       "      <th>2</th>\n",
       "      <td>01001</td>\n",
       "      <td>01021</td>\n",
       "      <td>383</td>\n",
       "    </tr>\n",
       "    <tr>\n",
       "      <th>3</th>\n",
       "      <td>01001</td>\n",
       "      <td>01047</td>\n",
       "      <td>271</td>\n",
       "    </tr>\n",
       "    <tr>\n",
       "      <th>4</th>\n",
       "      <td>01001</td>\n",
       "      <td>01051</td>\n",
       "      <td>1624</td>\n",
       "    </tr>\n",
       "    <tr>\n",
       "      <th>...</th>\n",
       "      <td>...</td>\n",
       "      <td>...</td>\n",
       "      <td>...</td>\n",
       "    </tr>\n",
       "    <tr>\n",
       "      <th>206953</th>\n",
       "      <td>56005</td>\n",
       "      <td>56045</td>\n",
       "      <td>54</td>\n",
       "    </tr>\n",
       "    <tr>\n",
       "      <th>206954</th>\n",
       "      <td>56011</td>\n",
       "      <td>56045</td>\n",
       "      <td>29</td>\n",
       "    </tr>\n",
       "    <tr>\n",
       "      <th>206955</th>\n",
       "      <td>56019</td>\n",
       "      <td>56045</td>\n",
       "      <td>4</td>\n",
       "    </tr>\n",
       "    <tr>\n",
       "      <th>206956</th>\n",
       "      <td>56025</td>\n",
       "      <td>56045</td>\n",
       "      <td>15</td>\n",
       "    </tr>\n",
       "    <tr>\n",
       "      <th>206957</th>\n",
       "      <td>56027</td>\n",
       "      <td>56045</td>\n",
       "      <td>15</td>\n",
       "    </tr>\n",
       "  </tbody>\n",
       "</table>\n",
       "<p>206958 rows × 3 columns</p>\n",
       "</div>"
      ],
      "text/plain": [
       "          ori   dest  amount\n",
       "0       01001  01007      10\n",
       "1       01001  01015      10\n",
       "2       01001  01021     383\n",
       "3       01001  01047     271\n",
       "4       01001  01051    1624\n",
       "...       ...    ...     ...\n",
       "206953  56005  56045      54\n",
       "206954  56011  56045      29\n",
       "206955  56019  56045       4\n",
       "206956  56025  56045      15\n",
       "206957  56027  56045      15\n",
       "\n",
       "[206958 rows x 3 columns]"
      ]
     },
     "execution_count": 35,
     "metadata": {},
     "output_type": "execute_result"
    }
   ],
   "source": [
    "mobility_data"
   ]
  },
  {
   "cell_type": "code",
   "execution_count": 39,
   "metadata": {},
   "outputs": [],
   "source": [
    "name_to_ind = lambda x: spatial_setup.nodenames.index(x)\n",
    "mobility_data['ori'] = mobility_data['ori'].apply(name_to_ind)\n",
    "mobility_data['dest'] = mobility_data['dest'].apply(name_to_ind)"
   ]
  },
  {
   "cell_type": "code",
   "execution_count": 40,
   "metadata": {},
   "outputs": [
    {
     "data": {
      "text/html": [
       "<div>\n",
       "<style scoped>\n",
       "    .dataframe tbody tr th:only-of-type {\n",
       "        vertical-align: middle;\n",
       "    }\n",
       "\n",
       "    .dataframe tbody tr th {\n",
       "        vertical-align: top;\n",
       "    }\n",
       "\n",
       "    .dataframe thead th {\n",
       "        text-align: right;\n",
       "    }\n",
       "</style>\n",
       "<table border=\"1\" class=\"dataframe\">\n",
       "  <thead>\n",
       "    <tr style=\"text-align: right;\">\n",
       "      <th></th>\n",
       "      <th>ori</th>\n",
       "      <th>dest</th>\n",
       "      <th>amount</th>\n",
       "    </tr>\n",
       "  </thead>\n",
       "  <tbody>\n",
       "    <tr>\n",
       "      <th>0</th>\n",
       "      <td>2218</td>\n",
       "      <td>1446</td>\n",
       "      <td>10</td>\n",
       "    </tr>\n",
       "    <tr>\n",
       "      <th>1</th>\n",
       "      <td>2218</td>\n",
       "      <td>2637</td>\n",
       "      <td>10</td>\n",
       "    </tr>\n",
       "    <tr>\n",
       "      <th>2</th>\n",
       "      <td>2218</td>\n",
       "      <td>2046</td>\n",
       "      <td>383</td>\n",
       "    </tr>\n",
       "    <tr>\n",
       "      <th>3</th>\n",
       "      <td>2218</td>\n",
       "      <td>2066</td>\n",
       "      <td>271</td>\n",
       "    </tr>\n",
       "    <tr>\n",
       "      <th>4</th>\n",
       "      <td>2218</td>\n",
       "      <td>2451</td>\n",
       "      <td>1624</td>\n",
       "    </tr>\n",
       "    <tr>\n",
       "      <th>...</th>\n",
       "      <td>...</td>\n",
       "      <td>...</td>\n",
       "      <td>...</td>\n",
       "    </tr>\n",
       "    <tr>\n",
       "      <th>206953</th>\n",
       "      <td>2050</td>\n",
       "      <td>465</td>\n",
       "      <td>54</td>\n",
       "    </tr>\n",
       "    <tr>\n",
       "      <th>206954</th>\n",
       "      <td>436</td>\n",
       "      <td>465</td>\n",
       "      <td>29</td>\n",
       "    </tr>\n",
       "    <tr>\n",
       "      <th>206955</th>\n",
       "      <td>557</td>\n",
       "      <td>465</td>\n",
       "      <td>4</td>\n",
       "    </tr>\n",
       "    <tr>\n",
       "      <th>206956</th>\n",
       "      <td>2417</td>\n",
       "      <td>465</td>\n",
       "      <td>15</td>\n",
       "    </tr>\n",
       "    <tr>\n",
       "      <th>206957</th>\n",
       "      <td>126</td>\n",
       "      <td>465</td>\n",
       "      <td>15</td>\n",
       "    </tr>\n",
       "  </tbody>\n",
       "</table>\n",
       "<p>206958 rows × 3 columns</p>\n",
       "</div>"
      ],
      "text/plain": [
       "         ori  dest  amount\n",
       "0       2218  1446      10\n",
       "1       2218  2637      10\n",
       "2       2218  2046     383\n",
       "3       2218  2066     271\n",
       "4       2218  2451    1624\n",
       "...      ...   ...     ...\n",
       "206953  2050   465      54\n",
       "206954   436   465      29\n",
       "206955   557   465       4\n",
       "206956  2417   465      15\n",
       "206957   126   465      15\n",
       "\n",
       "[206958 rows x 3 columns]"
      ]
     },
     "execution_count": 40,
     "metadata": {},
     "output_type": "execute_result"
    }
   ],
   "source": [
    "mobility_data"
   ]
  }
 ],
 "metadata": {
  "kernelspec": {
   "display_name": "Python 3.7.5 64-bit",
   "language": "python",
   "name": "python37564bitb6a8cbcde2634e63883867447f9de255"
  },
  "language_info": {
   "codemirror_mode": {
    "name": "ipython",
    "version": 3
   },
   "file_extension": ".py",
   "mimetype": "text/x-python",
   "name": "python",
   "nbconvert_exporter": "python",
   "pygments_lexer": "ipython3",
   "version": "3.7.7"
  }
 },
 "nbformat": 4,
 "nbformat_minor": 4
}

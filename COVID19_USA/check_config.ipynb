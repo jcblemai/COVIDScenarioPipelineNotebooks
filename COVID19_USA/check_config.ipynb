{
 "cells": [
  {
   "cell_type": "markdown",
   "metadata": {},
   "source": [
    "* Config check script requirementsFor compatibility with inference branch config files* Are all of the primary sections to run the model present in the config?\n",
    "\n",
    "* Do the primary sections have all of the necessary subsections?\n",
    "\n",
    "* Are there stacked interventions (in a single scenario) that are overlapping in time? --> Warning\n",
    "\n",
    "* Do the fields have the correct tabbing/spacing so that everything is valid?\n",
    "\n",
    "* affected_geoids not effected_geoids field name\n",
    "\n",
    "* Are there interventions that are unused? --> Warning\n",
    "\n",
    "* Can we produce a figure that summarizes the intervention scenarios for easy review?\n",
    "\n",
    "* Can we output a summary table of the outcomes values -- source and outcome name, values that were assigned\n",
    "\n",
    "* Are all of the distributions valid? Do the distributions have valid parameters associated with them?\n",
    "\n",
    "* Do intervention scenario start and end dates go outside of the simulation period? \n",
    "\n",
    "* is the config file a valid yml file? --> Error\n",
    "\n",
    "* are there gaps in coverage (non-consecutive dates) in a stacked intervention -> Warning\n",
    "\n",
    "* are the dates in the file actual dates (e.g., 2020-09-31 format) --> Error\n",
    "\n",
    "* are there priors on unused parameters?\n",
    "\n",
    "* are there hierarchical effects on unused parameters/interventions?\n",
    "\n",
    "* is there inference on parameters that don't contribute to likelihood (e.g., inference on confirmation rate but deaths only likelihood)?\n",
    "\n",
    "* Do interventions increase the value of the parameter that is being affected? --> warning\n",
    "\n",
    "* Gap overlap"
   ]
  },
  {
   "cell_type": "code",
   "execution_count": 1,
   "metadata": {},
   "outputs": [],
   "source": [
    "from SEIR import file_paths\n",
    "from SEIR.utils import config\n",
    "import yamllint\n",
    "\n",
    "\n",
    "config.set_file('example.yml')"
   ]
  },
  {
   "cell_type": "code",
   "execution_count": 2,
   "metadata": {},
   "outputs": [
    {
     "data": {
      "text/plain": [
       "<Configuration: root>"
      ]
     },
     "execution_count": 2,
     "metadata": {},
     "output_type": "execute_result"
    }
   ],
   "source": [
    "config"
   ]
  },
  {
   "cell_type": "code",
   "execution_count": 3,
   "metadata": {},
   "outputs": [
    {
     "data": {
      "text/plain": [
       "'example.yml'"
      ]
     },
     "execution_count": 3,
     "metadata": {},
     "output_type": "execute_result"
    }
   ],
   "source": [
    "yaml.safe_load('example.yml')"
   ]
  },
  {
   "cell_type": "code",
   "execution_count": 15,
   "metadata": {},
   "outputs": [],
   "source": [
    "import jsonschema\n",
    "import datetime\n",
    "import os\n",
    "import yaml\n",
    "\n",
    "# https://stackoverflow.com/questions/52210425/validate-datetime-value-using-python-jsonschema\n",
    "def validate_with_datetime(schema, format_checker, resolver, instance):\n",
    "  BaseVal = jsonschema.Draft7Validator\n",
    "\n",
    "  # Build a new type checker\n",
    "  def is_datetime(checker, inst):\n",
    "    return isinstance(inst, datetime.date)\n",
    "  date_check = BaseVal.TYPE_CHECKER.redefine('date', is_datetime)\n",
    "\n",
    "  # Build a validator with the new type checker\n",
    "  Validator = jsonschema.validators.extend(BaseVal, type_checker=date_check)\n",
    "\n",
    "  # Run the new Validator\n",
    "  Validator(schema=schema, format_checker=format_checker, resolver = resolver).validate(instance)\n",
    "\n",
    "schema = {\n",
    "    \"$schema\": \"http://json-schema.org/draft-07/schema#\",\n",
    "     \"type\" : \"object\",\n",
    "     \"properties\" : {\n",
    "         \"name\" : {\"type\" : \"string\"},\n",
    "         \"start_date\" : {\"type\" : \"date\"},\n",
    "         \"end_date\" : {\"type\" : \"date\"},\n",
    "         \"nsimulations\" : {\"type\":\"number\",\n",
    "                          \"exclusiveMinimum\" : 0},\n",
    "         \"dt\" : {\"type\":\"number\",\n",
    "                \"exclusiveMinimum\" : 0},\n",
    "         \"spatial_setup\":{\"$ref\": \"file:spatial-setup.json\"}\n",
    "     },\n",
    "     \"required\": [ \"name\", \"start_date\", \"end_date\", \"nsimulations\", \"dt\",\n",
    "                 \"spatial_setup\"]\n",
    " }\n"
   ]
  },
  {
   "cell_type": "code",
   "execution_count": 34,
   "metadata": {},
   "outputs": [],
   "source": [
    "with open('example.yml', 'r') as config_stream:\n",
    "    #fdir = dirname(__file__)\n",
    "    fdir = os.getcwd() + '/config-schemas/'\n",
    "    validate_with_datetime(instance=yaml.safe_load(config_stream), \n",
    "                            schema=schema, \n",
    "                            resolver = jsonschema.RefResolver(base_uri='file://' + fdir, \n",
    "                                                              referrer=None),\n",
    "                            format_checker=jsonschema.FormatChecker())"
   ]
  },
  {
   "cell_type": "code",
   "execution_count": 9,
   "metadata": {},
   "outputs": [
    {
     "ename": "NameError",
     "evalue": "name 'validate' is not defined",
     "output_type": "error",
     "traceback": [
      "\u001b[0;31m---------------------------------------------------------------------------\u001b[0m",
      "\u001b[0;31mNameError\u001b[0m                                 Traceback (most recent call last)",
      "\u001b[0;32m<ipython-input-9-61073fe0a26d>\u001b[0m in \u001b[0;36m<module>\u001b[0;34m\u001b[0m\n\u001b[1;32m      1\u001b[0m \u001b[0myaml_file\u001b[0m \u001b[0;34m=\u001b[0m \u001b[0myaml\u001b[0m\u001b[0;34m.\u001b[0m\u001b[0msafe_load\u001b[0m\u001b[0;34m(\u001b[0m\u001b[0mopen\u001b[0m\u001b[0;34m(\u001b[0m\u001b[0;34m'example.yml'\u001b[0m\u001b[0;34m,\u001b[0m \u001b[0;34m'r'\u001b[0m\u001b[0;34m)\u001b[0m\u001b[0;34m)\u001b[0m\u001b[0;34m\u001b[0m\u001b[0;34m\u001b[0m\u001b[0m\n\u001b[0;32m----> 2\u001b[0;31m \u001b[0mvalidate\u001b[0m\u001b[0;34m(\u001b[0m\u001b[0minstance\u001b[0m\u001b[0;34m=\u001b[0m\u001b[0myaml_file\u001b[0m\u001b[0;34m,\u001b[0m \u001b[0mschema\u001b[0m\u001b[0;34m=\u001b[0m\u001b[0mschema\u001b[0m\u001b[0;34m)\u001b[0m\u001b[0;34m\u001b[0m\u001b[0;34m\u001b[0m\u001b[0m\n\u001b[0m",
      "\u001b[0;31mNameError\u001b[0m: name 'validate' is not defined"
     ]
    }
   ],
   "source": [
    "yaml_file = yaml.safe_load(open('example.yml', 'r'))\n",
    "validate(instance=yaml_file, schema=schema)"
   ]
  },
  {
   "cell_type": "code",
   "execution_count": 49,
   "metadata": {},
   "outputs": [
    {
     "data": {
      "text/plain": [
       "True"
      ]
     },
     "execution_count": 49,
     "metadata": {},
     "output_type": "execute_result"
    }
   ],
   "source": [
    "isinstance(datetime.date(2020,10,12), datetime.date)"
   ]
  }
 ],
 "metadata": {
  "kernelspec": {
   "display_name": "Python (covidSP)",
   "language": "python",
   "name": "covidsp"
  },
  "language_info": {
   "codemirror_mode": {
    "name": "ipython",
    "version": 3
   },
   "file_extension": ".py",
   "mimetype": "text/x-python",
   "name": "python",
   "nbconvert_exporter": "python",
   "pygments_lexer": "ipython3",
   "version": "3.7.9"
  }
 },
 "nbformat": 4,
 "nbformat_minor": 4
}

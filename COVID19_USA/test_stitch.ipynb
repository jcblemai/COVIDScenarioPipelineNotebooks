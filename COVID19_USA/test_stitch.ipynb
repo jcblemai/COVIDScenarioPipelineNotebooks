{
 "cells": [
  {
   "cell_type": "code",
   "execution_count": 116,
   "metadata": {},
   "outputs": [
    {
     "name": "stdout",
     "output_type": "stream",
     "text": [
      "Mobility files as matrices are not recommended. Please switch soon to long form csv files.\n"
     ]
    },
    {
     "ename": "ValueError",
     "evalue": "mobility data must have dimensions of length of geodata (3143, 3143). Actual: (3221, 3221)",
     "output_type": "error",
     "traceback": [
      "\u001b[0;31m---------------------------------------------------------------------------\u001b[0m",
      "\u001b[0;31mValueError\u001b[0m                                Traceback (most recent call last)",
      "\u001b[0;32m<ipython-input-116-2fbec357d805>\u001b[0m in \u001b[0;36m<module>\u001b[0;34m\u001b[0m\n\u001b[1;32m     30\u001b[0m                             \u001b[0mmobility_file\u001b[0m\u001b[0;34m=\u001b[0m\u001b[0mspatial_base_path\u001b[0m \u001b[0;34m/\u001b[0m \u001b[0mspatial_config\u001b[0m\u001b[0;34m[\u001b[0m\u001b[0;34m\"mobility\"\u001b[0m\u001b[0;34m]\u001b[0m\u001b[0;34m.\u001b[0m\u001b[0mget\u001b[0m\u001b[0;34m(\u001b[0m\u001b[0;34m)\u001b[0m\u001b[0;34m,\u001b[0m\u001b[0;34m\u001b[0m\u001b[0;34m\u001b[0m\u001b[0m\n\u001b[1;32m     31\u001b[0m                             \u001b[0mpopnodes_key\u001b[0m\u001b[0;34m=\u001b[0m\u001b[0mspatial_config\u001b[0m\u001b[0;34m[\u001b[0m\u001b[0;34m\"popnodes\"\u001b[0m\u001b[0;34m]\u001b[0m\u001b[0;34m.\u001b[0m\u001b[0mget\u001b[0m\u001b[0;34m(\u001b[0m\u001b[0;34m)\u001b[0m\u001b[0;34m,\u001b[0m\u001b[0;34m\u001b[0m\u001b[0;34m\u001b[0m\u001b[0m\n\u001b[0;32m---> 32\u001b[0;31m                             \u001b[0mnodenames_key\u001b[0m\u001b[0;34m=\u001b[0m\u001b[0mspatial_config\u001b[0m\u001b[0;34m[\u001b[0m\u001b[0;34m\"nodenames\"\u001b[0m\u001b[0;34m]\u001b[0m\u001b[0;34m.\u001b[0m\u001b[0mget\u001b[0m\u001b[0;34m(\u001b[0m\u001b[0;34m)\u001b[0m\u001b[0;34m\u001b[0m\u001b[0;34m\u001b[0m\u001b[0m\n\u001b[0m\u001b[1;32m     33\u001b[0m                         ),\n\u001b[1;32m     34\u001b[0m                         \u001b[0mnsim\u001b[0m\u001b[0;34m=\u001b[0m\u001b[0mnsim\u001b[0m\u001b[0;34m,\u001b[0m\u001b[0;34m\u001b[0m\u001b[0;34m\u001b[0m\u001b[0m\n",
      "\u001b[0;32m~/Documents/phd/COVID19_USA/COVIDScenarioPipeline/SEIR/setup.py\u001b[0m in \u001b[0;36m__init__\u001b[0;34m(self, setup_name, geodata_file, mobility_file, popnodes_key, nodenames_key)\u001b[0m\n\u001b[1;32m     41\u001b[0m             \u001b[0;31m# Validate mobility data\u001b[0m\u001b[0;34m\u001b[0m\u001b[0;34m\u001b[0m\u001b[0;34m\u001b[0m\u001b[0m\n\u001b[1;32m     42\u001b[0m             \u001b[0;32mif\u001b[0m \u001b[0mself\u001b[0m\u001b[0;34m.\u001b[0m\u001b[0mmobility\u001b[0m\u001b[0;34m.\u001b[0m\u001b[0mshape\u001b[0m \u001b[0;34m!=\u001b[0m \u001b[0;34m(\u001b[0m\u001b[0mself\u001b[0m\u001b[0;34m.\u001b[0m\u001b[0mnnodes\u001b[0m\u001b[0;34m,\u001b[0m \u001b[0mself\u001b[0m\u001b[0;34m.\u001b[0m\u001b[0mnnodes\u001b[0m\u001b[0;34m)\u001b[0m\u001b[0;34m:\u001b[0m\u001b[0;34m\u001b[0m\u001b[0;34m\u001b[0m\u001b[0m\n\u001b[0;32m---> 43\u001b[0;31m                 \u001b[0;32mraise\u001b[0m \u001b[0mValueError\u001b[0m\u001b[0;34m(\u001b[0m\u001b[0;34mf\"mobility data must have dimensions of length of geodata ({self.nnodes}, {self.nnodes}). Actual: {self.mobility.shape}\"\u001b[0m\u001b[0;34m)\u001b[0m\u001b[0;34m\u001b[0m\u001b[0;34m\u001b[0m\u001b[0m\n\u001b[0m\u001b[1;32m     44\u001b[0m \u001b[0;34m\u001b[0m\u001b[0m\n\u001b[1;32m     45\u001b[0m         \u001b[0;32melif\u001b[0m \u001b[0;34m(\u001b[0m\u001b[0;34m'.csv'\u001b[0m \u001b[0;32min\u001b[0m \u001b[0mstr\u001b[0m\u001b[0;34m(\u001b[0m\u001b[0mmobility_file\u001b[0m\u001b[0;34m)\u001b[0m\u001b[0;34m)\u001b[0m\u001b[0;34m:\u001b[0m\u001b[0;34m\u001b[0m\u001b[0;34m\u001b[0m\u001b[0m\n",
      "\u001b[0;31mValueError\u001b[0m: mobility data must have dimensions of length of geodata (3143, 3143). Actual: (3221, 3221)"
     ]
    }
   ],
   "source": [
    "import multiprocessing\n",
    "import pathlib\n",
    "import time\n",
    "\n",
    "import click\n",
    "\n",
    "from COVIDScenarioPipeline.SEIR import seir, setup\n",
    "from COVIDScenarioPipeline.SEIR.utils import config\n",
    "from COVIDScenarioPipeline.SEIR.profile import profile_options\n",
    "\n",
    "#config.set_file(config_path)\n",
    "\n",
    "config.set_file('config.yml')\n",
    "\n",
    "spatial_config = config[\"spatial_setup\"]\n",
    "spatial_base_path = pathlib.Path(spatial_config[\"base_path\"].get())\n",
    "scenario = 'LockdownUK_firstcase_5x'\n",
    "nsim = 10\n",
    "interactive = False\n",
    "write_csv = False\n",
    "write_parquet = True\n",
    "index = 1\n",
    "\n",
    "\n",
    "\n",
    "s = setup.Setup(setup_name=config[\"name\"].get() + \"_\" + str(scenario),\n",
    "                        spatial_setup=setup.SpatialSetup(\n",
    "                            setup_name=spatial_config[\"setup_name\"].get(),\n",
    "                            geodata_file=spatial_base_path / spatial_config[\"geodata\"].get(),\n",
    "                            mobility_file=spatial_base_path / spatial_config[\"mobility\"].get(),\n",
    "                            popnodes_key=spatial_config[\"popnodes\"].get(),\n",
    "                            nodenames_key=spatial_config[\"nodenames\"].get()\n",
    "                        ),\n",
    "                        nsim=nsim,\n",
    "                        npi_scenario=scenario,\n",
    "                        npi_config=config[\"interventions\"][\"settings\"][scenario],\n",
    "                        seeding_config=config[\"seeding\"],\n",
    "                        ti=config[\"start_date\"].as_date(),\n",
    "                        tf=config[\"end_date\"].as_date(),\n",
    "                        interactive=interactive,\n",
    "                        write_csv=write_csv,\n",
    "                        write_parquet=write_parquet,\n",
    "                        dt=config[\"dt\"].as_number(),\n",
    "                        first_sim_index = index)\n",
    "\n",
    "\n",
    "print(f\"\"\"\n",
    ">> Scenario: {scenario}\n",
    ">> Starting {s.nsim} model runs beginning from {s.first_sim_index}\n",
    ">> Setup *** {s.setup_name} *** from {s.ti} to {s.tf}\n",
    ">> writing to folder : {s.datadir}{s.setup_name}\n",
    "    \"\"\")\n",
    "\n",
    "onerun_SEIR_loadID = lambda sim_id2write, s, sim_id2load: seir.onerun_SEIR_loadID(int(sim_id2write), s, int(sim_id2load))\n",
    "onerun_SEIR = lambda sim_id2write, s: seir.onerun_SEIR(int(sim_id2write), s)"
   ]
  },
  {
   "cell_type": "code",
   "execution_count": 3,
   "metadata": {},
   "outputs": [],
   "source": []
  },
  {
   "cell_type": "code",
   "execution_count": 4,
   "metadata": {},
   "outputs": [
    {
     "name": "stdout",
     "output_type": "stream",
     "text": [
      "loading minimal_None ... DONE\n"
     ]
    }
   ],
   "source": [
    "import pandas as pd\n",
    "import glob, os, sys\n",
    "from pathlib import Path\n",
    "import pyarrow.parquet as pq\n",
    "import pyarrow as pa\n",
    "import numpy as np\n",
    "import datetime\n",
    "import multiprocessing\n",
    "import pathlib\n",
    "import time\n",
    "from COVIDScenarioPipeline.SEIR.utils import config\n",
    "import click\n",
    "\n",
    "\n",
    "config.set_file('config.yml')\n",
    "\n",
    "spatial_config = config[\"spatial_setup\"]\n",
    "spatial_base_path = pathlib.Path(spatial_config[\"base_path\"].get())\n",
    "geodata_file=spatial_base_path / spatial_config[\"geodata\"].get()\n",
    "nodenames_key=spatial_config[\"nodenames\"].get()\n",
    "geodata = pd.read_csv(geodata_file, converters={nodenames_key: lambda x: str(x)})\n",
    "\n",
    "folder = [x for x in Path('model_output/').glob('*') if not x.is_file()]\n",
    "\n",
    "for fold in folder:\n",
    "        print(f'loading {str(fold)[13:]} ... ', end = '')\n",
    "        files_loaded = 0\n",
    "        for filename in Path(str(fold)).rglob('*.csv'):\n",
    "            sim = pd.read_csv(filename)\n",
    "            c = pd.concat([past_dynamics, sim])\n",
    "            c.to_csv(filename)\n",
    "\n",
    "        for filename in Path(str(fold)).rglob('*.parquet'):\n",
    "            sim = pq.read_table(filename).to_pandas()\n",
    "            #sim = sim.set_index('time', drop=True)\n",
    "            c = pd.concat([past_dynamics, sim], ignore_index = True)\n",
    "            #c['time'] = c.index\n",
    "            only_in_sim = list(set(sim.columns) - set(past_dynamics.columns))\n",
    "            only_in_pastdyn = list(set(past_dynamics.columns)- set(sim.columns))\n",
    "            c.drop(only_in_pastdyn, inplace=True, axis=1)\n",
    "            c.loc[(c['time'] <= max(past_dynamics['time'])) & (c['comp'] != 'S'), only_in_sim] = 0\n",
    "            pop_ois = []\n",
    "            for nd in only_in_sim:\n",
    "                pop_ois.append(float(geodata[geodata['geoid'] == nd].pop2010))\n",
    "            c.loc[(c['time'] <= max(past_dynamics['time'])) & (c['comp'] == 'S'), only_in_sim] = pop_ois\n",
    "            pa_df = pa.Table.from_pandas(c, preserve_index = False)\n",
    "            pa.parquet.write_table(pa_df,filename)\n",
    "        print('DONE')"
   ]
  },
  {
   "cell_type": "code",
   "execution_count": 62,
   "metadata": {},
   "outputs": [],
   "source": [
    "            sim = pq.read_table('model_output/USA_Lockdown19181918_sandia/000000001.seir.parquet').to_pandas()\n",
    "            #sim = sim.set_index('time', drop=True)\n",
    "            c = pd.concat([past_dynamics, sim], ignore_index = True)\n",
    "            #c['time'] = c.index\n",
    "            only_in_sim = list(set(sim.columns) - set(past_dynamics.columns))\n",
    "            only_in_pastdyn = list(set(past_dynamics.columns)- set(sim.columns))\n",
    "            c.drop(only_in_pastdyn, inplace=True, axis=1)\n",
    "            c.loc[(c['time'] <= max(past_dynamics['time'])) & (c['comp'] != 'S'), only_in_sim] = 0\n",
    "            pop_ois = []\n",
    "            for nd in only_in_sim:\n",
    "                pop_ois.append(float(geodata[geodata['geoid'] == nd].pop2010))\n",
    "            c.loc[(c['time'] <= max(past_dynamics['time'])) & (c['comp'] == 'S'), only_in_sim] = pop_ois"
   ]
  },
  {
   "cell_type": "code",
   "execution_count": 88,
   "metadata": {},
   "outputs": [],
   "source": [
    "past_dynamics = pd.read_csv('data/past_dynamics.csv', parse_dates=['time'])\n",
    "change_point = max(past_dynamics['time'])\n",
    "\n",
    "c = past_dynamics.copy()\n",
    "\n",
    "old_row = c[(c['time'] == min(c['time'])) & (c['comp'].isin(['I1','I2','I3','R']))].sum()\n",
    "\n",
    "for t in c['time'].unique():\n",
    "        new_row = c[(c['time'] == t) & (c['comp'].isin(['I1','I2','I3','R']))].sum()\n",
    "        diffI_row = new_row.drop(['comp']) - old_row.drop(['comp'])\n",
    "        \n",
    "        diffI_row['comp'] = 'diffI'\n",
    "        diffI_row['time'] = t\n",
    "        c = c.append(diffI_row, ignore_index=True)\n",
    "        old_row = new_row"
   ]
  },
  {
   "cell_type": "code",
   "execution_count": 55,
   "metadata": {},
   "outputs": [],
   "source": []
  },
  {
   "cell_type": "code",
   "execution_count": 89,
   "metadata": {},
   "outputs": [],
   "source": [
    "c.sort_values(['time','comp'], ignore_index=True).round().to_csv('data/past_dynamics.csv')"
   ]
  },
  {
   "cell_type": "code",
   "execution_count": 87,
   "metadata": {},
   "outputs": [
    {
     "ename": "TypeError",
     "evalue": "ufunc 'rint' not supported for the input types, and the inputs could not be safely coerced to any supported types according to the casting rule ''safe''",
     "output_type": "error",
     "traceback": [
      "\u001b[0;31m---------------------------------------------------------------------------\u001b[0m",
      "\u001b[0;31mTypeError\u001b[0m                                 Traceback (most recent call last)",
      "\u001b[0;32m<ipython-input-87-92a8d98867f4>\u001b[0m in \u001b[0;36m<module>\u001b[0;34m\u001b[0m\n\u001b[0;32m----> 1\u001b[0;31m \u001b[0mc\u001b[0m\u001b[0;34m.\u001b[0m\u001b[0msort_values\u001b[0m\u001b[0;34m(\u001b[0m\u001b[0;34m[\u001b[0m\u001b[0;34m'time'\u001b[0m\u001b[0;34m,\u001b[0m\u001b[0;34m'comp'\u001b[0m\u001b[0;34m]\u001b[0m\u001b[0;34m,\u001b[0m \u001b[0mignore_index\u001b[0m\u001b[0;34m=\u001b[0m\u001b[0;32mTrue\u001b[0m\u001b[0;34m)\u001b[0m\u001b[0;34m[\u001b[0m\u001b[0;34m'time'\u001b[0m\u001b[0;34m]\u001b[0m\u001b[0;34m.\u001b[0m\u001b[0mround\u001b[0m\u001b[0;34m(\u001b[0m\u001b[0;34m)\u001b[0m\u001b[0;34m\u001b[0m\u001b[0;34m\u001b[0m\u001b[0m\n\u001b[0m",
      "\u001b[0;32m/usr/local/lib/python3.7/site-packages/pandas/core/series.py\u001b[0m in \u001b[0;36mround\u001b[0;34m(self, decimals, *args, **kwargs)\u001b[0m\n\u001b[1;32m   2143\u001b[0m         \"\"\"\n\u001b[1;32m   2144\u001b[0m         \u001b[0mnv\u001b[0m\u001b[0;34m.\u001b[0m\u001b[0mvalidate_round\u001b[0m\u001b[0;34m(\u001b[0m\u001b[0margs\u001b[0m\u001b[0;34m,\u001b[0m \u001b[0mkwargs\u001b[0m\u001b[0;34m)\u001b[0m\u001b[0;34m\u001b[0m\u001b[0;34m\u001b[0m\u001b[0m\n\u001b[0;32m-> 2145\u001b[0;31m         \u001b[0mresult\u001b[0m \u001b[0;34m=\u001b[0m \u001b[0mcom\u001b[0m\u001b[0;34m.\u001b[0m\u001b[0mvalues_from_object\u001b[0m\u001b[0;34m(\u001b[0m\u001b[0mself\u001b[0m\u001b[0;34m)\u001b[0m\u001b[0;34m.\u001b[0m\u001b[0mround\u001b[0m\u001b[0;34m(\u001b[0m\u001b[0mdecimals\u001b[0m\u001b[0;34m)\u001b[0m\u001b[0;34m\u001b[0m\u001b[0;34m\u001b[0m\u001b[0m\n\u001b[0m\u001b[1;32m   2146\u001b[0m         \u001b[0mresult\u001b[0m \u001b[0;34m=\u001b[0m \u001b[0mself\u001b[0m\u001b[0;34m.\u001b[0m\u001b[0m_constructor\u001b[0m\u001b[0;34m(\u001b[0m\u001b[0mresult\u001b[0m\u001b[0;34m,\u001b[0m \u001b[0mindex\u001b[0m\u001b[0;34m=\u001b[0m\u001b[0mself\u001b[0m\u001b[0;34m.\u001b[0m\u001b[0mindex\u001b[0m\u001b[0;34m)\u001b[0m\u001b[0;34m.\u001b[0m\u001b[0m__finalize__\u001b[0m\u001b[0;34m(\u001b[0m\u001b[0mself\u001b[0m\u001b[0;34m)\u001b[0m\u001b[0;34m\u001b[0m\u001b[0;34m\u001b[0m\u001b[0m\n\u001b[1;32m   2147\u001b[0m \u001b[0;34m\u001b[0m\u001b[0m\n",
      "\u001b[0;31mTypeError\u001b[0m: ufunc 'rint' not supported for the input types, and the inputs could not be safely coerced to any supported types according to the casting rule ''safe''"
     ]
    }
   ],
   "source": []
  },
  {
   "cell_type": "code",
   "execution_count": null,
   "metadata": {},
   "outputs": [],
   "source": []
  },
  {
   "cell_type": "code",
   "execution_count": null,
   "metadata": {},
   "outputs": [],
   "source": []
  },
  {
   "cell_type": "code",
   "execution_count": 148,
   "metadata": {},
   "outputs": [
    {
     "data": {
      "text/plain": [
       "0"
      ]
     },
     "execution_count": 148,
     "metadata": {},
     "output_type": "execute_result"
    }
   ],
   "source": [
    "c.isna().sum().max()"
   ]
  },
  {
   "cell_type": "code",
   "execution_count": 1,
   "metadata": {},
   "outputs": [
    {
     "name": "stdout",
     "output_type": "stream",
     "text": [
      "loading USA_LockdownUK1918_sandia ... DONE\n"
     ]
    }
   ],
   "source": [
    "import pandas as pd\n",
    "import glob, os, sys\n",
    "from pathlib import Path\n",
    "import pyarrow.parquet as pq\n",
    "import pyarrow as pa\n",
    "import numpy as np\n",
    "import datetime\n",
    "import multiprocessing\n",
    "import pathlib\n",
    "import time\n",
    "from COVIDScenarioPipeline.SEIR.utils import config\n",
    "import click\n",
    "\n",
    "\n",
    "config.set_file('config.yml')\n",
    "\n",
    "spatial_config = config[\"spatial_setup\"]\n",
    "spatial_base_path = pathlib.Path(spatial_config[\"base_path\"].get())\n",
    "geodata_file=spatial_base_path / spatial_config[\"geodata\"].get()\n",
    "nodenames_key=spatial_config[\"nodenames\"].get()\n",
    "geodata = pd.read_csv(geodata_file, converters={nodenames_key: lambda x: str(x)})\n",
    "\n",
    "folder = [x for x in Path('model_output/').glob('*') if not x.is_file()]\n",
    "\n",
    "for fold in folder:\n",
    "        print(f'loading {str(fold)[13:]} ... ', end = '')\n",
    "        files_loaded = 0\n",
    "        for filename in Path(str(fold)).rglob('*.csv'):\n",
    "            sim = pd.read_csv(filename)\n",
    "            c = pd.concat([past_dynamics, sim])\n",
    "            c.to_csv(filename)\n",
    "\n",
    "        for filename in Path(str(fold)).rglob('*.parquet'):\n",
    "            sim = pq.read_table(filename).to_pandas()\n",
    "\n",
    "        print('DONE')"
   ]
  },
  {
   "cell_type": "code",
   "execution_count": 8,
   "metadata": {},
   "outputs": [],
   "source": [
    "sim.set_index('time', drop=True, inplace=True)\n"
   ]
  },
  {
   "cell_type": "code",
   "execution_count": 15,
   "metadata": {},
   "outputs": [
    {
     "data": {
      "text/plain": [
       "(0, 20)"
      ]
     },
     "execution_count": 15,
     "metadata": {},
     "output_type": "execute_result"
    },
    {
     "data": {
      "image/png": "[encoded data removed]",
      "text/plain": [
       "<Figure size 432x288 with 1 Axes>"
      ]
     },
     "metadata": {
      "needs_background": "light"
     },
     "output_type": "display_data"
    }
   ],
   "source": [
    "ax = sim[sim['comp'] == 'diffI']['01001'].plot()\n",
    "ax.set_ylim(0,20)"
   ]
  },
  {
   "cell_type": "code",
   "execution_count": 29,
   "metadata": {},
   "outputs": [
    {
     "data": {
      "text/plain": [
       "time\n",
       "2020-03-15     0.000000\n",
       "2020-03-16     0.000000\n",
       "2020-03-17     0.000000\n",
       "2020-03-18     0.000000\n",
       "2020-03-19     1.923077\n",
       "2020-03-20     7.322485\n",
       "2020-03-21     9.760469\n",
       "2020-03-22     7.883456\n",
       "2020-03-23     6.367406\n",
       "2020-03-24     5.142905\n",
       "2020-03-25     6.076962\n",
       "2020-03-26     4.908315\n",
       "2020-03-27     9.733639\n",
       "2020-03-28     7.861786\n",
       "2020-03-29    10.196058\n",
       "2020-03-30     8.235277\n",
       "2020-03-31     6.651570\n",
       "2020-04-01     5.372422\n",
       "2020-04-02     4.339264\n",
       "2020-04-03     3.504790\n",
       "2020-04-04    12.446177\n",
       "2020-04-05    10.052681\n",
       "2020-04-06    11.965627\n",
       "2020-04-07     9.664545\n",
       "2020-04-08     7.805979\n",
       "2020-04-09    13.997137\n",
       "2020-04-10    15.151533\n",
       "2020-04-11    12.237777\n",
       "2020-04-12     9.884358\n",
       "2020-04-13     7.983520\n",
       "2020-04-14    10.294382\n",
       "2020-04-15    10.237770\n",
       "2020-04-16    12.115122\n",
       "2020-04-17    13.631445\n",
       "2020-04-18    12.933090\n",
       "2020-04-19     0.000000\n",
       "2020-04-20    11.000000\n",
       "2020-04-21    14.000000\n",
       "2020-04-22    18.000000\n",
       "2020-04-23    11.000000\n",
       "Name: 01001, dtype: float64"
      ]
     },
     "execution_count": 29,
     "metadata": {},
     "output_type": "execute_result"
    }
   ],
   "source": [
    "sim[sim['comp'] == 'diffI']['01001'].iloc[60:100]"
   ]
  },
  {
   "cell_type": "code",
   "execution_count": 115,
   "metadata": {},
   "outputs": [],
   "source": [
    "sim = pq.read_table('model_output/USA_LockdownUK1918_sandia/000000001.seir.parquet').to_pandas()"
   ]
  },
  {
   "cell_type": "code",
   "execution_count": 116,
   "metadata": {},
   "outputs": [
    {
     "data": {
      "text/plain": [
       "<matplotlib.axes._subplots.AxesSubplot at 0x133410f50>"
      ]
     },
     "execution_count": 116,
     "metadata": {},
     "output_type": "execute_result"
    },
    {
     "data": {
      "image/png": "[encoded data removed]",
      "text/plain": [
       "<Figure size 432x288 with 1 Axes>"
      ]
     },
     "metadata": {
      "needs_background": "light"
     },
     "output_type": "display_data"
    }
   ],
   "source": [
    "sim[sim['comp'] == 'diffI'].set_index('time', drop=True)['01001'].plot()"
   ]
  },
  {
   "cell_type": "code",
   "execution_count": null,
   "metadata": {},
   "outputs": [],
   "source": []
  },
  {
   "cell_type": "code",
   "execution_count": null,
   "metadata": {},
   "outputs": [],
   "source": []
  },
  {
   "cell_type": "code",
   "execution_count": 117,
   "metadata": {},
   "outputs": [
    {
     "data": {
      "text/plain": [
       "<matplotlib.axes._subplots.AxesSubplot at 0x15011f450>"
      ]
     },
     "execution_count": 117,
     "metadata": {},
     "output_type": "execute_result"
    },
    {
     "data": {
      "image/png": "[encoded data removed]",
      "text/plain": [
       "<Figure size 432x288 with 1 Axes>"
      ]
     },
     "metadata": {
      "needs_background": "light"
     },
     "output_type": "display_data"
    }
   ],
   "source": [
    "sim['time'].plot()"
   ]
  },
  {
   "cell_type": "code",
   "execution_count": 71,
   "metadata": {},
   "outputs": [
    {
     "name": "stdout",
     "output_type": "stream",
     "text": [
      "loading USA_LockdownUK1918_sandia ... DONE\n"
     ]
    }
   ],
   "source": [
    "config.set_file('config.yml')\n",
    "\n",
    "spatial_config = config[\"spatial_setup\"]\n",
    "spatial_base_path = pathlib.Path(spatial_config[\"base_path\"].get())\n",
    "geodata_file=spatial_base_path / spatial_config[\"geodata\"].get()\n",
    "nodenames_key=spatial_config[\"nodenames\"].get()\n",
    "geodata = pd.read_csv(geodata_file, converters={nodenames_key: lambda x: str(x)})\n",
    "past_dynamics = pd.read_csv('data/past_dynamics.csv', parse_dates=['time'])\n",
    "#past_dynamics = past_dynamics[past_dynamics['time'] != max(past_dynamics['time'])]\n",
    "folder = [x for x in Path('model_output/').glob('*') if not x.is_file()]\n",
    "\n",
    "for fold in folder:\n",
    "        print(f'loading {str(fold)[13:]} ... ', end = '')\n",
    "        files_loaded = 0\n",
    "        for filename in Path(str(fold)).rglob('*.csv'):\n",
    "            sim = pd.read_csv(filename)\n",
    "            c = pd.concat([past_dynamics, sim])\n",
    "            c.to_csv(filename)\n",
    "\n",
    "        for filename in Path(str(fold)).rglob('*.parquet'):\n",
    "            sim = pq.read_table(filename).to_pandas()\n",
    "            sim = sim[sim['time'] != max(past_dynamics['time'])]\n",
    "            #sim = sim.set_index('time', drop=True)\n",
    "            c = pd.concat([past_dynamics, sim], ignore_index = True)\n",
    "            #c['time'] = c.index\n",
    "            only_in_sim = list(set(sim.columns) - set(past_dynamics.columns))\n",
    "            only_in_pastdyn = list(set(past_dynamics.columns)- set(sim.columns))\n",
    "            c.drop(only_in_pastdyn, inplace=True, axis=1)\n",
    "            c.loc[(c['time'] <= max(past_dynamics['time'])) & (c['comp'] != 'S'), only_in_sim] = 0\n",
    "            pop_ois = []\n",
    "            for nd in only_in_sim:\n",
    "                pop_ois.append(float(geodata[geodata['geoid'] == nd].pop2010))\n",
    "            c.loc[(c['time'] <= max(past_dynamics['time'])) & (c['comp'] == 'S'), only_in_sim] = pop_ois\n",
    "            pa_df = pa.Table.from_pandas(c.round(), preserve_index = False)\n",
    "            pa.parquet.write_table(pa_df,filename)\n",
    "        print('DONE')"
   ]
  },
  {
   "cell_type": "code",
   "execution_count": 90,
   "metadata": {},
   "outputs": [
    {
     "data": {
      "text/html": [
       "<div>\n",
       "<style scoped>\n",
       "    .dataframe tbody tr th:only-of-type {\n",
       "        vertical-align: middle;\n",
       "    }\n",
       "\n",
       "    .dataframe tbody tr th {\n",
       "        vertical-align: top;\n",
       "    }\n",
       "\n",
       "    .dataframe thead th {\n",
       "        text-align: right;\n",
       "    }\n",
       "</style>\n",
       "<table border=\"1\" class=\"dataframe\">\n",
       "  <thead>\n",
       "    <tr style=\"text-align: right;\">\n",
       "      <th></th>\n",
       "      <th>comp</th>\n",
       "      <th>01001</th>\n",
       "      <th>01003</th>\n",
       "      <th>01005</th>\n",
       "      <th>01007</th>\n",
       "      <th>01009</th>\n",
       "      <th>01011</th>\n",
       "      <th>01013</th>\n",
       "      <th>01015</th>\n",
       "      <th>01017</th>\n",
       "      <th>...</th>\n",
       "      <th>56029</th>\n",
       "      <th>56031</th>\n",
       "      <th>56033</th>\n",
       "      <th>56035</th>\n",
       "      <th>56037</th>\n",
       "      <th>56039</th>\n",
       "      <th>56041</th>\n",
       "      <th>56043</th>\n",
       "      <th>56045</th>\n",
       "      <th>time</th>\n",
       "    </tr>\n",
       "  </thead>\n",
       "  <tbody>\n",
       "    <tr>\n",
       "      <th>0</th>\n",
       "      <td>S</td>\n",
       "      <td>54571.000000</td>\n",
       "      <td>182265.000000</td>\n",
       "      <td>27457.000000</td>\n",
       "      <td>22915.000000</td>\n",
       "      <td>57322.000000</td>\n",
       "      <td>10914.000000</td>\n",
       "      <td>20947.000000</td>\n",
       "      <td>118572.000000</td>\n",
       "      <td>34215.000000</td>\n",
       "      <td>...</td>\n",
       "      <td>28205.000000</td>\n",
       "      <td>8667.0</td>\n",
       "      <td>29116.000000</td>\n",
       "      <td>10247.000000</td>\n",
       "      <td>43806.000000</td>\n",
       "      <td>21294.000000</td>\n",
       "      <td>21118.000000</td>\n",
       "      <td>8533.000000</td>\n",
       "      <td>7208.0</td>\n",
       "      <td>2020-01-15</td>\n",
       "    </tr>\n",
       "    <tr>\n",
       "      <th>1</th>\n",
       "      <td>E</td>\n",
       "      <td>0.000000</td>\n",
       "      <td>0.000000</td>\n",
       "      <td>0.000000</td>\n",
       "      <td>0.000000</td>\n",
       "      <td>0.000000</td>\n",
       "      <td>0.000000</td>\n",
       "      <td>0.000000</td>\n",
       "      <td>0.000000</td>\n",
       "      <td>0.000000</td>\n",
       "      <td>...</td>\n",
       "      <td>0.000000</td>\n",
       "      <td>0.0</td>\n",
       "      <td>0.000000</td>\n",
       "      <td>0.000000</td>\n",
       "      <td>0.000000</td>\n",
       "      <td>0.000000</td>\n",
       "      <td>0.000000</td>\n",
       "      <td>0.000000</td>\n",
       "      <td>0.0</td>\n",
       "      <td>2020-01-15</td>\n",
       "    </tr>\n",
       "    <tr>\n",
       "      <th>2</th>\n",
       "      <td>I1</td>\n",
       "      <td>0.000000</td>\n",
       "      <td>0.000000</td>\n",
       "      <td>0.000000</td>\n",
       "      <td>0.000000</td>\n",
       "      <td>0.000000</td>\n",
       "      <td>0.000000</td>\n",
       "      <td>0.000000</td>\n",
       "      <td>0.000000</td>\n",
       "      <td>0.000000</td>\n",
       "      <td>...</td>\n",
       "      <td>0.000000</td>\n",
       "      <td>0.0</td>\n",
       "      <td>0.000000</td>\n",
       "      <td>0.000000</td>\n",
       "      <td>0.000000</td>\n",
       "      <td>0.000000</td>\n",
       "      <td>0.000000</td>\n",
       "      <td>0.000000</td>\n",
       "      <td>0.0</td>\n",
       "      <td>2020-01-15</td>\n",
       "    </tr>\n",
       "    <tr>\n",
       "      <th>3</th>\n",
       "      <td>I2</td>\n",
       "      <td>0.000000</td>\n",
       "      <td>0.000000</td>\n",
       "      <td>0.000000</td>\n",
       "      <td>0.000000</td>\n",
       "      <td>0.000000</td>\n",
       "      <td>0.000000</td>\n",
       "      <td>0.000000</td>\n",
       "      <td>0.000000</td>\n",
       "      <td>0.000000</td>\n",
       "      <td>...</td>\n",
       "      <td>0.000000</td>\n",
       "      <td>0.0</td>\n",
       "      <td>0.000000</td>\n",
       "      <td>0.000000</td>\n",
       "      <td>0.000000</td>\n",
       "      <td>0.000000</td>\n",
       "      <td>0.000000</td>\n",
       "      <td>0.000000</td>\n",
       "      <td>0.0</td>\n",
       "      <td>2020-01-15</td>\n",
       "    </tr>\n",
       "    <tr>\n",
       "      <th>4</th>\n",
       "      <td>I3</td>\n",
       "      <td>0.000000</td>\n",
       "      <td>0.000000</td>\n",
       "      <td>0.000000</td>\n",
       "      <td>0.000000</td>\n",
       "      <td>0.000000</td>\n",
       "      <td>0.000000</td>\n",
       "      <td>0.000000</td>\n",
       "      <td>0.000000</td>\n",
       "      <td>0.000000</td>\n",
       "      <td>...</td>\n",
       "      <td>0.000000</td>\n",
       "      <td>0.0</td>\n",
       "      <td>0.000000</td>\n",
       "      <td>0.000000</td>\n",
       "      <td>0.000000</td>\n",
       "      <td>0.000000</td>\n",
       "      <td>0.000000</td>\n",
       "      <td>0.000000</td>\n",
       "      <td>0.0</td>\n",
       "      <td>2020-01-15</td>\n",
       "    </tr>\n",
       "    <tr>\n",
       "      <th>...</th>\n",
       "      <td>...</td>\n",
       "      <td>...</td>\n",
       "      <td>...</td>\n",
       "      <td>...</td>\n",
       "      <td>...</td>\n",
       "      <td>...</td>\n",
       "      <td>...</td>\n",
       "      <td>...</td>\n",
       "      <td>...</td>\n",
       "      <td>...</td>\n",
       "      <td>...</td>\n",
       "      <td>...</td>\n",
       "      <td>...</td>\n",
       "      <td>...</td>\n",
       "      <td>...</td>\n",
       "      <td>...</td>\n",
       "      <td>...</td>\n",
       "      <td>...</td>\n",
       "      <td>...</td>\n",
       "      <td>...</td>\n",
       "      <td>...</td>\n",
       "    </tr>\n",
       "    <tr>\n",
       "      <th>667</th>\n",
       "      <td>diffI</td>\n",
       "      <td>10.237770</td>\n",
       "      <td>48.989025</td>\n",
       "      <td>16.337248</td>\n",
       "      <td>22.177786</td>\n",
       "      <td>9.445900</td>\n",
       "      <td>7.381234</td>\n",
       "      <td>7.461894</td>\n",
       "      <td>36.611201</td>\n",
       "      <td>83.158343</td>\n",
       "      <td>...</td>\n",
       "      <td>0.001350</td>\n",
       "      <td>0.0</td>\n",
       "      <td>0.267707</td>\n",
       "      <td>0.014147</td>\n",
       "      <td>2.072607</td>\n",
       "      <td>9.719141</td>\n",
       "      <td>2.411055</td>\n",
       "      <td>0.328521</td>\n",
       "      <td>0.0</td>\n",
       "      <td>2020-04-15</td>\n",
       "    </tr>\n",
       "    <tr>\n",
       "      <th>668</th>\n",
       "      <td>diffI</td>\n",
       "      <td>12.115122</td>\n",
       "      <td>51.106521</td>\n",
       "      <td>24.733931</td>\n",
       "      <td>17.912827</td>\n",
       "      <td>15.321688</td>\n",
       "      <td>5.961766</td>\n",
       "      <td>7.949991</td>\n",
       "      <td>35.339817</td>\n",
       "      <td>71.012508</td>\n",
       "      <td>...</td>\n",
       "      <td>0.001090</td>\n",
       "      <td>0.0</td>\n",
       "      <td>0.216225</td>\n",
       "      <td>0.011426</td>\n",
       "      <td>1.674029</td>\n",
       "      <td>7.850076</td>\n",
       "      <td>1.947391</td>\n",
       "      <td>0.265344</td>\n",
       "      <td>0.0</td>\n",
       "      <td>2020-04-16</td>\n",
       "    </tr>\n",
       "    <tr>\n",
       "      <th>669</th>\n",
       "      <td>diffI</td>\n",
       "      <td>13.631445</td>\n",
       "      <td>58.586036</td>\n",
       "      <td>21.900483</td>\n",
       "      <td>16.391130</td>\n",
       "      <td>18.144441</td>\n",
       "      <td>4.815273</td>\n",
       "      <td>10.267301</td>\n",
       "      <td>32.389852</td>\n",
       "      <td>78.510102</td>\n",
       "      <td>...</td>\n",
       "      <td>0.000881</td>\n",
       "      <td>0.0</td>\n",
       "      <td>0.174643</td>\n",
       "      <td>0.009229</td>\n",
       "      <td>1.352100</td>\n",
       "      <td>8.263523</td>\n",
       "      <td>1.572893</td>\n",
       "      <td>0.214316</td>\n",
       "      <td>0.0</td>\n",
       "      <td>2020-04-17</td>\n",
       "    </tr>\n",
       "    <tr>\n",
       "      <th>670</th>\n",
       "      <td>diffI</td>\n",
       "      <td>12.933090</td>\n",
       "      <td>68.473337</td>\n",
       "      <td>19.611928</td>\n",
       "      <td>13.238990</td>\n",
       "      <td>18.501279</td>\n",
       "      <td>5.812336</td>\n",
       "      <td>12.138974</td>\n",
       "      <td>31.930265</td>\n",
       "      <td>73.027390</td>\n",
       "      <td>...</td>\n",
       "      <td>0.000711</td>\n",
       "      <td>0.0</td>\n",
       "      <td>0.141058</td>\n",
       "      <td>0.007454</td>\n",
       "      <td>1.092081</td>\n",
       "      <td>6.674384</td>\n",
       "      <td>1.270413</td>\n",
       "      <td>0.173102</td>\n",
       "      <td>0.0</td>\n",
       "      <td>2020-04-18</td>\n",
       "    </tr>\n",
       "    <tr>\n",
       "      <th>671</th>\n",
       "      <td>diffI</td>\n",
       "      <td>16.215188</td>\n",
       "      <td>62.997695</td>\n",
       "      <td>19.686558</td>\n",
       "      <td>12.616107</td>\n",
       "      <td>14.943341</td>\n",
       "      <td>4.694579</td>\n",
       "      <td>13.650709</td>\n",
       "      <td>27.712906</td>\n",
       "      <td>72.445200</td>\n",
       "      <td>...</td>\n",
       "      <td>0.000575</td>\n",
       "      <td>0.0</td>\n",
       "      <td>0.113931</td>\n",
       "      <td>0.006021</td>\n",
       "      <td>0.882065</td>\n",
       "      <td>7.313925</td>\n",
       "      <td>1.026103</td>\n",
       "      <td>0.139813</td>\n",
       "      <td>0.0</td>\n",
       "      <td>2020-04-19</td>\n",
       "    </tr>\n",
       "  </tbody>\n",
       "</table>\n",
       "<p>672 rows × 3144 columns</p>\n",
       "</div>"
      ],
      "text/plain": [
       "      comp         01001          01003         01005         01007  \\\n",
       "0        S  54571.000000  182265.000000  27457.000000  22915.000000   \n",
       "1        E      0.000000       0.000000      0.000000      0.000000   \n",
       "2       I1      0.000000       0.000000      0.000000      0.000000   \n",
       "3       I2      0.000000       0.000000      0.000000      0.000000   \n",
       "4       I3      0.000000       0.000000      0.000000      0.000000   \n",
       "..     ...           ...            ...           ...           ...   \n",
       "667  diffI     10.237770      48.989025     16.337248     22.177786   \n",
       "668  diffI     12.115122      51.106521     24.733931     17.912827   \n",
       "669  diffI     13.631445      58.586036     21.900483     16.391130   \n",
       "670  diffI     12.933090      68.473337     19.611928     13.238990   \n",
       "671  diffI     16.215188      62.997695     19.686558     12.616107   \n",
       "\n",
       "            01009         01011         01013          01015         01017  \\\n",
       "0    57322.000000  10914.000000  20947.000000  118572.000000  34215.000000   \n",
       "1        0.000000      0.000000      0.000000       0.000000      0.000000   \n",
       "2        0.000000      0.000000      0.000000       0.000000      0.000000   \n",
       "3        0.000000      0.000000      0.000000       0.000000      0.000000   \n",
       "4        0.000000      0.000000      0.000000       0.000000      0.000000   \n",
       "..            ...           ...           ...            ...           ...   \n",
       "667      9.445900      7.381234      7.461894      36.611201     83.158343   \n",
       "668     15.321688      5.961766      7.949991      35.339817     71.012508   \n",
       "669     18.144441      4.815273     10.267301      32.389852     78.510102   \n",
       "670     18.501279      5.812336     12.138974      31.930265     73.027390   \n",
       "671     14.943341      4.694579     13.650709      27.712906     72.445200   \n",
       "\n",
       "     ...         56029   56031         56033         56035         56037  \\\n",
       "0    ...  28205.000000  8667.0  29116.000000  10247.000000  43806.000000   \n",
       "1    ...      0.000000     0.0      0.000000      0.000000      0.000000   \n",
       "2    ...      0.000000     0.0      0.000000      0.000000      0.000000   \n",
       "3    ...      0.000000     0.0      0.000000      0.000000      0.000000   \n",
       "4    ...      0.000000     0.0      0.000000      0.000000      0.000000   \n",
       "..   ...           ...     ...           ...           ...           ...   \n",
       "667  ...      0.001350     0.0      0.267707      0.014147      2.072607   \n",
       "668  ...      0.001090     0.0      0.216225      0.011426      1.674029   \n",
       "669  ...      0.000881     0.0      0.174643      0.009229      1.352100   \n",
       "670  ...      0.000711     0.0      0.141058      0.007454      1.092081   \n",
       "671  ...      0.000575     0.0      0.113931      0.006021      0.882065   \n",
       "\n",
       "            56039         56041        56043   56045       time  \n",
       "0    21294.000000  21118.000000  8533.000000  7208.0 2020-01-15  \n",
       "1        0.000000      0.000000     0.000000     0.0 2020-01-15  \n",
       "2        0.000000      0.000000     0.000000     0.0 2020-01-15  \n",
       "3        0.000000      0.000000     0.000000     0.0 2020-01-15  \n",
       "4        0.000000      0.000000     0.000000     0.0 2020-01-15  \n",
       "..            ...           ...          ...     ...        ...  \n",
       "667      9.719141      2.411055     0.328521     0.0 2020-04-15  \n",
       "668      7.850076      1.947391     0.265344     0.0 2020-04-16  \n",
       "669      8.263523      1.572893     0.214316     0.0 2020-04-17  \n",
       "670      6.674384      1.270413     0.173102     0.0 2020-04-18  \n",
       "671      7.313925      1.026103     0.139813     0.0 2020-04-19  \n",
       "\n",
       "[672 rows x 3144 columns]"
      ]
     },
     "execution_count": 90,
     "metadata": {},
     "output_type": "execute_result"
    }
   ],
   "source": [
    "c"
   ]
  },
  {
   "cell_type": "code",
   "execution_count": 73,
   "metadata": {},
   "outputs": [
    {
     "data": {
      "text/plain": [
       "time\n",
       "2020-01-15      0.0\n",
       "2020-01-16      0.0\n",
       "2020-01-17      0.0\n",
       "2020-01-18      0.0\n",
       "2020-01-19      0.0\n",
       "              ...  \n",
       "2020-08-28    443.0\n",
       "2020-08-29    423.0\n",
       "2020-08-30    470.0\n",
       "2020-08-31    438.0\n",
       "2020-09-01    461.0\n",
       "Name: 01001, Length: 231, dtype: float64"
      ]
     },
     "execution_count": 73,
     "metadata": {},
     "output_type": "execute_result"
    }
   ],
   "source": [
    "past_dynamics[past_dynamics['comp'] == 'diffI'].set_index('time', drop=True)['01001']"
   ]
  }
 ],
 "metadata": {
  "kernelspec": {
   "display_name": "Python 3.7.5 64-bit",
   "language": "python",
   "name": "python37564bitb6a8cbcde2634e63883867447f9de255"
  },
  "language_info": {
   "codemirror_mode": {
    "name": "ipython",
    "version": 3
   },
   "file_extension": ".py",
   "mimetype": "text/x-python",
   "name": "python",
   "nbconvert_exporter": "python",
   "pygments_lexer": "ipython3",
   "version": "3.7.7"
  }
 },
 "nbformat": 4,
 "nbformat_minor": 4
}

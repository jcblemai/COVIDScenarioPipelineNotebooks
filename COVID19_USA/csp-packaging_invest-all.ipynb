{
 "cells": [
  {
   "cell_type": "code",
   "execution_count": 1,
   "id": "c4c74234-90f5-463e-a685-ff9cf7620953",
   "metadata": {
    "execution": {
     "iopub.execute_input": "2022-06-29T21:02:10.132893Z",
     "iopub.status.busy": "2022-06-29T21:02:10.132609Z",
     "iopub.status.idle": "2022-06-29T21:02:38.768496Z",
     "shell.execute_reply": "2022-06-29T21:02:38.767887Z",
     "shell.execute_reply.started": "2022-06-29T21:02:10.132820Z"
    },
    "tags": []
   },
   "outputs": [
    {
     "name": "stdout",
     "output_type": "stream",
     "text": [
      "  gempyor >> Running ***DETERMINISTIC*** simulation;\n",
      "  gempyor >> Setup USA_inference; index: 1; run_id: 2022.06.21.14:47:23.UTC,\n",
      "  gempyor >> prefix: USA/inference/med/2022.06.21.14:47:23.UTC/global/intermediate/000000001.;\n"
     ]
    },
    {
     "name": "stderr",
     "output_type": "stream",
     "text": [
      "INFO:root:[Outcomes.NPI] completed in 1.64 s\n"
     ]
    },
    {
     "data": {
      "text/plain": [
       "<gempyor.NPI.Stacked.Stacked at 0x1944d05e0>"
      ]
     },
     "execution_count": 1,
     "metadata": {},
     "output_type": "execute_result"
    }
   ],
   "source": [
    "import gempyor # incidCshift_delta_R13\n",
    "from gempyor import seir, config\n",
    "import numpy as np\n",
    "config_filepath = \"config_SMH_R14_restBoo_noVar_blk5_short.yml\"\n",
    "\n",
    "gempyor_simulator = gempyor.InferenceSimulator(\n",
    "    config_path=config_filepath,\n",
    "    run_id=\"2022.06.21.14:47:23.UTC\",\n",
    "    prefix=\"USA/inference/med/2022.06.21.14:47:23.UTC/global/intermediate/000000001.\",\n",
    "    first_sim_index=1,\n",
    "    scenario=\"inference\",  # NPIs scenario to use\n",
    "    deathrate=\"med\",  # Outcome scenario to use\n",
    "    stoch_traj_flag=False,\n",
    "    spatial_path_prefix=\"./\",  # prefix where to find the folder indicated in spatial_setup$\n",
    ")\n",
    "config.clear()\n",
    "config.read(user=False)\n",
    "config.set_file(config_filepath)\n",
    "\n",
    "gempyor_simulator.get_outcome_npi()"
   ]
  },
  {
   "cell_type": "code",
   "execution_count": 2,
   "id": "37ccebcc-7d8c-4374-beda-d9f034b660e6",
   "metadata": {
    "execution": {
     "iopub.execute_input": "2022-06-29T21:02:38.770778Z",
     "iopub.status.busy": "2022-06-29T21:02:38.770577Z",
     "iopub.status.idle": "2022-06-29T21:02:38.773357Z",
     "shell.execute_reply": "2022-06-29T21:02:38.772821Z",
     "shell.execute_reply.started": "2022-06-29T21:02:38.770757Z"
    },
    "tags": []
   },
   "outputs": [],
   "source": [
    "#gempyor_simulator.one_simulation(sim_id2write=0)"
   ]
  },
  {
   "cell_type": "code",
   "execution_count": 3,
   "id": "c10ab996-ca1d-4083-a5f7-fe94d45984b7",
   "metadata": {
    "execution": {
     "iopub.execute_input": "2022-06-29T21:02:38.774454Z",
     "iopub.status.busy": "2022-06-29T21:02:38.774277Z",
     "iopub.status.idle": "2022-06-29T21:04:44.834660Z",
     "shell.execute_reply": "2022-06-29T21:04:44.834152Z",
     "shell.execute_reply.started": "2022-06-29T21:02:38.774435Z"
    },
    "tags": []
   },
   "outputs": [
    {
     "name": "stderr",
     "output_type": "stream",
     "text": [
      "11it [00:08,  4.65it/s]"
     ]
    },
    {
     "name": "stdout",
     "output_type": "stream",
     "text": [
      "Integration error: rhs got a negative x (pos, time) (array([ 9281, 18364, 18381, 18394, 18432, 18442, 18483, 18507]),) 21.0\n",
      "Integration error: transition amounts negative (trans_idx, node) 274 50\n",
      "Integration error: transition amounts negative (trans_idx, node) 402 4\n",
      "Integration error: transition amounts negative (trans_idx, node) 402 21\n",
      "Integration error: transition amounts negative (trans_idx, node) 402 34\n",
      "Integration error: transition amounts negative (trans_idx, node) 403 21\n",
      "Integration error: transition amounts negative (trans_idx, node) 403 31\n",
      "Integration error: transition amounts negative (trans_idx, node) 404 21\n",
      "Integration error: transition amounts negative (trans_idx, node) 404 45\n",
      "Integration error: rhs got a negative x (pos, time) (array([18448, 46001, 55084, 55101, 55114, 55152, 55162, 55203, 55227]),) 22.0\n",
      "Integration error: rhs got a negative x (pos, time) (array([18397, 18410, 18512]),) 23.0\n",
      "Integration error: transition amounts negative (trans_idx, node) 402 37\n",
      "Integration error: transition amounts negative (trans_idx, node) 402 50\n",
      "Integration error: transition amounts negative (trans_idx, node) 404 50\n",
      "Integration error: rhs got a negative x (pos, time) (array([15331, 15333, 15334, 15382, 15385, 15433, 15435, 55117, 55130,\n",
      "       55232]),) 24.0\n"
     ]
    },
    {
     "name": "stderr",
     "output_type": "stream",
     "text": [
      "14it [00:08,  5.54it/s]"
     ]
    },
    {
     "name": "stdout",
     "output_type": "stream",
     "text": [
      "Integration error: rhs got a negative x (pos, time) (array([12277, 12379, 13871]),) 26.0\n",
      "Integration error: rhs got a negative x (pos, time) (array([18447]),) 28.0\n"
     ]
    },
    {
     "name": "stderr",
     "output_type": "stream",
     "text": [
      "17it [00:09,  6.00it/s]"
     ]
    },
    {
     "name": "stdout",
     "output_type": "stream",
     "text": [
      "Integration error: rhs got a negative x (pos, time) (array([12276, 15336, 15438]),) 32.0\n"
     ]
    },
    {
     "name": "stderr",
     "output_type": "stream",
     "text": [
      "30it [00:11,  6.03it/s]"
     ]
    },
    {
     "name": "stdout",
     "output_type": "stream",
     "text": [
      "Integration error: rhs got a negative x (pos, time) (array([13831, 13869]),) 58.0\n",
      "Integration error: rhs got a negative x (pos, time) (array([13856, 13868]),) 60.0\n"
     ]
    },
    {
     "name": "stderr",
     "output_type": "stream",
     "text": [
      "32it [00:11,  5.68it/s]"
     ]
    },
    {
     "name": "stdout",
     "output_type": "stream",
     "text": [
      "Integration error: rhs got a negative x (pos, time) (array([13835, 13846, 13853, 13861, 13863, 13869]),) 62.0\n",
      "Integration error: rhs got a negative x (pos, time) (array([13837, 13850, 13851, 13853, 13863, 13867]),) 64.0\n"
     ]
    },
    {
     "name": "stderr",
     "output_type": "stream",
     "text": [
      "34it [00:11,  5.86it/s]"
     ]
    },
    {
     "name": "stdout",
     "output_type": "stream",
     "text": [
      "Integration error: rhs got a negative x (pos, time) (array([13827, 13846, 13849]),) 66.0\n",
      "Integration error: rhs got a negative x (pos, time) (array([13828, 13835, 13843, 13847, 13856]),) 68.0\n"
     ]
    },
    {
     "name": "stderr",
     "output_type": "stream",
     "text": [
      "36it [00:12,  5.94it/s]"
     ]
    },
    {
     "name": "stdout",
     "output_type": "stream",
     "text": [
      "Integration error: rhs got a negative x (pos, time) (array([13827, 13847, 13849, 13865]),) 70.0\n",
      "Integration error: rhs got a negative x (pos, time) (array([9233]),) 71.0\n",
      "Integration error: transition amounts negative (trans_idx, node) 274 2\n",
      "Integration error: rhs got a negative x (pos, time) (array([13822, 13827, 13830, 45953]),) 72.0\n"
     ]
    },
    {
     "name": "stderr",
     "output_type": "stream",
     "text": [
      "38it [00:12,  5.88it/s]"
     ]
    },
    {
     "name": "stdout",
     "output_type": "stream",
     "text": [
      "Integration error: rhs got a negative x (pos, time) (array([13824, 13839]),) 74.0\n"
     ]
    },
    {
     "name": "stderr",
     "output_type": "stream",
     "text": [
      "119it [00:27,  5.92it/s]"
     ]
    },
    {
     "name": "stdout",
     "output_type": "stream",
     "text": [
      "Integration error: rhs got a negative x (pos, time) (array([13994]),) 236.0\n"
     ]
    },
    {
     "name": "stderr",
     "output_type": "stream",
     "text": [
      "127it [00:29,  5.98it/s]"
     ]
    },
    {
     "name": "stdout",
     "output_type": "stream",
     "text": [
      "Integration error: rhs got a negative x (pos, time) (array([14011]),) 252.0\n"
     ]
    },
    {
     "name": "stderr",
     "output_type": "stream",
     "text": [
      "141it [00:31,  5.85it/s]"
     ]
    },
    {
     "name": "stdout",
     "output_type": "stream",
     "text": [
      "Integration error: rhs got a negative x (pos, time) (array([13989]),) 280.0\n"
     ]
    },
    {
     "name": "stderr",
     "output_type": "stream",
     "text": [
      "147it [00:32,  5.75it/s]"
     ]
    },
    {
     "name": "stdout",
     "output_type": "stream",
     "text": [
      "Integration error: rhs got a negative x (pos, time) (array([14019]),) 292.0\n"
     ]
    },
    {
     "name": "stderr",
     "output_type": "stream",
     "text": [
      "153it [00:33,  5.76it/s]"
     ]
    },
    {
     "name": "stdout",
     "output_type": "stream",
     "text": [
      "Integration error: rhs got a negative x (pos, time) (array([18712, 18763, 18764, 18774, 18808, 18815, 18816, 20202, 20244,\n",
      "       20253, 20293, 20304, 20346]),) 305.0\n",
      "Integration error: transition amounts negative (trans_idx, node) 408 46\n",
      "Integration error: transition amounts negative (trans_idx, node) 409 46\n",
      "Integration error: transition amounts negative (trans_idx, node) 409 47\n",
      "Integration error: transition amounts negative (trans_idx, node) 410 6\n",
      "Integration error: transition amounts negative (trans_idx, node) 410 40\n",
      "Integration error: transition amounts negative (trans_idx, node) 410 47\n",
      "Integration error: transition amounts negative (trans_idx, node) 410 48\n",
      "Integration error: transition amounts negative (trans_idx, node) 426 6\n",
      "Integration error: transition amounts negative (trans_idx, node) 426 48\n",
      "Integration error: transition amounts negative (trans_idx, node) 427 6\n",
      "Integration error: transition amounts negative (trans_idx, node) 427 46\n",
      "Integration error: transition amounts negative (trans_idx, node) 428 6\n",
      "Integration error: transition amounts negative (trans_idx, node) 428 48\n",
      "Integration error: rhs got a negative x (pos, time) (array([55432, 55483, 55484, 55494, 55528, 55535, 55536, 56922, 56964,\n",
      "       56973, 57013, 57024, 57066]),) 306.0\n"
     ]
    },
    {
     "name": "stderr",
     "output_type": "stream",
     "text": [
      "186it [00:39,  5.70it/s]"
     ]
    },
    {
     "name": "stdout",
     "output_type": "stream",
     "text": [
      "Integration error: rhs got a negative x (pos, time) (array([19239, 19244, 19272, 19346, 19386, 19392, 19395, 19400, 19402,\n",
      "       19407, 19417, 19418, 19423, 19533, 19545, 19550]),) 370.0\n"
     ]
    },
    {
     "name": "stderr",
     "output_type": "stream",
     "text": [
      "202it [00:41,  5.98it/s]"
     ]
    },
    {
     "name": "stdout",
     "output_type": "stream",
     "text": [
      "Integration error: rhs got a negative x (pos, time) (array([19228, 19388]),) 402.0\n"
     ]
    },
    {
     "name": "stderr",
     "output_type": "stream",
     "text": [
      "227it [00:46,  5.67it/s]"
     ]
    },
    {
     "name": "stdout",
     "output_type": "stream",
     "text": [
      "Integration error: rhs got a negative x (pos, time) (array([14166]),) 452.0\n"
     ]
    },
    {
     "name": "stderr",
     "output_type": "stream",
     "text": [
      "233it [00:47,  5.62it/s]"
     ]
    },
    {
     "name": "stdout",
     "output_type": "stream",
     "text": [
      "Integration error: rhs got a negative x (pos, time) (array([9539, 9543]),) 465.0\n",
      "Integration error: transition amounts negative (trans_idx, node) 334 2\n",
      "Integration error: transition amounts negative (trans_idx, node) 334 6\n",
      "Integration error: rhs got a negative x (pos, time) (array([14128, 14135, 46259, 46263]),) 466.0\n"
     ]
    },
    {
     "name": "stderr",
     "output_type": "stream",
     "text": [
      "236it [00:47,  5.68it/s]"
     ]
    },
    {
     "name": "stdout",
     "output_type": "stream",
     "text": [
      "Integration error: rhs got a negative x (pos, time) (array([19484]),) 470.0\n",
      "Integration error: rhs got a negative x (pos, time) (array([19490]),) 472.0\n"
     ]
    },
    {
     "name": "stderr",
     "output_type": "stream",
     "text": [
      "240it [00:48,  5.63it/s]"
     ]
    },
    {
     "name": "stdout",
     "output_type": "stream",
     "text": [
      "Integration error: rhs got a negative x (pos, time) (array([9555]),) 479.0\n",
      "Integration error: transition amounts negative (trans_idx, node) 334 18\n",
      "Integration error: rhs got a negative x (pos, time) (array([14153, 46275]),) 480.0\n",
      "Integration error: rhs got a negative x (pos, time) (array([14155]),) 482.0\n"
     ]
    },
    {
     "name": "stderr",
     "output_type": "stream",
     "text": [
      "243it [00:49,  5.96it/s]"
     ]
    },
    {
     "name": "stdout",
     "output_type": "stream",
     "text": [
      "Integration error: rhs got a negative x (pos, time) (array([14145, 19500, 19510]),) 484.0\n"
     ]
    },
    {
     "name": "stderr",
     "output_type": "stream",
     "text": [
      "250it [00:50,  5.24it/s]"
     ]
    },
    {
     "name": "stdout",
     "output_type": "stream",
     "text": [
      "Integration error: rhs got a negative x (pos, time) (array([19675]),) 498.0\n"
     ]
    },
    {
     "name": "stderr",
     "output_type": "stream",
     "text": [
      "254it [00:51,  5.47it/s]"
     ]
    },
    {
     "name": "stdout",
     "output_type": "stream",
     "text": [
      "Integration error: rhs got a negative x (pos, time) (array([10307]),) 506.0\n"
     ]
    },
    {
     "name": "stderr",
     "output_type": "stream",
     "text": [
      "257it [00:51,  5.50it/s]"
     ]
    },
    {
     "name": "stdout",
     "output_type": "stream",
     "text": [
      "Integration error: rhs got a negative x (pos, time) (array([19487]),) 512.0\n"
     ]
    },
    {
     "name": "stderr",
     "output_type": "stream",
     "text": [
      "327it [01:04,  5.57it/s]"
     ]
    },
    {
     "name": "stdout",
     "output_type": "stream",
     "text": [
      "Integration error: rhs got a negative x (pos, time) (array([14300]),) 652.0\n"
     ]
    },
    {
     "name": "stderr",
     "output_type": "stream",
     "text": [
      "333it [01:05,  5.45it/s]"
     ]
    },
    {
     "name": "stdout",
     "output_type": "stream",
     "text": [
      "Integration error: rhs got a negative x (pos, time) (array([9695, 9697, 9702, 9713, 9718, 9725, 9733]),) 665.0\n",
      "Integration error: transition amounts negative (trans_idx, node) 373 5\n",
      "Integration error: transition amounts negative (trans_idx, node) 373 7\n",
      "Integration error: transition amounts negative (trans_idx, node) 373 12\n",
      "Integration error: transition amounts negative (trans_idx, node) 373 23\n",
      "Integration error: transition amounts negative (trans_idx, node) 373 28\n",
      "Integration error: transition amounts negative (trans_idx, node) 373 35\n",
      "Integration error: transition amounts negative (trans_idx, node) 373 43\n",
      "Integration error: rhs got a negative x (pos, time) (array([10470, 10471, 14281, 14286, 14291, 14302, 46415, 46417, 46422,\n",
      "       46433, 46438, 46445, 46453]),) 666.0\n",
      "Integration error: rhs got a negative x (pos, time) (array([9706, 9708, 9711, 9717, 9721, 9725, 9739]),) 667.0\n",
      "Integration error: transition amounts negative (trans_idx, node) 373 16\n",
      "Integration error: transition amounts negative (trans_idx, node) 373 18\n",
      "Integration error: transition amounts negative (trans_idx, node) 373 21\n",
      "Integration error: transition amounts negative (trans_idx, node) 373 27\n",
      "Integration error: transition amounts negative (trans_idx, node) 373 31\n",
      "Integration error: transition amounts negative (trans_idx, node) 373 35\n",
      "Integration error: transition amounts negative (trans_idx, node) 373 49\n",
      "Integration error: rhs got a negative x (pos, time) (array([10460, 10464, 10474, 10476, 14280, 14290, 14297, 14306, 19647,\n",
      "       19676, 46426, 46428, 46431, 46437, 46441, 46445, 46459]),) 668.0\n"
     ]
    },
    {
     "name": "stderr",
     "output_type": "stream",
     "text": [
      "335it [01:06,  5.44it/s]"
     ]
    },
    {
     "name": "stdout",
     "output_type": "stream",
     "text": [
      "Integration error: rhs got a negative x (pos, time) (array([9717]),) 669.0\n",
      "Integration error: transition amounts negative (trans_idx, node) 373 27\n",
      "Integration error: rhs got a negative x (pos, time) (array([10482, 14281, 14282, 14285, 14298, 14301, 14302, 14316, 19640,\n",
      "       19653, 19660, 19666, 19670, 19684, 46437]),) 670.0\n",
      "Integration error: rhs got a negative x (pos, time) (array([14285, 14313, 14322, 19644, 19651, 19658, 19664, 19671, 19678,\n",
      "       19684]),) 672.0\n"
     ]
    },
    {
     "name": "stderr",
     "output_type": "stream",
     "text": [
      "338it [01:06,  5.38it/s]"
     ]
    },
    {
     "name": "stdout",
     "output_type": "stream",
     "text": [
      "Integration error: rhs got a negative x (pos, time) (array([14321, 19126, 19279, 19656, 19677]),) 674.0\n",
      "Integration error: rhs got a negative x (pos, time) (array([14321, 19649]),) 676.0\n"
     ]
    },
    {
     "name": "stderr",
     "output_type": "stream",
     "text": [
      "340it [01:07,  5.41it/s]"
     ]
    },
    {
     "name": "stdout",
     "output_type": "stream",
     "text": [
      "Integration error: rhs got a negative x (pos, time) (array([10503, 19676]),) 678.0\n"
     ]
    },
    {
     "name": "stderr",
     "output_type": "stream",
     "text": [
      "342it [01:07,  5.50it/s]"
     ]
    },
    {
     "name": "stdout",
     "output_type": "stream",
     "text": [
      "Integration error: rhs got a negative x (pos, time) (array([14318]),) 682.0\n"
     ]
    },
    {
     "name": "stderr",
     "output_type": "stream",
     "text": [
      "349it [01:08,  5.52it/s]"
     ]
    },
    {
     "name": "stdout",
     "output_type": "stream",
     "text": [
      "Integration error: rhs got a negative x (pos, time) (array([10503]),) 696.0\n",
      "Integration error: rhs got a negative x (pos, time) (array([9738]),) 697.0\n",
      "Integration error: transition amounts negative (trans_idx, node) 373 48\n",
      "Integration error: rhs got a negative x (pos, time) (array([46458]),) 698.0\n"
     ]
    },
    {
     "name": "stderr",
     "output_type": "stream",
     "text": [
      "369it [01:12,  5.50it/s]"
     ]
    },
    {
     "name": "stdout",
     "output_type": "stream",
     "text": [
      "Integration error: rhs got a negative x (pos, time) (array([19257]),) 736.0\n"
     ]
    },
    {
     "name": "stderr",
     "output_type": "stream",
     "text": [
      "390it [01:16,  5.21it/s]"
     ]
    },
    {
     "name": "stdout",
     "output_type": "stream",
     "text": [
      "Integration error: rhs got a negative x (pos, time) (array([9845, 9848, 9850, 9860]),) 779.0\n",
      "Integration error: transition amounts negative (trans_idx, node) 1180 2\n",
      "Integration error: transition amounts negative (trans_idx, node) 1180 5\n",
      "Integration error: transition amounts negative (trans_idx, node) 1180 7\n",
      "Integration error: transition amounts negative (trans_idx, node) 1180 17\n",
      "Integration error: rhs got a negative x (pos, time) (array([10625, 10628, 10652, 46565, 46568, 46570, 46580]),) 780.0\n",
      "Integration error: rhs got a negative x (pos, time) (array([ 9860, 18977, 18979, 18983, 19005, 19009, 19010, 19011, 19022,\n",
      "       19026, 19027, 19029, 19034, 19055, 19061, 19074, 19076, 19078,\n",
      "       19079, 19081, 19085, 19094, 19096, 19104, 19111, 19112, 19113,\n",
      "       19737, 19739, 19742, 19743, 19748, 19749, 19752, 19754, 19757,\n",
      "       19760, 19761, 19766, 19770, 19775, 19782, 19790, 19792, 19796,\n",
      "       19799, 19800, 19803, 19810, 19818, 19826, 19827, 19833, 19838,\n",
      "       19844, 19847, 19851, 19856, 19859, 19868, 19869, 19876, 19884,\n",
      "       20502, 20505, 20511, 20513, 20517, 20519, 20522, 20524, 20534,\n",
      "       20535, 20539, 20555, 20573, 20576, 20583, 20585, 20586, 20590,\n",
      "       20591, 20598, 20607, 20608, 20609, 20611, 20624, 20627, 20633,\n",
      "       20634, 20642, 22103]),) 781.0\n"
     ]
    },
    {
     "name": "stderr",
     "output_type": "stream",
     "text": [
      "391it [01:16,  5.10it/s]"
     ]
    },
    {
     "name": "stdout",
     "output_type": "stream",
     "text": [
      "Integration error: transition amounts negative (trans_idx, node) 1180 17\n",
      "Integration error: transition amounts negative (trans_idx, node) 1215 5\n",
      "Integration error: transition amounts negative (trans_idx, node) 1215 7\n",
      "Integration error: transition amounts negative (trans_idx, node) 1215 11\n",
      "Integration error: transition amounts negative (trans_idx, node) 1215 33\n",
      "Integration error: transition amounts negative (trans_idx, node) 1215 37\n",
      "Integration error: transition amounts negative (trans_idx, node) 1215 38\n",
      "Integration error: transition amounts negative (trans_idx, node) 1215 39\n",
      "Integration error: transition amounts negative (trans_idx, node) 1215 50\n",
      "Integration error: transition amounts negative (trans_idx, node) 1216 3\n",
      "Integration error: transition amounts negative (trans_idx, node) 1216 4\n",
      "Integration error: transition amounts negative (trans_idx, node) 1216 6\n",
      "Integration error: transition amounts negative (trans_idx, node) 1216 11\n",
      "Integration error: transition amounts negative (trans_idx, node) 1216 32\n",
      "Integration error: transition amounts negative (trans_idx, node) 1216 38\n",
      "Integration error: transition amounts negative (trans_idx, node) 1217 0\n",
      "Integration error: transition amounts negative (trans_idx, node) 1217 2\n",
      "Integration error: transition amounts negative (trans_idx, node) 1217 4\n",
      "Integration error: transition amounts negative (trans_idx, node) 1217 5\n",
      "Integration error: transition amounts negative (trans_idx, node) 1217 7\n",
      "Integration error: transition amounts negative (trans_idx, node) 1217 11\n",
      "Integration error: transition amounts negative (trans_idx, node) 1217 20\n",
      "Integration error: transition amounts negative (trans_idx, node) 1217 22\n",
      "Integration error: transition amounts negative (trans_idx, node) 1217 30\n",
      "Integration error: transition amounts negative (trans_idx, node) 1217 37\n",
      "Integration error: transition amounts negative (trans_idx, node) 1217 38\n",
      "Integration error: transition amounts negative (trans_idx, node) 1217 39\n",
      "Integration error: transition amounts negative (trans_idx, node) 1218 0\n",
      "Integration error: transition amounts negative (trans_idx, node) 1218 2\n",
      "Integration error: transition amounts negative (trans_idx, node) 1218 5\n",
      "Integration error: transition amounts negative (trans_idx, node) 1218 6\n",
      "Integration error: transition amounts negative (trans_idx, node) 1218 11\n",
      "Integration error: transition amounts negative (trans_idx, node) 1218 12\n",
      "Integration error: transition amounts negative (trans_idx, node) 1218 15\n",
      "Integration error: transition amounts negative (trans_idx, node) 1218 17\n",
      "Integration error: transition amounts negative (trans_idx, node) 1218 20\n",
      "Integration error: transition amounts negative (trans_idx, node) 1218 23\n",
      "Integration error: transition amounts negative (trans_idx, node) 1218 24\n",
      "Integration error: transition amounts negative (trans_idx, node) 1218 29\n",
      "Integration error: transition amounts negative (trans_idx, node) 1218 33\n",
      "Integration error: transition amounts negative (trans_idx, node) 1218 38\n",
      "Integration error: transition amounts negative (trans_idx, node) 1218 45\n",
      "Integration error: transition amounts negative (trans_idx, node) 1219 2\n",
      "Integration error: transition amounts negative (trans_idx, node) 1219 4\n",
      "Integration error: transition amounts negative (trans_idx, node) 1219 8\n",
      "Integration error: transition amounts negative (trans_idx, node) 1219 11\n",
      "Integration error: transition amounts negative (trans_idx, node) 1219 12\n",
      "Integration error: transition amounts negative (trans_idx, node) 1219 15\n",
      "Integration error: transition amounts negative (trans_idx, node) 1219 22\n",
      "Integration error: transition amounts negative (trans_idx, node) 1219 30\n",
      "Integration error: transition amounts negative (trans_idx, node) 1219 38\n",
      "Integration error: transition amounts negative (trans_idx, node) 1219 39\n",
      "Integration error: transition amounts negative (trans_idx, node) 1219 45\n",
      "Integration error: transition amounts negative (trans_idx, node) 1219 50\n",
      "Integration error: transition amounts negative (trans_idx, node) 1220 5\n",
      "Integration error: transition amounts negative (trans_idx, node) 1220 8\n",
      "Integration error: transition amounts negative (trans_idx, node) 1220 12\n",
      "Integration error: transition amounts negative (trans_idx, node) 1220 17\n",
      "Integration error: transition amounts negative (trans_idx, node) 1220 20\n",
      "Integration error: transition amounts negative (trans_idx, node) 1220 29\n",
      "Integration error: transition amounts negative (trans_idx, node) 1220 30\n",
      "Integration error: transition amounts negative (trans_idx, node) 1220 37\n",
      "Integration error: transition amounts negative (trans_idx, node) 1220 45\n",
      "Integration error: transition amounts negative (trans_idx, node) 1221 0\n",
      "Integration error: transition amounts negative (trans_idx, node) 1221 3\n",
      "Integration error: transition amounts negative (trans_idx, node) 1221 9\n",
      "Integration error: transition amounts negative (trans_idx, node) 1221 11\n",
      "Integration error: transition amounts negative (trans_idx, node) 1221 15\n",
      "Integration error: transition amounts negative (trans_idx, node) 1221 17\n",
      "Integration error: transition amounts negative (trans_idx, node) 1221 20\n",
      "Integration error: transition amounts negative (trans_idx, node) 1221 22\n",
      "Integration error: transition amounts negative (trans_idx, node) 1221 32\n",
      "Integration error: transition amounts negative (trans_idx, node) 1221 33\n",
      "Integration error: transition amounts negative (trans_idx, node) 1221 37\n",
      "Integration error: transition amounts negative (trans_idx, node) 1222 2\n",
      "Integration error: transition amounts negative (trans_idx, node) 1222 20\n",
      "Integration error: transition amounts negative (trans_idx, node) 1222 23\n",
      "Integration error: transition amounts negative (trans_idx, node) 1222 30\n",
      "Integration error: transition amounts negative (trans_idx, node) 1222 32\n",
      "Integration error: transition amounts negative (trans_idx, node) 1222 33\n",
      "Integration error: transition amounts negative (trans_idx, node) 1222 37\n",
      "Integration error: transition amounts negative (trans_idx, node) 1222 38\n",
      "Integration error: transition amounts negative (trans_idx, node) 1222 45\n",
      "Integration error: transition amounts negative (trans_idx, node) 1223 3\n",
      "Integration error: transition amounts negative (trans_idx, node) 1223 4\n",
      "Integration error: transition amounts negative (trans_idx, node) 1223 5\n",
      "Integration error: transition amounts negative (trans_idx, node) 1223 7\n",
      "Integration error: transition amounts negative (trans_idx, node) 1223 20\n",
      "Integration error: transition amounts negative (trans_idx, node) 1223 23\n",
      "Integration error: transition amounts negative (trans_idx, node) 1223 29\n",
      "Integration error: transition amounts negative (trans_idx, node) 1223 30\n",
      "Integration error: transition amounts negative (trans_idx, node) 1223 38\n",
      "Integration error: transition amounts negative (trans_idx, node) 1228 20\n",
      "Integration error: rhs got a negative x (pos, time) (array([14477, 15203, 15221, 22034, 46580, 55697, 55699, 55703, 55725,\n",
      "       55729, 55730, 55731, 55742, 55746, 55747, 55749, 55754, 55775,\n",
      "       55781, 55794, 55796, 55798, 55799, 55801, 55805, 55814, 55816,\n",
      "       55824, 55831, 55832, 55833, 56457, 56459, 56462, 56474, 56477,\n",
      "       56510, 56516, 56530, 56564, 56567, 56576, 56579, 56588, 56589,\n",
      "       57344]),) 782.0\n"
     ]
    },
    {
     "name": "stderr",
     "output_type": "stream",
     "text": [
      "393it [01:16,  5.07it/s]"
     ]
    },
    {
     "name": "stdout",
     "output_type": "stream",
     "text": [
      "Integration error: rhs got a negative x (pos, time) (array([14438, 14456]),) 784.0\n",
      "Integration error: rhs got a negative x (pos, time) (array([14435]),) 786.0\n"
     ]
    },
    {
     "name": "stderr",
     "output_type": "stream",
     "text": [
      "404it [01:19,  4.83it/s]"
     ]
    },
    {
     "name": "stdout",
     "output_type": "stream",
     "text": [
      "Integration error: rhs got a negative x (pos, time) (array([14468]),) 808.0\n"
     ]
    },
    {
     "name": "stderr",
     "output_type": "stream",
     "text": [
      "408it [01:19,  4.74it/s]"
     ]
    },
    {
     "name": "stdout",
     "output_type": "stream",
     "text": [
      "Integration error: rhs got a negative x (pos, time) (array([14434, 14443]),) 816.0\n"
     ]
    },
    {
     "name": "stderr",
     "output_type": "stream",
     "text": [
      "414it [01:21,  4.92it/s]"
     ]
    },
    {
     "name": "stdout",
     "output_type": "stream",
     "text": [
      "Integration error: rhs got a negative x (pos, time) (array([14463]),) 828.0\n"
     ]
    },
    {
     "name": "stderr",
     "output_type": "stream",
     "text": [
      "416it [01:21,  4.94it/s]"
     ]
    },
    {
     "name": "stdout",
     "output_type": "stream",
     "text": [
      "Integration error: rhs got a negative x (pos, time) (array([14454, 14465]),) 832.0\n",
      "Integration error: rhs got a negative x (pos, time) (array([14480]),) 834.0\n"
     ]
    },
    {
     "name": "stderr",
     "output_type": "stream",
     "text": [
      "418it [01:21,  4.93it/s]"
     ]
    },
    {
     "name": "stdout",
     "output_type": "stream",
     "text": [
      "Integration error: rhs got a negative x (pos, time) (array([9879]),) 835.0\n",
      "Integration error: transition amounts negative (trans_idx, node) 1180 36\n",
      "Integration error: rhs got a negative x (pos, time) (array([14436, 14439, 46599]),) 836.0\n"
     ]
    },
    {
     "name": "stderr",
     "output_type": "stream",
     "text": [
      "420it [01:22,  4.96it/s]"
     ]
    },
    {
     "name": "stdout",
     "output_type": "stream",
     "text": [
      "Integration error: rhs got a negative x (pos, time) (array([10656]),) 838.0\n",
      "Integration error: rhs got a negative x (pos, time) (array([15246]),) 840.0\n"
     ]
    },
    {
     "name": "stderr",
     "output_type": "stream",
     "text": [
      "421it [01:22,  4.86it/s]"
     ]
    },
    {
     "name": "stdout",
     "output_type": "stream",
     "text": [
      "Integration error: rhs got a negative x (pos, time) (array([9851, 9877, 9881]),) 841.0\n",
      "Integration error: transition amounts negative (trans_idx, node) 1180 8\n",
      "Integration error: transition amounts negative (trans_idx, node) 1180 34\n",
      "Integration error: transition amounts negative (trans_idx, node) 1180 38\n",
      "Integration error: rhs got a negative x (pos, time) (array([46571, 46597, 46601]),) 842.0\n",
      "Integration error: rhs got a negative x (pos, time) (array([9846, 9880, 9884]),) 843.0\n"
     ]
    },
    {
     "name": "stderr",
     "output_type": "stream",
     "text": [
      "422it [01:22,  4.87it/s]"
     ]
    },
    {
     "name": "stdout",
     "output_type": "stream",
     "text": [
      "Integration error: transition amounts negative (trans_idx, node) 1180 3\n",
      "Integration error: transition amounts negative (trans_idx, node) 1180 37\n",
      "Integration error: transition amounts negative (trans_idx, node) 1180 41\n",
      "Integration error: rhs got a negative x (pos, time) (array([46566, 46600, 46604]),) 844.0\n",
      "Integration error: rhs got a negative x (pos, time) (array([14461, 14474, 19816]),) 846.0\n"
     ]
    },
    {
     "name": "stderr",
     "output_type": "stream",
     "text": [
      "424it [01:23,  4.91it/s]"
     ]
    },
    {
     "name": "stdout",
     "output_type": "stream",
     "text": [
      "Integration error: rhs got a negative x (pos, time) (array([9858]),) 847.0\n",
      "Integration error: transition amounts negative (trans_idx, node) 1180 15\n",
      "Integration error: rhs got a negative x (pos, time) (array([46578]),) 848.0\n",
      "Integration error: rhs got a negative x (pos, time) (array([9846, 9885]),) 849.0\n"
     ]
    },
    {
     "name": "stderr",
     "output_type": "stream",
     "text": [
      "425it [01:23,  4.93it/s]"
     ]
    },
    {
     "name": "stdout",
     "output_type": "stream",
     "text": [
      "Integration error: transition amounts negative (trans_idx, node) 1180 3\n",
      "Integration error: transition amounts negative (trans_idx, node) 1180 42\n",
      "Integration error: rhs got a negative x (pos, time) (array([46566, 46605]),) 850.0\n",
      "Integration error: rhs got a negative x (pos, time) (array([9891]),) 851.0\n",
      "Integration error: transition amounts negative (trans_idx, node) 1180 48\n",
      "Integration error: rhs got a negative x (pos, time) (array([10656, 15201, 46611]),) 852.0\n"
     ]
    },
    {
     "name": "stderr",
     "output_type": "stream",
     "text": [
      "428it [01:23,  4.99it/s]"
     ]
    },
    {
     "name": "stdout",
     "output_type": "stream",
     "text": [
      "Integration error: rhs got a negative x (pos, time) (array([15246]),) 854.0\n"
     ]
    },
    {
     "name": "stderr",
     "output_type": "stream",
     "text": [
      "430it [01:24,  4.99it/s]"
     ]
    },
    {
     "name": "stdout",
     "output_type": "stream",
     "text": [
      "Integration error: rhs got a negative x (pos, time) (array([14444, 14474, 15201]),) 860.0\n"
     ]
    },
    {
     "name": "stderr",
     "output_type": "stream",
     "text": [
      "432it [01:24,  4.92it/s]"
     ]
    },
    {
     "name": "stdout",
     "output_type": "stream",
     "text": [
      "Integration error: rhs got a negative x (pos, time) (array([9854]),) 863.0\n",
      "Integration error: transition amounts negative (trans_idx, node) 1180 11\n",
      "Integration error: rhs got a negative x (pos, time) (array([14481, 46574]),) 864.0\n"
     ]
    },
    {
     "name": "stderr",
     "output_type": "stream",
     "text": [
      "504it [01:39,  4.96it/s]"
     ]
    },
    {
     "name": "stdout",
     "output_type": "stream",
     "text": [
      "Integration error: rhs got a negative x (pos, time) (array([16729, 16786, 16787, 16789, 16790, 16798, 16799, 16800, 16801,\n",
      "       16810, 16812, 16824, 16829]),) 1008.0\n"
     ]
    },
    {
     "name": "stderr",
     "output_type": "stream",
     "text": [
      "625it [02:04,  5.04it/s]\n"
     ]
    }
   ],
   "source": [
    "import gempyor # incidCshift_delta_R13\n",
    "from gempyor import seir, config\n",
    "import pickle\n",
    "with open('integration_dump.pkl','rb') as fn_dump:\n",
    "    states, states_daily_incid, ncompartments, nspatial_nodes, ndays, parameters, dt, transitions, proportion_info,  transition_sum_compartments, initial_conditions, seeding_data, seeding_amounts, mobility_data, mobility_row_indices, mobility_data_indices, population,  stochastic_p,  method = pickle.load(fn_dump)\n",
    "\n",
    "\n",
    "fnct_args = {\n",
    "    \"ncompartments\": ncompartments,\n",
    "    \"nspatial_nodes\": nspatial_nodes,\n",
    "    \"ndays\": ndays,\n",
    "    \"parameters\": parameters,\n",
    "    \"dt\": dt,\n",
    "    \"transitions\": transitions,\n",
    "    \"proportion_info\": proportion_info,\n",
    "    \"transition_sum_compartments\": transition_sum_compartments,\n",
    "    \"initial_conditions\": initial_conditions,\n",
    "    \"seeding_data\": seeding_data,\n",
    "    \"seeding_amounts\": seeding_amounts,\n",
    "    \"mobility_data\": mobility_data,\n",
    "    \"mobility_row_indices\": mobility_row_indices,\n",
    "    \"mobility_data_indices\": mobility_data_indices,\n",
    "    \"population\": population,\n",
    "    \"stochastic_p\": stochastic_p,\n",
    "}\n",
    "\n",
    "states_raw = gempyor.steps_rk4.rk4_integration(\n",
    "**fnct_args\n",
    ")\n",
    "\n",
    "states, states_daily_incid = states_raw"
   ]
  },
  {
   "cell_type": "code",
   "execution_count": null,
   "id": "487f1609-d4ff-4905-b931-c7cbacb371b8",
   "metadata": {
    "tags": []
   },
   "outputs": [],
   "source": []
  },
  {
   "cell_type": "code",
   "execution_count": 4,
   "id": "792110a2-ef16-46bf-ad79-319f4b244c22",
   "metadata": {
    "execution": {
     "iopub.execute_input": "2022-06-29T21:04:44.836575Z",
     "iopub.status.busy": "2022-06-29T21:04:44.836209Z",
     "iopub.status.idle": "2022-06-29T21:04:45.009768Z",
     "shell.execute_reply": "2022-06-29T21:04:45.009037Z",
     "shell.execute_reply.started": "2022-06-29T21:04:44.836521Z"
    },
    "tags": []
   },
   "outputs": [
    {
     "data": {
      "text/plain": [
       "False"
      ]
     },
     "execution_count": 4,
     "metadata": {},
     "output_type": "execute_result"
    }
   ],
   "source": [
    "error = False\n",
    "## Perform some checks:\n",
    "if np.isnan(states_daily_incid).any() or np.isnan(states).any():\n",
    "    print(\n",
    "        \"Integration error: NaN detected in epidemic integration result. Failing...\"\n",
    "    )\n",
    "    error = True\n",
    "if not (np.isfinite(states_daily_incid).all() and np.isfinite(states).all()):\n",
    "    print(\n",
    "        \"Integration error: Inf detected in epidemic integration result. Failing...\"\n",
    "    )\n",
    "    error = True\n",
    "if (states_daily_incid < 0).any() or (states < 0).any():\n",
    "    print(\n",
    "        \"Integration error: negative values detected in epidemic integration result. Failing...\"\n",
    "    )\n",
    "    # todo: this, but smart so it doesn't fail if empty array\n",
    "    # print(\n",
    "    #    f\"STATES: NNZ:{states[states < 0].size}/{states.size}, max:{np.max(states[states < 0])}, min:{np.min(states[states < 0])}, mean:{np.mean(states[states < 0])} median:{np.median(states[states < 0])}\"\n",
    "    # )\n",
    "    # print(\n",
    "    #    f\"STATES_incid: NNZ:{states_daily_incid[states_daily_incid < 0].size}/{states_daily_incid.size}, max:{np.max(states_daily_incid[states_daily_incid < 0])}, min:{np.min(states_daily_incid[states_daily_incid < 0])}, mean:#{np.mean(states_daily_incid[states_daily_incid < 0])} median:{np.median(states_daily_incid[states_daily_incid < 0])}\"\n",
    "    # )\n",
    "    error = True\n",
    "error"
   ]
  },
  {
   "cell_type": "code",
   "execution_count": null,
   "id": "6e1f88bb-d86b-4633-9f2f-df0d60ccca1f",
   "metadata": {
    "tags": []
   },
   "outputs": [],
   "source": []
  },
  {
   "cell_type": "code",
   "execution_count": null,
   "id": "2e5294d8-4a69-4713-951b-48d86e58854e",
   "metadata": {
    "tags": []
   },
   "outputs": [],
   "source": []
  },
  {
   "cell_type": "code",
   "execution_count": 5,
   "id": "579dc9f4-bb04-44a1-bd41-d8ad19b52b85",
   "metadata": {
    "execution": {
     "iopub.execute_input": "2022-06-29T21:04:45.011756Z",
     "iopub.status.busy": "2022-06-29T21:04:45.011421Z",
     "iopub.status.idle": "2022-06-29T21:04:48.378818Z",
     "shell.execute_reply": "2022-06-29T21:04:48.378175Z",
     "shell.execute_reply.started": "2022-06-29T21:04:45.011729Z"
    },
    "tags": []
   },
   "outputs": [],
   "source": [
    "out_df = gempyor.seir.states2Df(gempyor_simulator.s,  states_raw)\n",
    "e_new = out_df[(out_df['mc_value_type'] == 'incidence') & (out_df['mc_infection_stage'] == 'E')]\n",
    "e_new = e_new.reset_index(drop=True).groupby('date').sum()\n"
   ]
  },
  {
   "cell_type": "code",
   "execution_count": 6,
   "id": "7ac270c0-9489-4d5f-bc5a-bc40a305b3b4",
   "metadata": {
    "execution": {
     "iopub.execute_input": "2022-06-29T21:04:48.380058Z",
     "iopub.status.busy": "2022-06-29T21:04:48.379736Z",
     "iopub.status.idle": "2022-06-29T21:04:48.721385Z",
     "shell.execute_reply": "2022-06-29T21:04:48.716348Z",
     "shell.execute_reply.started": "2022-06-29T21:04:48.380034Z"
    },
    "tags": []
   },
   "outputs": [
    {
     "ename": "ValueError",
     "evalue": "zero-size array to reduction operation maximum which has no identity",
     "output_type": "error",
     "traceback": [
      "\u001b[0;31m---------------------------------------------------------------------------\u001b[0m",
      "\u001b[0;31mValueError\u001b[0m                                Traceback (most recent call last)",
      "\u001b[0;32m/var/folders/y5/jj4qlxkx619gkh07d2zt6h840000gn/T/ipykernel_81026/3533879235.py\u001b[0m in \u001b[0;36m<module>\u001b[0;34m\u001b[0m\n\u001b[1;32m      1\u001b[0m print(\n\u001b[0;32m----> 2\u001b[0;31m     \u001b[0;34mf\"STATES: NNZ:{states[states < 0].size}/{states.size}, max:{np.max(states[states < 0])}, min:{np.min(states[states < 0])}, mean:{np.mean(states[states < 0])} median:{np.median(states[states < 0])}\"\u001b[0m\u001b[0;34m\u001b[0m\u001b[0;34m\u001b[0m\u001b[0m\n\u001b[0m\u001b[1;32m      3\u001b[0m )\n\u001b[1;32m      4\u001b[0m print(\n\u001b[1;32m      5\u001b[0m     \u001b[0;34mf\"STATES_incid: NNZ:{states_daily_incid[states_daily_incid < 0].size}/{states_daily_incid.size}, max:{np.max(states_daily_incid[states_daily_incid < 0])}, min:{np.min(states_daily_incid[states_daily_incid < 0])}, mean:{np.mean(states_daily_incid[states_daily_incid < 0])} median:{np.median(states_daily_incid[states_daily_incid < 0])}\"\u001b[0m\u001b[0;34m\u001b[0m\u001b[0;34m\u001b[0m\u001b[0m\n",
      "\u001b[0;32m<__array_function__ internals>\u001b[0m in \u001b[0;36mamax\u001b[0;34m(*args, **kwargs)\u001b[0m\n",
      "\u001b[0;32m~/opt/miniconda3/envs/covidSProd6/lib/python3.9/site-packages/numpy/core/fromnumeric.py\u001b[0m in \u001b[0;36mamax\u001b[0;34m(a, axis, out, keepdims, initial, where)\u001b[0m\n\u001b[1;32m   2752\u001b[0m     \u001b[0;36m5\u001b[0m\u001b[0;34m\u001b[0m\u001b[0;34m\u001b[0m\u001b[0m\n\u001b[1;32m   2753\u001b[0m     \"\"\"\n\u001b[0;32m-> 2754\u001b[0;31m     return _wrapreduction(a, np.maximum, 'max', axis, None, out,\n\u001b[0m\u001b[1;32m   2755\u001b[0m                           keepdims=keepdims, initial=initial, where=where)\n\u001b[1;32m   2756\u001b[0m \u001b[0;34m\u001b[0m\u001b[0m\n",
      "\u001b[0;32m~/opt/miniconda3/envs/covidSProd6/lib/python3.9/site-packages/numpy/core/fromnumeric.py\u001b[0m in \u001b[0;36m_wrapreduction\u001b[0;34m(obj, ufunc, method, axis, dtype, out, **kwargs)\u001b[0m\n\u001b[1;32m     84\u001b[0m                 \u001b[0;32mreturn\u001b[0m \u001b[0mreduction\u001b[0m\u001b[0;34m(\u001b[0m\u001b[0maxis\u001b[0m\u001b[0;34m=\u001b[0m\u001b[0maxis\u001b[0m\u001b[0;34m,\u001b[0m \u001b[0mout\u001b[0m\u001b[0;34m=\u001b[0m\u001b[0mout\u001b[0m\u001b[0;34m,\u001b[0m \u001b[0;34m**\u001b[0m\u001b[0mpasskwargs\u001b[0m\u001b[0;34m)\u001b[0m\u001b[0;34m\u001b[0m\u001b[0;34m\u001b[0m\u001b[0m\n\u001b[1;32m     85\u001b[0m \u001b[0;34m\u001b[0m\u001b[0m\n\u001b[0;32m---> 86\u001b[0;31m     \u001b[0;32mreturn\u001b[0m \u001b[0mufunc\u001b[0m\u001b[0;34m.\u001b[0m\u001b[0mreduce\u001b[0m\u001b[0;34m(\u001b[0m\u001b[0mobj\u001b[0m\u001b[0;34m,\u001b[0m \u001b[0maxis\u001b[0m\u001b[0;34m,\u001b[0m \u001b[0mdtype\u001b[0m\u001b[0;34m,\u001b[0m \u001b[0mout\u001b[0m\u001b[0;34m,\u001b[0m \u001b[0;34m**\u001b[0m\u001b[0mpasskwargs\u001b[0m\u001b[0;34m)\u001b[0m\u001b[0;34m\u001b[0m\u001b[0;34m\u001b[0m\u001b[0m\n\u001b[0m\u001b[1;32m     87\u001b[0m \u001b[0;34m\u001b[0m\u001b[0m\n\u001b[1;32m     88\u001b[0m \u001b[0;34m\u001b[0m\u001b[0m\n",
      "\u001b[0;31mValueError\u001b[0m: zero-size array to reduction operation maximum which has no identity"
     ]
    }
   ],
   "source": [
    "\n",
    "print(\n",
    "    f\"STATES: NNZ:{states[states < 0].size}/{states.size}, max:{np.max(states[states < 0])}, min:{np.min(states[states < 0])}, mean:{np.mean(states[states < 0])} median:{np.median(states[states < 0])}\"\n",
    ")\n",
    "print(\n",
    "    f\"STATES_incid: NNZ:{states_daily_incid[states_daily_incid < 0].size}/{states_daily_incid.size}, max:{np.max(states_daily_incid[states_daily_incid < 0])}, min:{np.min(states_daily_incid[states_daily_incid < 0])}, mean:{np.mean(states_daily_incid[states_daily_incid < 0])} median:{np.median(states_daily_incid[states_daily_incid < 0])}\"\n",
    ")"
   ]
  },
  {
   "cell_type": "code",
   "execution_count": null,
   "id": "4c0b339b-d938-40ab-8acb-6a67e7de2a83",
   "metadata": {
    "execution": {
     "iopub.status.busy": "2022-06-29T21:04:48.722011Z",
     "iopub.status.idle": "2022-06-29T21:04:48.722257Z",
     "shell.execute_reply": "2022-06-29T21:04:48.722131Z",
     "shell.execute_reply.started": "2022-06-29T21:04:48.722118Z"
    },
    "tags": []
   },
   "outputs": [],
   "source": [
    "# it's nan maybe ?\n",
    "print(np.isnan(states).sum() / states.size)\n",
    "print(states[states < 0].size / states.size)"
   ]
  },
  {
   "cell_type": "code",
   "execution_count": null,
   "id": "d8382ab6-41f6-4479-8423-b21867c8d6c6",
   "metadata": {
    "execution": {
     "iopub.status.busy": "2022-06-29T21:04:48.723034Z",
     "iopub.status.idle": "2022-06-29T21:04:48.723344Z",
     "shell.execute_reply": "2022-06-29T21:04:48.723196Z",
     "shell.execute_reply.started": "2022-06-29T21:04:48.723181Z"
    },
    "tags": []
   },
   "outputs": [],
   "source": [
    "\n",
    "print(np.isnan(states_daily_incid).sum() / states_daily_incid.size)\n",
    "print(states[states_daily_incid < 0].size / states_daily_incid.size)\n",
    "np.isfinite(states_daily_incid).all()"
   ]
  },
  {
   "cell_type": "code",
   "execution_count": null,
   "id": "d81c3bca-f903-4774-a092-f5e0f7c2d407",
   "metadata": {
    "execution": {
     "iopub.status.busy": "2022-06-29T21:04:48.724268Z",
     "iopub.status.idle": "2022-06-29T21:04:48.724497Z",
     "shell.execute_reply": "2022-06-29T21:04:48.724374Z",
     "shell.execute_reply.started": "2022-06-29T21:04:48.724362Z"
    },
    "tags": []
   },
   "outputs": [],
   "source": [
    "states.shape # n_days, n_compartments, n_spatial nodes"
   ]
  },
  {
   "cell_type": "code",
   "execution_count": null,
   "id": "f8861280-16f8-4797-85cd-203cd97ccaf5",
   "metadata": {
    "execution": {
     "iopub.status.busy": "2022-06-29T21:04:48.725374Z",
     "iopub.status.idle": "2022-06-29T21:04:48.725607Z",
     "shell.execute_reply": "2022-06-29T21:04:48.725482Z",
     "shell.execute_reply.started": "2022-06-29T21:04:48.725470Z"
    },
    "tags": []
   },
   "outputs": [],
   "source": [
    "np.nonzero(np.isnan(states))"
   ]
  },
  {
   "cell_type": "code",
   "execution_count": null,
   "id": "22897ce0-de47-409a-8d16-98f2a9c06963",
   "metadata": {
    "execution": {
     "iopub.status.busy": "2022-06-29T21:04:48.726416Z",
     "iopub.status.idle": "2022-06-29T21:04:48.726797Z",
     "shell.execute_reply": "2022-06-29T21:04:48.726626Z",
     "shell.execute_reply.started": "2022-06-29T21:04:48.726610Z"
    },
    "tags": []
   },
   "outputs": [],
   "source": [
    "states[41,0,0]33"
   ]
  },
  {
   "cell_type": "code",
   "execution_count": null,
   "id": "28c786e2-5a23-4e92-bace-91f40aafc3bd",
   "metadata": {
    "execution": {
     "iopub.status.busy": "2022-06-29T21:04:48.727636Z",
     "iopub.status.idle": "2022-06-29T21:04:48.727864Z",
     "shell.execute_reply": "2022-06-29T21:04:48.727742Z",
     "shell.execute_reply.started": "2022-06-29T21:04:48.727730Z"
    },
    "tags": []
   },
   "outputs": [],
   "source": [
    "setup= gempyor_simulator.s\n",
    "sim_id=0\n",
    "seeding = pd.read_csv(\n",
    "                setup.get_input_filename(\n",
    "                    ftype=setup.seeding_config[\"seeding_file_type\"],\n",
    "                    sim_id=sim_id,\n",
    "                    extension_override=\"csv\",\n",
    "                ),\n",
    "                converters={\"place\": lambda x: str(x)},\n",
    "                parse_dates=[\"date\"],\n",
    "            )\n",
    "amounts = seeding[\"amount\"]\n",
    "seeding = seeding.sort_values(by=\"date\", axis=\"index\").reset_index()\n",
    "amounts"
   ]
  },
  {
   "cell_type": "code",
   "execution_count": null,
   "id": "996c22e0-0851-43b2-acce-812063aefb81",
   "metadata": {
    "execution": {
     "iopub.status.busy": "2022-06-29T21:04:48.728942Z",
     "iopub.status.idle": "2022-06-29T21:04:48.729275Z",
     "shell.execute_reply": "2022-06-29T21:04:48.729142Z",
     "shell.execute_reply.started": "2022-06-29T21:04:48.729126Z"
    },
    "tags": []
   },
   "outputs": [],
   "source": [
    "seeding_dict, seeding_amounts = gempyor.seeding_ic._DataFrame2NumbaDict(df=seeding, amounts=amounts, setup=setup)"
   ]
  },
  {
   "cell_type": "code",
   "execution_count": null,
   "id": "3f54b15b-0b0f-4c9d-9336-3388f1e20b40",
   "metadata": {
    "execution": {
     "iopub.status.busy": "2022-06-29T21:04:48.730214Z",
     "iopub.status.idle": "2022-06-29T21:04:48.730447Z",
     "shell.execute_reply": "2022-06-29T21:04:48.730325Z",
     "shell.execute_reply.started": "2022-06-29T21:04:48.730313Z"
    },
    "tags": []
   },
   "outputs": [],
   "source": [
    "seeding_amounts"
   ]
  },
  {
   "cell_type": "code",
   "execution_count": null,
   "id": "8c12022d-7068-49fa-a1e3-f85a630c571a",
   "metadata": {
    "execution": {
     "iopub.status.busy": "2022-06-29T21:04:48.731631Z",
     "iopub.status.idle": "2022-06-29T21:04:48.732085Z",
     "shell.execute_reply": "2022-06-29T21:04:48.731941Z",
     "shell.execute_reply.started": "2022-06-29T21:04:48.731924Z"
    },
    "tags": []
   },
   "outputs": [],
   "source": [
    "gempyor_simulator.s.seedingAndIC.draw_seeding(0, setup= gempyor_simulator.s)"
   ]
  },
  {
   "cell_type": "code",
   "execution_count": null,
   "id": "1d39a8ef-c589-41e5-8726-367de05809d4",
   "metadata": {
    "execution": {
     "iopub.status.busy": "2022-06-29T21:04:48.733047Z",
     "iopub.status.idle": "2022-06-29T21:04:48.733472Z",
     "shell.execute_reply": "2022-06-29T21:04:48.733321Z",
     "shell.execute_reply.started": "2022-06-29T21:04:48.733277Z"
    },
    "tags": []
   },
   "outputs": [],
   "source": [
    "seeding_data"
   ]
  },
  {
   "cell_type": "code",
   "execution_count": null,
   "id": "fe263dba-297d-4479-b975-e1ecc2474309",
   "metadata": {
    "execution": {
     "iopub.status.busy": "2022-06-29T21:04:48.734477Z",
     "iopub.status.idle": "2022-06-29T21:04:48.734933Z",
     "shell.execute_reply": "2022-06-29T21:04:48.734782Z",
     "shell.execute_reply.started": "2022-06-29T21:04:48.734766Z"
    },
    "tags": []
   },
   "outputs": [],
   "source": [
    "gempyor_simulator.plot_transition_graph(output_file=\"full_graph\")"
   ]
  },
  {
   "cell_type": "code",
   "execution_count": null,
   "id": "4a6b9ab4-eb7a-46ec-84b5-29a730563fb1",
   "metadata": {
    "execution": {
     "iopub.status.busy": "2022-06-29T21:04:48.735767Z",
     "iopub.status.idle": "2022-06-29T21:04:48.735995Z",
     "shell.execute_reply": "2022-06-29T21:04:48.735874Z",
     "shell.execute_reply.started": "2022-06-29T21:04:48.735862Z"
    },
    "tags": []
   },
   "outputs": [],
   "source": [
    "gempyor_simulator.plot_transition_graph(\n",
    "    output_file=\"readable_graph\",\n",
    "    source_filters=[[\"age0to17\"], [\"OMICRON\", \"WILD\"]],\n",
    "    destination_filters=[[\"OMICRON\", \"WILD\"]],\n",
    ")"
   ]
  },
  {
   "cell_type": "code",
   "execution_count": null,
   "id": "89c35cd9-e557-4459-8340-aa4944f08eb7",
   "metadata": {
    "execution": {
     "iopub.status.busy": "2022-06-29T21:04:48.737168Z",
     "iopub.status.idle": "2022-06-29T21:04:48.737393Z",
     "shell.execute_reply": "2022-06-29T21:04:48.737274Z",
     "shell.execute_reply.started": "2022-06-29T21:04:48.737262Z"
    },
    "tags": []
   },
   "outputs": [],
   "source": [
    "comp_to_plot = \"I1\" #[\"S\", \"E\", \"I1\", \"I2\", \"I3\", \"R\", \"W\"] \n",
    "vt= 'incidence'\n",
    "all_S = out_df[(out_df['mc_value_type'] == vt) & (out_df['mc_infection_stage'] == comp_to_plot)].reset_index(drop=True).groupby('date').sum()\n",
    "import matplotlib.pyplot as plt\n",
    "import datetime\n",
    "\n",
    "\n",
    "fig, ax = plt.subplots(1,1, figsize=(16,7))\n",
    "ax.plot(all_S)\n",
    "ax.grid()\n",
    "\n",
    "fig, ax = plt.subplots(1,1, figsize=(16,7))\n",
    "ax.plot(all_S)\n",
    "ax.set_xlim(gempyor_simulator.s.ti +datetime.timedelta(0), gempyor_simulator.s.ti+datetime.timedelta(3))\n",
    "ax.grid()\n",
    "\n",
    "fig, ax = plt.subplots(1,1, figsize=(16,7))\n",
    "ax.plot(all_S)\n",
    "ax.set_ylim(0, 1e6)\n",
    "ax.set_xlim(gempyor_simulator.s.ti +datetime.timedelta(31), gempyor_simulator.s.ti+datetime.timedelta(50))\n",
    "ax.grid()\n",
    "\n",
    "\n"
   ]
  },
  {
   "cell_type": "code",
   "execution_count": null,
   "id": "b66a32c4-d795-48c3-9124-d8e6f2208dd7",
   "metadata": {
    "execution": {
     "iopub.status.busy": "2022-06-29T21:04:48.738310Z",
     "iopub.status.idle": "2022-06-29T21:04:48.738539Z",
     "shell.execute_reply": "2022-06-29T21:04:48.738417Z",
     "shell.execute_reply.started": "2022-06-29T21:04:48.738405Z"
    },
    "tags": []
   },
   "outputs": [],
   "source": [
    "#plot pop\n",
    "all_S = out_df[(out_df['mc_value_type'] == 'prevalence')].reset_index(drop=True).groupby('date').sum()\n",
    "\n",
    "\n",
    "fig, ax = plt.subplots(1,1, figsize=(16,7))\n",
    "ax.plot(all_S)\n",
    "\n",
    "ax.grid()\n"
   ]
  },
  {
   "cell_type": "code",
   "execution_count": null,
   "id": "99acda64-a229-4f9d-a448-a50b66a063ce",
   "metadata": {
    "execution": {
     "iopub.status.busy": "2022-06-29T21:04:48.739374Z",
     "iopub.status.idle": "2022-06-29T21:04:48.739732Z",
     "shell.execute_reply": "2022-06-29T21:04:48.739600Z",
     "shell.execute_reply.started": "2022-06-29T21:04:48.739583Z"
    },
    "tags": []
   },
   "outputs": [],
   "source": [
    "comp_to_plot = \"3dose\"#\"3dose\" #[\"S\", \"E\", \"I1\", \"I2\", \"I3\", \"R\", \"W\"] \n",
    "vt= 'prevalence'\n",
    "all_S = out_df[(out_df['mc_value_type'] == vt) & (out_df['mc_vaccination_stage'] == comp_to_plot)].reset_index(drop=True).groupby('date').sum()\n",
    "import matplotlib.pyplot as plt\n",
    "import datetime\n",
    "\n",
    "\n",
    "fig, ax = plt.subplots(1,1, figsize=(16,7))\n",
    "ax.plot(all_S)\n",
    "ax.grid()\n",
    "\n",
    "fig, ax = plt.subplots(1,1, figsize=(16,7))\n",
    "ax.plot(all_S)\n",
    "ax.set_xlim(gempyor_simulator.s.ti +datetime.timedelta(0), gempyor_simulator.s.ti+datetime.timedelta(3))\n",
    "ax.grid()\n",
    "\n",
    "fig, ax = plt.subplots(1,1, figsize=(16,7))\n",
    "ax.plot(all_S)\n",
    "ax.set_ylim(0, 1e6)\n",
    "ax.set_xlim(gempyor_simulator.s.ti +datetime.timedelta(31), gempyor_simulator.s.ti+datetime.timedelta(50))\n",
    "ax.grid()"
   ]
  },
  {
   "cell_type": "code",
   "execution_count": null,
   "id": "3d224281-ea18-448c-9297-712204256252",
   "metadata": {
    "execution": {
     "iopub.status.busy": "2022-06-29T21:04:48.740662Z",
     "iopub.status.idle": "2022-06-29T21:04:48.740894Z",
     "shell.execute_reply": "2022-06-29T21:04:48.740771Z",
     "shell.execute_reply.started": "2022-06-29T21:04:48.740759Z"
    },
    "tags": []
   },
   "outputs": [],
   "source": [
    "out_df[(out_df['mc_value_type'] == 'incidence') & (out_df['mc_name'] == 'S_unvaccinated_WILD_age18to64')].to_csv('test.csv')"
   ]
  },
  {
   "cell_type": "code",
   "execution_count": null,
   "id": "6c1f7946-74f5-496e-9307-4a160aa12695",
   "metadata": {
    "execution": {
     "iopub.status.busy": "2022-06-29T21:04:48.742003Z",
     "iopub.status.idle": "2022-06-29T21:04:48.742305Z",
     "shell.execute_reply": "2022-06-29T21:04:48.742178Z",
     "shell.execute_reply.started": "2022-06-29T21:04:48.742164Z"
    },
    "tags": []
   },
   "outputs": [],
   "source": [
    "npi_seir = gempyor_simulator.get_seir_npi(load_ID=True, sim_id2load=0)"
   ]
  },
  {
   "cell_type": "code",
   "execution_count": null,
   "id": "1d9fef9d-f02a-4ac9-acff-09700463f146",
   "metadata": {
    "execution": {
     "iopub.status.busy": "2022-06-29T21:04:48.743239Z",
     "iopub.status.idle": "2022-06-29T21:04:48.743524Z",
     "shell.execute_reply": "2022-06-29T21:04:48.743399Z",
     "shell.execute_reply.started": "2022-06-29T21:04:48.743385Z"
    },
    "tags": []
   },
   "outputs": [],
   "source": [
    "\n",
    "params_draw_arr = gempyor_simulator.get_seir_parameters(load_ID=True, sim_id2load=0)  # could also accept (load_ID=True, sim_id2load=XXX) or (bypass_DF=<some_spar_df>) or (bypass_FN=<some_spar_filename>)\n",
    "parameters = gempyor_simulator.get_seir_parameter_reduced(npi_seir=npi_seir, p_draw=params_draw_arr)  # this is a df. TODO: make it also as.df as option\n",
    "parameters =  gempyor_simulator.s.parameters.parameters_reduce(params_draw_arr, npi_seir)\n",
    "parsed_parameters = gempyor_simulator.s.compartments.parse_parameters(\n",
    "                    parameters, gempyor_simulator.s.parameters.pnames, gempyor_simulator.unique_strings\n",
    "                )"
   ]
  },
  {
   "cell_type": "code",
   "execution_count": null,
   "id": "30d8b942-f632-4b37-b76e-07975d6fe025",
   "metadata": {
    "tags": []
   },
   "outputs": [],
   "source": []
  },
  {
   "cell_type": "code",
   "execution_count": null,
   "id": "9df95c31-a91e-4f68-b441-f7288f28d4f5",
   "metadata": {
    "execution": {
     "iopub.status.busy": "2022-06-29T21:04:48.744426Z",
     "iopub.status.idle": "2022-06-29T21:04:48.744719Z",
     "shell.execute_reply": "2022-06-29T21:04:48.744597Z",
     "shell.execute_reply.started": "2022-06-29T21:04:48.744584Z"
    },
    "tags": []
   },
   "outputs": [],
   "source": [
    "outcomes = gempyor.read_df('model_output/hosp/USA/inference/med/2022.06.21.14:47:23.UTC/global/intermediate/000000001.000000000.2022.06.21.14:47:23.UTC.hosp.parquet')"
   ]
  },
  {
   "cell_type": "code",
   "execution_count": null,
   "id": "328fe8d7-162a-4314-bb5f-6abc11564fba",
   "metadata": {
    "execution": {
     "iopub.status.busy": "2022-06-29T21:04:48.747170Z",
     "iopub.status.idle": "2022-06-29T21:04:48.747587Z",
     "shell.execute_reply": "2022-06-29T21:04:48.747435Z",
     "shell.execute_reply.started": "2022-06-29T21:04:48.747418Z"
    },
    "tags": []
   },
   "outputs": [],
   "source": [
    "outcomes[['date', 'geoid', 'incidC']].pivot(index='date', columns='geoid', values='incidC').plot(subplots=True, figsize=(5,30));"
   ]
  },
  {
   "cell_type": "code",
   "execution_count": null,
   "id": "c51accff-02f9-45f6-88c6-7d643def45e0",
   "metadata": {
    "execution": {
     "iopub.status.busy": "2022-06-29T21:04:48.748710Z",
     "iopub.status.idle": "2022-06-29T21:04:48.748993Z",
     "shell.execute_reply": "2022-06-29T21:04:48.748865Z",
     "shell.execute_reply.started": "2022-06-29T21:04:48.748850Z"
    },
    "tags": []
   },
   "outputs": [],
   "source": [
    "outcomes[['date', 'geoid', 'incidD']].pivot(index='date', columns='geoid', values='incidD').plot(subplots=True, figsize=(5,30));"
   ]
  },
  {
   "cell_type": "code",
   "execution_count": null,
   "id": "782abe80-bf1f-4e4a-9867-df7ffcdff9df",
   "metadata": {
    "execution": {
     "iopub.status.busy": "2022-06-29T21:04:48.750070Z",
     "iopub.status.idle": "2022-06-29T21:04:48.750403Z",
     "shell.execute_reply": "2022-06-29T21:04:48.750272Z",
     "shell.execute_reply.started": "2022-06-29T21:04:48.750258Z"
    },
    "tags": []
   },
   "outputs": [],
   "source": [
    "import pandas as pd\n",
    "import numpy as np\n",
    "import datetime\n",
    "import matplotlib.pyplot as plt\n",
    "import glob, os, sys\n",
    "from pathlib import Path\n",
    "\n",
    "# import seaborn as sns\n",
    "import matplotlib._color_data as mcd\n",
    "import pyarrow.parquet as pq\n",
    "import click\n",
    "\n",
    "import matplotlib.dates as mdates\n",
    "import matplotlib.cbook as cbook\n",
    "from matplotlib.backends.backend_pdf import PdfPages\n"
   ]
  },
  {
   "cell_type": "code",
   "execution_count": null,
   "id": "07557479-3652-4a15-b59e-0f5a6280ab0c",
   "metadata": {},
   "outputs": [],
   "source": []
  },
  {
   "cell_type": "code",
   "execution_count": null,
   "id": "d798a65d-e338-49ee-9544-5fe0b59994df",
   "metadata": {
    "tags": []
   },
   "outputs": [],
   "source": []
  },
  {
   "cell_type": "code",
   "execution_count": null,
   "id": "b6de593d-962a-4601-a148-b45b879936cf",
   "metadata": {
    "execution": {
     "iopub.status.busy": "2022-06-29T21:04:48.751447Z",
     "iopub.status.idle": "2022-06-29T21:04:48.751914Z",
     "shell.execute_reply": "2022-06-29T21:04:48.751757Z",
     "shell.execute_reply.started": "2022-06-29T21:04:48.751740Z"
    },
    "scrolled": true,
    "tags": []
   },
   "outputs": [],
   "source": [
    "pdf = PdfPages(f'Unique Parsed Parameter taking just nu for {config_filepath[:-4]}.pdf')\n",
    "d = pdf.infodict()\n",
    "d[\"Title\"] = \"parsed parameters\"\n",
    "d[\"Author\"] = \"jlemaitre\"\n",
    "\n",
    "for k,uniq_pname in enumerate(gempyor_simulator.unique_strings):\n",
    "    if 'nu' in uniq_pname:\n",
    "        fig, axes = plt.subplots(7, 8, figsize=(20, 30), sharex=True, sharey=True)\n",
    "        fig.suptitle(uniq_pname, fontsize=22)\n",
    "        print(uniq_pname)\n",
    "        for i, geoid in enumerate(gempyor_simulator.s.spatset.nodenames):\n",
    "            ax = axes.flat[i]\n",
    "            ax.set_title(geoid)\n",
    "            ax.grid()\n",
    "            df = pd.DataFrame(parsed_parameters[k,:,i], index=pd.date_range(gempyor_simulator.s.ti, gempyor_simulator.s.tf, freq=\"D\"))\n",
    "            ax.plot(df[:'2021-12-31'])\n",
    "            fig.autofmt_xdate()\n",
    "        fig.tight_layout()\n",
    "        pdf.savefig(fig)\n",
    "pdf.close()"
   ]
  },
  {
   "cell_type": "code",
   "execution_count": null,
   "id": "7e0ad6cd-ecc3-4766-96ae-954dee6f7587",
   "metadata": {
    "execution": {
     "iopub.status.busy": "2022-06-29T21:04:48.752987Z",
     "iopub.status.idle": "2022-06-29T21:04:48.753321Z",
     "shell.execute_reply": "2022-06-29T21:04:48.753186Z",
     "shell.execute_reply.started": "2022-06-29T21:04:48.753172Z"
    },
    "tags": []
   },
   "outputs": [],
   "source": [
    "gempyor_simulator.one_simulation(sim_id2write=6, load_ID=True, sim_id2load=5)"
   ]
  },
  {
   "cell_type": "code",
   "execution_count": null,
   "id": "09b34440-8a38-4191-aa24-a23c97e8c3b8",
   "metadata": {
    "execution": {
     "iopub.status.busy": "2022-06-29T21:04:48.754254Z",
     "iopub.status.idle": "2022-06-29T21:04:48.754558Z",
     "shell.execute_reply": "2022-06-29T21:04:48.754413Z",
     "shell.execute_reply.started": "2022-06-29T21:04:48.754397Z"
    },
    "tags": []
   },
   "outputs": [],
   "source": [
    "with open('integration_dump.pkl','rb') as fn_dump:\n",
    "    states, states_daily_incid, ncompartments, nspatial_nodes, ndays, parameters, dt, transitions, proportion_info,  transition_sum_compartments, initial_conditions, seeding_data, seeding_amounts, mobility_data, mobility_row_indices, mobility_data_indices, population,  stochastic_p,  method = pickle.load(fn_dump)"
   ]
  },
  {
   "cell_type": "code",
   "execution_count": null,
   "id": "af9e8aa5-621c-48fe-b1ce-00a076e64140",
   "metadata": {
    "execution": {
     "iopub.status.busy": "2022-06-29T21:04:48.755577Z",
     "iopub.status.idle": "2022-06-29T21:04:48.755855Z",
     "shell.execute_reply": "2022-06-29T21:04:48.755725Z",
     "shell.execute_reply.started": "2022-06-29T21:04:48.755712Z"
    },
    "tags": []
   },
   "outputs": [],
   "source": [
    "import numpy as np"
   ]
  },
  {
   "cell_type": "code",
   "execution_count": null,
   "id": "0b87728a-93c6-478e-923e-0ca9fcd00252",
   "metadata": {
    "execution": {
     "iopub.status.busy": "2022-06-29T21:04:48.756750Z",
     "iopub.status.idle": "2022-06-29T21:04:48.757100Z",
     "shell.execute_reply": "2022-06-29T21:04:48.756953Z",
     "shell.execute_reply.started": "2022-06-29T21:04:48.756936Z"
    },
    "tags": []
   },
   "outputs": [],
   "source": [
    "states[[states_daily_incid < 0]]"
   ]
  },
  {
   "cell_type": "code",
   "execution_count": null,
   "id": "ad4dc40a-b2ea-44a3-9012-0b2cf77a9d62",
   "metadata": {
    "execution": {
     "iopub.status.busy": "2022-06-29T21:04:48.758113Z",
     "iopub.status.idle": "2022-06-29T21:04:48.758411Z",
     "shell.execute_reply": "2022-06-29T21:04:48.758268Z",
     "shell.execute_reply.started": "2022-06-29T21:04:48.758253Z"
    },
    "tags": []
   },
   "outputs": [],
   "source": [
    "import numpy as np\n",
    "a = np.load('states_bf.npy')\n",
    "np.isnan(a).any()"
   ]
  },
  {
   "cell_type": "code",
   "execution_count": null,
   "id": "4affa022-e0a2-4f13-87ca-9a9a3ef71a6a",
   "metadata": {
    "execution": {
     "iopub.status.busy": "2022-06-29T21:04:48.759544Z",
     "iopub.status.idle": "2022-06-29T21:04:48.759830Z",
     "shell.execute_reply": "2022-06-29T21:04:48.759684Z",
     "shell.execute_reply.started": "2022-06-29T21:04:48.759669Z"
    },
    "tags": []
   },
   "outputs": [],
   "source": [
    "np.isfinite(-np.inf)"
   ]
  },
  {
   "cell_type": "code",
   "execution_count": null,
   "id": "49edb4df-cce7-4004-9d36-c0d15e699021",
   "metadata": {
    "execution": {
     "iopub.status.busy": "2022-06-29T21:04:48.760656Z",
     "iopub.status.idle": "2022-06-29T21:04:48.760895Z",
     "shell.execute_reply": "2022-06-29T21:04:48.760766Z",
     "shell.execute_reply.started": "2022-06-29T21:04:48.760754Z"
    },
    "tags": []
   },
   "outputs": [],
   "source": [
    "a[0][a[0] < 2] = -3"
   ]
  },
  {
   "cell_type": "code",
   "execution_count": null,
   "id": "19d4ec49-0939-49a5-8867-a2f5efbb3610",
   "metadata": {
    "execution": {
     "iopub.status.busy": "2022-06-29T21:04:48.761940Z",
     "iopub.status.idle": "2022-06-29T21:04:48.762220Z",
     "shell.execute_reply": "2022-06-29T21:04:48.762085Z",
     "shell.execute_reply.started": "2022-06-29T21:04:48.762071Z"
    },
    "tags": []
   },
   "outputs": [],
   "source": [
    "out_df = gempyor.seir.states2Df(gempyor_simulator.s,  gempyor_simulator.debug_states)\n",
    "out_df[(out_df['mc_value_type'] == 'incidence') & (out_df['mc_infection_stage'] == 'E')].isna().any().any()"
   ]
  },
  {
   "cell_type": "code",
   "execution_count": null,
   "id": "dc2b13dd-1b71-4b51-9b4c-c5905469fda7",
   "metadata": {
    "execution": {
     "iopub.status.busy": "2022-06-29T21:04:48.763245Z",
     "iopub.status.idle": "2022-06-29T21:04:48.763520Z",
     "shell.execute_reply": "2022-06-29T21:04:48.763392Z",
     "shell.execute_reply.started": "2022-06-29T21:04:48.763378Z"
    },
    "tags": []
   },
   "outputs": [],
   "source": [
    "out_df = gempyor.seir.states2Df(gempyor_simulator.s,  gempyor_simulator.states)\n",
    "out_df[(out_df['mc_value_type'] == 'incidence') & (out_df['mc_infection_stage'] == 'E')].isna().any().any()"
   ]
  },
  {
   "cell_type": "code",
   "execution_count": null,
   "id": "b8795516-50b4-4123-b87b-0c549bb01235",
   "metadata": {
    "execution": {
     "iopub.status.busy": "2022-06-29T21:04:48.764481Z",
     "iopub.status.idle": "2022-06-29T21:04:48.764774Z",
     "shell.execute_reply": "2022-06-29T21:04:48.764649Z",
     "shell.execute_reply.started": "2022-06-29T21:04:48.764635Z"
    },
    "tags": []
   },
   "outputs": [],
   "source": [
    "e_old = out_df[(out_df['mc_value_type'] == 'incidence') & (out_df['mc_infection_stage'] == 'E')]\n",
    "e_old = e_old.reset_index(drop=True).groupby('date').sum()\n",
    "e_old.to_csv('old.csv')"
   ]
  },
  {
   "cell_type": "code",
   "execution_count": null,
   "id": "67d196fa-8b66-4ddd-8767-b1dc0632803b",
   "metadata": {
    "execution": {
     "iopub.status.busy": "2022-06-29T21:04:48.765536Z",
     "iopub.status.idle": "2022-06-29T21:04:48.765764Z",
     "shell.execute_reply": "2022-06-29T21:04:48.765642Z",
     "shell.execute_reply.started": "2022-06-29T21:04:48.765630Z"
    },
    "tags": []
   },
   "outputs": [],
   "source": [
    "e_new = out_df[(out_df['mc_value_type'] == 'incidence') & (out_df['mc_infection_stage'] == 'E')]\n",
    "e_new = e_new.reset_index(drop=True).groupby('date').sum()"
   ]
  },
  {
   "cell_type": "code",
   "execution_count": null,
   "id": "3d23f2e5-94ff-40b2-8f4b-a64b31891fcb",
   "metadata": {
    "tags": []
   },
   "outputs": [],
   "source": []
  },
  {
   "cell_type": "code",
   "execution_count": null,
   "id": "9defd038-81ea-48b2-b56d-67fb6aa7c604",
   "metadata": {
    "tags": []
   },
   "outputs": [],
   "source": []
  },
  {
   "cell_type": "code",
   "execution_count": null,
   "id": "6fb2562a-768b-45ac-8d13-d3a08617c812",
   "metadata": {
    "execution": {
     "iopub.status.busy": "2022-06-29T21:04:48.766619Z",
     "iopub.status.idle": "2022-06-29T21:04:48.766968Z",
     "shell.execute_reply": "2022-06-29T21:04:48.766846Z",
     "shell.execute_reply.started": "2022-06-29T21:04:48.766832Z"
    },
    "tags": []
   },
   "outputs": [],
   "source": [
    "e_old"
   ]
  },
  {
   "cell_type": "code",
   "execution_count": null,
   "id": "5eb30fd8-6641-4150-a679-fa3772a99901",
   "metadata": {
    "execution": {
     "iopub.status.busy": "2022-06-29T21:04:48.767758Z",
     "iopub.status.idle": "2022-06-29T21:04:48.767982Z",
     "shell.execute_reply": "2022-06-29T21:04:48.767862Z",
     "shell.execute_reply.started": "2022-06-29T21:04:48.767850Z"
    },
    "tags": []
   },
   "outputs": [],
   "source": [
    "import pandas as pd\n",
    "import matplotlib.pyplot as plt\n",
    "e_old = pd.read_csv('old.csv').set_index('date', drop=True)\n",
    "e_old.index = pd.to_datetime(e_old.index)\n",
    "for i in e_old.columns:\n",
    "    plt.figure(figsize=(7,7))\n",
    "    ax = e_old[i].plot(lw=3)\n",
    "    e_new[i].plot(ax=ax, legend = 'good')\n",
    "    "
   ]
  },
  {
   "cell_type": "code",
   "execution_count": null,
   "id": "82cf2390-5c38-464d-ae05-d845699e8ab5",
   "metadata": {
    "execution": {
     "iopub.status.busy": "2022-06-29T21:04:48.768776Z",
     "iopub.status.idle": "2022-06-29T21:04:48.769018Z",
     "shell.execute_reply": "2022-06-29T21:04:48.768885Z",
     "shell.execute_reply.started": "2022-06-29T21:04:48.768872Z"
    },
    "tags": []
   },
   "outputs": [],
   "source": [
    "for i in e_old.columns:\n",
    "    print(i)\n",
    "    print(e_old[i] - e_new[i])"
   ]
  },
  {
   "cell_type": "code",
   "execution_count": null,
   "id": "fa3aa510-3a6a-43a8-a3eb-2bc80a08b7c6",
   "metadata": {
    "execution": {
     "iopub.status.busy": "2022-06-29T21:04:48.769993Z",
     "iopub.status.idle": "2022-06-29T21:04:48.770346Z",
     "shell.execute_reply": "2022-06-29T21:04:48.770208Z",
     "shell.execute_reply.started": "2022-06-29T21:04:48.770193Z"
    },
    "tags": []
   },
   "outputs": [],
   "source": [
    "out_df = seir.postprocess_and_write(\n",
    "                        100, gempyor_simulator.s, gempyor_simulator.states, gempyor_simulator.p_draw, gempyor_simulator.npi_seir, gempyor_simulator.seeding_data\n",
    "                    )"
   ]
  },
  {
   "cell_type": "code",
   "execution_count": null,
   "id": "50209d37-7f4c-4b7d-ba00-6bfdf36a48fb",
   "metadata": {
    "execution": {
     "iopub.status.busy": "2022-06-29T21:04:48.771042Z",
     "iopub.status.idle": "2022-06-29T21:04:48.771273Z",
     "shell.execute_reply": "2022-06-29T21:04:48.771149Z",
     "shell.execute_reply.started": "2022-06-29T21:04:48.771137Z"
    },
    "tags": []
   },
   "outputs": [],
   "source": [
    "np.isnan(gempyor_simulator.seeding_amount).any()"
   ]
  },
  {
   "cell_type": "code",
   "execution_count": null,
   "id": "2b80f16d-d4aa-4213-88a9-03a925b741fc",
   "metadata": {
    "execution": {
     "iopub.status.busy": "2022-06-29T21:04:48.772116Z",
     "iopub.status.idle": "2022-06-29T21:04:48.772480Z",
     "shell.execute_reply": "2022-06-29T21:04:48.772341Z",
     "shell.execute_reply.started": "2022-06-29T21:04:48.772325Z"
    },
    "tags": []
   },
   "outputs": [],
   "source": [
    "np.isnan(gempyor_simulator.seeding_data['seeding_sources']).any()"
   ]
  },
  {
   "cell_type": "code",
   "execution_count": null,
   "id": "5a8e2470-2ae1-48e8-bd00-c8acc03b27b3",
   "metadata": {
    "execution": {
     "iopub.status.busy": "2022-06-29T21:04:48.773258Z",
     "iopub.status.idle": "2022-06-29T21:04:48.773501Z",
     "shell.execute_reply": "2022-06-29T21:04:48.773365Z",
     "shell.execute_reply.started": "2022-06-29T21:04:48.773352Z"
    },
    "tags": []
   },
   "outputs": [],
   "source": [
    "gempyor_simulator.seeding_data"
   ]
  },
  {
   "cell_type": "code",
   "execution_count": null,
   "id": "bdeadf52-92ae-4f75-ad29-d6abf861c9e9",
   "metadata": {
    "execution": {
     "iopub.status.busy": "2022-06-29T21:04:48.774413Z",
     "iopub.status.idle": "2022-06-29T21:04:48.774648Z",
     "shell.execute_reply": "2022-06-29T21:04:48.774520Z",
     "shell.execute_reply.started": "2022-06-29T21:04:48.774508Z"
    },
    "tags": []
   },
   "outputs": [],
   "source": [
    "a,b = gempyor_simulator.states"
   ]
  },
  {
   "cell_type": "code",
   "execution_count": null,
   "id": "0e3e5f9e-33e0-4b8e-adf4-938f8d74afe1",
   "metadata": {
    "execution": {
     "iopub.status.busy": "2022-06-29T21:04:48.775583Z",
     "iopub.status.idle": "2022-06-29T21:04:48.775935Z",
     "shell.execute_reply": "2022-06-29T21:04:48.775811Z",
     "shell.execute_reply.started": "2022-06-29T21:04:48.775798Z"
    },
    "tags": []
   },
   "outputs": [],
   "source": [
    "np.isnan(b).any()"
   ]
  },
  {
   "cell_type": "code",
   "execution_count": null,
   "id": "4bd02629-1e5e-4df9-9fda-233a43c32d1a",
   "metadata": {
    "execution": {
     "iopub.status.busy": "2022-06-29T21:04:48.776722Z",
     "iopub.status.idle": "2022-06-29T21:04:48.776959Z",
     "shell.execute_reply": "2022-06-29T21:04:48.776827Z",
     "shell.execute_reply.started": "2022-06-29T21:04:48.776815Z"
    },
    "tags": []
   },
   "outputs": [],
   "source": [
    "np.arange(0,2)[1]"
   ]
  },
  {
   "cell_type": "code",
   "execution_count": null,
   "id": "ef4a476b-2260-4270-9107-091758824460",
   "metadata": {
    "execution": {
     "iopub.status.busy": "2022-06-29T21:04:48.778143Z",
     "iopub.status.idle": "2022-06-29T21:04:48.778384Z",
     "shell.execute_reply": "2022-06-29T21:04:48.778260Z",
     "shell.execute_reply.started": "2022-06-29T21:04:48.778247Z"
    },
    "tags": []
   },
   "outputs": [],
   "source": [
    "gempyor.read_df('model_output/hosp/USA/inference/med/FCH_R12_optSev_lowIE_blk5_Mar13/global/final/000000005.000000006.FCH_R12_optSev_lowIE_blk5_Mar13.hosp.parquet').isna().any().any()"
   ]
  },
  {
   "cell_type": "code",
   "execution_count": null,
   "id": "41215c54-f4cb-4eed-9b4f-db455c6acad9",
   "metadata": {
    "execution": {
     "iopub.status.busy": "2022-06-29T21:04:48.779343Z",
     "iopub.status.idle": "2022-06-29T21:04:48.779570Z",
     "shell.execute_reply": "2022-06-29T21:04:48.779448Z",
     "shell.execute_reply.started": "2022-06-29T21:04:48.779436Z"
    },
    "tags": []
   },
   "outputs": [],
   "source": [
    " int(np.ceil(gempyor_simulator.s.dt))"
   ]
  },
  {
   "cell_type": "code",
   "execution_count": null,
   "id": "b244cb69-5dc5-4c86-8c6a-8a3769723cd2",
   "metadata": {
    "execution": {
     "iopub.status.busy": "2022-06-29T21:04:48.780666Z",
     "iopub.status.idle": "2022-06-29T21:04:48.780976Z",
     "shell.execute_reply": "2022-06-29T21:04:48.780849Z",
     "shell.execute_reply.started": "2022-06-29T21:04:48.780836Z"
    },
    "tags": []
   },
   "outputs": [],
   "source": [
    "gempyor_simulator.s.dt"
   ]
  },
  {
   "cell_type": "code",
   "execution_count": null,
   "id": "5b7c5991-1f58-421c-8765-b37d35acff68",
   "metadata": {},
   "outputs": [],
   "source": []
  },
  {
   "cell_type": "code",
   "execution_count": null,
   "id": "c29edf40-b0ab-4773-b956-85e1377ac682",
   "metadata": {},
   "outputs": [],
   "source": []
  },
  {
   "cell_type": "code",
   "execution_count": null,
   "id": "22d950ea-85ac-42d8-8b26-e3d38cc5ed10",
   "metadata": {
    "execution": {
     "iopub.status.busy": "2022-06-29T21:04:48.781920Z",
     "iopub.status.idle": "2022-06-29T21:04:48.782152Z",
     "shell.execute_reply": "2022-06-29T21:04:48.782029Z",
     "shell.execute_reply.started": "2022-06-29T21:04:48.782017Z"
    },
    "tags": []
   },
   "outputs": [],
   "source": [
    "gempyor_simulator.get_seir_npi()"
   ]
  },
  {
   "cell_type": "markdown",
   "id": "e965df56-657f-4ece-9e44-c344d21c9b0d",
   "metadata": {},
   "source": [
    "```python\n",
    "npi_seir = (\n",
    "    gempyor_simulator.get_seir_npi()\n",
    ")  # could also accept (load_ID=True, sim_id2load=XXX) or (bypass_DF=<some_snpi_df>) or (bypass_FN=<some_snpi_filename>)\n",
    "npi_outcome = (\n",
    "    gempyor_simulator.get_outcome_npi()\n",
    ")  # could also accept (load_ID=True, sim_id2load=XXX) or (bypass_DF=<some_hnpi_df>) or (bypass_FN=<some_hnpi_filename>)\n",
    "params_draw_df = (\n",
    "    gempyor_simulator.get_seir_parametersDF()\n",
    ")  # could also accept (load_ID=True, sim_id2load=XXX) or (bypass_DF=<some_spar_df>) or (bypass_FN=<some_spar_filename>)\n",
    "params_draw_arr = (\n",
    "    gempyor_simulator.get_seir_parameters()\n",
    ")  # could also accept (load_ID=True, sim_id2load=XXX) or (bypass_DF=<some_spar_df>) or (bypass_FN=<some_spar_filename>)\n",
    "param_reduc = gempyor_simulator.get_seir_parameter_reduced(\n",
    "    npi_seir=npi_seir\n",
    ")  # could also accept (load_ID=True, sim_id2load=XXX) or (bypass_DF=<some_spar_df>) or (bypass_FN=<some_spar_filename>)\n",
    "param_reduc_from = gempyor_simulator.get_seir_parameter_reduced(\n",
    "    npi_seir=npi_seir, p_draw=params_draw_arr\n",
    ")  # could also accept (load_ID=True, sim_id2load=XXX) or (bypass_DF=<some_spar_df>) or (bypass_FN=<some_spar_filename>)\n",
    "```"
   ]
  },
  {
   "cell_type": "code",
   "execution_count": null,
   "id": "f321ec9e-3105-491f-a129-b258b7216619",
   "metadata": {
    "execution": {
     "iopub.status.busy": "2022-06-29T21:04:48.783040Z",
     "iopub.status.idle": "2022-06-29T21:04:48.783280Z",
     "shell.execute_reply": "2022-06-29T21:04:48.783153Z",
     "shell.execute_reply.started": "2022-06-29T21:04:48.783141Z"
    },
    "tags": []
   },
   "outputs": [],
   "source": [
    "fn= \"model_output/hnpi/USA/inference/med/2022.03.18.11:03:20.CET/global/intermediate/000000001.000000000.2022.03.18.11:03:20.CET.hnpi.parquet\"\n",
    "df = gempyor.read_df(fn)\n",
    "df"
   ]
  },
  {
   "cell_type": "code",
   "execution_count": null,
   "id": "f37eb291-c490-4aa4-ac72-c27c5e3c1043",
   "metadata": {
    "execution": {
     "iopub.status.busy": "2022-06-29T21:04:48.784288Z",
     "iopub.status.idle": "2022-06-29T21:04:48.784660Z",
     "shell.execute_reply": "2022-06-29T21:04:48.784519Z",
     "shell.execute_reply.started": "2022-06-29T21:04:48.784502Z"
    },
    "tags": []
   },
   "outputs": [],
   "source": [
    "df[df[\"npi_name\"] == \"incidCshift_delta_R13\"]"
   ]
  },
  {
   "cell_type": "code",
   "execution_count": null,
   "id": "36b40763-947c-49af-a900-1f2ebd9ed394",
   "metadata": {
    "execution": {
     "iopub.status.busy": "2022-06-29T21:04:48.785707Z",
     "iopub.status.idle": "2022-06-29T21:04:48.786007Z",
     "shell.execute_reply": "2022-06-29T21:04:48.785875Z",
     "shell.execute_reply.started": "2022-06-29T21:04:48.785861Z"
    },
    "tags": []
   },
   "outputs": [],
   "source": [
    "c"
   ]
  },
  {
   "cell_type": "code",
   "execution_count": null,
   "id": "d10f88a5-9347-4716-9768-127e020c3940",
   "metadata": {
    "execution": {
     "iopub.status.busy": "2022-06-29T21:04:48.786891Z",
     "iopub.status.idle": "2022-06-29T21:04:48.787133Z",
     "shell.execute_reply": "2022-06-29T21:04:48.786999Z",
     "shell.execute_reply.started": "2022-06-29T21:04:48.786986Z"
    },
    "tags": []
   },
   "outputs": [],
   "source": [
    "npi_outcome = gempyor_simulator.get_outcome_npi(bypass_FN=fn)"
   ]
  },
  {
   "cell_type": "code",
   "execution_count": null,
   "id": "77b8d18a-103a-405f-8d17-b2e1dc996d48",
   "metadata": {
    "execution": {
     "iopub.status.busy": "2022-06-29T21:04:48.788024Z",
     "iopub.status.idle": "2022-06-29T21:04:48.788264Z",
     "shell.execute_reply": "2022-06-29T21:04:48.788132Z",
     "shell.execute_reply.started": "2022-06-29T21:04:48.788120Z"
    },
    "tags": []
   },
   "outputs": [],
   "source": [
    "gempyor_simulator.get_outcome_npi()"
   ]
  }
 ],
 "metadata": {
  "kernelspec": {
   "display_name": "Python (covidSProd6)",
   "language": "python",
   "name": "covidsprod6"
  },
  "language_info": {
   "codemirror_mode": {
    "name": "ipython",
    "version": 3
   },
   "file_extension": ".py",
   "mimetype": "text/x-python",
   "name": "python",
   "nbconvert_exporter": "python",
   "pygments_lexer": "ipython3",
   "version": "3.9.7"
  }
 },
 "nbformat": 4,
 "nbformat_minor": 5
}

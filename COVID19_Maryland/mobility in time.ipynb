{
 "cells": [
  {
   "cell_type": "code",
   "execution_count": 1,
   "metadata": {
    "scrolled": true
   },
   "outputs": [
    {
     "name": "stdout",
     "output_type": "stream",
     "text": [
      "Loading CSV mobility file...\n"
     ]
    }
   ],
   "source": [
    "import pandas as pd\n",
    "import numpy as np\n",
    "import datetime\n",
    "import os, pathlib\n",
    "import scipy.sparse\n",
    "from COVIDScenarioPipeline.SEIR.utils import config\n",
    "from COVIDScenarioPipeline.SEIR import seir, setup\n",
    "import matplotlib.pyplot as plt\n",
    "mobility_file = 'data/east-coast/MD_mobility_Feb16_Apr5.csv'\n",
    "\n",
    "config_file = 'config_mobility_noChange.yml'\n",
    "\n",
    "scenario = 'Uncontrolled_none_CSP'\n",
    "\n",
    "config.set_file(config_file)\n",
    "\n",
    "spatial_config = config[\"spatial_setup\"]\n",
    "spatial_base_path = pathlib.Path(spatial_config[\"base_path\"].get())\n",
    "\n",
    "s = setup.Setup(setup_name=config[\"name\"].get() + \"_\" + str(scenario),\n",
    "                        spatial_setup=setup.SpatialSetup(\n",
    "                            setup_name=spatial_config[\"setup_name\"].get(),\n",
    "                            geodata_file=spatial_base_path / spatial_config[\"geodata\"].get(),\n",
    "                            mobility_file=spatial_base_path / spatial_config[\"mobility\"].get(),\n",
    "                            popnodes_key=spatial_config[\"popnodes\"].get(),\n",
    "                            nodenames_key=spatial_config[\"nodenames\"].get(),\n",
    "                            ti=config[\"start_date\"].as_date(),\n",
    "                            tf=config[\"end_date\"].as_date()\n",
    "                            \n",
    "                        ),\n",
    "                        nsim=1,\n",
    "                        npi_scenario=scenario,\n",
    "                        npi_config=config[\"interventions\"][\"settings\"][scenario],\n",
    "                        seeding_config=config[\"seeding\"],\n",
    "                        ti=config[\"start_date\"].as_date(),\n",
    "                        tf=config[\"end_date\"].as_date(),\n",
    "                        interactive=False,\n",
    "                        write_csv=False,\n",
    "                        write_parquet=True,\n",
    "                        dt=config[\"dt\"].as_number())"
   ]
  },
  {
   "cell_type": "code",
   "execution_count": 7,
   "metadata": {},
   "outputs": [],
   "source": [
    "mobility_data = pd.read_csv(spatial_base_path / spatial_config[\"mobility\"].get(), converters={'ori': lambda x: str(x), 'dest': lambda x: str(x)}, parse_dates=['date'])\n",
    "mobility =  np.zeros(((s.tf - s.ti).days + 1, s.spatset.nnodes, s.spatset.nnodes))\n",
    "for index, row in mobility_data.iterrows():\n",
    "    mobility[(row['date'].date()-s.ti).days, s.spatset.nodenames.index(row['ori']), s.spatset.nodenames.index(row['dest'])] = row['amount']\n",
    "    if (s.spatset.nodenames.index(row['ori']) == s.spatset.nodenames.index(row['dest'])):\n",
    "        raise ValueError(f\"Mobility fluxes with same origin and destination: '{row['ori']}' to {row['dest']} in long form matrix. This is not supported\")\n",
    "\n",
    "#for t in range((tf - ti).days+1):\n",
    "#            if (self.mobility[t].sum() > self.popnodes).any(): \n",
    "#                print(f'Correcting matrix at time {t}...')\n",
    "#                print(self.mobility[t].sum()-self.popnodes)\n",
    "#                self.mobility[t][self.mobility[t].sum() > self.popnodes, :] = 0.1 * self.mobility[t][self.mobility[t].sum() > self.popnodes, :] *  self.popnodes/self.mobility[t].sum()"
   ]
  },
  {
   "cell_type": "code",
   "execution_count": 30,
   "metadata": {},
   "outputs": [
    {
     "data": {
      "text/plain": [
       "array([  0.,   0.,   0.,  24., 223.,  89., 923.,  15.,   0.,   0.,   0.,\n",
       "       144.,   0.,   0.,   0.,   4.,  10.,  25.,  65.,  10.,  74.,  29.,\n",
       "        15.,  15.])"
      ]
     },
     "execution_count": 30,
     "metadata": {},
     "output_type": "execute_result"
    }
   ],
   "source": [
    "mobility[0][0,:]"
   ]
  },
  {
   "cell_type": "code",
   "execution_count": 28,
   "metadata": {},
   "outputs": [
    {
     "data": {
      "text/plain": [
       "'24029'"
      ]
     },
     "execution_count": 28,
     "metadata": {},
     "output_type": "execute_result"
    }
   ],
   "source": [
    "s.spatset.nodenames[0]"
   ]
  },
  {
   "cell_type": "code",
   "execution_count": 22,
   "metadata": {},
   "outputs": [
    {
     "data": {
      "text/html": [
       "<div>\n",
       "<style scoped>\n",
       "    .dataframe tbody tr th:only-of-type {\n",
       "        vertical-align: middle;\n",
       "    }\n",
       "\n",
       "    .dataframe tbody tr th {\n",
       "        vertical-align: top;\n",
       "    }\n",
       "\n",
       "    .dataframe thead th {\n",
       "        text-align: right;\n",
       "    }\n",
       "</style>\n",
       "<table border=\"1\" class=\"dataframe\">\n",
       "  <thead>\n",
       "    <tr style=\"text-align: right;\">\n",
       "      <th></th>\n",
       "      <th>Unnamed: 0</th>\n",
       "      <th>ori</th>\n",
       "      <th>dest</th>\n",
       "      <th>date</th>\n",
       "      <th>amount</th>\n",
       "    </tr>\n",
       "  </thead>\n",
       "  <tbody>\n",
       "    <tr>\n",
       "      <th>0</th>\n",
       "      <td>1</td>\n",
       "      <td>24001</td>\n",
       "      <td>24003</td>\n",
       "      <td>2020-01-31</td>\n",
       "      <td>89</td>\n",
       "    </tr>\n",
       "    <tr>\n",
       "      <th>1</th>\n",
       "      <td>2</td>\n",
       "      <td>24001</td>\n",
       "      <td>24005</td>\n",
       "      <td>2020-01-31</td>\n",
       "      <td>43</td>\n",
       "    </tr>\n",
       "    <tr>\n",
       "      <th>2</th>\n",
       "      <td>3</td>\n",
       "      <td>24001</td>\n",
       "      <td>24013</td>\n",
       "      <td>2020-01-31</td>\n",
       "      <td>20</td>\n",
       "    </tr>\n",
       "    <tr>\n",
       "      <th>3</th>\n",
       "      <td>4</td>\n",
       "      <td>24001</td>\n",
       "      <td>24021</td>\n",
       "      <td>2020-01-31</td>\n",
       "      <td>108</td>\n",
       "    </tr>\n",
       "    <tr>\n",
       "      <th>4</th>\n",
       "      <td>5</td>\n",
       "      <td>24001</td>\n",
       "      <td>24023</td>\n",
       "      <td>2020-01-31</td>\n",
       "      <td>218</td>\n",
       "    </tr>\n",
       "    <tr>\n",
       "      <th>...</th>\n",
       "      <td>...</td>\n",
       "      <td>...</td>\n",
       "      <td>...</td>\n",
       "      <td>...</td>\n",
       "      <td>...</td>\n",
       "    </tr>\n",
       "    <tr>\n",
       "      <th>237211</th>\n",
       "      <td>237212</td>\n",
       "      <td>24033</td>\n",
       "      <td>24510</td>\n",
       "      <td>2020-12-31</td>\n",
       "      <td>3793</td>\n",
       "    </tr>\n",
       "    <tr>\n",
       "      <th>237212</th>\n",
       "      <td>237213</td>\n",
       "      <td>24035</td>\n",
       "      <td>24510</td>\n",
       "      <td>2020-12-31</td>\n",
       "      <td>195</td>\n",
       "    </tr>\n",
       "    <tr>\n",
       "      <th>237213</th>\n",
       "      <td>237214</td>\n",
       "      <td>24043</td>\n",
       "      <td>24510</td>\n",
       "      <td>2020-12-31</td>\n",
       "      <td>10</td>\n",
       "    </tr>\n",
       "    <tr>\n",
       "      <th>237214</th>\n",
       "      <td>237215</td>\n",
       "      <td>24045</td>\n",
       "      <td>24510</td>\n",
       "      <td>2020-12-31</td>\n",
       "      <td>30</td>\n",
       "    </tr>\n",
       "    <tr>\n",
       "      <th>237215</th>\n",
       "      <td>237216</td>\n",
       "      <td>24047</td>\n",
       "      <td>24510</td>\n",
       "      <td>2020-12-31</td>\n",
       "      <td>100</td>\n",
       "    </tr>\n",
       "  </tbody>\n",
       "</table>\n",
       "<p>237216 rows × 5 columns</p>\n",
       "</div>"
      ],
      "text/plain": [
       "        Unnamed: 0    ori   dest       date  amount\n",
       "0                1  24001  24003 2020-01-31      89\n",
       "1                2  24001  24005 2020-01-31      43\n",
       "2                3  24001  24013 2020-01-31      20\n",
       "3                4  24001  24021 2020-01-31     108\n",
       "4                5  24001  24023 2020-01-31     218\n",
       "...            ...    ...    ...        ...     ...\n",
       "237211      237212  24033  24510 2020-12-31    3793\n",
       "237212      237213  24035  24510 2020-12-31     195\n",
       "237213      237214  24043  24510 2020-12-31      10\n",
       "237214      237215  24045  24510 2020-12-31      30\n",
       "237215      237216  24047  24510 2020-12-31     100\n",
       "\n",
       "[237216 rows x 5 columns]"
      ]
     },
     "execution_count": 22,
     "metadata": {},
     "output_type": "execute_result"
    }
   ],
   "source": [
    "mobility_data "
   ]
  },
  {
   "cell_type": "code",
   "execution_count": 26,
   "metadata": {},
   "outputs": [
    {
     "data": {
      "text/plain": [
       "(array([  0,   0,   1,   1,   2,   2,   3,   3,   4,   4,   5,   5,   6,\n",
       "          6,   7,   7,   8,   8,   9,   9,  10,  10,  11,  11,  12,  12,\n",
       "         13,  13,  14,  14,  15,  15,  16,  16,  17,  17,  18,  18,  19,\n",
       "         19,  20,  20,  21,  21,  22,  22,  23,  23,  24,  24,  25,  25,\n",
       "         26,  26,  27,  27,  28,  28,  29,  29,  30,  30,  31,  31,  32,\n",
       "         32,  33,  33,  34,  34,  35,  35,  36,  36,  37,  37,  38,  38,\n",
       "         39,  39,  40,  40,  41,  41,  42,  42,  43,  43,  44,  44,  45,\n",
       "         45,  46,  46,  47,  47,  48,  48,  49,  49,  50,  50,  51,  51,\n",
       "         52,  52,  53,  53,  54,  54,  55,  55,  56,  56,  57,  57,  58,\n",
       "         58,  59,  59,  60,  60,  61,  61,  62,  62,  63,  63,  64,  64,\n",
       "         65,  65,  66,  66,  67,  67,  68,  68,  69,  69,  70,  70,  71,\n",
       "         71,  72,  72,  73,  73,  74,  74,  75,  75,  76,  76,  77,  77,\n",
       "         78,  78,  79,  79,  80,  80,  81,  81,  82,  82,  83,  83,  84,\n",
       "         84,  85,  85,  86,  86,  87,  87,  88,  88,  89,  89,  90,  90,\n",
       "         91,  91,  92,  92,  93,  93,  94,  94,  95,  95,  96,  96,  97,\n",
       "         97,  98,  98,  99,  99, 100, 100, 101, 101, 102, 102, 103, 103,\n",
       "        104, 104, 105, 105, 106, 106, 107, 107, 108, 108, 109, 109, 110,\n",
       "        110, 111, 111, 112, 112, 113, 113, 114, 114, 115, 115, 116, 116,\n",
       "        117, 117, 118, 118, 119, 119, 120, 120, 121, 121, 122, 122, 123,\n",
       "        123, 124, 124, 125, 125, 126, 126, 127, 127, 128, 128, 129, 129,\n",
       "        130, 130, 131, 131, 132, 132, 133, 133, 134, 134, 135, 135, 136,\n",
       "        136, 137, 137, 138, 138, 139, 139, 140, 140, 141, 141, 142, 142,\n",
       "        143, 143, 144, 144, 145, 145, 146, 146, 147, 147, 148, 148, 149,\n",
       "        149, 150, 150, 151, 151, 152, 152, 153, 153, 154, 154, 155, 155,\n",
       "        156, 156, 157, 157, 158, 158, 159, 159, 160, 160, 161, 161, 162,\n",
       "        162, 163, 163, 164, 164, 165, 165, 166, 166, 167, 167, 168, 168,\n",
       "        169, 169, 170, 170, 171, 171, 172, 172, 173, 173, 174, 174, 175,\n",
       "        175, 176, 176, 177, 177, 178, 178, 179, 179, 180, 180, 181, 181,\n",
       "        182, 182, 183, 183, 184, 184, 185, 185, 186, 186, 187, 187, 188,\n",
       "        188, 189, 189, 190, 190, 191, 191, 192, 192, 193, 193, 194, 194,\n",
       "        195, 195, 196, 196, 197, 197, 198, 198, 199, 199, 200, 200, 201,\n",
       "        201, 202, 202, 203, 203, 204, 204, 205, 205, 206, 206, 207, 207,\n",
       "        208, 208, 209, 209, 210, 210, 211, 211, 212, 212, 213, 213, 214,\n",
       "        214, 215, 215, 216, 216, 217, 217, 218, 218, 219, 219, 220, 220,\n",
       "        221, 221, 222, 222, 223, 223, 224, 224, 225, 225, 226, 226, 227,\n",
       "        227, 228, 228, 229, 229, 230, 230, 231, 231, 232, 232, 233, 233,\n",
       "        234, 234, 235, 235, 236, 236, 237, 237, 238, 238, 239, 239, 240,\n",
       "        240, 241, 241, 242, 242, 243, 243, 244, 244, 245, 245, 246, 246,\n",
       "        247, 247, 248, 248, 249, 249, 250, 250, 251, 251, 252, 252, 253,\n",
       "        253, 254, 254, 255, 255, 256, 256, 257, 257, 258, 258, 259, 259,\n",
       "        260, 260, 261, 261, 262, 262, 263, 263, 264, 264, 265, 265, 266,\n",
       "        266, 267, 267, 268, 268, 269, 269, 270, 270, 271, 271, 272, 272,\n",
       "        273, 273, 274, 274, 275, 275, 276, 276, 277, 277, 278, 278, 279,\n",
       "        279, 280, 280, 281, 281, 282, 282, 283, 283, 284, 284, 285, 285,\n",
       "        286, 286, 287, 287, 288, 288, 289, 289, 290, 290, 291, 291, 292,\n",
       "        292, 293, 293, 294, 294, 295, 295, 296, 296, 297, 297, 298, 298,\n",
       "        299, 299, 300, 300, 301, 301, 302, 302, 303, 303, 304, 304, 305,\n",
       "        305, 306, 306, 307, 307, 308, 308, 309, 309, 310, 310, 311, 311,\n",
       "        312, 312, 313, 313, 314, 314, 315, 315, 316, 316, 317, 317, 318,\n",
       "        318, 319, 319, 320, 320, 321, 321, 322, 322, 323, 323, 324, 324,\n",
       "        325, 325, 326, 326, 327, 327, 328, 328, 329, 329, 330, 330, 331,\n",
       "        331, 332, 332, 333, 333, 334, 334, 335, 335]),\n",
       " array([ 2, 19,  2, 19,  2, 19,  2, 19,  2, 19,  2, 19,  2, 19,  2, 19,  2,\n",
       "        19,  2, 19,  2, 19,  2, 19,  2, 19,  2, 19,  2, 19,  2, 19,  2, 19,\n",
       "         2, 19,  2, 19,  2, 19,  2, 19,  2, 19,  2, 19,  2, 19,  2, 19,  2,\n",
       "        19,  2, 19,  2, 19,  2, 19,  2, 19,  2, 19,  2, 19,  2, 19,  2, 19,\n",
       "         2, 19,  2, 19,  2, 19,  2, 19,  2, 19,  2, 19,  2, 19,  2, 19,  2,\n",
       "        19,  2, 19,  2, 19,  2, 19,  2, 19,  2, 19,  2, 19,  2, 19,  2, 19,\n",
       "         2, 19,  2, 19,  2, 19,  2, 19,  2, 19,  2, 19,  2, 19,  2, 19,  2,\n",
       "        19,  2, 19,  2, 19,  2, 19,  2, 19,  2, 19,  2, 19,  2, 19,  2, 19,\n",
       "         2, 19,  2, 19,  2, 19,  2, 19,  2, 19,  2, 19,  2, 19,  2, 19,  2,\n",
       "        19,  2, 19,  2, 19,  2, 19,  2, 19,  2, 19,  2, 19,  2, 19,  2, 19,\n",
       "         2, 19,  2, 19,  2, 19,  2, 19,  2, 19,  2, 19,  2, 19,  2, 19,  2,\n",
       "        19,  2, 19,  2, 19,  2, 19,  2, 19,  2, 19,  2, 19,  2, 19,  2, 19,\n",
       "         2, 19,  2, 19,  2, 19,  2, 19,  2, 19,  2, 19,  2, 19,  2, 19,  2,\n",
       "        19,  2, 19,  2, 19,  2, 19,  2, 19,  2, 19,  2, 19,  2, 19,  2, 19,\n",
       "         2, 19,  2, 19,  2, 19,  2, 19,  2, 19,  2, 19,  2, 19,  2, 19,  2,\n",
       "        19,  2, 19,  2, 19,  2, 19,  2, 19,  2, 19,  2, 19,  2, 19,  2, 19,\n",
       "         2, 19,  2, 19,  2, 19,  2, 19,  2, 19,  2, 19,  2, 19,  2, 19,  2,\n",
       "        19,  2, 19,  2, 19,  2, 19,  2, 19,  2, 19,  2, 19,  2, 19,  2, 19,\n",
       "         2, 19,  2, 19,  2, 19,  2, 19,  2, 19,  2, 19,  2, 19,  2, 19,  2,\n",
       "        19,  2, 19,  2, 19,  2, 19,  2, 19,  2, 19,  2, 19,  2, 19,  2, 19,\n",
       "         2, 19,  2, 19,  2, 19,  2, 19,  2, 19,  2, 19,  2, 19,  2, 19,  2,\n",
       "        19,  2, 19,  2, 19,  2, 19,  2, 19,  2, 19,  2, 19,  2, 19,  2, 19,\n",
       "         2, 19,  2, 19,  2, 19,  2, 19,  2, 19,  2, 19,  2, 19,  2, 19,  2,\n",
       "        19,  2, 19,  2, 19,  2, 19,  2, 19,  2, 19,  2, 19,  2, 19,  2, 19,\n",
       "         2, 19,  2, 19,  2, 19,  2, 19,  2, 19,  2, 19,  2, 19,  2, 19,  2,\n",
       "        19,  2, 19,  2, 19,  2, 19,  2, 19,  2, 19,  2, 19,  2, 19,  2, 19,\n",
       "         2, 19,  2, 19,  2, 19,  2, 19,  2, 19,  2, 19,  2, 19,  2, 19,  2,\n",
       "        19,  2, 19,  2, 19,  2, 19,  2, 19,  2, 19,  2, 19,  2, 19,  2, 19,\n",
       "         2, 19,  2, 19,  2, 19,  2, 19,  2, 19,  2, 19,  2, 19,  2, 19,  2,\n",
       "        19,  2, 19,  2, 19,  2, 19,  2, 19,  2, 19,  2, 19,  2, 19,  2, 19,\n",
       "         2, 19,  2, 19,  2, 19,  2, 19,  2, 19,  2, 19,  2, 19,  2, 19,  2,\n",
       "        19,  2, 19,  2, 19,  2, 19,  2, 19,  2, 19,  2, 19,  2, 19,  2, 19,\n",
       "         2, 19,  2, 19,  2, 19,  2, 19,  2, 19,  2, 19,  2, 19,  2, 19,  2,\n",
       "        19,  2, 19,  2, 19,  2, 19,  2, 19,  2, 19,  2, 19,  2, 19,  2, 19,\n",
       "         2, 19,  2, 19,  2, 19,  2, 19,  2, 19,  2, 19,  2, 19,  2, 19,  2,\n",
       "        19,  2, 19,  2, 19,  2, 19,  2, 19,  2, 19,  2, 19,  2, 19,  2, 19,\n",
       "         2, 19,  2, 19,  2, 19,  2, 19,  2, 19,  2, 19,  2, 19,  2, 19,  2,\n",
       "        19,  2, 19,  2, 19,  2, 19,  2, 19,  2, 19,  2, 19,  2, 19,  2, 19,\n",
       "         2, 19,  2, 19,  2, 19,  2, 19,  2, 19,  2, 19,  2, 19,  2, 19,  2,\n",
       "        19,  2, 19,  2, 19,  2, 19,  2, 19]),\n",
       " array([ 8, 14,  8, 14,  8, 14,  8, 14,  8, 14,  8, 14,  8, 14,  8, 14,  8,\n",
       "        14,  8, 14,  8, 14,  8, 14,  8, 14,  8, 14,  8, 14,  8, 14,  8, 14,\n",
       "         8, 14,  8, 14,  8, 14,  8, 14,  8, 14,  8, 14,  8, 14,  8, 14,  8,\n",
       "        14,  8, 14,  8, 14,  8, 14,  8, 14,  8, 14,  8, 14,  8, 14,  8, 14,\n",
       "         8, 14,  8, 14,  8, 14,  8, 14,  8, 14,  8, 14,  8, 14,  8, 14,  8,\n",
       "        14,  8, 14,  8, 14,  8, 14,  8, 14,  8, 14,  8, 14,  8, 14,  8, 14,\n",
       "         8, 14,  8, 14,  8, 14,  8, 14,  8, 14,  8, 14,  8, 14,  8, 14,  8,\n",
       "        14,  8, 14,  8, 14,  8, 14,  8, 14,  8, 14,  8, 14,  8, 14,  8, 14,\n",
       "         8, 14,  8, 14,  8, 14,  8, 14,  8, 14,  8, 14,  8, 14,  8, 14,  8,\n",
       "        14,  8, 14,  8, 14,  8, 14,  8, 14,  8, 14,  8, 14,  8, 14,  8, 14,\n",
       "         8, 14,  8, 14,  8, 14,  8, 14,  8, 14,  8, 14,  8, 14,  8, 14,  8,\n",
       "        14,  8, 14,  8, 14,  8, 14,  8, 14,  8, 14,  8, 14,  8, 14,  8, 14,\n",
       "         8, 14,  8, 14,  8, 14,  8, 14,  8, 14,  8, 14,  8, 14,  8, 14,  8,\n",
       "        14,  8, 14,  8, 14,  8, 14,  8, 14,  8, 14,  8, 14,  8, 14,  8, 14,\n",
       "         8, 14,  8, 14,  8, 14,  8, 14,  8, 14,  8, 14,  8, 14,  8, 14,  8,\n",
       "        14,  8, 14,  8, 14,  8, 14,  8, 14,  8, 14,  8, 14,  8, 14,  8, 14,\n",
       "         8, 14,  8, 14,  8, 14,  8, 14,  8, 14,  8, 14,  8, 14,  8, 14,  8,\n",
       "        14,  8, 14,  8, 14,  8, 14,  8, 14,  8, 14,  8, 14,  8, 14,  8, 14,\n",
       "         8, 14,  8, 14,  8, 14,  8, 14,  8, 14,  8, 14,  8, 14,  8, 14,  8,\n",
       "        14,  8, 14,  8, 14,  8, 14,  8, 14,  8, 14,  8, 14,  8, 14,  8, 14,\n",
       "         8, 14,  8, 14,  8, 14,  8, 14,  8, 14,  8, 14,  8, 14,  8, 14,  8,\n",
       "        14,  8, 14,  8, 14,  8, 14,  8, 14,  8, 14,  8, 14,  8, 14,  8, 14,\n",
       "         8, 14,  8, 14,  8, 14,  8, 14,  8, 14,  8, 14,  8, 14,  8, 14,  8,\n",
       "        14,  8, 14,  8, 14,  8, 14,  8, 14,  8, 14,  8, 14,  8, 14,  8, 14,\n",
       "         8, 14,  8, 14,  8, 14,  8, 14,  8, 14,  8, 14,  8, 14,  8, 14,  8,\n",
       "        14,  8, 14,  8, 14,  8, 14,  8, 14,  8, 14,  8, 14,  8, 14,  8, 14,\n",
       "         8, 14,  8, 14,  8, 14,  8, 14,  8, 14,  8, 14,  8, 14,  8, 14,  8,\n",
       "        14,  8, 14,  8, 14,  8, 14,  8, 14,  8, 14,  8, 14,  8, 14,  8, 14,\n",
       "         8, 14,  8, 14,  8, 14,  8, 14,  8, 14,  8, 14,  8, 14,  8, 14,  8,\n",
       "        14,  8, 14,  8, 14,  8, 14,  8, 14,  8, 14,  8, 14,  8, 14,  8, 14,\n",
       "         8, 14,  8, 14,  8, 14,  8, 14,  8, 14,  8, 14,  8, 14,  8, 14,  8,\n",
       "        14,  8, 14,  8, 14,  8, 14,  8, 14,  8, 14,  8, 14,  8, 14,  8, 14,\n",
       "         8, 14,  8, 14,  8, 14,  8, 14,  8, 14,  8, 14,  8, 14,  8, 14,  8,\n",
       "        14,  8, 14,  8, 14,  8, 14,  8, 14,  8, 14,  8, 14,  8, 14,  8, 14,\n",
       "         8, 14,  8, 14,  8, 14,  8, 14,  8, 14,  8, 14,  8, 14,  8, 14,  8,\n",
       "        14,  8, 14,  8, 14,  8, 14,  8, 14,  8, 14,  8, 14,  8, 14,  8, 14,\n",
       "         8, 14,  8, 14,  8, 14,  8, 14,  8, 14,  8, 14,  8, 14,  8, 14,  8,\n",
       "        14,  8, 14,  8, 14,  8, 14,  8, 14,  8, 14,  8, 14,  8, 14,  8, 14,\n",
       "         8, 14,  8, 14,  8, 14,  8, 14,  8, 14,  8, 14,  8, 14,  8, 14,  8,\n",
       "        14,  8, 14,  8, 14,  8, 14,  8, 14]))"
      ]
     },
     "execution_count": 26,
     "metadata": {},
     "output_type": "execute_result"
    }
   ],
   "source": [
    "np.where(mobility == 218)"
   ]
  },
  {
   "cell_type": "code",
   "execution_count": 3,
   "metadata": {},
   "outputs": [
    {
     "name": "stdout",
     "output_type": "stream",
     "text": [
      "0.09620174217646738\n"
     ]
    }
   ],
   "source": [
    "ncomp = 7\n",
    "S, E, I1, I2, I3, R, cumI = np.arange(ncomp)\n",
    "percent_day_away = 0.5\n",
    "it = 90*3\n",
    "dt = 1/6\n",
    "i = 0\n",
    "popnodes = s.popnodes\n",
    "beta = np.ones(s.nnodes) * 1 / 2.6 * 3 / 3\n",
    "nnodes = s.nnodes\n",
    "y = np.zeros((ncomp, nnodes))\n",
    "alpha=1\n",
    "y[I1] = np.ones(nnodes)* 100\n",
    "\n",
    "\n",
    "p_expose = 1.0 - np.exp(-dt * (\n",
    "              ((1 - percent_day_away * mobility[int(it%(1/dt))][i,:].sum()/ popnodes[i] ) * beta[i] * (y[I1][i] + y[I2][i] + y[I3][i])**alpha / popnodes[i] ) +  # Staying at home FoI\n",
    "              (     percent_day_away * mobility[int(it%(1/dt))][i,:]/popnodes             * beta * (y[I1] + y[I2] + y[I3])).sum()\n",
    "              )\n",
    "            )\n",
    "print(p_expose)"
   ]
  },
  {
   "cell_type": "code",
   "execution_count": 65,
   "metadata": {},
   "outputs": [
    {
     "data": {
      "text/plain": [
       "0.6363237012683426"
      ]
     },
     "execution_count": 65,
     "metadata": {},
     "output_type": "execute_result"
    }
   ],
   "source": []
  },
  {
   "cell_type": "code",
   "execution_count": 5,
   "metadata": {},
   "outputs": [
    {
     "name": "stdout",
     "output_type": "stream",
     "text": [
      "0.08243798583948111\n",
      "0.04174537211938043\n",
      "0.01870618334053228\n",
      "0.04384082408486112\n",
      "0.059124175890642956\n",
      "0.11876025620665925\n",
      "0.10592493409766099\n",
      "0.11596766043456291\n",
      "0.028540226670395675\n",
      "0.05853251743917419\n",
      "0.07128315760687916\n",
      "0.02508209043794754\n",
      "0.022624606518245192\n",
      "0.07239800479014132\n",
      "0.023604422437767076\n",
      "0.06755058815082508\n",
      "0.0950703772736037\n",
      "0.07836994436865366\n",
      "0.2866642283644217\n",
      "0.17008644932819497\n",
      "0.31135449730337333\n",
      "0.16657660779922215\n",
      "0.12946190729888118\n",
      "0.11282629656803979\n"
     ]
    }
   ],
   "source": [
    "for i in range(nnodes):\n",
    "    print(mobility[int(it%(1/dt))][i,:].sum()/ popnodes[i])"
   ]
  },
  {
   "cell_type": "code",
   "execution_count": 57,
   "metadata": {},
   "outputs": [
    {
     "data": {
      "text/plain": [
       "array([0.00173293, 0.00015111, 0.0017942 , 0.00196211, 0.00036291,\n",
       "       0.00275263, 0.00803381, 0.00252653, 0.00390214, 0.01008598,\n",
       "       0.00081027, 0.00038573, 0.00278647, 0.01260312, 0.02344163,\n",
       "       0.02409444, 0.11181096, 0.00234861, 0.04861278, 0.01301018,\n",
       "       0.00422249, 0.00483212, 0.05071923, 0.        ])"
      ]
     },
     "execution_count": 57,
     "metadata": {},
     "output_type": "execute_result"
    }
   ],
   "source": [
    "mobility[int(it%(1/dt))][i,:]/popnodes "
   ]
  },
  {
   "cell_type": "code",
   "execution_count": 13,
   "metadata": {},
   "outputs": [
    {
     "data": {
      "text/plain": [
       "<matplotlib.colorbar.Colorbar at 0x1234c8e10>"
      ]
     },
     "execution_count": 13,
     "metadata": {},
     "output_type": "execute_result"
    },
    {
     "data": {
      "image/png": "[encoded data removed]",
      "text/plain": [
       "<Figure size 432x288 with 2 Axes>"
      ]
     },
     "metadata": {
      "needs_background": "light"
     },
     "output_type": "display_data"
    }
   ],
   "source": [
    "plt.imshow(mobility[0], cmap='RdBu')\n",
    "plt.colorbar()"
   ]
  },
  {
   "cell_type": "code",
   "execution_count": 14,
   "metadata": {},
   "outputs": [
    {
     "data": {
      "text/plain": [
       "<matplotlib.colorbar.Colorbar at 0x127e22490>"
      ]
     },
     "execution_count": 14,
     "metadata": {},
     "output_type": "execute_result"
    },
    {
     "data": {
      "image/png": "[encoded data removed]",
      "text/plain": [
       "<Figure size 432x288 with 2 Axes>"
      ]
     },
     "metadata": {
      "needs_background": "light"
     },
     "output_type": "display_data"
    }
   ],
   "source": [
    "plt.imshow(mobility[-1], cmap='RdBu')\n",
    "plt.colorbar()"
   ]
  },
  {
   "cell_type": "code",
   "execution_count": 26,
   "metadata": {},
   "outputs": [
    {
     "data": {
      "text/plain": [
       "Timestamp('2020-04-05 00:00:00')"
      ]
     },
     "execution_count": 26,
     "metadata": {},
     "output_type": "execute_result"
    }
   ],
   "source": [
    "row['date']"
   ]
  },
  {
   "cell_type": "code",
   "execution_count": 10,
   "metadata": {},
   "outputs": [
    {
     "data": {
      "text/html": [
       "<div>\n",
       "<style scoped>\n",
       "    .dataframe tbody tr th:only-of-type {\n",
       "        vertical-align: middle;\n",
       "    }\n",
       "\n",
       "    .dataframe tbody tr th {\n",
       "        vertical-align: top;\n",
       "    }\n",
       "\n",
       "    .dataframe thead th {\n",
       "        text-align: right;\n",
       "    }\n",
       "</style>\n",
       "<table border=\"1\" class=\"dataframe\">\n",
       "  <thead>\n",
       "    <tr style=\"text-align: right;\">\n",
       "      <th></th>\n",
       "      <th>id</th>\n",
       "      <th>ori</th>\n",
       "      <th>dest</th>\n",
       "      <th>FLOW</th>\n",
       "      <th>day</th>\n",
       "      <th>week</th>\n",
       "      <th>value</th>\n",
       "      <th>percent.effect.daily</th>\n",
       "      <th>percent.trip.daily</th>\n",
       "      <th>amount</th>\n",
       "      <th>percent.effect.weekly.med</th>\n",
       "      <th>percent.trip.weekly.med</th>\n",
       "      <th>adjusted.trip.count.weekly.med</th>\n",
       "    </tr>\n",
       "  </thead>\n",
       "  <tbody>\n",
       "    <tr>\n",
       "      <th>0</th>\n",
       "      <td>1</td>\n",
       "      <td>24001</td>\n",
       "      <td>24001</td>\n",
       "      <td>48668</td>\n",
       "      <td>2020-02-16</td>\n",
       "      <td>7</td>\n",
       "      <td>-32</td>\n",
       "      <td>-0.32</td>\n",
       "      <td>0.68</td>\n",
       "      <td>33094.24</td>\n",
       "      <td>0.01</td>\n",
       "      <td>1.01</td>\n",
       "      <td>49154.68</td>\n",
       "    </tr>\n",
       "    <tr>\n",
       "      <th>1</th>\n",
       "      <td>2</td>\n",
       "      <td>24001</td>\n",
       "      <td>24003</td>\n",
       "      <td>54</td>\n",
       "      <td>2020-02-16</td>\n",
       "      <td>7</td>\n",
       "      <td>-32</td>\n",
       "      <td>-0.32</td>\n",
       "      <td>0.68</td>\n",
       "      <td>36.72</td>\n",
       "      <td>0.01</td>\n",
       "      <td>1.01</td>\n",
       "      <td>54.54</td>\n",
       "    </tr>\n",
       "    <tr>\n",
       "      <th>2</th>\n",
       "      <td>3</td>\n",
       "      <td>24001</td>\n",
       "      <td>24005</td>\n",
       "      <td>130</td>\n",
       "      <td>2020-02-16</td>\n",
       "      <td>7</td>\n",
       "      <td>-32</td>\n",
       "      <td>-0.32</td>\n",
       "      <td>0.68</td>\n",
       "      <td>88.40</td>\n",
       "      <td>0.01</td>\n",
       "      <td>1.01</td>\n",
       "      <td>131.30</td>\n",
       "    </tr>\n",
       "    <tr>\n",
       "      <th>3</th>\n",
       "      <td>4</td>\n",
       "      <td>24001</td>\n",
       "      <td>24013</td>\n",
       "      <td>12</td>\n",
       "      <td>2020-02-16</td>\n",
       "      <td>7</td>\n",
       "      <td>-32</td>\n",
       "      <td>-0.32</td>\n",
       "      <td>0.68</td>\n",
       "      <td>8.16</td>\n",
       "      <td>0.01</td>\n",
       "      <td>1.01</td>\n",
       "      <td>12.12</td>\n",
       "    </tr>\n",
       "    <tr>\n",
       "      <th>4</th>\n",
       "      <td>5</td>\n",
       "      <td>24001</td>\n",
       "      <td>24017</td>\n",
       "      <td>24</td>\n",
       "      <td>2020-02-16</td>\n",
       "      <td>7</td>\n",
       "      <td>-32</td>\n",
       "      <td>-0.32</td>\n",
       "      <td>0.68</td>\n",
       "      <td>16.32</td>\n",
       "      <td>0.01</td>\n",
       "      <td>1.01</td>\n",
       "      <td>24.24</td>\n",
       "    </tr>\n",
       "    <tr>\n",
       "      <th>...</th>\n",
       "      <td>...</td>\n",
       "      <td>...</td>\n",
       "      <td>...</td>\n",
       "      <td>...</td>\n",
       "      <td>...</td>\n",
       "      <td>...</td>\n",
       "      <td>...</td>\n",
       "      <td>...</td>\n",
       "      <td>...</td>\n",
       "      <td>...</td>\n",
       "      <td>...</td>\n",
       "      <td>...</td>\n",
       "      <td>...</td>\n",
       "    </tr>\n",
       "    <tr>\n",
       "      <th>28795</th>\n",
       "      <td>28796</td>\n",
       "      <td>24510</td>\n",
       "      <td>24029</td>\n",
       "      <td>112</td>\n",
       "      <td>2020-04-05</td>\n",
       "      <td>14</td>\n",
       "      <td>-42</td>\n",
       "      <td>-0.42</td>\n",
       "      <td>0.58</td>\n",
       "      <td>64.96</td>\n",
       "      <td>-0.53</td>\n",
       "      <td>0.47</td>\n",
       "      <td>52.64</td>\n",
       "    </tr>\n",
       "    <tr>\n",
       "      <th>28796</th>\n",
       "      <td>28797</td>\n",
       "      <td>24510</td>\n",
       "      <td>24035</td>\n",
       "      <td>134</td>\n",
       "      <td>2020-04-05</td>\n",
       "      <td>14</td>\n",
       "      <td>-42</td>\n",
       "      <td>-0.42</td>\n",
       "      <td>0.58</td>\n",
       "      <td>77.72</td>\n",
       "      <td>-0.53</td>\n",
       "      <td>0.47</td>\n",
       "      <td>62.98</td>\n",
       "    </tr>\n",
       "    <tr>\n",
       "      <th>28797</th>\n",
       "      <td>28798</td>\n",
       "      <td>24510</td>\n",
       "      <td>24039</td>\n",
       "      <td>7122</td>\n",
       "      <td>2020-04-05</td>\n",
       "      <td>14</td>\n",
       "      <td>-42</td>\n",
       "      <td>-0.42</td>\n",
       "      <td>0.58</td>\n",
       "      <td>4130.76</td>\n",
       "      <td>-0.53</td>\n",
       "      <td>0.47</td>\n",
       "      <td>3347.34</td>\n",
       "    </tr>\n",
       "    <tr>\n",
       "      <th>28798</th>\n",
       "      <td>28799</td>\n",
       "      <td>24510</td>\n",
       "      <td>24041</td>\n",
       "      <td>32146</td>\n",
       "      <td>2020-04-05</td>\n",
       "      <td>14</td>\n",
       "      <td>-42</td>\n",
       "      <td>-0.42</td>\n",
       "      <td>0.58</td>\n",
       "      <td>18644.68</td>\n",
       "      <td>-0.53</td>\n",
       "      <td>0.47</td>\n",
       "      <td>15108.62</td>\n",
       "    </tr>\n",
       "    <tr>\n",
       "      <th>28799</th>\n",
       "      <td>28800</td>\n",
       "      <td>24510</td>\n",
       "      <td>24047</td>\n",
       "      <td>182</td>\n",
       "      <td>2020-04-05</td>\n",
       "      <td>14</td>\n",
       "      <td>-42</td>\n",
       "      <td>-0.42</td>\n",
       "      <td>0.58</td>\n",
       "      <td>105.56</td>\n",
       "      <td>-0.53</td>\n",
       "      <td>0.47</td>\n",
       "      <td>85.54</td>\n",
       "    </tr>\n",
       "  </tbody>\n",
       "</table>\n",
       "<p>28800 rows × 13 columns</p>\n",
       "</div>"
      ],
      "text/plain": [
       "          id    ori   dest   FLOW         day  week  value  \\\n",
       "0          1  24001  24001  48668  2020-02-16     7    -32   \n",
       "1          2  24001  24003     54  2020-02-16     7    -32   \n",
       "2          3  24001  24005    130  2020-02-16     7    -32   \n",
       "3          4  24001  24013     12  2020-02-16     7    -32   \n",
       "4          5  24001  24017     24  2020-02-16     7    -32   \n",
       "...      ...    ...    ...    ...         ...   ...    ...   \n",
       "28795  28796  24510  24029    112  2020-04-05    14    -42   \n",
       "28796  28797  24510  24035    134  2020-04-05    14    -42   \n",
       "28797  28798  24510  24039   7122  2020-04-05    14    -42   \n",
       "28798  28799  24510  24041  32146  2020-04-05    14    -42   \n",
       "28799  28800  24510  24047    182  2020-04-05    14    -42   \n",
       "\n",
       "       percent.effect.daily  percent.trip.daily    amount  \\\n",
       "0                     -0.32                0.68  33094.24   \n",
       "1                     -0.32                0.68     36.72   \n",
       "2                     -0.32                0.68     88.40   \n",
       "3                     -0.32                0.68      8.16   \n",
       "4                     -0.32                0.68     16.32   \n",
       "...                     ...                 ...       ...   \n",
       "28795                 -0.42                0.58     64.96   \n",
       "28796                 -0.42                0.58     77.72   \n",
       "28797                 -0.42                0.58   4130.76   \n",
       "28798                 -0.42                0.58  18644.68   \n",
       "28799                 -0.42                0.58    105.56   \n",
       "\n",
       "       percent.effect.weekly.med  percent.trip.weekly.med  \\\n",
       "0                           0.01                     1.01   \n",
       "1                           0.01                     1.01   \n",
       "2                           0.01                     1.01   \n",
       "3                           0.01                     1.01   \n",
       "4                           0.01                     1.01   \n",
       "...                          ...                      ...   \n",
       "28795                      -0.53                     0.47   \n",
       "28796                      -0.53                     0.47   \n",
       "28797                      -0.53                     0.47   \n",
       "28798                      -0.53                     0.47   \n",
       "28799                      -0.53                     0.47   \n",
       "\n",
       "       adjusted.trip.count.weekly.med  \n",
       "0                            49154.68  \n",
       "1                               54.54  \n",
       "2                              131.30  \n",
       "3                               12.12  \n",
       "4                               24.24  \n",
       "...                               ...  \n",
       "28795                           52.64  \n",
       "28796                           62.98  \n",
       "28797                         3347.34  \n",
       "28798                        15108.62  \n",
       "28799                           85.54  \n",
       "\n",
       "[28800 rows x 13 columns]"
      ]
     },
     "execution_count": 10,
     "metadata": {},
     "output_type": "execute_result"
    }
   ],
   "source": [
    "mobility_data"
   ]
  },
  {
   "cell_type": "code",
   "execution_count": 3,
   "metadata": {},
   "outputs": [],
   "source": [
    "s.mobility = np.zeros((s.t_span, s.nnodes, s.nnodes))"
   ]
  },
  {
   "cell_type": "code",
   "execution_count": 7,
   "metadata": {},
   "outputs": [],
   "source": [
    "s.mobility = np.zeros((s.t_span, s.nnodes, s.nnodes))\n",
    "for index, row in mobility_data.iterrows():\n",
    "  s.mobility[s.spatset.nodenames.index(row['ori']),s.spatset.nodenames.index(row['dest'])] = row['amount']"
   ]
  },
  {
   "cell_type": "code",
   "execution_count": 69,
   "metadata": {},
   "outputs": [
    {
     "name": "stdout",
     "output_type": "stream",
     "text": [
      "Warning: The intervention in config: interventions.settings.Uncontrolled_none_CSP does nothing.\n"
     ]
    },
    {
     "data": {
      "text/plain": [
       "1"
      ]
     },
     "execution_count": 69,
     "metadata": {},
     "output_type": "execute_result"
    }
   ],
   "source": [
    "seir.onerun_SEIR(1,s)"
   ]
  },
  {
   "cell_type": "code",
   "execution_count": 6,
   "metadata": {},
   "outputs": [
    {
     "data": {
      "text/plain": [
       "<matplotlib.colorbar.Colorbar at 0x12a551c90>"
      ]
     },
     "execution_count": 6,
     "metadata": {},
     "output_type": "execute_result"
    },
    {
     "data": {
      "image/png": "[encoded data removed]",
      "text/plain": [
       "<Figure size 720x720 with 2 Axes>"
      ]
     },
     "metadata": {
      "needs_background": "light"
     },
     "output_type": "display_data"
    }
   ],
   "source": [
    " importation = np.zeros((s.t_span+1, s.nnodes))\n",
    "\n",
    "seeding = pd.read_csv(s.seeding_config[\"lambda_file\"].as_str(),\n",
    "                              converters={'place': lambda x: str(x)},\n",
    "                              parse_dates=['date'])\n",
    "\n",
    "for  _, row in seeding.iterrows():\n",
    "            if row['place'] not in s.spatset.nodenames:\n",
    "                raise ValueError(f\"Invalid place '{row['place']}' in row {_ + 1} of seeding::lambda_file. Not found in geodata.\")\n",
    "\n",
    "            importation[(row['date'].date()-s.ti).days][s.spatset.nodenames.index(row['place'])] = np.random.poisson(row['amount'])\n",
    "plt.figure(figsize=(10,10))\n",
    "plt.imshow(importation, cmap='RdBu')\n",
    "plt.colorbar()"
   ]
  },
  {
   "cell_type": "code",
   "execution_count": 72,
   "metadata": {},
   "outputs": [
    {
     "data": {
      "text/plain": [
       "<matplotlib.colorbar.Colorbar at 0x1302125d0>"
      ]
     },
     "execution_count": 72,
     "metadata": {},
     "output_type": "execute_result"
    },
    {
     "data": {
      "image/png": "[encoded data removed]",
      "text/plain": [
       "<Figure size 432x288 with 2 Axes>"
      ]
     },
     "metadata": {
      "needs_background": "light"
     },
     "output_type": "display_data"
    }
   ],
   "source": [
    "plt.imshow(importation, cmap='RdBu')\n",
    "plt.colorbar()"
   ]
  }
 ],
 "metadata": {
  "kernelspec": {
   "display_name": "Python 3.7.5 64-bit",
   "language": "python",
   "name": "python37564bitb6a8cbcde2634e63883867447f9de255"
  },
  "language_info": {
   "codemirror_mode": {
    "name": "ipython",
    "version": 3
   },
   "file_extension": ".py",
   "mimetype": "text/x-python",
   "name": "python",
   "nbconvert_exporter": "python",
   "pygments_lexer": "ipython3",
   "version": "3.7.7"
  }
 },
 "nbformat": 4,
 "nbformat_minor": 4
}

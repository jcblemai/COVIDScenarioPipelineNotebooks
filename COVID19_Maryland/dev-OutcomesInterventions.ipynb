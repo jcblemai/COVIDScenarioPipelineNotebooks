{
 "cells": [
  {
   "cell_type": "code",
   "execution_count": 1,
   "metadata": {
    "execution": {
     "iopub.execute_input": "2020-12-22T11:22:19.919574Z",
     "iopub.status.busy": "2020-12-22T11:22:19.919186Z",
     "iopub.status.idle": "2020-12-22T11:22:25.735234Z",
     "shell.execute_reply": "2020-12-22T11:22:25.734433Z",
     "shell.execute_reply.started": "2020-12-22T11:22:19.919490Z"
    }
   },
   "outputs": [],
   "source": [
    "import numpy as np\n",
    "import pandas as pd\n",
    "import datetime\n",
    "\n",
    "import pytest\n",
    "\n",
    "from Outcomes import outcomes\n",
    "from SEIR.utils import config\n",
    "import pandas as pd\n",
    "import numpy as np\n",
    "import datetime\n",
    "import matplotlib.pyplot as plt\n",
    "import glob, os, sys\n",
    "from pathlib import Path\n",
    "#import seaborn as sns\n",
    "import pyarrow.parquet as pq\n",
    "import click\n",
    "import pyarrow as pa\n",
    "\n",
    "import os"
   ]
  },
  {
   "cell_type": "code",
   "execution_count": 10,
   "metadata": {
    "execution": {
     "iopub.execute_input": "2020-12-20T17:26:40.145318Z",
     "iopub.status.busy": "2020-12-20T17:26:40.145101Z",
     "iopub.status.idle": "2020-12-20T17:26:40.159487Z",
     "shell.execute_reply": "2020-12-20T17:26:40.158839Z",
     "shell.execute_reply.started": "2020-12-20T17:26:40.145297Z"
    }
   },
   "outputs": [
    {
     "data": {
      "text/html": [
       "<div>\n",
       "<style scoped>\n",
       "    .dataframe tbody tr th:only-of-type {\n",
       "        vertical-align: middle;\n",
       "    }\n",
       "\n",
       "    .dataframe tbody tr th {\n",
       "        vertical-align: top;\n",
       "    }\n",
       "\n",
       "    .dataframe thead th {\n",
       "        text-align: right;\n",
       "    }\n",
       "</style>\n",
       "<table border=\"1\" class=\"dataframe\">\n",
       "  <thead>\n",
       "    <tr style=\"text-align: right;\">\n",
       "      <th></th>\n",
       "      <th>geoid</th>\n",
       "      <th>quantity</th>\n",
       "      <th>outcome</th>\n",
       "      <th>source</th>\n",
       "      <th>value</th>\n",
       "    </tr>\n",
       "  </thead>\n",
       "  <tbody>\n",
       "    <tr>\n",
       "      <th>0</th>\n",
       "      <td>51091</td>\n",
       "      <td>probability</td>\n",
       "      <td>incidH</td>\n",
       "      <td>incidI</td>\n",
       "      <td>0.35</td>\n",
       "    </tr>\n",
       "    <tr>\n",
       "      <th>1</th>\n",
       "      <td>51720</td>\n",
       "      <td>probability</td>\n",
       "      <td>incidH</td>\n",
       "      <td>incidI</td>\n",
       "      <td>0.35</td>\n",
       "    </tr>\n",
       "    <tr>\n",
       "      <th>2</th>\n",
       "      <td>51017</td>\n",
       "      <td>probability</td>\n",
       "      <td>incidH</td>\n",
       "      <td>incidI</td>\n",
       "      <td>0.35</td>\n",
       "    </tr>\n",
       "    <tr>\n",
       "      <th>3</th>\n",
       "      <td>51045</td>\n",
       "      <td>probability</td>\n",
       "      <td>incidH</td>\n",
       "      <td>incidI</td>\n",
       "      <td>0.35</td>\n",
       "    </tr>\n",
       "    <tr>\n",
       "      <th>4</th>\n",
       "      <td>42023</td>\n",
       "      <td>probability</td>\n",
       "      <td>incidH</td>\n",
       "      <td>incidI</td>\n",
       "      <td>0.35</td>\n",
       "    </tr>\n",
       "    <tr>\n",
       "      <th>...</th>\n",
       "      <td>...</td>\n",
       "      <td>...</td>\n",
       "      <td>...</td>\n",
       "      <td>...</td>\n",
       "      <td>...</td>\n",
       "    </tr>\n",
       "    <tr>\n",
       "      <th>3245</th>\n",
       "      <td>34003</td>\n",
       "      <td>delay</td>\n",
       "      <td>incidC</td>\n",
       "      <td>incidI</td>\n",
       "      <td>7.00</td>\n",
       "    </tr>\n",
       "    <tr>\n",
       "      <th>3246</th>\n",
       "      <td>24031</td>\n",
       "      <td>delay</td>\n",
       "      <td>incidC</td>\n",
       "      <td>incidI</td>\n",
       "      <td>7.00</td>\n",
       "    </tr>\n",
       "    <tr>\n",
       "      <th>3247</th>\n",
       "      <td>51059</td>\n",
       "      <td>delay</td>\n",
       "      <td>incidC</td>\n",
       "      <td>incidI</td>\n",
       "      <td>7.00</td>\n",
       "    </tr>\n",
       "    <tr>\n",
       "      <th>3248</th>\n",
       "      <td>42003</td>\n",
       "      <td>delay</td>\n",
       "      <td>incidC</td>\n",
       "      <td>incidI</td>\n",
       "      <td>7.00</td>\n",
       "    </tr>\n",
       "    <tr>\n",
       "      <th>3249</th>\n",
       "      <td>42101</td>\n",
       "      <td>delay</td>\n",
       "      <td>incidC</td>\n",
       "      <td>incidI</td>\n",
       "      <td>7.00</td>\n",
       "    </tr>\n",
       "  </tbody>\n",
       "</table>\n",
       "<p>3250 rows × 5 columns</p>\n",
       "</div>"
      ],
      "text/plain": [
       "      geoid     quantity outcome  source  value\n",
       "0     51091  probability  incidH  incidI   0.35\n",
       "1     51720  probability  incidH  incidI   0.35\n",
       "2     51017  probability  incidH  incidI   0.35\n",
       "3     51045  probability  incidH  incidI   0.35\n",
       "4     42023  probability  incidH  incidI   0.35\n",
       "...     ...          ...     ...     ...    ...\n",
       "3245  34003        delay  incidC  incidI   7.00\n",
       "3246  24031        delay  incidC  incidI   7.00\n",
       "3247  51059        delay  incidC  incidI   7.00\n",
       "3248  42003        delay  incidC  incidI   7.00\n",
       "3249  42101        delay  incidC  incidI   7.00\n",
       "\n",
       "[3250 rows x 5 columns]"
      ]
     },
     "execution_count": 10,
     "metadata": {},
     "output_type": "execute_result"
    }
   ],
   "source": [
    "old_hpar = pq.read_table(\"model_output/hpar/Maryland/inference/med/2020.08.20.12:11:11.UTC/000000001.2020.08.20.12:11:11.UTC.hpar.parquet\").to_pandas()\n",
    "old_hpars"
   ]
  },
  {
   "cell_type": "code",
   "execution_count": 12,
   "metadata": {
    "execution": {
     "iopub.execute_input": "2020-12-20T17:45:45.817743Z",
     "iopub.status.busy": "2020-12-20T17:45:45.817463Z",
     "iopub.status.idle": "2020-12-20T17:45:45.827509Z",
     "shell.execute_reply": "2020-12-20T17:45:45.826762Z",
     "shell.execute_reply.started": "2020-12-20T17:45:45.817717Z"
    }
   },
   "outputs": [
    {
     "data": {
      "text/html": [
       "<div>\n",
       "<style scoped>\n",
       "    .dataframe tbody tr th:only-of-type {\n",
       "        vertical-align: middle;\n",
       "    }\n",
       "\n",
       "    .dataframe tbody tr th {\n",
       "        vertical-align: top;\n",
       "    }\n",
       "\n",
       "    .dataframe thead th {\n",
       "        text-align: right;\n",
       "    }\n",
       "</style>\n",
       "<table border=\"1\" class=\"dataframe\">\n",
       "  <thead>\n",
       "    <tr style=\"text-align: right;\">\n",
       "      <th></th>\n",
       "      <th>value</th>\n",
       "      <th>parameter</th>\n",
       "    </tr>\n",
       "  </thead>\n",
       "  <tbody>\n",
       "    <tr>\n",
       "      <th>0</th>\n",
       "      <td>0.990000</td>\n",
       "      <td>alpha</td>\n",
       "    </tr>\n",
       "    <tr>\n",
       "      <th>1</th>\n",
       "      <td>1.010000</td>\n",
       "      <td>R0</td>\n",
       "    </tr>\n",
       "    <tr>\n",
       "      <th>2</th>\n",
       "      <td>0.192308</td>\n",
       "      <td>sigma</td>\n",
       "    </tr>\n",
       "    <tr>\n",
       "      <th>3</th>\n",
       "      <td>0.333333</td>\n",
       "      <td>gamma</td>\n",
       "    </tr>\n",
       "  </tbody>\n",
       "</table>\n",
       "</div>"
      ],
      "text/plain": [
       "      value parameter\n",
       "0  0.990000     alpha\n",
       "1  1.010000        R0\n",
       "2  0.192308     sigma\n",
       "3  0.333333     gamma"
      ]
     },
     "execution_count": 12,
     "metadata": {},
     "output_type": "execute_result"
    }
   ],
   "source": [
    "old_spar = pq.read_table(\"model_output/spar/Maryland/inference/2020.08.20.12:11:11.UTC/000000001.2020.08.20.12:11:11.UTC.spar.parquet\").to_pandas()\n",
    "old_spar"
   ]
  },
  {
   "cell_type": "code",
   "execution_count": 5,
   "metadata": {
    "execution": {
     "iopub.execute_input": "2020-12-26T16:44:19.352968Z",
     "iopub.status.busy": "2020-12-26T16:44:19.348727Z",
     "iopub.status.idle": "2020-12-26T16:44:19.533684Z",
     "shell.execute_reply": "2020-12-26T16:44:19.532442Z",
     "shell.execute_reply.started": "2020-12-26T16:44:19.352471Z"
    }
   },
   "outputs": [
    {
     "data": {
      "text/html": [
       "<div>\n",
       "<style scoped>\n",
       "    .dataframe tbody tr th:only-of-type {\n",
       "        vertical-align: middle;\n",
       "    }\n",
       "\n",
       "    .dataframe tbody tr th {\n",
       "        vertical-align: top;\n",
       "    }\n",
       "\n",
       "    .dataframe thead th {\n",
       "        text-align: right;\n",
       "    }\n",
       "</style>\n",
       "<table border=\"1\" class=\"dataframe\">\n",
       "  <thead>\n",
       "    <tr style=\"text-align: right;\">\n",
       "      <th></th>\n",
       "      <th>geoid</th>\n",
       "      <th>npi_name</th>\n",
       "      <th>parameter</th>\n",
       "      <th>start_date</th>\n",
       "      <th>end_date</th>\n",
       "      <th>reduction</th>\n",
       "    </tr>\n",
       "  </thead>\n",
       "  <tbody>\n",
       "    <tr>\n",
       "      <th>0</th>\n",
       "      <td>51720</td>\n",
       "      <td>local_variance</td>\n",
       "      <td>r0</td>\n",
       "      <td>2020-04-15,2020-05-15,2020-05-15</td>\n",
       "      <td>2020-04-20,2020-05-20,2020-05-20</td>\n",
       "      <td>0.452361</td>\n",
       "    </tr>\n",
       "    <tr>\n",
       "      <th>1</th>\n",
       "      <td>51017</td>\n",
       "      <td>local_variance</td>\n",
       "      <td>r0</td>\n",
       "      <td>2020-04-01,2020-05-01</td>\n",
       "      <td>2020-04-15,2020-05-15</td>\n",
       "      <td>0.523802</td>\n",
       "    </tr>\n",
       "    <tr>\n",
       "      <th>2</th>\n",
       "      <td>42023</td>\n",
       "      <td>local_variance</td>\n",
       "      <td>r0</td>\n",
       "      <td>2020-04-15,2020-05-15,2020-05-15</td>\n",
       "      <td>2020-04-20,2020-05-20,2020-05-20</td>\n",
       "      <td>0.536732</td>\n",
       "    </tr>\n",
       "    <tr>\n",
       "      <th>3</th>\n",
       "      <td>51720</td>\n",
       "      <td>local_variance2</td>\n",
       "      <td>r0</td>\n",
       "      <td>2020-04-15</td>\n",
       "      <td>2020-05-01</td>\n",
       "      <td>0.000000</td>\n",
       "    </tr>\n",
       "    <tr>\n",
       "      <th>4</th>\n",
       "      <td>42023</td>\n",
       "      <td>local_variance2</td>\n",
       "      <td>r0</td>\n",
       "      <td>2020-04-15</td>\n",
       "      <td>2020-05-01</td>\n",
       "      <td>0.000000</td>\n",
       "    </tr>\n",
       "    <tr>\n",
       "      <th>...</th>\n",
       "      <td>...</td>\n",
       "      <td>...</td>\n",
       "      <td>...</td>\n",
       "      <td>...</td>\n",
       "      <td>...</td>\n",
       "      <td>...</td>\n",
       "    </tr>\n",
       "    <tr>\n",
       "      <th>500</th>\n",
       "      <td>34003</td>\n",
       "      <td>Place2</td>\n",
       "      <td>r0</td>\n",
       "      <td>2020-04-01,2020-05-01</td>\n",
       "      <td>2020-04-15,2020-05-15</td>\n",
       "      <td>0.274067</td>\n",
       "    </tr>\n",
       "    <tr>\n",
       "      <th>501</th>\n",
       "      <td>24031</td>\n",
       "      <td>Place2</td>\n",
       "      <td>r0</td>\n",
       "      <td>2020-04-01,2020-05-01</td>\n",
       "      <td>2020-04-15,2020-05-15</td>\n",
       "      <td>0.229424</td>\n",
       "    </tr>\n",
       "    <tr>\n",
       "      <th>502</th>\n",
       "      <td>51059</td>\n",
       "      <td>Place2</td>\n",
       "      <td>r0</td>\n",
       "      <td>2020-04-01,2020-05-01</td>\n",
       "      <td>2020-04-15,2020-05-15</td>\n",
       "      <td>0.240798</td>\n",
       "    </tr>\n",
       "    <tr>\n",
       "      <th>503</th>\n",
       "      <td>42003</td>\n",
       "      <td>Place2</td>\n",
       "      <td>r0</td>\n",
       "      <td>2020-04-01,2020-05-01</td>\n",
       "      <td>2020-04-15,2020-05-15</td>\n",
       "      <td>0.180254</td>\n",
       "    </tr>\n",
       "    <tr>\n",
       "      <th>504</th>\n",
       "      <td>42101</td>\n",
       "      <td>Place2</td>\n",
       "      <td>r0</td>\n",
       "      <td>2020-04-01,2020-05-01</td>\n",
       "      <td>2020-04-15,2020-05-15</td>\n",
       "      <td>0.248069</td>\n",
       "    </tr>\n",
       "  </tbody>\n",
       "</table>\n",
       "<p>505 rows × 6 columns</p>\n",
       "</div>"
      ],
      "text/plain": [
       "     geoid         npi_name parameter                        start_date  \\\n",
       "0    51720   local_variance        r0  2020-04-15,2020-05-15,2020-05-15   \n",
       "1    51017   local_variance        r0             2020-04-01,2020-05-01   \n",
       "2    42023   local_variance        r0  2020-04-15,2020-05-15,2020-05-15   \n",
       "3    51720  local_variance2        r0                        2020-04-15   \n",
       "4    42023  local_variance2        r0                        2020-04-15   \n",
       "..     ...              ...       ...                               ...   \n",
       "500  34003           Place2        r0             2020-04-01,2020-05-01   \n",
       "501  24031           Place2        r0             2020-04-01,2020-05-01   \n",
       "502  51059           Place2        r0             2020-04-01,2020-05-01   \n",
       "503  42003           Place2        r0             2020-04-01,2020-05-01   \n",
       "504  42101           Place2        r0             2020-04-01,2020-05-01   \n",
       "\n",
       "                             end_date  reduction  \n",
       "0    2020-04-20,2020-05-20,2020-05-20   0.452361  \n",
       "1               2020-04-15,2020-05-15   0.523802  \n",
       "2    2020-04-20,2020-05-20,2020-05-20   0.536732  \n",
       "3                          2020-05-01   0.000000  \n",
       "4                          2020-05-01   0.000000  \n",
       "..                                ...        ...  \n",
       "500             2020-04-15,2020-05-15   0.274067  \n",
       "501             2020-04-15,2020-05-15   0.229424  \n",
       "502             2020-04-15,2020-05-15   0.240798  \n",
       "503             2020-04-15,2020-05-15   0.180254  \n",
       "504             2020-04-15,2020-05-15   0.248069  \n",
       "\n",
       "[505 rows x 6 columns]"
      ]
     },
     "execution_count": 5,
     "metadata": {},
     "output_type": "execute_result"
    }
   ],
   "source": [
    "old_snpi = pq.read_table(\"model_output/snpi/Maryland/inference/2020.08.20.12:11:11.UTC/000000001.2020.08.20.12:11:11.UTC.snpi.parquet\").to_pandas()\n",
    "old_snpi"
   ]
  },
  {
   "cell_type": "markdown",
   "metadata": {},
   "source": [
    "# let's write shift"
   ]
  },
  {
   "cell_type": "code",
   "execution_count": 14,
   "metadata": {
    "execution": {
     "iopub.execute_input": "2020-12-20T18:07:39.635897Z",
     "iopub.status.busy": "2020-12-20T18:07:39.635589Z",
     "iopub.status.idle": "2020-12-20T18:07:39.648076Z",
     "shell.execute_reply": "2020-12-20T18:07:39.647237Z",
     "shell.execute_reply.started": "2020-12-20T18:07:39.635865Z"
    }
   },
   "outputs": [],
   "source": [
    "# Total Rows: \n",
    "np.shape(a)[0]\n",
    "\n",
    "#Total Columns: \n",
    "np.shape(a)[1]\n"
   ]
  },
  {
   "cell_type": "code",
   "execution_count": 47,
   "metadata": {
    "execution": {
     "iopub.execute_input": "2020-12-20T18:29:16.404027Z",
     "iopub.status.busy": "2020-12-20T18:29:16.403738Z",
     "iopub.status.idle": "2020-12-20T18:29:16.409981Z",
     "shell.execute_reply": "2020-12-20T18:29:16.409108Z",
     "shell.execute_reply.started": "2020-12-20T18:29:16.404000Z"
    }
   },
   "outputs": [
    {
     "name": "stdout",
     "output_type": "stream",
     "text": [
      "[[28 39]\n",
      " [24 16]\n",
      " [11 24]\n",
      " [19 32]\n",
      " [ 4 30]\n",
      " [11 28]\n",
      " [35  6]\n",
      " [25  3]\n",
      " [12  3]\n",
      " [36 29]]\n",
      "[[1 0]\n",
      " [2 1]\n",
      " [1 0]\n",
      " [2 2]\n",
      " [1 2]\n",
      " [0 1]\n",
      " [1 1]\n",
      " [1 2]\n",
      " [1 2]\n",
      " [1 0]]\n"
     ]
    }
   ],
   "source": [
    "shp = (10, 2) # dateXplace\n",
    "array = np.random.randint(0, 50, shp)\n",
    "shifts =  np.random.randint(0, 3, shp)\n",
    "print(array)\n",
    "print(shifts)"
   ]
  },
  {
   "cell_type": "code",
   "execution_count": 51,
   "metadata": {
    "execution": {
     "iopub.execute_input": "2020-12-20T18:53:43.245057Z",
     "iopub.status.busy": "2020-12-20T18:53:43.244735Z",
     "iopub.status.idle": "2020-12-20T18:53:43.253789Z",
     "shell.execute_reply": "2020-12-20T18:53:43.253057Z",
     "shell.execute_reply.started": "2020-12-20T18:53:43.245024Z"
    }
   },
   "outputs": [],
   "source": [
    "def shift_multidelay(arr, shifts, fill_value=0, stoch_delay_flag = True):\n",
    "    \"\"\" Shift along first (0) axis \"\"\"\n",
    "    result = np.zeros_like(arr)\n",
    "\n",
    "    if (stoch_delay_flag):\n",
    "        for i, row in enumerate(arr):\n",
    "            for j, elem in enumerate(row):\n",
    "                ## This function takes in :\n",
    "                ##  - elem (int > 0)\n",
    "                ##  - delay (single average delay)\n",
    "                ## and outputs\n",
    "                ##  - vector of fixed size where the k element stores # of people who are delayed by k\n",
    "                raise ValueError(\"NOT SUPPORTED YET\")\n",
    "                #percentages = np.random.multinomial(el<fixed based on delays[i][j]>)\n",
    "                #cases = diff(round(cumsum(percentages)*elem))\n",
    "                #for k,case in enumerate(cases):\n",
    "                #    results[i+k][j] = cases[k]\n",
    "    else:\n",
    "        for i, row in enumerate(arr):\n",
    "            for j, elem in enumerate(row):\n",
    "                if(i + shifts[i][j] < arr.shape[0]):\n",
    "                    result[i+shifts[i][j]][j] += elem\n",
    "    return result"
   ]
  },
  {
   "cell_type": "code",
   "execution_count": 53,
   "metadata": {
    "execution": {
     "iopub.execute_input": "2020-12-20T18:53:47.926562Z",
     "iopub.status.busy": "2020-12-20T18:53:47.926276Z",
     "iopub.status.idle": "2020-12-20T18:53:47.940320Z",
     "shell.execute_reply": "2020-12-20T18:53:47.939117Z",
     "shell.execute_reply.started": "2020-12-20T18:53:47.926535Z"
    }
   },
   "outputs": [
    {
     "ename": "ValueError",
     "evalue": "NOT SUPPORTED YET",
     "output_type": "error",
     "traceback": [
      "\u001b[0;31m---------------------------------------------------------------------------\u001b[0m",
      "\u001b[0;31mValueError\u001b[0m                                Traceback (most recent call last)",
      "\u001b[0;32m<ipython-input-53-61c1b6f6e2bd>\u001b[0m in \u001b[0;36m<module>\u001b[0;34m()\u001b[0m\n\u001b[0;32m----> 1\u001b[0;31m \u001b[0mshift_multidelay\u001b[0m\u001b[0;34m(\u001b[0m\u001b[0marray\u001b[0m\u001b[0;34m,\u001b[0m \u001b[0mshifts\u001b[0m\u001b[0;34m,\u001b[0m \u001b[0mstoch_delay_flag\u001b[0m\u001b[0;34m=\u001b[0m\u001b[0;32mTrue\u001b[0m\u001b[0;34m)\u001b[0m\u001b[0;34m\u001b[0m\u001b[0;34m\u001b[0m\u001b[0m\n\u001b[0m",
      "\u001b[0;32m<ipython-input-51-8d0d5f5b1087>\u001b[0m in \u001b[0;36mshift_multidelay\u001b[0;34m(arr, shifts, fill_value, stoch_delay_flag)\u001b[0m\n\u001b[1;32m     11\u001b[0m                 \u001b[0;31m## and outputs\u001b[0m\u001b[0;34m\u001b[0m\u001b[0;34m\u001b[0m\u001b[0;34m\u001b[0m\u001b[0m\n\u001b[1;32m     12\u001b[0m                 \u001b[0;31m##  - vector of fixed size where the k element stores # of people who are delayed by k\u001b[0m\u001b[0;34m\u001b[0m\u001b[0;34m\u001b[0m\u001b[0;34m\u001b[0m\u001b[0m\n\u001b[0;32m---> 13\u001b[0;31m                 \u001b[0;32mraise\u001b[0m \u001b[0mValueError\u001b[0m\u001b[0;34m(\u001b[0m\u001b[0;34m\"NOT SUPPORTED YET\"\u001b[0m\u001b[0;34m)\u001b[0m\u001b[0;34m\u001b[0m\u001b[0;34m\u001b[0m\u001b[0m\n\u001b[0m\u001b[1;32m     14\u001b[0m                 \u001b[0;31m#percentages = np.random.multinomial(el<fixed based on delays[i][j]>)\u001b[0m\u001b[0;34m\u001b[0m\u001b[0;34m\u001b[0m\u001b[0;34m\u001b[0m\u001b[0m\n\u001b[1;32m     15\u001b[0m                 \u001b[0;31m#cases = diff(round(cumsum(percentages)*elem))\u001b[0m\u001b[0;34m\u001b[0m\u001b[0;34m\u001b[0m\u001b[0;34m\u001b[0m\u001b[0m\n",
      "\u001b[0;31mValueError\u001b[0m: NOT SUPPORTED YET"
     ]
    }
   ],
   "source": [
    "shift_multidelay(array, shifts, stoch_delay_flag=True)"
   ]
  },
  {
   "cell_type": "code",
   "execution_count": 50,
   "metadata": {
    "execution": {
     "iopub.execute_input": "2020-12-20T18:45:45.555085Z",
     "iopub.status.busy": "2020-12-20T18:45:45.554777Z",
     "iopub.status.idle": "2020-12-20T18:45:45.568446Z",
     "shell.execute_reply": "2020-12-20T18:45:45.567152Z",
     "shell.execute_reply.started": "2020-12-20T18:45:45.555056Z"
    }
   },
   "outputs": [
    {
     "ename": "TypeError",
     "evalue": "list indices must be integers or slices, not tuple",
     "output_type": "error",
     "traceback": [
      "\u001b[0;31m---------------------------------------------------------------------------\u001b[0m",
      "\u001b[0;31mTypeError\u001b[0m                                 Traceback (most recent call last)",
      "\u001b[0;32m<ipython-input-50-805a7d272d57>\u001b[0m in \u001b[0;36m<module>\u001b[0;34m()\u001b[0m\n\u001b[1;32m      1\u001b[0m shifts = np.array(\n\u001b[1;32m      2\u001b[0m         [[1, 0]\n\u001b[0;32m----> 3\u001b[0;31m         \u001b[0;34m[\u001b[0m\u001b[0;36m2\u001b[0m\u001b[0;34m,\u001b[0m \u001b[0;36m1\u001b[0m\u001b[0;34m]\u001b[0m\u001b[0;34m\u001b[0m\u001b[0;34m\u001b[0m\u001b[0m\n\u001b[0m\u001b[1;32m      4\u001b[0m         \u001b[0;34m[\u001b[0m\u001b[0;36m1\u001b[0m\u001b[0;34m,\u001b[0m \u001b[0;36m0\u001b[0m\u001b[0;34m]\u001b[0m\u001b[0;34m\u001b[0m\u001b[0;34m\u001b[0m\u001b[0m\n\u001b[1;32m      5\u001b[0m         \u001b[0;34m[\u001b[0m\u001b[0;36m2\u001b[0m\u001b[0;34m,\u001b[0m \u001b[0;36m2\u001b[0m\u001b[0;34m]\u001b[0m\u001b[0;34m\u001b[0m\u001b[0;34m\u001b[0m\u001b[0m\n",
      "\u001b[0;31mTypeError\u001b[0m: list indices must be integers or slices, not tuple"
     ]
    }
   ],
   "source": [
    "    shifts = np.array(\n",
    "            [[1, 0]\n",
    "            [2, 1]\n",
    "            [1, 0]\n",
    "            [2, 2]\n",
    "            [1, 2]\n",
    "            [0, 1]\n",
    "            [1, 1]\n",
    "            [1, 2]\n",
    "            [1, 2]\n",
    "            [1, 0]])"
   ]
  },
  {
   "cell_type": "code",
   "execution_count": 81,
   "metadata": {
    "execution": {
     "iopub.execute_input": "2020-12-20T21:54:18.620828Z",
     "iopub.status.busy": "2020-12-20T21:54:18.620531Z",
     "iopub.status.idle": "2020-12-20T21:54:18.625620Z",
     "shell.execute_reply": "2020-12-20T21:54:18.624741Z",
     "shell.execute_reply.started": "2020-12-20T21:54:18.620801Z"
    }
   },
   "outputs": [
    {
     "data": {
      "text/plain": [
       "array([[ 2,  2,  2,  2,  2],\n",
       "       [45, 45, 45, 45, 45],\n",
       "       [49, 49, 49, 49, 49]])"
      ]
     },
     "execution_count": 81,
     "metadata": {},
     "output_type": "execute_result"
    }
   ],
   "source": [
    "b = np.repeat(a[:,np.newaxis], 5, axis = 1)\n",
    "b"
   ]
  },
  {
   "cell_type": "code",
   "execution_count": 84,
   "metadata": {
    "execution": {
     "iopub.execute_input": "2020-12-21T00:58:23.370101Z",
     "iopub.status.busy": "2020-12-21T00:58:23.369815Z",
     "iopub.status.idle": "2020-12-21T00:58:23.374196Z",
     "shell.execute_reply": "2020-12-21T00:58:23.373407Z",
     "shell.execute_reply.started": "2020-12-21T00:58:23.370074Z"
    }
   },
   "outputs": [
    {
     "data": {
      "text/plain": [
       "'b.shaped'"
      ]
     },
     "execution_count": 84,
     "metadata": {},
     "output_type": "execute_result"
    }
   ],
   "source": [
    "\"b.shapeD\".lower()"
   ]
  },
  {
   "cell_type": "code",
   "execution_count": 65,
   "metadata": {
    "execution": {
     "iopub.execute_input": "2020-12-20T21:49:48.156619Z",
     "iopub.status.busy": "2020-12-20T21:49:48.156342Z",
     "iopub.status.idle": "2020-12-20T21:49:48.161071Z",
     "shell.execute_reply": "2020-12-20T21:49:48.160335Z",
     "shell.execute_reply.started": "2020-12-20T21:49:48.156594Z"
    }
   },
   "outputs": [
    {
     "data": {
      "text/plain": [
       "array([ 2, 45, 49])"
      ]
     },
     "execution_count": 65,
     "metadata": {},
     "output_type": "execute_result"
    }
   ],
   "source": [
    "a = np.random.randint(0, 50, 3)\n",
    "a"
   ]
  },
  {
   "cell_type": "code",
   "execution_count": 85,
   "metadata": {
    "execution": {
     "iopub.execute_input": "2020-12-21T01:18:07.024524Z",
     "iopub.status.busy": "2020-12-21T01:18:07.024228Z",
     "iopub.status.idle": "2020-12-21T01:18:07.029263Z",
     "shell.execute_reply": "2020-12-21T01:18:07.028570Z",
     "shell.execute_reply.started": "2020-12-21T01:18:07.024496Z"
    }
   },
   "outputs": [
    {
     "data": {
      "text/plain": [
       "{'alpha': 1, 'r0': 1, 'gamma': 1, 'sigma': 1}"
      ]
     },
     "execution_count": 85,
     "metadata": {},
     "output_type": "execute_result"
    }
   ],
   "source": [
    "REDUCE_PARAMS = [\"alpha\", \"r0\", \"gamma\", \"sigma\"]\n",
    "{param: 1 for param in REDUCE_PARAMS}"
   ]
  },
  {
   "cell_type": "code",
   "execution_count": 4,
   "metadata": {
    "execution": {
     "iopub.execute_input": "2020-12-22T15:03:56.757935Z",
     "iopub.status.busy": "2020-12-22T15:03:56.757676Z",
     "iopub.status.idle": "2020-12-22T15:03:56.772408Z",
     "shell.execute_reply": "2020-12-22T15:03:56.771692Z",
     "shell.execute_reply.started": "2020-12-22T15:03:56.757912Z"
    }
   },
   "outputs": [
    {
     "data": {
      "text/html": [
       "<div>\n",
       "<style scoped>\n",
       "    .dataframe tbody tr th:only-of-type {\n",
       "        vertical-align: middle;\n",
       "    }\n",
       "\n",
       "    .dataframe tbody tr th {\n",
       "        vertical-align: top;\n",
       "    }\n",
       "\n",
       "    .dataframe thead th {\n",
       "        text-align: right;\n",
       "    }\n",
       "</style>\n",
       "<table border=\"1\" class=\"dataframe\">\n",
       "  <thead>\n",
       "    <tr style=\"text-align: right;\">\n",
       "      <th></th>\n",
       "      <th>geoid</th>\n",
       "      <th>npi_name</th>\n",
       "      <th>parameter</th>\n",
       "      <th>start_date</th>\n",
       "      <th>end_date</th>\n",
       "      <th>reduction</th>\n",
       "    </tr>\n",
       "  </thead>\n",
       "  <tbody>\n",
       "    <tr>\n",
       "      <th>0</th>\n",
       "      <td>51720</td>\n",
       "      <td>localVar</td>\n",
       "      <td>incidh::duration</td>\n",
       "      <td>2020-04-15,2020-05-15,2020-05-15</td>\n",
       "      <td>2020-04-20,2020-05-20,2020-05-20</td>\n",
       "      <td>0.496555</td>\n",
       "    </tr>\n",
       "    <tr>\n",
       "      <th>1</th>\n",
       "      <td>51017</td>\n",
       "      <td>localVar</td>\n",
       "      <td>incidh::duration</td>\n",
       "      <td>2020-04-01,2020-05-01</td>\n",
       "      <td>2020-04-15,2020-05-15</td>\n",
       "      <td>0.511260</td>\n",
       "    </tr>\n",
       "    <tr>\n",
       "      <th>2</th>\n",
       "      <td>42023</td>\n",
       "      <td>localVar</td>\n",
       "      <td>incidh::duration</td>\n",
       "      <td>2020-04-15,2020-05-15,2020-05-15</td>\n",
       "      <td>2020-04-20,2020-05-20,2020-05-20</td>\n",
       "      <td>0.462429</td>\n",
       "    </tr>\n",
       "    <tr>\n",
       "      <th>3</th>\n",
       "      <td>51720</td>\n",
       "      <td>localVar2</td>\n",
       "      <td>incidh::duration</td>\n",
       "      <td>2020-01-31</td>\n",
       "      <td>2020-10-31</td>\n",
       "      <td>0.500189</td>\n",
       "    </tr>\n",
       "    <tr>\n",
       "      <th>4</th>\n",
       "      <td>42023</td>\n",
       "      <td>localVar2</td>\n",
       "      <td>incidh::duration</td>\n",
       "      <td>2020-01-31</td>\n",
       "      <td>2020-10-31</td>\n",
       "      <td>0.590209</td>\n",
       "    </tr>\n",
       "    <tr>\n",
       "      <th>...</th>\n",
       "      <td>...</td>\n",
       "      <td>...</td>\n",
       "      <td>...</td>\n",
       "      <td>...</td>\n",
       "      <td>...</td>\n",
       "      <td>...</td>\n",
       "    </tr>\n",
       "    <tr>\n",
       "      <th>250</th>\n",
       "      <td>34003</td>\n",
       "      <td>lowerAll</td>\n",
       "      <td>incidh::duration</td>\n",
       "      <td>2020-04-15</td>\n",
       "      <td>2020-05-01</td>\n",
       "      <td>0.816326</td>\n",
       "    </tr>\n",
       "    <tr>\n",
       "      <th>251</th>\n",
       "      <td>24031</td>\n",
       "      <td>lowerAll</td>\n",
       "      <td>incidh::duration</td>\n",
       "      <td>2020-04-15</td>\n",
       "      <td>2020-05-01</td>\n",
       "      <td>0.123624</td>\n",
       "    </tr>\n",
       "    <tr>\n",
       "      <th>252</th>\n",
       "      <td>51059</td>\n",
       "      <td>lowerAll</td>\n",
       "      <td>incidh::duration</td>\n",
       "      <td>2020-04-15</td>\n",
       "      <td>2020-05-01</td>\n",
       "      <td>0.718618</td>\n",
       "    </tr>\n",
       "    <tr>\n",
       "      <th>253</th>\n",
       "      <td>42003</td>\n",
       "      <td>lowerAll</td>\n",
       "      <td>incidh::duration</td>\n",
       "      <td>2020-04-15</td>\n",
       "      <td>2020-05-01</td>\n",
       "      <td>0.705296</td>\n",
       "    </tr>\n",
       "    <tr>\n",
       "      <th>254</th>\n",
       "      <td>42101</td>\n",
       "      <td>lowerAll</td>\n",
       "      <td>incidh::duration</td>\n",
       "      <td>2020-04-15</td>\n",
       "      <td>2020-05-01</td>\n",
       "      <td>0.118891</td>\n",
       "    </tr>\n",
       "  </tbody>\n",
       "</table>\n",
       "<p>255 rows × 6 columns</p>\n",
       "</div>"
      ],
      "text/plain": [
       "     geoid   npi_name         parameter                        start_date  \\\n",
       "0    51720   localVar  incidh::duration  2020-04-15,2020-05-15,2020-05-15   \n",
       "1    51017   localVar  incidh::duration             2020-04-01,2020-05-01   \n",
       "2    42023   localVar  incidh::duration  2020-04-15,2020-05-15,2020-05-15   \n",
       "3    51720  localVar2  incidh::duration                        2020-01-31   \n",
       "4    42023  localVar2  incidh::duration                        2020-01-31   \n",
       "..     ...        ...               ...                               ...   \n",
       "250  34003   lowerAll  incidh::duration                        2020-04-15   \n",
       "251  24031   lowerAll  incidh::duration                        2020-04-15   \n",
       "252  51059   lowerAll  incidh::duration                        2020-04-15   \n",
       "253  42003   lowerAll  incidh::duration                        2020-04-15   \n",
       "254  42101   lowerAll  incidh::duration                        2020-04-15   \n",
       "\n",
       "                             end_date  reduction  \n",
       "0    2020-04-20,2020-05-20,2020-05-20   0.496555  \n",
       "1               2020-04-15,2020-05-15   0.511260  \n",
       "2    2020-04-20,2020-05-20,2020-05-20   0.462429  \n",
       "3                          2020-10-31   0.500189  \n",
       "4                          2020-10-31   0.590209  \n",
       "..                                ...        ...  \n",
       "250                        2020-05-01   0.816326  \n",
       "251                        2020-05-01   0.123624  \n",
       "252                        2020-05-01   0.718618  \n",
       "253                        2020-05-01   0.705296  \n",
       "254                        2020-05-01   0.118891  \n",
       "\n",
       "[255 rows x 6 columns]"
      ]
     },
     "execution_count": 4,
     "metadata": {},
     "output_type": "execute_result"
    }
   ],
   "source": [
    "old_hnpi = pq.read_table(\"model_output/hnpi/Maryland/inference/med/2020.08.20.12:11:11.UTC/000000004.2020.08.20.12:11:11.UTC.hnpi.parquet\").to_pandas()\n",
    "old_hnpi"
   ]
  }
 ],
 "metadata": {
  "kernelspec": {
   "display_name": "Python (covidSP)",
   "language": "python",
   "name": "covidsp"
  },
  "language_info": {
   "codemirror_mode": {
    "name": "ipython",
    "version": 3
   },
   "file_extension": ".py",
   "mimetype": "text/x-python",
   "name": "python",
   "nbconvert_exporter": "python",
   "pygments_lexer": "ipython3",
   "version": "3.7.9"
  }
 },
 "nbformat": 4,
 "nbformat_minor": 4
}

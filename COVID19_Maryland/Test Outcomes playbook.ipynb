{
 "cells": [
  {
   "cell_type": "code",
   "execution_count": 1,
   "metadata": {
    "execution": {
     "iopub.status.idle": "2020-09-23T16:12:45.079585Z",
     "shell.execute_reply": "2020-09-23T16:12:45.078875Z",
     "shell.execute_reply.started": "2020-09-23T16:12:43.859080Z"
    }
   },
   "outputs": [],
   "source": [
    "import numpy as np\n",
    "import pandas as pd\n",
    "import datetime\n",
    "\n",
    "import pytest\n",
    "\n",
    "from Outcomes import outcomes\n",
    "from SEIR.utils import config\n",
    "\n",
    "\n",
    "\n",
    "import pandas as pd\n",
    "import numpy as np\n",
    "import datetime\n",
    "import matplotlib.pyplot as plt\n",
    "import glob, os, sys\n",
    "from pathlib import Path\n",
    "#import seaborn as sns\n",
    "import pyarrow.parquet as pq\n",
    "import click\n",
    "import pyarrow as pa\n",
    "\n",
    "import os\n",
    "\n",
    "os.chdir('COVIDScenarioPipeline/Outcomes/test')\n",
    "\n",
    "\n",
    "geoid = ['15005', '15007', '15009', '15001', '15003']\n",
    "diffI = np.arange(5)*2\n",
    "date_data = datetime.date(2020,4,15)\n",
    "subclasses = ['_A', '_B']"
   ]
  },
  {
   "cell_type": "markdown",
   "metadata": {},
   "source": [
    "### Creating a test file from the inference test:"
   ]
  },
  {
   "cell_type": "code",
   "execution_count": 2,
   "metadata": {
    "execution": {
     "iopub.execute_input": "2020-09-23T16:12:45.081113Z",
     "iopub.status.busy": "2020-09-23T16:12:45.080929Z",
     "iopub.status.idle": "2020-09-23T16:12:45.098680Z",
     "shell.execute_reply": "2020-09-23T16:12:45.098108Z",
     "shell.execute_reply.started": "2020-09-23T16:12:45.081083Z"
    }
   },
   "outputs": [],
   "source": [
    "seir = pq.read_table('model_output/seir/000000001.1.seir.parquet').to_pandas()\n",
    "seir[[i for i in seir.columns if '15' in i]] = 0\n",
    "seir.loc[(seir['time'] == '2020-04-15') & (seir['comp'] == 'diffI'), [i for i in seir.columns if '15' in i]] = np.arange(5)*2\n",
    "seir[(seir['time'] == '2020-04-15') & (seir['comp'] == 'diffI')][[i for i in seir.columns if '15' in i]]\n",
    "\n",
    "seirT = pa.Table.from_pandas(seir, preserve_index=False)\n",
    "#pa.parquet.write_table(seirT, 'model_output/seir/000000001.1.seir.parquet')\n",
    "#pa.parquet.write_table(seirT, 'model_output/seir/000000001.2.seir.parquet')"
   ]
  },
  {
   "cell_type": "markdown",
   "metadata": {},
   "source": [
    "# Test classical load from config"
   ]
  },
  {
   "cell_type": "code",
   "execution_count": 3,
   "metadata": {
    "execution": {
     "iopub.execute_input": "2020-09-23T16:12:45.100630Z",
     "iopub.status.busy": "2020-09-23T16:12:45.100442Z",
     "iopub.status.idle": "2020-09-23T16:12:45.165143Z",
     "shell.execute_reply": "2020-09-23T16:12:45.164357Z",
     "shell.execute_reply.started": "2020-09-23T16:12:45.100598Z"
    }
   },
   "outputs": [
    {
     "name": "stdout",
     "output_type": "stream",
     "text": [
      "NOT LOADED VALUES !!!\n",
      "[0.1 0.1 0.1 0.1 0.1]\n",
      "NOT LOADED VALUES !!!\n",
      "[0.01 0.01 0.01 0.01 0.01]\n",
      "NOT LOADED VALUES !!!\n",
      "[0.4 0.4 0.4 0.4 0.4]\n",
      "\n",
      ">> 1 outcomes simulations completed in 0.0 seconds\n",
      "\n"
     ]
    },
    {
     "data": {
      "text/plain": [
       "1"
      ]
     },
     "execution_count": 3,
     "metadata": {},
     "output_type": "execute_result"
    }
   ],
   "source": [
    "config.set_file('config.yml')\n",
    "\n",
    "run_id = 1\n",
    "index = 1\n",
    "deathrate = 'high_death_rate'\n",
    "prefix = ''\n",
    "stoch_traj_flag = False\n",
    "outcomes.run_delayframe_outcomes(config, run_id, prefix, int(index), run_id, prefix, int(index), # output\n",
    "                        deathrate, nsim=1, n_jobs=1, stoch_traj_flag = stoch_traj_flag)"
   ]
  },
  {
   "cell_type": "code",
   "execution_count": 4,
   "metadata": {
    "execution": {
     "iopub.execute_input": "2020-09-23T16:12:45.166902Z",
     "iopub.status.busy": "2020-09-23T16:12:45.166698Z",
     "iopub.status.idle": "2020-09-23T16:12:47.514099Z",
     "shell.execute_reply": "2020-09-23T16:12:47.513640Z",
     "shell.execute_reply.started": "2020-09-23T16:12:45.166869Z"
    }
   },
   "outputs": [],
   "source": [
    "hosp = pq.read_table('model_output/hosp/000000001.1.hosp.parquet').to_pandas()\n",
    "hosp.set_index('time', drop=True, inplace = True)\n",
    "\n",
    "for i, place  in enumerate(geoid):\n",
    "    for dt in hosp.index:\n",
    "        if dt == date_data:\n",
    "            assert(hosp[hosp['geoid']==place]['incidI'][dt] == diffI[i])\n",
    "            assert(hosp[hosp['geoid']==place]['incidH'][dt+datetime.timedelta(7)] == diffI[i]*.1)\n",
    "            assert(hosp[hosp['geoid']==place]['incidD'][dt+datetime.timedelta(2) ] == diffI[i]*.01)\n",
    "            assert(hosp[hosp['geoid']==place]['incidICU'][dt+datetime.timedelta(7)] == diffI[i]*.1*.4)\n",
    "            for j in range(7):\n",
    "                assert(hosp[hosp['geoid']==place]['hosp_curr'][dt+datetime.timedelta(7+j)] == diffI[i]*.1)\n",
    "            assert(hosp[hosp['geoid']==place]['hosp_curr'][dt+datetime.timedelta(7+8)] == 0)\n",
    "\n",
    "        elif dt < date_data:\n",
    "            assert(hosp[hosp['geoid']==place]['incidH'][dt+datetime.timedelta(7)] == 0)\n",
    "            assert(hosp[hosp['geoid']==place]['incidI'][dt] == 0)\n",
    "            assert(hosp[hosp['geoid']==place]['incidD'][dt+datetime.timedelta(2)] == 0)\n",
    "            assert(hosp[hosp['geoid']==place]['incidICU'][dt+datetime.timedelta(7)] == 0)\n",
    "            assert(hosp[hosp['geoid']==place]['hosp_curr'][dt+datetime.timedelta(7)] == 0)\n",
    "        elif dt > (date_data + datetime.timedelta(7)):\n",
    "            assert(hosp[hosp['geoid']==place]['incidH'][dt] == 0)\n",
    "            assert(hosp[hosp['geoid']==place]['incidI'][dt-datetime.timedelta(7)] == 0)\n",
    "            assert(hosp[hosp['geoid']==place]['incidD'][dt-datetime.timedelta(4)] == 0)\n",
    "            assert(hosp[hosp['geoid']==place]['incidICU'][dt] == 0)\n",
    "hpar = pq.read_table('model_output/hpar/000000001.1.hpar.parquet').to_pandas()\n",
    "\n",
    "for i, place  in enumerate(geoid):\n",
    "    assert(float(hpar[(hpar['geoid']== place) & (hpar['outcome']== 'incidH') & (hpar['quantity'] == 'probability')]['value']) == 0.1)\n",
    "    assert(float(hpar[(hpar['geoid']== place) & (hpar['outcome']== 'incidH') & (hpar['quantity'] == 'delay')]['value']) == 7)\n",
    "    assert(float(hpar[(hpar['geoid']== place) & (hpar['outcome']== 'incidH') & (hpar['quantity'] == 'duration')]['value']) == 7)\n",
    "    assert(float(hpar[(hpar['geoid']== place) & (hpar['outcome']== 'incidD') & (hpar['quantity'] == 'probability')]['value']) == 0.01)\n",
    "    assert(float(hpar[(hpar['geoid']== place) & (hpar['outcome']== 'incidD') & (hpar['quantity'] == 'delay')]['value']) == 2)\n",
    "    assert(float(hpar[(hpar['geoid']== place) & (hpar['outcome']== 'incidICU') & (hpar['quantity'] == 'probability')]['value']) == 0.4)\n",
    "    assert(float(hpar[(hpar['geoid']== place) & (hpar['outcome']== 'incidICU') & (hpar['quantity'] == 'delay')]['value']) == 0)"
   ]
  },
  {
   "cell_type": "markdown",
   "metadata": {},
   "source": [
    "### Built test relative prob"
   ]
  },
  {
   "cell_type": "code",
   "execution_count": 5,
   "metadata": {
    "execution": {
     "iopub.execute_input": "2020-09-23T16:12:47.515173Z",
     "iopub.status.busy": "2020-09-23T16:12:47.515028Z",
     "iopub.status.idle": "2020-09-23T16:12:47.537412Z",
     "shell.execute_reply": "2020-09-23T16:12:47.536685Z",
     "shell.execute_reply.started": "2020-09-23T16:12:47.515146Z"
    }
   },
   "outputs": [],
   "source": [
    "rel_prob = pq.read_table('model_output/hpar/000000001.1.hpar.parquet').to_pandas()\n",
    "rel_prob = rel_prob[rel_prob['quantity'] == 'probability']\n",
    "rel_prob = rel_prob[rel_prob['quantity'] == 'probability']\n",
    "rel_prob['quantity'] = 'relative_probability'\n",
    "for i, place  in enumerate(geoid):\n",
    "    rel_prob.loc[(rel_prob['geoid'] == place)&(rel_prob['outcome'] == 'incidH'),'value'] = rel_prob[rel_prob['geoid'] == place]['value'] * diffI[i]\n",
    "\n",
    "    \n",
    "    \n",
    "# change order to test re-aranging node\n",
    "rel_prob = rel_prob.sample(frac=1).reset_index(drop=True)\n",
    "rel_probT = pa.Table.from_pandas(rel_prob, preserve_index=False)\n",
    "#pa.parquet.write_table(rel_probT, 'test_rel.parquet')"
   ]
  },
  {
   "cell_type": "code",
   "execution_count": 6,
   "metadata": {
    "execution": {
     "iopub.execute_input": "2020-09-23T16:12:47.538620Z",
     "iopub.status.busy": "2020-09-23T16:12:47.538418Z",
     "iopub.status.idle": "2020-09-23T16:12:47.550591Z",
     "shell.execute_reply": "2020-09-23T16:12:47.549960Z",
     "shell.execute_reply.started": "2020-09-23T16:12:47.538571Z"
    }
   },
   "outputs": [
    {
     "data": {
      "text/html": [
       "<div>\n",
       "<style scoped>\n",
       "    .dataframe tbody tr th:only-of-type {\n",
       "        vertical-align: middle;\n",
       "    }\n",
       "\n",
       "    .dataframe tbody tr th {\n",
       "        vertical-align: top;\n",
       "    }\n",
       "\n",
       "    .dataframe thead th {\n",
       "        text-align: right;\n",
       "    }\n",
       "</style>\n",
       "<table border=\"1\" class=\"dataframe\">\n",
       "  <thead>\n",
       "    <tr style=\"text-align: right;\">\n",
       "      <th></th>\n",
       "      <th>geoid</th>\n",
       "      <th>quantity</th>\n",
       "      <th>outcome</th>\n",
       "      <th>source</th>\n",
       "      <th>value</th>\n",
       "    </tr>\n",
       "  </thead>\n",
       "  <tbody>\n",
       "    <tr>\n",
       "      <th>0</th>\n",
       "      <td>15007</td>\n",
       "      <td>relative_probability</td>\n",
       "      <td>incidD</td>\n",
       "      <td>incidI</td>\n",
       "      <td>0.01</td>\n",
       "    </tr>\n",
       "    <tr>\n",
       "      <th>1</th>\n",
       "      <td>15007</td>\n",
       "      <td>relative_probability</td>\n",
       "      <td>incidH</td>\n",
       "      <td>incidI</td>\n",
       "      <td>0.20</td>\n",
       "    </tr>\n",
       "    <tr>\n",
       "      <th>2</th>\n",
       "      <td>15003</td>\n",
       "      <td>relative_probability</td>\n",
       "      <td>incidICU</td>\n",
       "      <td>incidH</td>\n",
       "      <td>0.40</td>\n",
       "    </tr>\n",
       "    <tr>\n",
       "      <th>3</th>\n",
       "      <td>15007</td>\n",
       "      <td>relative_probability</td>\n",
       "      <td>incidICU</td>\n",
       "      <td>incidH</td>\n",
       "      <td>0.40</td>\n",
       "    </tr>\n",
       "    <tr>\n",
       "      <th>4</th>\n",
       "      <td>15005</td>\n",
       "      <td>relative_probability</td>\n",
       "      <td>incidH</td>\n",
       "      <td>incidI</td>\n",
       "      <td>0.00</td>\n",
       "    </tr>\n",
       "    <tr>\n",
       "      <th>5</th>\n",
       "      <td>15009</td>\n",
       "      <td>relative_probability</td>\n",
       "      <td>incidICU</td>\n",
       "      <td>incidH</td>\n",
       "      <td>0.40</td>\n",
       "    </tr>\n",
       "    <tr>\n",
       "      <th>6</th>\n",
       "      <td>15001</td>\n",
       "      <td>relative_probability</td>\n",
       "      <td>incidH</td>\n",
       "      <td>incidI</td>\n",
       "      <td>0.60</td>\n",
       "    </tr>\n",
       "    <tr>\n",
       "      <th>7</th>\n",
       "      <td>15009</td>\n",
       "      <td>relative_probability</td>\n",
       "      <td>incidH</td>\n",
       "      <td>incidI</td>\n",
       "      <td>0.40</td>\n",
       "    </tr>\n",
       "    <tr>\n",
       "      <th>8</th>\n",
       "      <td>15005</td>\n",
       "      <td>relative_probability</td>\n",
       "      <td>incidICU</td>\n",
       "      <td>incidH</td>\n",
       "      <td>0.40</td>\n",
       "    </tr>\n",
       "    <tr>\n",
       "      <th>9</th>\n",
       "      <td>15003</td>\n",
       "      <td>relative_probability</td>\n",
       "      <td>incidD</td>\n",
       "      <td>incidI</td>\n",
       "      <td>0.01</td>\n",
       "    </tr>\n",
       "    <tr>\n",
       "      <th>10</th>\n",
       "      <td>15001</td>\n",
       "      <td>relative_probability</td>\n",
       "      <td>incidICU</td>\n",
       "      <td>incidH</td>\n",
       "      <td>0.40</td>\n",
       "    </tr>\n",
       "    <tr>\n",
       "      <th>11</th>\n",
       "      <td>15001</td>\n",
       "      <td>relative_probability</td>\n",
       "      <td>incidD</td>\n",
       "      <td>incidI</td>\n",
       "      <td>0.01</td>\n",
       "    </tr>\n",
       "    <tr>\n",
       "      <th>12</th>\n",
       "      <td>15005</td>\n",
       "      <td>relative_probability</td>\n",
       "      <td>incidD</td>\n",
       "      <td>incidI</td>\n",
       "      <td>0.01</td>\n",
       "    </tr>\n",
       "    <tr>\n",
       "      <th>13</th>\n",
       "      <td>15009</td>\n",
       "      <td>relative_probability</td>\n",
       "      <td>incidD</td>\n",
       "      <td>incidI</td>\n",
       "      <td>0.01</td>\n",
       "    </tr>\n",
       "    <tr>\n",
       "      <th>14</th>\n",
       "      <td>15003</td>\n",
       "      <td>relative_probability</td>\n",
       "      <td>incidH</td>\n",
       "      <td>incidI</td>\n",
       "      <td>0.80</td>\n",
       "    </tr>\n",
       "  </tbody>\n",
       "</table>\n",
       "</div>"
      ],
      "text/plain": [
       "    geoid              quantity   outcome  source  value\n",
       "0   15007  relative_probability    incidD  incidI   0.01\n",
       "1   15007  relative_probability    incidH  incidI   0.20\n",
       "2   15003  relative_probability  incidICU  incidH   0.40\n",
       "3   15007  relative_probability  incidICU  incidH   0.40\n",
       "4   15005  relative_probability    incidH  incidI   0.00\n",
       "5   15009  relative_probability  incidICU  incidH   0.40\n",
       "6   15001  relative_probability    incidH  incidI   0.60\n",
       "7   15009  relative_probability    incidH  incidI   0.40\n",
       "8   15005  relative_probability  incidICU  incidH   0.40\n",
       "9   15003  relative_probability    incidD  incidI   0.01\n",
       "10  15001  relative_probability  incidICU  incidH   0.40\n",
       "11  15001  relative_probability    incidD  incidI   0.01\n",
       "12  15005  relative_probability    incidD  incidI   0.01\n",
       "13  15009  relative_probability    incidD  incidI   0.01\n",
       "14  15003  relative_probability    incidH  incidI   0.80"
      ]
     },
     "execution_count": 6,
     "metadata": {},
     "output_type": "execute_result"
    }
   ],
   "source": [
    "rel_prob"
   ]
  },
  {
   "cell_type": "markdown",
   "metadata": {},
   "source": [
    "# Test the load relative parameters"
   ]
  },
  {
   "cell_type": "code",
   "execution_count": 7,
   "metadata": {
    "execution": {
     "iopub.execute_input": "2020-09-23T16:12:47.551670Z",
     "iopub.status.busy": "2020-09-23T16:12:47.551485Z",
     "iopub.status.idle": "2020-09-23T16:12:47.633792Z",
     "shell.execute_reply": "2020-09-23T16:12:47.633202Z",
     "shell.execute_reply.started": "2020-09-23T16:12:47.551639Z"
    }
   },
   "outputs": [
    {
     "name": "stdout",
     "output_type": "stream",
     "text": [
      "Loaded geoids in loaded relative probablity file: 5 Intersect with seir simulation:  5 keeped\n",
      "Using 'param_from_file' for relative probability incidI -->  incidH\n",
      "Using 'param_from_file' for relative probability incidI -->  incidD\n",
      "Using 'param_from_file' for relative probability incidH -->  incidICU\n",
      "NOT LOADED VALUES !!!\n",
      "[0.   0.02 0.04 0.06 0.08]\n",
      "NOT LOADED VALUES !!!\n",
      "[0.0001 0.0001 0.0001 0.0001 0.0001]\n",
      "NOT LOADED VALUES !!!\n",
      "[0.16 0.16 0.16 0.16 0.16]\n",
      "\n",
      ">> 1 outcomes simulations completed in 0.1 seconds\n",
      "\n"
     ]
    },
    {
     "data": {
      "text/plain": [
       "1"
      ]
     },
     "execution_count": 7,
     "metadata": {},
     "output_type": "execute_result"
    }
   ],
   "source": [
    "config.clear()\n",
    "config.read(user=False)\n",
    "config.set_file('config_load.yml')\n",
    "\n",
    "run_id = 1\n",
    "index = 1\n",
    "deathrate = 'high_death_rate'\n",
    "prefix = ''\n",
    "stoch_traj_flag = False\n",
    "outcomes.run_delayframe_outcomes(config, run_id, prefix, int(index), run_id+1, prefix, int(index), # output\n",
    "                        deathrate, nsim=1, n_jobs=1, stoch_traj_flag = stoch_traj_flag)"
   ]
  },
  {
   "cell_type": "code",
   "execution_count": 8,
   "metadata": {
    "execution": {
     "iopub.execute_input": "2020-09-23T16:12:47.634846Z",
     "iopub.status.busy": "2020-09-23T16:12:47.634659Z",
     "iopub.status.idle": "2020-09-23T16:12:47.687835Z",
     "shell.execute_reply": "2020-09-23T16:12:47.687300Z",
     "shell.execute_reply.started": "2020-09-23T16:12:47.634814Z"
    }
   },
   "outputs": [],
   "source": [
    "hpar_config = pq.read_table('model_output/hpar/000000001.1.hpar.parquet').to_pandas()\n",
    "hpar_rel = pq.read_table('model_output/hpar/000000001.2.hpar.parquet').to_pandas()\n",
    "for out in ['incidH', 'incidD', 'incidICU']:\n",
    "    for i, place  in enumerate(geoid):\n",
    "        a = hpar_rel[(hpar_rel['outcome'] == out) & (hpar_rel['geoid'] == place)]\n",
    "        b = hpar_config[(hpar_rel['outcome'] == out) & (hpar_config['geoid'] == place)]\n",
    "        assert(len(a)== len(b))\n",
    "        for j in range(len(a)):\n",
    "            if (b.iloc[j]['quantity'] in ['delay', 'duration']):\n",
    "                assert(a.iloc[j]['value'] == b.iloc[j]['value'])\n",
    "            else: #probabiliy\n",
    "                if b.iloc[j]['outcome'] == 'incidD': \n",
    "                    assert(a.iloc[j]['value'] == b.iloc[j]['value']*0.01)\n",
    "                elif b.iloc[j]['outcome'] == 'incidICU': \n",
    "                    assert(a.iloc[j]['value'] ==  b.iloc[j]['value']*0.4)\n",
    "                elif b.iloc[j]['outcome'] == 'incidH': \n",
    "                    assert(a.iloc[j]['value'] == b.iloc[j]['value']*diffI[i]*0.1)"
   ]
  },
  {
   "cell_type": "code",
   "execution_count": 9,
   "metadata": {
    "execution": {
     "iopub.execute_input": "2020-09-23T16:12:47.690797Z",
     "iopub.status.busy": "2020-09-23T16:12:47.690602Z",
     "iopub.status.idle": "2020-09-23T16:12:47.785408Z",
     "shell.execute_reply": "2020-09-23T16:12:47.784939Z",
     "shell.execute_reply.started": "2020-09-23T16:12:47.690765Z"
    }
   },
   "outputs": [
    {
     "name": "stdout",
     "output_type": "stream",
     "text": [
      "Loaded geoids in loaded relative probablity file: 5 Intersect with seir simulation:  5 keeped\n",
      "Using 'param_from_file' for relative probability incidI -->  incidH\n",
      "Using 'param_from_file' for relative probability incidI -->  incidD\n",
      "Using 'param_from_file' for relative probability incidH -->  incidICU\n",
      "Using LOADED VALUES !!!\n",
      "[0.   0.02 0.04 0.06 0.08] incidH incidI\n",
      "    geoid     quantity   outcome  source   value\n",
      "0   15005  probability    incidH  incidI  0.0000\n",
      "1   15007  probability    incidH  incidI  0.0200\n",
      "2   15009  probability    incidH  incidI  0.0400\n",
      "3   15001  probability    incidH  incidI  0.0600\n",
      "4   15003  probability    incidH  incidI  0.0800\n",
      "5   15005        delay    incidH  incidI  7.0000\n",
      "6   15007        delay    incidH  incidI  7.0000\n",
      "7   15009        delay    incidH  incidI  7.0000\n",
      "8   15001        delay    incidH  incidI  7.0000\n",
      "9   15003        delay    incidH  incidI  7.0000\n",
      "10  15005     duration    incidH  incidI  7.0000\n",
      "11  15007     duration    incidH  incidI  7.0000\n",
      "12  15009     duration    incidH  incidI  7.0000\n",
      "13  15001     duration    incidH  incidI  7.0000\n",
      "14  15003     duration    incidH  incidI  7.0000\n",
      "15  15005  probability    incidD  incidI  0.0001\n",
      "16  15007  probability    incidD  incidI  0.0001\n",
      "17  15009  probability    incidD  incidI  0.0001\n",
      "18  15001  probability    incidD  incidI  0.0001\n",
      "19  15003  probability    incidD  incidI  0.0001\n",
      "20  15005        delay    incidD  incidI  2.0000\n",
      "21  15007        delay    incidD  incidI  2.0000\n",
      "22  15009        delay    incidD  incidI  2.0000\n",
      "23  15001        delay    incidD  incidI  2.0000\n",
      "24  15003        delay    incidD  incidI  2.0000\n",
      "25  15005  probability  incidICU  incidH  0.1600\n",
      "26  15007  probability  incidICU  incidH  0.1600\n",
      "27  15009  probability  incidICU  incidH  0.1600\n",
      "28  15001  probability  incidICU  incidH  0.1600\n",
      "29  15003  probability  incidICU  incidH  0.1600\n",
      "30  15005        delay  incidICU  incidH  0.0000\n",
      "31  15007        delay  incidICU  incidH  0.0000\n",
      "32  15009        delay  incidICU  incidH  0.0000\n",
      "33  15001        delay  incidICU  incidH  0.0000\n",
      "34  15003        delay  incidICU  incidH  0.0000\n",
      "Using LOADED VALUES !!!\n",
      "[0.0001 0.0001 0.0001 0.0001 0.0001] incidD incidI\n",
      "    geoid     quantity   outcome  source   value\n",
      "0   15005  probability    incidH  incidI  0.0000\n",
      "1   15007  probability    incidH  incidI  0.0200\n",
      "2   15009  probability    incidH  incidI  0.0400\n",
      "3   15001  probability    incidH  incidI  0.0600\n",
      "4   15003  probability    incidH  incidI  0.0800\n",
      "5   15005        delay    incidH  incidI  7.0000\n",
      "6   15007        delay    incidH  incidI  7.0000\n",
      "7   15009        delay    incidH  incidI  7.0000\n",
      "8   15001        delay    incidH  incidI  7.0000\n",
      "9   15003        delay    incidH  incidI  7.0000\n",
      "10  15005     duration    incidH  incidI  7.0000\n",
      "11  15007     duration    incidH  incidI  7.0000\n",
      "12  15009     duration    incidH  incidI  7.0000\n",
      "13  15001     duration    incidH  incidI  7.0000\n",
      "14  15003     duration    incidH  incidI  7.0000\n",
      "15  15005  probability    incidD  incidI  0.0001\n",
      "16  15007  probability    incidD  incidI  0.0001\n",
      "17  15009  probability    incidD  incidI  0.0001\n",
      "18  15001  probability    incidD  incidI  0.0001\n",
      "19  15003  probability    incidD  incidI  0.0001\n",
      "20  15005        delay    incidD  incidI  2.0000\n",
      "21  15007        delay    incidD  incidI  2.0000\n",
      "22  15009        delay    incidD  incidI  2.0000\n",
      "23  15001        delay    incidD  incidI  2.0000\n",
      "24  15003        delay    incidD  incidI  2.0000\n",
      "25  15005  probability  incidICU  incidH  0.1600\n",
      "26  15007  probability  incidICU  incidH  0.1600\n",
      "27  15009  probability  incidICU  incidH  0.1600\n",
      "28  15001  probability  incidICU  incidH  0.1600\n",
      "29  15003  probability  incidICU  incidH  0.1600\n",
      "30  15005        delay  incidICU  incidH  0.0000\n",
      "31  15007        delay  incidICU  incidH  0.0000\n",
      "32  15009        delay  incidICU  incidH  0.0000\n",
      "33  15001        delay  incidICU  incidH  0.0000\n",
      "34  15003        delay  incidICU  incidH  0.0000\n",
      "Using LOADED VALUES !!!\n",
      "[0.16 0.16 0.16 0.16 0.16] incidICU incidH\n",
      "    geoid     quantity   outcome  source   value\n",
      "0   15005  probability    incidH  incidI  0.0000\n",
      "1   15007  probability    incidH  incidI  0.0200\n",
      "2   15009  probability    incidH  incidI  0.0400\n",
      "3   15001  probability    incidH  incidI  0.0600\n",
      "4   15003  probability    incidH  incidI  0.0800\n",
      "5   15005        delay    incidH  incidI  7.0000\n",
      "6   15007        delay    incidH  incidI  7.0000\n",
      "7   15009        delay    incidH  incidI  7.0000\n",
      "8   15001        delay    incidH  incidI  7.0000\n",
      "9   15003        delay    incidH  incidI  7.0000\n",
      "10  15005     duration    incidH  incidI  7.0000\n",
      "11  15007     duration    incidH  incidI  7.0000\n",
      "12  15009     duration    incidH  incidI  7.0000\n",
      "13  15001     duration    incidH  incidI  7.0000\n",
      "14  15003     duration    incidH  incidI  7.0000\n",
      "15  15005  probability    incidD  incidI  0.0001\n",
      "16  15007  probability    incidD  incidI  0.0001\n",
      "17  15009  probability    incidD  incidI  0.0001\n",
      "18  15001  probability    incidD  incidI  0.0001\n",
      "19  15003  probability    incidD  incidI  0.0001\n",
      "20  15005        delay    incidD  incidI  2.0000\n",
      "21  15007        delay    incidD  incidI  2.0000\n",
      "22  15009        delay    incidD  incidI  2.0000\n",
      "23  15001        delay    incidD  incidI  2.0000\n",
      "24  15003        delay    incidD  incidI  2.0000\n",
      "25  15005  probability  incidICU  incidH  0.1600\n",
      "26  15007  probability  incidICU  incidH  0.1600\n",
      "27  15009  probability  incidICU  incidH  0.1600\n",
      "28  15001  probability  incidICU  incidH  0.1600\n",
      "29  15003  probability  incidICU  incidH  0.1600\n",
      "30  15005        delay  incidICU  incidH  0.0000\n",
      "31  15007        delay  incidICU  incidH  0.0000\n",
      "32  15009        delay  incidICU  incidH  0.0000\n",
      "33  15001        delay  incidICU  incidH  0.0000\n",
      "34  15003        delay  incidICU  incidH  0.0000\n"
     ]
    },
    {
     "data": {
      "text/plain": [
       "1"
      ]
     },
     "execution_count": 9,
     "metadata": {},
     "output_type": "execute_result"
    }
   ],
   "source": [
    "config.clear()\n",
    "config.read(user=False)\n",
    "config.set_file('config_load.yml')\n",
    "\n",
    "run_id = 1\n",
    "index = 1\n",
    "deathrate = 'high_death_rate'\n",
    "prefix = ''\n",
    "stoch_traj_flag = False\n",
    "outcomes.onerun_delayframe_outcomes_load_hpar(config, 2, prefix, int(index), # input\n",
    "                                                      3, prefix, int(index), # output\n",
    "                                                     deathrate, stoch_traj_flag)"
   ]
  },
  {
   "cell_type": "code",
   "execution_count": 10,
   "metadata": {
    "execution": {
     "iopub.execute_input": "2020-09-23T16:12:47.787261Z",
     "iopub.status.busy": "2020-09-23T16:12:47.787054Z",
     "iopub.status.idle": "2020-09-23T16:12:47.799344Z",
     "shell.execute_reply": "2020-09-23T16:12:47.798446Z",
     "shell.execute_reply.started": "2020-09-23T16:12:47.787230Z"
    }
   },
   "outputs": [],
   "source": [
    "hpar_read = pq.read_table('model_output/hpar/000000001.2.hpar.parquet').to_pandas()\n",
    "hpar_wrote = pq.read_table('model_output/hpar/000000001.3.hpar.parquet').to_pandas()\n",
    "assert((hpar_read == hpar_wrote).all().all())"
   ]
  },
  {
   "cell_type": "markdown",
   "metadata": {},
   "source": [
    "# Test with subclasses"
   ]
  },
  {
   "cell_type": "code",
   "execution_count": null,
   "metadata": {},
   "outputs": [],
   "source": []
  },
  {
   "cell_type": "code",
   "execution_count": 11,
   "metadata": {
    "execution": {
     "iopub.execute_input": "2020-09-23T16:12:47.800810Z",
     "iopub.status.busy": "2020-09-23T16:12:47.800477Z",
     "iopub.status.idle": "2020-09-23T16:12:47.901327Z",
     "shell.execute_reply": "2020-09-23T16:12:47.900811Z",
     "shell.execute_reply.started": "2020-09-23T16:12:47.800674Z"
    }
   },
   "outputs": [
    {
     "name": "stdout",
     "output_type": "stream",
     "text": [
      "NOT LOADED VALUES !!!\n",
      "[0.1 0.1 0.1 0.1 0.1]\n",
      "NOT LOADED VALUES !!!\n",
      "[0.1 0.1 0.1 0.1 0.1]\n",
      "NOT LOADED VALUES !!!\n",
      "[0.01 0.01 0.01 0.01 0.01]\n",
      "NOT LOADED VALUES !!!\n",
      "[0.01 0.01 0.01 0.01 0.01]\n",
      "NOT LOADED VALUES !!!\n",
      "[0.4 0.4 0.4 0.4 0.4]\n",
      "NOT LOADED VALUES !!!\n",
      "[0.4 0.4 0.4 0.4 0.4]\n",
      "\n",
      ">> 1 outcomes simulations completed in 0.1 seconds\n",
      "\n"
     ]
    },
    {
     "data": {
      "text/plain": [
       "1"
      ]
     },
     "execution_count": 11,
     "metadata": {},
     "output_type": "execute_result"
    }
   ],
   "source": [
    "config.clear()\n",
    "config.read(user=False)\n",
    "config.set_file('config_subclasses.yml')\n",
    "\n",
    "run_id = 1\n",
    "index = 1\n",
    "deathrate = 'high_death_rate'\n",
    "prefix = ''\n",
    "stoch_traj_flag = False\n",
    "outcomes.run_delayframe_outcomes(config, run_id, prefix, int(index), 10, prefix, int(index), # output\n",
    "                        deathrate, nsim=1, n_jobs=1, stoch_traj_flag = stoch_traj_flag)"
   ]
  },
  {
   "cell_type": "markdown",
   "metadata": {},
   "source": [
    "### From config (of no use, really, except generating a file)"
   ]
  },
  {
   "cell_type": "code",
   "execution_count": 12,
   "metadata": {
    "execution": {
     "iopub.execute_input": "2020-09-23T16:12:47.902637Z",
     "iopub.status.busy": "2020-09-23T16:12:47.902480Z",
     "iopub.status.idle": "2020-09-23T16:12:54.135537Z",
     "shell.execute_reply": "2020-09-23T16:12:54.134951Z",
     "shell.execute_reply.started": "2020-09-23T16:12:47.902611Z"
    }
   },
   "outputs": [],
   "source": [
    "hosp = pq.read_table('model_output/hosp/000000001.10.hosp.parquet').to_pandas()\n",
    "hosp.set_index('time', drop=True, inplace = True)\n",
    "\n",
    "for i, place  in enumerate(geoid):\n",
    "    for dt in hosp.index:\n",
    "        if dt == date_data:\n",
    "            assert(hosp[hosp['geoid']==place]['incidI'][dt] == diffI[i])\n",
    "            assert(hosp[hosp['geoid']==place]['incidH'][dt+datetime.timedelta(7)] == diffI[i]*.1*len(subclasses))\n",
    "            assert(hosp[hosp['geoid']==place]['incidD'][dt+datetime.timedelta(2) ] == diffI[i]*.01*len(subclasses))\n",
    "            assert(hosp[hosp['geoid']==place]['incidICU'][dt+datetime.timedelta(7)] == diffI[i]*.1*.4*len(subclasses))\n",
    "            for j in range(7):\n",
    "                assert(hosp[hosp['geoid']==place]['hosp_curr'][dt+datetime.timedelta(7+j)] == diffI[i]*.1*len(subclasses))\n",
    "            assert(hosp[hosp['geoid']==place]['hosp_curr'][dt+datetime.timedelta(7+8)] == 0)\n",
    "\n",
    "        elif dt < date_data:\n",
    "            assert(hosp[hosp['geoid']==place]['incidH'][dt+datetime.timedelta(7)] == 0)\n",
    "            assert(hosp[hosp['geoid']==place]['incidI'][dt] == 0)\n",
    "            assert(hosp[hosp['geoid']==place]['incidD'][dt+datetime.timedelta(2)] == 0)\n",
    "            assert(hosp[hosp['geoid']==place]['incidICU'][dt+datetime.timedelta(7)] == 0)\n",
    "            assert(hosp[hosp['geoid']==place]['hosp_curr'][dt+datetime.timedelta(7)] == 0)\n",
    "        elif dt > (date_data + datetime.timedelta(7)):\n",
    "            assert(hosp[hosp['geoid']==place]['incidH'][dt] == 0)\n",
    "            assert(hosp[hosp['geoid']==place]['incidI'][dt-datetime.timedelta(7)] == 0)\n",
    "            assert(hosp[hosp['geoid']==place]['incidD'][dt-datetime.timedelta(4)] == 0)\n",
    "            assert(hosp[hosp['geoid']==place]['incidICU'][dt] == 0)\n",
    "            \n",
    "for cl in subclasses:\n",
    "    for i, place  in enumerate(geoid):\n",
    "        for dt in hosp.index:\n",
    "            if dt == date_data:\n",
    "                assert(hosp[hosp['geoid']==place][f'incidH{cl}'][dt+datetime.timedelta(7)] == diffI[i]*.1)\n",
    "                assert(hosp[hosp['geoid']==place][f'incidD{cl}'][dt+datetime.timedelta(2) ] == diffI[i]*.01)\n",
    "                assert(hosp[hosp['geoid']==place][f'incidICU{cl}'][dt+datetime.timedelta(7)] == diffI[i]*.1*.4)\n",
    "                for j in range(7):\n",
    "                    assert(hosp[hosp['geoid']==place][f'hosp_curr{cl}'][dt+datetime.timedelta(7+j)] == diffI[i]*.1)\n",
    "                assert(hosp[hosp['geoid']==place][f'hosp_curr{cl}'][dt+datetime.timedelta(7+8)] == 0)\n",
    "\n",
    "            elif dt < date_data:\n",
    "                assert(hosp[hosp['geoid']==place][f'incidH{cl}'][dt+datetime.timedelta(7)] == 0)\n",
    "                assert(hosp[hosp['geoid']==place][f'incidD{cl}'][dt+datetime.timedelta(2)] == 0)\n",
    "                assert(hosp[hosp['geoid']==place][f'incidICU{cl}'][dt+datetime.timedelta(7)] == 0)\n",
    "                assert(hosp[hosp['geoid']==place][f'hosp_curr{cl}'][dt+datetime.timedelta(7)] == 0)\n",
    "            elif dt > (date_data + datetime.timedelta(7)):\n",
    "                assert(hosp[hosp['geoid']==place][f'incidH{cl}'][dt] == 0)\n",
    "                assert(hosp[hosp['geoid']==place][f'incidD{cl}'][dt-datetime.timedelta(4)] == 0)\n",
    "                assert(hosp[hosp['geoid']==place][f'incidICU{cl}'][dt] == 0)\n",
    "\n",
    "hpar = pq.read_table('model_output/hpar/000000001.10.hpar.parquet').to_pandas()\n",
    "for cl in subclasses:\n",
    "    for i, place  in enumerate(geoid):\n",
    "        assert(float(hpar[(hpar['geoid']== place) & (hpar['outcome']== f'incidH{cl}') & (hpar['quantity'] == 'probability')]['value']) == 0.1)\n",
    "        assert(float(hpar[(hpar['geoid']== place) & (hpar['outcome']== f'incidH{cl}') & (hpar['quantity'] == 'delay')]['value']) == 7)\n",
    "        assert(float(hpar[(hpar['geoid']== place) & (hpar['outcome']== f'incidH{cl}') & (hpar['quantity'] == 'duration')]['value']) == 7)\n",
    "        assert(float(hpar[(hpar['geoid']== place) & (hpar['outcome']== f'incidD{cl}') & (hpar['quantity'] == 'probability')]['value']) == 0.01)\n",
    "        assert(float(hpar[(hpar['geoid']== place) & (hpar['outcome']== f'incidD{cl}') & (hpar['quantity'] == 'delay')]['value']) == 2)\n",
    "        assert(float(hpar[(hpar['geoid']== place) & (hpar['outcome']== f'incidICU{cl}') & (hpar['quantity'] == 'probability')]['value']) == 0.4)\n",
    "        assert(float(hpar[(hpar['geoid']== place) & (hpar['outcome']== f'incidICU{cl}') & (hpar['quantity'] == 'delay')]['value']) == 0)\n",
    "        assert((hpar[(hpar['geoid']== place) & (hpar['outcome']== f'incidICU{cl}')]['source'] == f'incidH{cl}').all())\n",
    "        assert((hpar[(hpar['geoid']== place) & (hpar['outcome']== f'incidH{cl}')]['source'] == f'incidI').all())"
   ]
  },
  {
   "cell_type": "markdown",
   "metadata": {},
   "source": [
    "# Build subclasses relative probability"
   ]
  },
  {
   "cell_type": "code",
   "execution_count": 13,
   "metadata": {
    "execution": {
     "iopub.execute_input": "2020-09-23T16:12:54.136664Z",
     "iopub.status.busy": "2020-09-23T16:12:54.136382Z",
     "iopub.status.idle": "2020-09-23T16:12:54.172724Z",
     "shell.execute_reply": "2020-09-23T16:12:54.172113Z",
     "shell.execute_reply.started": "2020-09-23T16:12:54.136597Z"
    }
   },
   "outputs": [],
   "source": [
    "rel_prob = pq.read_table('model_output/hpar/000000001.10.hpar.parquet').to_pandas()\n",
    "rel_prob = rel_prob[rel_prob['quantity'] == 'probability']\n",
    "rel_prob = rel_prob[rel_prob['quantity'] == 'probability']\n",
    "rel_prob['quantity'] = 'relative_probability'\n",
    "for i, place  in enumerate(geoid):\n",
    "    rel_prob.loc[(rel_prob['geoid'] == place)&(rel_prob['outcome'] == 'incidH_A'),'value'] = rel_prob[rel_prob['geoid'] == place]['value'] * diffI[i] + .05\n",
    "    rel_prob.loc[(rel_prob['geoid'] == place)&(rel_prob['outcome'] == 'incidH_B'),'value'] = rel_prob[rel_prob['geoid'] == place]['value'] * diffI[i] + .075\n",
    "\n",
    "    \n",
    "    \n",
    "# change order to test re-aranging node\n",
    "rel_prob = rel_prob.sample(frac=1).reset_index(drop=True)\n",
    "rel_probT = pa.Table.from_pandas(rel_prob, preserve_index=False)\n",
    "#pa.parquet.write_table(rel_probT, 'test_rel_subclasses.parquet')"
   ]
  },
  {
   "cell_type": "code",
   "execution_count": 14,
   "metadata": {
    "execution": {
     "iopub.execute_input": "2020-09-23T16:12:54.173826Z",
     "iopub.status.busy": "2020-09-23T16:12:54.173643Z",
     "iopub.status.idle": "2020-09-23T16:12:54.186931Z",
     "shell.execute_reply": "2020-09-23T16:12:54.186437Z",
     "shell.execute_reply.started": "2020-09-23T16:12:54.173796Z"
    }
   },
   "outputs": [
    {
     "data": {
      "text/html": [
       "<div>\n",
       "<style scoped>\n",
       "    .dataframe tbody tr th:only-of-type {\n",
       "        vertical-align: middle;\n",
       "    }\n",
       "\n",
       "    .dataframe tbody tr th {\n",
       "        vertical-align: top;\n",
       "    }\n",
       "\n",
       "    .dataframe thead th {\n",
       "        text-align: right;\n",
       "    }\n",
       "</style>\n",
       "<table border=\"1\" class=\"dataframe\">\n",
       "  <thead>\n",
       "    <tr style=\"text-align: right;\">\n",
       "      <th></th>\n",
       "      <th>geoid</th>\n",
       "      <th>quantity</th>\n",
       "      <th>outcome</th>\n",
       "      <th>source</th>\n",
       "      <th>value</th>\n",
       "    </tr>\n",
       "  </thead>\n",
       "  <tbody>\n",
       "    <tr>\n",
       "      <th>0</th>\n",
       "      <td>15001</td>\n",
       "      <td>relative_probability</td>\n",
       "      <td>incidH_B</td>\n",
       "      <td>incidI</td>\n",
       "      <td>0.675</td>\n",
       "    </tr>\n",
       "    <tr>\n",
       "      <th>1</th>\n",
       "      <td>15009</td>\n",
       "      <td>relative_probability</td>\n",
       "      <td>incidH_A</td>\n",
       "      <td>incidI</td>\n",
       "      <td>0.450</td>\n",
       "    </tr>\n",
       "    <tr>\n",
       "      <th>2</th>\n",
       "      <td>15003</td>\n",
       "      <td>relative_probability</td>\n",
       "      <td>incidH_A</td>\n",
       "      <td>incidI</td>\n",
       "      <td>0.850</td>\n",
       "    </tr>\n",
       "    <tr>\n",
       "      <th>3</th>\n",
       "      <td>15003</td>\n",
       "      <td>relative_probability</td>\n",
       "      <td>incidD_B</td>\n",
       "      <td>incidI</td>\n",
       "      <td>0.010</td>\n",
       "    </tr>\n",
       "    <tr>\n",
       "      <th>4</th>\n",
       "      <td>15007</td>\n",
       "      <td>relative_probability</td>\n",
       "      <td>incidICU_B</td>\n",
       "      <td>incidH_B</td>\n",
       "      <td>0.400</td>\n",
       "    </tr>\n",
       "    <tr>\n",
       "      <th>5</th>\n",
       "      <td>15005</td>\n",
       "      <td>relative_probability</td>\n",
       "      <td>incidD_A</td>\n",
       "      <td>incidI</td>\n",
       "      <td>0.010</td>\n",
       "    </tr>\n",
       "    <tr>\n",
       "      <th>6</th>\n",
       "      <td>15009</td>\n",
       "      <td>relative_probability</td>\n",
       "      <td>incidH_B</td>\n",
       "      <td>incidI</td>\n",
       "      <td>0.475</td>\n",
       "    </tr>\n",
       "    <tr>\n",
       "      <th>7</th>\n",
       "      <td>15009</td>\n",
       "      <td>relative_probability</td>\n",
       "      <td>incidICU_A</td>\n",
       "      <td>incidH_A</td>\n",
       "      <td>0.400</td>\n",
       "    </tr>\n",
       "    <tr>\n",
       "      <th>8</th>\n",
       "      <td>15005</td>\n",
       "      <td>relative_probability</td>\n",
       "      <td>incidH_A</td>\n",
       "      <td>incidI</td>\n",
       "      <td>0.050</td>\n",
       "    </tr>\n",
       "    <tr>\n",
       "      <th>9</th>\n",
       "      <td>15005</td>\n",
       "      <td>relative_probability</td>\n",
       "      <td>incidICU_A</td>\n",
       "      <td>incidH_A</td>\n",
       "      <td>0.400</td>\n",
       "    </tr>\n",
       "    <tr>\n",
       "      <th>10</th>\n",
       "      <td>15001</td>\n",
       "      <td>relative_probability</td>\n",
       "      <td>incidICU_B</td>\n",
       "      <td>incidH_B</td>\n",
       "      <td>0.400</td>\n",
       "    </tr>\n",
       "    <tr>\n",
       "      <th>11</th>\n",
       "      <td>15003</td>\n",
       "      <td>relative_probability</td>\n",
       "      <td>incidICU_B</td>\n",
       "      <td>incidH_B</td>\n",
       "      <td>0.400</td>\n",
       "    </tr>\n",
       "    <tr>\n",
       "      <th>12</th>\n",
       "      <td>15003</td>\n",
       "      <td>relative_probability</td>\n",
       "      <td>incidD_A</td>\n",
       "      <td>incidI</td>\n",
       "      <td>0.010</td>\n",
       "    </tr>\n",
       "    <tr>\n",
       "      <th>13</th>\n",
       "      <td>15009</td>\n",
       "      <td>relative_probability</td>\n",
       "      <td>incidICU_B</td>\n",
       "      <td>incidH_B</td>\n",
       "      <td>0.400</td>\n",
       "    </tr>\n",
       "    <tr>\n",
       "      <th>14</th>\n",
       "      <td>15001</td>\n",
       "      <td>relative_probability</td>\n",
       "      <td>incidICU_A</td>\n",
       "      <td>incidH_A</td>\n",
       "      <td>0.400</td>\n",
       "    </tr>\n",
       "    <tr>\n",
       "      <th>15</th>\n",
       "      <td>15001</td>\n",
       "      <td>relative_probability</td>\n",
       "      <td>incidD_A</td>\n",
       "      <td>incidI</td>\n",
       "      <td>0.010</td>\n",
       "    </tr>\n",
       "    <tr>\n",
       "      <th>16</th>\n",
       "      <td>15007</td>\n",
       "      <td>relative_probability</td>\n",
       "      <td>incidH_A</td>\n",
       "      <td>incidI</td>\n",
       "      <td>0.250</td>\n",
       "    </tr>\n",
       "    <tr>\n",
       "      <th>17</th>\n",
       "      <td>15005</td>\n",
       "      <td>relative_probability</td>\n",
       "      <td>incidH_B</td>\n",
       "      <td>incidI</td>\n",
       "      <td>0.075</td>\n",
       "    </tr>\n",
       "    <tr>\n",
       "      <th>18</th>\n",
       "      <td>15009</td>\n",
       "      <td>relative_probability</td>\n",
       "      <td>incidD_A</td>\n",
       "      <td>incidI</td>\n",
       "      <td>0.010</td>\n",
       "    </tr>\n",
       "    <tr>\n",
       "      <th>19</th>\n",
       "      <td>15007</td>\n",
       "      <td>relative_probability</td>\n",
       "      <td>incidH_B</td>\n",
       "      <td>incidI</td>\n",
       "      <td>0.275</td>\n",
       "    </tr>\n",
       "    <tr>\n",
       "      <th>20</th>\n",
       "      <td>15005</td>\n",
       "      <td>relative_probability</td>\n",
       "      <td>incidD_B</td>\n",
       "      <td>incidI</td>\n",
       "      <td>0.010</td>\n",
       "    </tr>\n",
       "    <tr>\n",
       "      <th>21</th>\n",
       "      <td>15007</td>\n",
       "      <td>relative_probability</td>\n",
       "      <td>incidICU_A</td>\n",
       "      <td>incidH_A</td>\n",
       "      <td>0.400</td>\n",
       "    </tr>\n",
       "    <tr>\n",
       "      <th>22</th>\n",
       "      <td>15001</td>\n",
       "      <td>relative_probability</td>\n",
       "      <td>incidH_A</td>\n",
       "      <td>incidI</td>\n",
       "      <td>0.650</td>\n",
       "    </tr>\n",
       "    <tr>\n",
       "      <th>23</th>\n",
       "      <td>15003</td>\n",
       "      <td>relative_probability</td>\n",
       "      <td>incidH_B</td>\n",
       "      <td>incidI</td>\n",
       "      <td>0.875</td>\n",
       "    </tr>\n",
       "    <tr>\n",
       "      <th>24</th>\n",
       "      <td>15007</td>\n",
       "      <td>relative_probability</td>\n",
       "      <td>incidD_B</td>\n",
       "      <td>incidI</td>\n",
       "      <td>0.010</td>\n",
       "    </tr>\n",
       "    <tr>\n",
       "      <th>25</th>\n",
       "      <td>15005</td>\n",
       "      <td>relative_probability</td>\n",
       "      <td>incidICU_B</td>\n",
       "      <td>incidH_B</td>\n",
       "      <td>0.400</td>\n",
       "    </tr>\n",
       "    <tr>\n",
       "      <th>26</th>\n",
       "      <td>15001</td>\n",
       "      <td>relative_probability</td>\n",
       "      <td>incidD_B</td>\n",
       "      <td>incidI</td>\n",
       "      <td>0.010</td>\n",
       "    </tr>\n",
       "    <tr>\n",
       "      <th>27</th>\n",
       "      <td>15007</td>\n",
       "      <td>relative_probability</td>\n",
       "      <td>incidD_A</td>\n",
       "      <td>incidI</td>\n",
       "      <td>0.010</td>\n",
       "    </tr>\n",
       "    <tr>\n",
       "      <th>28</th>\n",
       "      <td>15003</td>\n",
       "      <td>relative_probability</td>\n",
       "      <td>incidICU_A</td>\n",
       "      <td>incidH_A</td>\n",
       "      <td>0.400</td>\n",
       "    </tr>\n",
       "    <tr>\n",
       "      <th>29</th>\n",
       "      <td>15009</td>\n",
       "      <td>relative_probability</td>\n",
       "      <td>incidD_B</td>\n",
       "      <td>incidI</td>\n",
       "      <td>0.010</td>\n",
       "    </tr>\n",
       "  </tbody>\n",
       "</table>\n",
       "</div>"
      ],
      "text/plain": [
       "    geoid              quantity     outcome    source  value\n",
       "0   15001  relative_probability    incidH_B    incidI  0.675\n",
       "1   15009  relative_probability    incidH_A    incidI  0.450\n",
       "2   15003  relative_probability    incidH_A    incidI  0.850\n",
       "3   15003  relative_probability    incidD_B    incidI  0.010\n",
       "4   15007  relative_probability  incidICU_B  incidH_B  0.400\n",
       "5   15005  relative_probability    incidD_A    incidI  0.010\n",
       "6   15009  relative_probability    incidH_B    incidI  0.475\n",
       "7   15009  relative_probability  incidICU_A  incidH_A  0.400\n",
       "8   15005  relative_probability    incidH_A    incidI  0.050\n",
       "9   15005  relative_probability  incidICU_A  incidH_A  0.400\n",
       "10  15001  relative_probability  incidICU_B  incidH_B  0.400\n",
       "11  15003  relative_probability  incidICU_B  incidH_B  0.400\n",
       "12  15003  relative_probability    incidD_A    incidI  0.010\n",
       "13  15009  relative_probability  incidICU_B  incidH_B  0.400\n",
       "14  15001  relative_probability  incidICU_A  incidH_A  0.400\n",
       "15  15001  relative_probability    incidD_A    incidI  0.010\n",
       "16  15007  relative_probability    incidH_A    incidI  0.250\n",
       "17  15005  relative_probability    incidH_B    incidI  0.075\n",
       "18  15009  relative_probability    incidD_A    incidI  0.010\n",
       "19  15007  relative_probability    incidH_B    incidI  0.275\n",
       "20  15005  relative_probability    incidD_B    incidI  0.010\n",
       "21  15007  relative_probability  incidICU_A  incidH_A  0.400\n",
       "22  15001  relative_probability    incidH_A    incidI  0.650\n",
       "23  15003  relative_probability    incidH_B    incidI  0.875\n",
       "24  15007  relative_probability    incidD_B    incidI  0.010\n",
       "25  15005  relative_probability  incidICU_B  incidH_B  0.400\n",
       "26  15001  relative_probability    incidD_B    incidI  0.010\n",
       "27  15007  relative_probability    incidD_A    incidI  0.010\n",
       "28  15003  relative_probability  incidICU_A  incidH_A  0.400\n",
       "29  15009  relative_probability    incidD_B    incidI  0.010"
      ]
     },
     "execution_count": 14,
     "metadata": {},
     "output_type": "execute_result"
    }
   ],
   "source": [
    "rel_prob"
   ]
  },
  {
   "cell_type": "markdown",
   "metadata": {},
   "source": [
    "### Loading a file. What should be the outcome here ?"
   ]
  },
  {
   "cell_type": "code",
   "execution_count": 15,
   "metadata": {
    "execution": {
     "iopub.execute_input": "2020-09-23T16:12:54.188003Z",
     "iopub.status.busy": "2020-09-23T16:12:54.187840Z",
     "iopub.status.idle": "2020-09-23T16:12:54.325612Z",
     "shell.execute_reply": "2020-09-23T16:12:54.325022Z",
     "shell.execute_reply.started": "2020-09-23T16:12:54.187973Z"
    }
   },
   "outputs": [
    {
     "name": "stdout",
     "output_type": "stream",
     "text": [
      "Loaded geoids in loaded relative probablity file: 5 Intersect with seir simulation:  5 keeped\n",
      "Using 'param_from_file' for relative probability incidI -->  incidH_A\n",
      "Using 'param_from_file' for relative probability incidI -->  incidH_B\n",
      "Using 'param_from_file' for relative probability incidI -->  incidD_A\n",
      "Using 'param_from_file' for relative probability incidI -->  incidD_B\n",
      "Using 'param_from_file' for relative probability incidH_A -->  incidICU_A\n",
      "Using 'param_from_file' for relative probability incidH_B -->  incidICU_B\n",
      "NOT LOADED VALUES !!!\n",
      "[0.005 0.025 0.045 0.065 0.085]\n",
      "NOT LOADED VALUES !!!\n",
      "[0.0075 0.0275 0.0475 0.0675 0.0875]\n",
      "NOT LOADED VALUES !!!\n",
      "[0.0001 0.0001 0.0001 0.0001 0.0001]\n",
      "NOT LOADED VALUES !!!\n",
      "[0.0001 0.0001 0.0001 0.0001 0.0001]\n",
      "NOT LOADED VALUES !!!\n",
      "[0.16 0.16 0.16 0.16 0.16]\n",
      "NOT LOADED VALUES !!!\n",
      "[0.16 0.16 0.16 0.16 0.16]\n",
      "\n",
      ">> 1 outcomes simulations completed in 0.1 seconds\n",
      "\n"
     ]
    },
    {
     "data": {
      "text/plain": [
       "1"
      ]
     },
     "execution_count": 15,
     "metadata": {},
     "output_type": "execute_result"
    }
   ],
   "source": [
    "config.clear()\n",
    "config.read(user=False)\n",
    "config.set_file('config_load_subclasses.yml')\n",
    "\n",
    "run_id = 1\n",
    "index = 1\n",
    "deathrate = 'high_death_rate'\n",
    "prefix = ''\n",
    "stoch_traj_flag = False\n",
    "outcomes.run_delayframe_outcomes(config, run_id, prefix, int(index), 11, prefix, int(index), # output\n",
    "                        deathrate, nsim=1, n_jobs=1, stoch_traj_flag = stoch_traj_flag)"
   ]
  },
  {
   "cell_type": "code",
   "execution_count": 16,
   "metadata": {
    "execution": {
     "iopub.execute_input": "2020-09-23T16:12:54.326899Z",
     "iopub.status.busy": "2020-09-23T16:12:54.326560Z",
     "iopub.status.idle": "2020-09-23T16:12:54.420174Z",
     "shell.execute_reply": "2020-09-23T16:12:54.419522Z",
     "shell.execute_reply.started": "2020-09-23T16:12:54.326865Z"
    }
   },
   "outputs": [],
   "source": [
    "hpar_config = pq.read_table('model_output/hpar/000000001.10.hpar.parquet').to_pandas()\n",
    "hpar_rel = pq.read_table('model_output/hpar/000000001.11.hpar.parquet').to_pandas()\n",
    "for cl in subclasses:\n",
    "    for out in [f'incidH{cl}', f'incidD{cl}', f'incidICU{cl}']:\n",
    "        for i, place  in enumerate(geoid):\n",
    "            a = hpar_rel[(hpar_rel['outcome'] == out) & (hpar_rel['geoid'] == place)]\n",
    "            b = hpar_config[(hpar_rel['outcome'] == out) & (hpar_config['geoid'] == place)]\n",
    "            assert(len(a)== len(b))\n",
    "            for j in range(len(a)):\n",
    "                if (b.iloc[j]['quantity'] in ['delay', 'duration']):\n",
    "                    assert(a.iloc[j]['value'] == b.iloc[j]['value'])\n",
    "                else: #probabiliy\n",
    "                    if cl == '_A':\n",
    "                        add = .05\n",
    "                    elif cl == '_B':\n",
    "                        add = .075\n",
    "                        \n",
    "                    if b.iloc[j]['outcome'] == f'incidD{cl}': \n",
    "                        assert(a.iloc[j]['value'] == b.iloc[j]['value']*0.01)\n",
    "                    elif b.iloc[j]['outcome'] == f'incidICU{cl}':\n",
    "                        assert(a.iloc[j]['value'] ==  b.iloc[j]['value']*0.4)\n",
    "                    elif b.iloc[j]['outcome'] == f'incidH{cl}': \n",
    "                        assert(a.iloc[j]['value'] == b.iloc[j]['value']*(diffI[i]*0.1+add))\n",
    "\n",
    "hosp_rel = pq.read_table('model_output/hosp/000000001.11.hosp.parquet').to_pandas()\n",
    "assert((hosp_rel['incidH'] == hosp_rel['incidH_A'] + hosp_rel['incidH_B']).all())"
   ]
  },
  {
   "cell_type": "code",
   "execution_count": null,
   "metadata": {},
   "outputs": [],
   "source": []
  },
  {
   "cell_type": "code",
   "execution_count": 30,
   "metadata": {
    "execution": {
     "iopub.execute_input": "2020-09-23T17:10:07.821219Z",
     "iopub.status.busy": "2020-09-23T17:10:07.820962Z",
     "iopub.status.idle": "2020-09-23T17:10:08.025765Z",
     "shell.execute_reply": "2020-09-23T17:10:08.025087Z",
     "shell.execute_reply.started": "2020-09-23T17:10:07.821178Z"
    }
   },
   "outputs": [
    {
     "name": "stdout",
     "output_type": "stream",
     "text": [
      "Loaded geoids in loaded relative probablity file: 5 Intersect with seir simulation:  5 keeped\n",
      "Using 'param_from_file' for relative probability incidI -->  incidH\n",
      "Using 'param_from_file' for relative probability incidI -->  incidD\n",
      "Using 'param_from_file' for relative probability incidH -->  incidICU\n",
      "NOT LOADED VALUES !!!\n",
      "[0.   0.02 0.04 0.06 0.08]\n",
      "NOT LOADED VALUES !!!\n",
      "[0.0001 0.0001 0.0001 0.0001 0.0001]\n",
      "NOT LOADED VALUES !!!\n",
      "[0.16 0.16 0.16 0.16 0.16]\n",
      "\n",
      ">> 1 outcomes simulations completed in 0.1 seconds\n",
      "\n",
      "Loaded geoids in loaded relative probablity file: 5 Intersect with seir simulation:  5 keeped\n",
      "Using 'param_from_file' for relative probability incidI -->  incidH\n",
      "Using 'param_from_file' for relative probability incidI -->  incidD\n",
      "Using 'param_from_file' for relative probability incidH -->  incidICU\n",
      "Using LOADED VALUES !!!\n",
      "[0.   0.02 0.04 0.06 0.08] incidH incidI\n",
      "    geoid     quantity   outcome  source   value\n",
      "0   15005  probability    incidH  incidI  0.0000\n",
      "1   15007  probability    incidH  incidI  0.0200\n",
      "2   15009  probability    incidH  incidI  0.0400\n",
      "3   15001  probability    incidH  incidI  0.0600\n",
      "4   15003  probability    incidH  incidI  0.0800\n",
      "5   15005        delay    incidH  incidI  7.0000\n",
      "6   15007        delay    incidH  incidI  7.0000\n",
      "7   15009        delay    incidH  incidI  7.0000\n",
      "8   15001        delay    incidH  incidI  7.0000\n",
      "9   15003        delay    incidH  incidI  7.0000\n",
      "10  15005     duration    incidH  incidI  7.0000\n",
      "11  15007     duration    incidH  incidI  7.0000\n",
      "12  15009     duration    incidH  incidI  7.0000\n",
      "13  15001     duration    incidH  incidI  7.0000\n",
      "14  15003     duration    incidH  incidI  7.0000\n",
      "15  15005  probability    incidD  incidI  0.0001\n",
      "16  15007  probability    incidD  incidI  0.0001\n",
      "17  15009  probability    incidD  incidI  0.0001\n",
      "18  15001  probability    incidD  incidI  0.0001\n",
      "19  15003  probability    incidD  incidI  0.0001\n",
      "20  15005        delay    incidD  incidI  2.0000\n",
      "21  15007        delay    incidD  incidI  2.0000\n",
      "22  15009        delay    incidD  incidI  2.0000\n",
      "23  15001        delay    incidD  incidI  2.0000\n",
      "24  15003        delay    incidD  incidI  2.0000\n",
      "25  15005  probability  incidICU  incidH  0.1600\n",
      "26  15007  probability  incidICU  incidH  0.1600\n",
      "27  15009  probability  incidICU  incidH  0.1600\n",
      "28  15001  probability  incidICU  incidH  0.1600\n",
      "29  15003  probability  incidICU  incidH  0.1600\n",
      "30  15005        delay  incidICU  incidH  0.0000\n",
      "31  15007        delay  incidICU  incidH  0.0000\n",
      "32  15009        delay  incidICU  incidH  0.0000\n",
      "33  15001        delay  incidICU  incidH  0.0000\n",
      "34  15003        delay  incidICU  incidH  0.0000\n",
      "Using LOADED VALUES !!!\n",
      "[0.0001 0.0001 0.0001 0.0001 0.0001] incidD incidI\n",
      "    geoid     quantity   outcome  source   value\n",
      "0   15005  probability    incidH  incidI  0.0000\n",
      "1   15007  probability    incidH  incidI  0.0200\n",
      "2   15009  probability    incidH  incidI  0.0400\n",
      "3   15001  probability    incidH  incidI  0.0600\n",
      "4   15003  probability    incidH  incidI  0.0800\n",
      "5   15005        delay    incidH  incidI  7.0000\n",
      "6   15007        delay    incidH  incidI  7.0000\n",
      "7   15009        delay    incidH  incidI  7.0000\n",
      "8   15001        delay    incidH  incidI  7.0000\n",
      "9   15003        delay    incidH  incidI  7.0000\n",
      "10  15005     duration    incidH  incidI  7.0000\n",
      "11  15007     duration    incidH  incidI  7.0000\n",
      "12  15009     duration    incidH  incidI  7.0000\n",
      "13  15001     duration    incidH  incidI  7.0000\n",
      "14  15003     duration    incidH  incidI  7.0000\n",
      "15  15005  probability    incidD  incidI  0.0001\n",
      "16  15007  probability    incidD  incidI  0.0001\n",
      "17  15009  probability    incidD  incidI  0.0001\n",
      "18  15001  probability    incidD  incidI  0.0001\n",
      "19  15003  probability    incidD  incidI  0.0001\n",
      "20  15005        delay    incidD  incidI  2.0000\n",
      "21  15007        delay    incidD  incidI  2.0000\n",
      "22  15009        delay    incidD  incidI  2.0000\n",
      "23  15001        delay    incidD  incidI  2.0000\n",
      "24  15003        delay    incidD  incidI  2.0000\n",
      "25  15005  probability  incidICU  incidH  0.1600\n",
      "26  15007  probability  incidICU  incidH  0.1600\n",
      "27  15009  probability  incidICU  incidH  0.1600\n",
      "28  15001  probability  incidICU  incidH  0.1600\n",
      "29  15003  probability  incidICU  incidH  0.1600\n",
      "30  15005        delay  incidICU  incidH  0.0000\n",
      "31  15007        delay  incidICU  incidH  0.0000\n",
      "32  15009        delay  incidICU  incidH  0.0000\n",
      "33  15001        delay  incidICU  incidH  0.0000\n",
      "34  15003        delay  incidICU  incidH  0.0000\n",
      "Using LOADED VALUES !!!\n",
      "[0.16 0.16 0.16 0.16 0.16] incidICU incidH\n",
      "    geoid     quantity   outcome  source   value\n",
      "0   15005  probability    incidH  incidI  0.0000\n",
      "1   15007  probability    incidH  incidI  0.0200\n",
      "2   15009  probability    incidH  incidI  0.0400\n",
      "3   15001  probability    incidH  incidI  0.0600\n",
      "4   15003  probability    incidH  incidI  0.0800\n",
      "5   15005        delay    incidH  incidI  7.0000\n",
      "6   15007        delay    incidH  incidI  7.0000\n",
      "7   15009        delay    incidH  incidI  7.0000\n",
      "8   15001        delay    incidH  incidI  7.0000\n",
      "9   15003        delay    incidH  incidI  7.0000\n",
      "10  15005     duration    incidH  incidI  7.0000\n",
      "11  15007     duration    incidH  incidI  7.0000\n",
      "12  15009     duration    incidH  incidI  7.0000\n",
      "13  15001     duration    incidH  incidI  7.0000\n",
      "14  15003     duration    incidH  incidI  7.0000\n",
      "15  15005  probability    incidD  incidI  0.0001\n",
      "16  15007  probability    incidD  incidI  0.0001\n",
      "17  15009  probability    incidD  incidI  0.0001\n",
      "18  15001  probability    incidD  incidI  0.0001\n",
      "19  15003  probability    incidD  incidI  0.0001\n",
      "20  15005        delay    incidD  incidI  2.0000\n",
      "21  15007        delay    incidD  incidI  2.0000\n",
      "22  15009        delay    incidD  incidI  2.0000\n",
      "23  15001        delay    incidD  incidI  2.0000\n",
      "24  15003        delay    incidD  incidI  2.0000\n",
      "25  15005  probability  incidICU  incidH  0.1600\n",
      "26  15007  probability  incidICU  incidH  0.1600\n",
      "27  15009  probability  incidICU  incidH  0.1600\n",
      "28  15001  probability  incidICU  incidH  0.1600\n",
      "29  15003  probability  incidICU  incidH  0.1600\n",
      "30  15005        delay  incidICU  incidH  0.0000\n",
      "31  15007        delay  incidICU  incidH  0.0000\n",
      "32  15009        delay  incidICU  incidH  0.0000\n",
      "33  15001        delay  incidICU  incidH  0.0000\n",
      "34  15003        delay  incidICU  incidH  0.0000\n"
     ]
    },
    {
     "data": {
      "text/plain": [
       "1"
      ]
     },
     "execution_count": 30,
     "metadata": {},
     "output_type": "execute_result"
    }
   ],
   "source": [
    "config.clear()\n",
    "config.read(user=False)\n",
    "config.set_file('config_load.yml')\n",
    "\n",
    "run_id = 1\n",
    "index = 1\n",
    "deathrate = 'high_death_rate'\n",
    "prefix = ''\n",
    "stoch_traj_flag = False\n",
    "outcomes.run_delayframe_outcomes(config, run_id, prefix, int(index), 12, prefix, int(index), # output\n",
    "                        deathrate, nsim=1, n_jobs=1, stoch_traj_flag = stoch_traj_flag)\n",
    "config.clear()\n",
    "config.read(user=False)\n",
    "config.set_file('config_load.yml')\n",
    "\n",
    "run_id = 1\n",
    "index = 1\n",
    "deathrate = 'high_death_rate'\n",
    "prefix = ''\n",
    "stoch_traj_flag = False\n",
    "outcomes.onerun_delayframe_outcomes_load_hpar(config, 12, prefix, int(index), # input\n",
    "                                                      13, prefix, int(index), # output\n",
    "                                                     deathrate, stoch_traj_flag)"
   ]
  },
  {
   "cell_type": "code",
   "execution_count": null,
   "metadata": {},
   "outputs": [],
   "source": []
  },
  {
   "cell_type": "code",
   "execution_count": null,
   "metadata": {},
   "outputs": [],
   "source": []
  },
  {
   "cell_type": "code",
   "execution_count": null,
   "metadata": {},
   "outputs": [],
   "source": []
  },
  {
   "cell_type": "code",
   "execution_count": 31,
   "metadata": {
    "execution": {
     "iopub.execute_input": "2020-09-23T17:10:11.367132Z",
     "iopub.status.busy": "2020-09-23T17:10:11.366888Z",
     "iopub.status.idle": "2020-09-23T17:10:11.389813Z",
     "shell.execute_reply": "2020-09-23T17:10:11.389064Z",
     "shell.execute_reply.started": "2020-09-23T17:10:11.367093Z"
    }
   },
   "outputs": [],
   "source": [
    "hpar_read = pq.read_table('model_output/hpar/000000001.12.hpar.parquet').to_pandas()\n",
    "hpar_wrote = pq.read_table('model_output/hpar/000000001.13.hpar.parquet').to_pandas()\n",
    "assert((hpar_read == hpar_wrote).all().all())\n",
    "\n",
    "hosp_read = pq.read_table('model_output/hosp/000000001.12.hosp.parquet').to_pandas()\n",
    "hosp_wrote = pq.read_table('model_output/hosp/000000001.13.hosp.parquet').to_pandas()\n",
    "assert((hosp_read == hosp_wrote).all().all())"
   ]
  },
  {
   "cell_type": "code",
   "execution_count": null,
   "metadata": {},
   "outputs": [],
   "source": []
  },
  {
   "cell_type": "markdown",
   "metadata": {},
   "source": [
    "### Test that it really applied hpar loaded probabilities (for me and JK)"
   ]
  },
  {
   "cell_type": "code",
   "execution_count": 32,
   "metadata": {
    "execution": {
     "iopub.execute_input": "2020-09-23T17:10:12.685976Z",
     "iopub.status.busy": "2020-09-23T17:10:12.685723Z",
     "iopub.status.idle": "2020-09-23T17:10:12.700647Z",
     "shell.execute_reply": "2020-09-23T17:10:12.699624Z",
     "shell.execute_reply.started": "2020-09-23T17:10:12.685934Z"
    }
   },
   "outputs": [],
   "source": [
    "hpar = pq.read_table('model_output/hpar/000000001.13.hpar.parquet').to_pandas()\n",
    "hpar.loc[hpar['quantity'] == 'probability','value'] = hpar.loc[hpar['quantity'] == 'probability','value'] * 3\n",
    "hpar.loc[(hpar['quantity'] == 'probability') & (hpar['geoid'] =='15003'),'value'] = 0\n",
    "hpar0 = pa.Table.from_pandas(hpar, preserve_index=False)\n",
    "pa.parquet.write_table(hpar0, 'model_output/hpar/000000001.12.hpar.parquet')"
   ]
  },
  {
   "cell_type": "code",
   "execution_count": 33,
   "metadata": {
    "execution": {
     "iopub.execute_input": "2020-09-23T17:10:14.467371Z",
     "iopub.status.busy": "2020-09-23T17:10:14.467119Z",
     "iopub.status.idle": "2020-09-23T17:10:14.586876Z",
     "shell.execute_reply": "2020-09-23T17:10:14.586251Z",
     "shell.execute_reply.started": "2020-09-23T17:10:14.467329Z"
    }
   },
   "outputs": [
    {
     "name": "stdout",
     "output_type": "stream",
     "text": [
      "Loaded geoids in loaded relative probablity file: 5 Intersect with seir simulation:  5 keeped\n",
      "Using 'param_from_file' for relative probability incidI -->  incidH\n",
      "Using 'param_from_file' for relative probability incidI -->  incidD\n",
      "Using 'param_from_file' for relative probability incidH -->  incidICU\n",
      "Using LOADED VALUES !!!\n",
      "[0.   0.06 0.12 0.18 0.  ] incidH incidI\n",
      "    geoid     quantity   outcome  source   value\n",
      "0   15005  probability    incidH  incidI  0.0000\n",
      "1   15007  probability    incidH  incidI  0.0600\n",
      "2   15009  probability    incidH  incidI  0.1200\n",
      "3   15001  probability    incidH  incidI  0.1800\n",
      "4   15003  probability    incidH  incidI  0.0000\n",
      "5   15005        delay    incidH  incidI  7.0000\n",
      "6   15007        delay    incidH  incidI  7.0000\n",
      "7   15009        delay    incidH  incidI  7.0000\n",
      "8   15001        delay    incidH  incidI  7.0000\n",
      "9   15003        delay    incidH  incidI  7.0000\n",
      "10  15005     duration    incidH  incidI  7.0000\n",
      "11  15007     duration    incidH  incidI  7.0000\n",
      "12  15009     duration    incidH  incidI  7.0000\n",
      "13  15001     duration    incidH  incidI  7.0000\n",
      "14  15003     duration    incidH  incidI  7.0000\n",
      "15  15005  probability    incidD  incidI  0.0003\n",
      "16  15007  probability    incidD  incidI  0.0003\n",
      "17  15009  probability    incidD  incidI  0.0003\n",
      "18  15001  probability    incidD  incidI  0.0003\n",
      "19  15003  probability    incidD  incidI  0.0000\n",
      "20  15005        delay    incidD  incidI  2.0000\n",
      "21  15007        delay    incidD  incidI  2.0000\n",
      "22  15009        delay    incidD  incidI  2.0000\n",
      "23  15001        delay    incidD  incidI  2.0000\n",
      "24  15003        delay    incidD  incidI  2.0000\n",
      "25  15005  probability  incidICU  incidH  0.4800\n",
      "26  15007  probability  incidICU  incidH  0.4800\n",
      "27  15009  probability  incidICU  incidH  0.4800\n",
      "28  15001  probability  incidICU  incidH  0.4800\n",
      "29  15003  probability  incidICU  incidH  0.0000\n",
      "30  15005        delay  incidICU  incidH  0.0000\n",
      "31  15007        delay  incidICU  incidH  0.0000\n",
      "32  15009        delay  incidICU  incidH  0.0000\n",
      "33  15001        delay  incidICU  incidH  0.0000\n",
      "34  15003        delay  incidICU  incidH  0.0000\n",
      "Using LOADED VALUES !!!\n",
      "[0.0003 0.0003 0.0003 0.0003 0.    ] incidD incidI\n",
      "    geoid     quantity   outcome  source   value\n",
      "0   15005  probability    incidH  incidI  0.0000\n",
      "1   15007  probability    incidH  incidI  0.0600\n",
      "2   15009  probability    incidH  incidI  0.1200\n",
      "3   15001  probability    incidH  incidI  0.1800\n",
      "4   15003  probability    incidH  incidI  0.0000\n",
      "5   15005        delay    incidH  incidI  7.0000\n",
      "6   15007        delay    incidH  incidI  7.0000\n",
      "7   15009        delay    incidH  incidI  7.0000\n",
      "8   15001        delay    incidH  incidI  7.0000\n",
      "9   15003        delay    incidH  incidI  7.0000\n",
      "10  15005     duration    incidH  incidI  7.0000\n",
      "11  15007     duration    incidH  incidI  7.0000\n",
      "12  15009     duration    incidH  incidI  7.0000\n",
      "13  15001     duration    incidH  incidI  7.0000\n",
      "14  15003     duration    incidH  incidI  7.0000\n",
      "15  15005  probability    incidD  incidI  0.0003\n",
      "16  15007  probability    incidD  incidI  0.0003\n",
      "17  15009  probability    incidD  incidI  0.0003\n",
      "18  15001  probability    incidD  incidI  0.0003\n",
      "19  15003  probability    incidD  incidI  0.0000\n",
      "20  15005        delay    incidD  incidI  2.0000\n",
      "21  15007        delay    incidD  incidI  2.0000\n",
      "22  15009        delay    incidD  incidI  2.0000\n",
      "23  15001        delay    incidD  incidI  2.0000\n",
      "24  15003        delay    incidD  incidI  2.0000\n",
      "25  15005  probability  incidICU  incidH  0.4800\n",
      "26  15007  probability  incidICU  incidH  0.4800\n",
      "27  15009  probability  incidICU  incidH  0.4800\n",
      "28  15001  probability  incidICU  incidH  0.4800\n",
      "29  15003  probability  incidICU  incidH  0.0000\n",
      "30  15005        delay  incidICU  incidH  0.0000\n",
      "31  15007        delay  incidICU  incidH  0.0000\n",
      "32  15009        delay  incidICU  incidH  0.0000\n",
      "33  15001        delay  incidICU  incidH  0.0000\n",
      "34  15003        delay  incidICU  incidH  0.0000\n",
      "Using LOADED VALUES !!!\n",
      "[0.48 0.48 0.48 0.48 0.  ] incidICU incidH\n",
      "    geoid     quantity   outcome  source   value\n",
      "0   15005  probability    incidH  incidI  0.0000\n",
      "1   15007  probability    incidH  incidI  0.0600\n",
      "2   15009  probability    incidH  incidI  0.1200\n",
      "3   15001  probability    incidH  incidI  0.1800\n",
      "4   15003  probability    incidH  incidI  0.0000\n",
      "5   15005        delay    incidH  incidI  7.0000\n",
      "6   15007        delay    incidH  incidI  7.0000\n",
      "7   15009        delay    incidH  incidI  7.0000\n",
      "8   15001        delay    incidH  incidI  7.0000\n",
      "9   15003        delay    incidH  incidI  7.0000\n",
      "10  15005     duration    incidH  incidI  7.0000\n",
      "11  15007     duration    incidH  incidI  7.0000\n",
      "12  15009     duration    incidH  incidI  7.0000\n",
      "13  15001     duration    incidH  incidI  7.0000\n",
      "14  15003     duration    incidH  incidI  7.0000\n",
      "15  15005  probability    incidD  incidI  0.0003\n",
      "16  15007  probability    incidD  incidI  0.0003\n",
      "17  15009  probability    incidD  incidI  0.0003\n",
      "18  15001  probability    incidD  incidI  0.0003\n",
      "19  15003  probability    incidD  incidI  0.0000\n",
      "20  15005        delay    incidD  incidI  2.0000\n",
      "21  15007        delay    incidD  incidI  2.0000\n",
      "22  15009        delay    incidD  incidI  2.0000\n",
      "23  15001        delay    incidD  incidI  2.0000\n",
      "24  15003        delay    incidD  incidI  2.0000\n",
      "25  15005  probability  incidICU  incidH  0.4800\n",
      "26  15007  probability  incidICU  incidH  0.4800\n",
      "27  15009  probability  incidICU  incidH  0.4800\n",
      "28  15001  probability  incidICU  incidH  0.4800\n",
      "29  15003  probability  incidICU  incidH  0.0000\n",
      "30  15005        delay  incidICU  incidH  0.0000\n",
      "31  15007        delay  incidICU  incidH  0.0000\n",
      "32  15009        delay  incidICU  incidH  0.0000\n",
      "33  15001        delay  incidICU  incidH  0.0000\n",
      "34  15003        delay  incidICU  incidH  0.0000\n"
     ]
    },
    {
     "data": {
      "text/plain": [
       "1"
      ]
     },
     "execution_count": 33,
     "metadata": {},
     "output_type": "execute_result"
    }
   ],
   "source": [
    "config.clear()\n",
    "config.read(user=False)\n",
    "config.set_file('config_load.yml')\n",
    "\n",
    "run_id = 1\n",
    "index = 1\n",
    "deathrate = 'high_death_rate'\n",
    "prefix = ''\n",
    "stoch_traj_flag = False\n",
    "outcomes.onerun_delayframe_outcomes_load_hpar(config, 12, prefix, int(index), # input\n",
    "                                                      13, prefix, int(index), # output\n",
    "                                                     deathrate, stoch_traj_flag)"
   ]
  },
  {
   "cell_type": "code",
   "execution_count": 36,
   "metadata": {
    "execution": {
     "iopub.execute_input": "2020-09-23T17:10:24.755576Z",
     "iopub.status.busy": "2020-09-23T17:10:24.755334Z",
     "iopub.status.idle": "2020-09-23T17:10:29.326119Z",
     "shell.execute_reply": "2020-09-23T17:10:29.325424Z",
     "shell.execute_reply.started": "2020-09-23T17:10:24.755539Z"
    }
   },
   "outputs": [
    {
     "data": {
      "image/png": "[encoded data removed]",
      "text/plain": [
       "<Figure size 504x504 with 5 Axes>"
      ]
     },
     "metadata": {
      "needs_background": "light"
     },
     "output_type": "display_data"
    },
    {
     "data": {
      "image/png": "[encoded data removed]",
      "text/plain": [
       "<Figure size 504x504 with 5 Axes>"
      ]
     },
     "metadata": {
      "needs_background": "light"
     },
     "output_type": "display_data"
    }
   ],
   "source": [
    "hosp_read = pq.read_table('model_output/hosp/000000001.12.hosp.parquet').to_pandas()\n",
    "hosp_read.set_index('time', drop = True, inplace=True)\n",
    "hosp_read = hosp_read[hosp_read['geoid'] == '15003']\n",
    "hosp_read.plot(subplots=True, figsize = (7,7));\n",
    "hosp_wrote = pq.read_table('model_output/hosp/000000001.13.hosp.parquet').to_pandas()\n",
    "hosp_wrote.set_index('time', drop = True, inplace=True)\n",
    "hosp_wrote = hosp_wrote[hosp_wrote['geoid'] == '15003']\n",
    "hosp_wrote.plot(subplots=True, figsize = (7,7));"
   ]
  },
  {
   "cell_type": "code",
   "execution_count": 38,
   "metadata": {
    "execution": {
     "iopub.execute_input": "2020-09-23T17:10:47.019195Z",
     "iopub.status.busy": "2020-09-23T17:10:47.018952Z",
     "iopub.status.idle": "2020-09-23T17:10:51.507591Z",
     "shell.execute_reply": "2020-09-23T17:10:51.506904Z",
     "shell.execute_reply.started": "2020-09-23T17:10:47.019156Z"
    }
   },
   "outputs": [
    {
     "data": {
      "image/png": "[encoded data removed]",
      "text/plain": [
       "<Figure size 504x504 with 5 Axes>"
      ]
     },
     "metadata": {
      "needs_background": "light"
     },
     "output_type": "display_data"
    },
    {
     "data": {
      "image/png": "[encoded data removed]",
      "text/plain": [
       "<Figure size 504x504 with 5 Axes>"
      ]
     },
     "metadata": {
      "needs_background": "light"
     },
     "output_type": "display_data"
    }
   ],
   "source": [
    "hosp_read = pq.read_table('model_output/hosp/000000001.12.hosp.parquet').to_pandas()\n",
    "hosp_read.set_index('time', drop = True, inplace=True)\n",
    "hosp_read = hosp_read[hosp_read['geoid'] == '15009']\n",
    "hosp_read.plot(subplots=True, figsize = (7,7));\n",
    "hosp_wrote = pq.read_table('model_output/hosp/000000001.13.hosp.parquet').to_pandas()\n",
    "hosp_wrote.set_index('time', drop = True, inplace=True)\n",
    "hosp_wrote = hosp_wrote[hosp_wrote['geoid'] == '15009']\n",
    "hosp_wrote.plot(subplots=True, figsize = (7,7));"
   ]
  },
  {
   "cell_type": "code",
   "execution_count": null,
   "metadata": {},
   "outputs": [],
   "source": []
  }
 ],
 "metadata": {
  "kernelspec": {
   "display_name": "Python 3",
   "language": "python",
   "name": "python3"
  },
  "language_info": {
   "codemirror_mode": {
    "name": "ipython",
    "version": 3
   },
   "file_extension": ".py",
   "mimetype": "text/x-python",
   "name": "python",
   "nbconvert_exporter": "python",
   "pygments_lexer": "ipython3",
   "version": "3.8.5"
  }
 },
 "nbformat": 4,
 "nbformat_minor": 4
}

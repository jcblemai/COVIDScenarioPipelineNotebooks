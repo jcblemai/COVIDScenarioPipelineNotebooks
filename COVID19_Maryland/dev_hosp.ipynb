{
 "cells": [
  {
   "cell_type": "code",
   "execution_count": 6,
   "metadata": {},
   "outputs": [],
   "source": [
    "import glob, os, sys\n",
    "from pathlib import Path\n",
    "import pyarrow.parquet as pq\n",
    "import pyarrow as pa\n",
    "import pandas as pd\n",
    "import numpy as np\n",
    "import datetime\n",
    "import multiprocessing\n",
    "import pathlib\n",
    "import time\n",
    "import matplotlib.pyplot as plt"
   ]
  },
  {
   "cell_type": "code",
   "execution_count": null,
   "metadata": {},
   "outputs": [],
   "source": []
  },
  {
   "cell_type": "code",
   "execution_count": null,
   "metadata": {},
   "outputs": [],
   "source": []
  },
  {
   "cell_type": "code",
   "execution_count": null,
   "metadata": {},
   "outputs": [],
   "source": []
  },
  {
   "cell_type": "code",
   "execution_count": 67,
   "metadata": {},
   "outputs": [],
   "source": [
    "seir = pq.read_table('model_output/east-coast_ImmediateCT_noSD/000000001.seir.parquet').to_pandas()"
   ]
  },
  {
   "cell_type": "code",
   "execution_count": 63,
   "metadata": {},
   "outputs": [],
   "source": [
    "seir = pq.read_table('model_output/east-coast_ImmediateCT_noSD/000000001.seir.parquet')"
   ]
  },
  {
   "cell_type": "code",
   "execution_count": 57,
   "metadata": {},
   "outputs": [],
   "source": []
  },
  {
   "cell_type": "code",
   "execution_count": 62,
   "metadata": {},
   "outputs": [
    {
     "data": {
      "text/plain": [
       "<matplotlib.image.AxesImage at 0x130fdc150>"
      ]
     },
     "execution_count": 62,
     "metadata": {},
     "output_type": "execute_result"
    },
    {
     "data": {
      "image/png": "[encoded data removed]",
      "text/plain": [
       "<Figure size 432x288 with 1 Axes>"
      ]
     },
     "metadata": {
      "needs_background": "light"
     },
     "output_type": "display_data"
    }
   ],
   "source": [
    "plt.imshow("
   ]
  },
  {
   "cell_type": "code",
   "execution_count": 73,
   "metadata": {},
   "outputs": [],
   "source": []
  },
  {
   "cell_type": "code",
   "execution_count": 58,
   "metadata": {},
   "outputs": [],
   "source": [
    "all_data['I_hosp'] = np.zeros_like(all_data['incidence'])"
   ]
  },
  {
   "cell_type": "code",
   "execution_count": 77,
   "metadata": {},
   "outputs": [
    {
     "data": {
      "text/plain": [
       "array([[4, 4, 4, ..., 0, 0, 0],\n",
       "       [4, 4, 4, ..., 0, 0, 0],\n",
       "       [4, 4, 4, ..., 0, 0, 0],\n",
       "       ...,\n",
       "       [4, 4, 4, ..., 0, 0, 0],\n",
       "       [4, 4, 4, ..., 0, 0, 0],\n",
       "       [4, 4, 4, ..., 0, 0, 0]], dtype=int32)"
      ]
     },
     "execution_count": 77,
     "metadata": {},
     "output_type": "execute_result"
    }
   ],
   "source": []
  },
  {
   "cell_type": "code",
   "execution_count": 135,
   "metadata": {},
   "outputs": [
    {
     "ename": "OSError",
     "evalue": "Passed non-file path: hospitalization/model_output/east-coast_DelayedCT/med_death_death-000000001.hosp.parquet",
     "output_type": "error",
     "traceback": [
      "\u001b[0;31m---------------------------------------------------------------------------\u001b[0m",
      "\u001b[0;31mOSError\u001b[0m                                   Traceback (most recent call last)",
      "\u001b[0;32m<ipython-input-135-baff3405a343>\u001b[0m in \u001b[0;36m<module>\u001b[0;34m\u001b[0m\n\u001b[0;32m----> 1\u001b[0;31m \u001b[0mhosp\u001b[0m \u001b[0;34m=\u001b[0m  \u001b[0mpq\u001b[0m\u001b[0;34m.\u001b[0m\u001b[0mread_table\u001b[0m\u001b[0;34m(\u001b[0m\u001b[0;34m'hospitalization/model_output/east-coast_DelayedCT/med_death_death-000000001.hosp.parquet'\u001b[0m\u001b[0;34m)\u001b[0m\u001b[0;34m.\u001b[0m\u001b[0mto_pandas\u001b[0m\u001b[0;34m(\u001b[0m\u001b[0;34m)\u001b[0m\u001b[0;34m\u001b[0m\u001b[0;34m\u001b[0m\u001b[0m\n\u001b[0m\u001b[1;32m      2\u001b[0m \u001b[0mhosp\u001b[0m\u001b[0;34m\u001b[0m\u001b[0;34m\u001b[0m\u001b[0m\n",
      "\u001b[0;32m/usr/local/lib/python3.7/site-packages/pyarrow/parquet.py\u001b[0m in \u001b[0;36mread_table\u001b[0;34m(source, columns, use_threads, metadata, use_pandas_metadata, memory_map, read_dictionary, filesystem, filters, buffer_size)\u001b[0m\n\u001b[1;32m   1272\u001b[0m                             \u001b[0mread_dictionary\u001b[0m\u001b[0;34m=\u001b[0m\u001b[0mread_dictionary\u001b[0m\u001b[0;34m,\u001b[0m\u001b[0;34m\u001b[0m\u001b[0;34m\u001b[0m\u001b[0m\n\u001b[1;32m   1273\u001b[0m                             \u001b[0mbuffer_size\u001b[0m\u001b[0;34m=\u001b[0m\u001b[0mbuffer_size\u001b[0m\u001b[0;34m,\u001b[0m\u001b[0;34m\u001b[0m\u001b[0;34m\u001b[0m\u001b[0m\n\u001b[0;32m-> 1274\u001b[0;31m                             filesystem=filesystem, filters=filters)\n\u001b[0m\u001b[1;32m   1275\u001b[0m     \u001b[0;32melse\u001b[0m\u001b[0;34m:\u001b[0m\u001b[0;34m\u001b[0m\u001b[0;34m\u001b[0m\u001b[0m\n\u001b[1;32m   1276\u001b[0m         pf = ParquetFile(source, metadata=metadata,\n",
      "\u001b[0;32m/usr/local/lib/python3.7/site-packages/pyarrow/parquet.py\u001b[0m in \u001b[0;36m__init__\u001b[0;34m(self, path_or_paths, filesystem, schema, metadata, split_row_groups, validate_schema, filters, metadata_nthreads, read_dictionary, memory_map, buffer_size)\u001b[0m\n\u001b[1;32m   1028\u001b[0m          \u001b[0mself\u001b[0m\u001b[0;34m.\u001b[0m\u001b[0mmetadata_path\u001b[0m\u001b[0;34m)\u001b[0m \u001b[0;34m=\u001b[0m \u001b[0m_make_manifest\u001b[0m\u001b[0;34m(\u001b[0m\u001b[0;34m\u001b[0m\u001b[0;34m\u001b[0m\u001b[0m\n\u001b[1;32m   1029\u001b[0m              \u001b[0mpath_or_paths\u001b[0m\u001b[0;34m,\u001b[0m \u001b[0mself\u001b[0m\u001b[0;34m.\u001b[0m\u001b[0mfs\u001b[0m\u001b[0;34m,\u001b[0m \u001b[0mmetadata_nthreads\u001b[0m\u001b[0;34m=\u001b[0m\u001b[0mmetadata_nthreads\u001b[0m\u001b[0;34m,\u001b[0m\u001b[0;34m\u001b[0m\u001b[0;34m\u001b[0m\u001b[0m\n\u001b[0;32m-> 1030\u001b[0;31m              \u001b[0mopen_file_func\u001b[0m\u001b[0;34m=\u001b[0m\u001b[0mpartial\u001b[0m\u001b[0;34m(\u001b[0m\u001b[0m_open_dataset_file\u001b[0m\u001b[0;34m,\u001b[0m \u001b[0mself\u001b[0m\u001b[0;34m.\u001b[0m\u001b[0m_metadata\u001b[0m\u001b[0;34m)\u001b[0m\u001b[0;34m\u001b[0m\u001b[0;34m\u001b[0m\u001b[0m\n\u001b[0m\u001b[1;32m   1031\u001b[0m         )\n\u001b[1;32m   1032\u001b[0m \u001b[0;34m\u001b[0m\u001b[0m\n",
      "\u001b[0;32m/usr/local/lib/python3.7/site-packages/pyarrow/parquet.py\u001b[0m in \u001b[0;36m_make_manifest\u001b[0;34m(path_or_paths, fs, pathsep, metadata_nthreads, open_file_func)\u001b[0m\n\u001b[1;32m   1227\u001b[0m             \u001b[0;32mif\u001b[0m \u001b[0;32mnot\u001b[0m \u001b[0mfs\u001b[0m\u001b[0;34m.\u001b[0m\u001b[0misfile\u001b[0m\u001b[0;34m(\u001b[0m\u001b[0mpath\u001b[0m\u001b[0;34m)\u001b[0m\u001b[0;34m:\u001b[0m\u001b[0;34m\u001b[0m\u001b[0;34m\u001b[0m\u001b[0m\n\u001b[1;32m   1228\u001b[0m                 raise IOError('Passed non-file path: {0}'\n\u001b[0;32m-> 1229\u001b[0;31m                               .format(path))\n\u001b[0m\u001b[1;32m   1230\u001b[0m             \u001b[0mpiece\u001b[0m \u001b[0;34m=\u001b[0m \u001b[0mParquetDatasetPiece\u001b[0m\u001b[0;34m(\u001b[0m\u001b[0mpath\u001b[0m\u001b[0;34m,\u001b[0m \u001b[0mopen_file_func\u001b[0m\u001b[0;34m=\u001b[0m\u001b[0mopen_file_func\u001b[0m\u001b[0;34m)\u001b[0m\u001b[0;34m\u001b[0m\u001b[0;34m\u001b[0m\u001b[0m\n\u001b[1;32m   1231\u001b[0m             \u001b[0mpieces\u001b[0m\u001b[0;34m.\u001b[0m\u001b[0mappend\u001b[0m\u001b[0;34m(\u001b[0m\u001b[0mpiece\u001b[0m\u001b[0;34m)\u001b[0m\u001b[0;34m\u001b[0m\u001b[0;34m\u001b[0m\u001b[0m\n",
      "\u001b[0;31mOSError\u001b[0m: Passed non-file path: hospitalization/model_output/east-coast_DelayedCT/med_death_death-000000001.hosp.parquet"
     ]
    }
   ],
   "source": [
    "hosp =  pq.read_table('hospitalization/model_output/east-coast_DelayedCT/med_death_death-000000001.hosp.parquet').to_pandas()\n",
    "hosp"
   ]
  },
  {
   "cell_type": "code",
   "execution_count": 176,
   "metadata": {},
   "outputs": [
    {
     "data": {
      "text/plain": [
       "time         datetime64[ns]\n",
       "geoid                object\n",
       "incidI              float64\n",
       "incidH              float64\n",
       "hosp_curr           float64\n",
       "incidICU            float64\n",
       "icu_curr            float64\n",
       "incidVent           float64\n",
       "vent_curr           float64\n",
       "incidD              float64\n",
       "dtype: object"
      ]
     },
     "execution_count": 176,
     "metadata": {},
     "output_type": "execute_result"
    }
   ],
   "source": [
    "hosp =  pq.read_table('hospitalization/model_output/east-coast_Uncontrolled/high_death_death-000000001.hosp.parquet').to_pandas()\n",
    "hosp.dtypes"
   ]
  },
  {
   "cell_type": "markdown",
   "metadata": {},
   "source": [
    "### Writing Board:"
   ]
  },
  {
   "cell_type": "code",
   "execution_count": 8,
   "metadata": {},
   "outputs": [
    {
     "name": "stdout",
     "output_type": "stream",
     "text": [
      "Scenarios to be run: validation\n",
      "\n",
      ">> Scenario: validation\n",
      ">> Starting 1 model runs beginning from 1 on 1 processes\n",
      ">> writing to folder : 2\n",
      "\n"
     ]
    }
   ],
   "source": [
    "config_file = 'config_compare_outcome.yml'\n",
    "scenarios = ['validation']\n",
    "nsim=1\n",
    "jobs=1\n",
    "interactive=True\n",
    "write_csv=False\n",
    "write_parquet=True\n",
    "index=1\n",
    "\n",
    "from COVIDScenarioPipeline.SEIR.utils import config\n",
    "import multiprocessing\n",
    "import pathlib\n",
    "import time\n",
    "\n",
    "\n",
    "import click\n",
    "config.set_file(config_file)\n",
    "\n",
    "\n",
    "if not scenarios:\n",
    "    scenarios = config[\"outcomes\"][\"scenarios\"].as_str_seq()\n",
    "print(f\"Scenarios to be run: {', '.join(scenarios)}\")\n",
    "\n",
    "if not nsim:\n",
    "    nsim = config[\"nsimulations\"].as_number()\n",
    "\n",
    "start = time.monotonic()\n",
    "for scenario in scenarios:\n",
    "\n",
    "    print(f\"\"\"\n",
    ">> Scenario: {scenario}\n",
    ">> Starting {nsim} model runs beginning from {index} on {jobs} processes\n",
    ">> writing to folder : {2}\n",
    "\"\"\")"
   ]
  },
  {
   "cell_type": "code",
   "execution_count": 10,
   "metadata": {},
   "outputs": [],
   "source": [
    "import pandas as pd\n",
    "import numpy as np\n",
    "\n",
    "diffI = pd.read_parquet('model_output/seir/east-coast_Uncontrolled000000001.2020.06.27.14:54:04.UTC.seir.parquet')\n",
    "diffI = diffI[diffI['comp'] == 'diffI']\n",
    "dates = diffI.time\n",
    "diffI.drop(['comp'], inplace = True, axis = 1)\n",
    "places = diffI.drop(['time'], axis=1).columns\n",
    "all_data = {}\n",
    "# We store them as numpy matrices. Dimensions is dates X places\n",
    "all_data['incidence'] = diffI.drop(['time'], axis=1).to_numpy().astype(np.int32)\n",
    "shape = all_data['incidence'].shape"
   ]
  },
  {
   "cell_type": "code",
   "execution_count": 11,
   "metadata": {},
   "outputs": [],
   "source": [
    "\"\"\" Quite fast shift implementation, along the first axis, \n",
    "    which is date. num is an integer not negative nor zero \"\"\"\n",
    "def shift(arr, num, fill_value=0):\n",
    "    result = np.empty_like(arr)\n",
    "    #if num > 0:\n",
    "    result[:num] = fill_value\n",
    "    result[num:] = arr[:-num]\n",
    "    #elif num < 0:\n",
    "    #    result[num:] = fill_value\n",
    "    #    result[:num] = arr[-num:]\n",
    "    #else:\n",
    "    #    result[:] = arr\n",
    "    return result"
   ]
  },
  {
   "cell_type": "code",
   "execution_count": null,
   "metadata": {},
   "outputs": [],
   "source": []
  },
  {
   "cell_type": "code",
   "execution_count": null,
   "metadata": {},
   "outputs": [],
   "source": []
  },
  {
   "cell_type": "code",
   "execution_count": null,
   "metadata": {},
   "outputs": [],
   "source": []
  },
  {
   "cell_type": "code",
   "execution_count": 17,
   "metadata": {},
   "outputs": [],
   "source": [
    "outcomes = pd.melt(diffI, id_vars='time', value_name = 'incidence', var_name='place')\n",
    "config_outcomes = config[\"outcomes\"][\"settings\"][scenario]\n",
    "for new_comp in config_outcomes:\n",
    "    \n",
    "    if config_outcomes[new_comp]['source'].exists():\n",
    "        # Read the config for this compartement\n",
    "        source = config_outcomes[new_comp]['source'].as_str()\n",
    "        probability = config_outcomes[new_comp]['probability']['value'].as_random_distribution()\n",
    "        delay = config_outcomes[new_comp]['delay']['value'].as_random_distribution()\n",
    "\n",
    "        # Create new compartement\n",
    "        all_data[new_comp] = np.empty_like(all_data['incidence'])\n",
    "        # Draw with from source compartement\n",
    "        all_data[new_comp] = np.random.binomial(all_data[source], \n",
    "                                                probability(size = shape))\n",
    "\n",
    "        # Shift to account for the delay\n",
    "        all_data[new_comp] = shift(all_data[new_comp], int(delay(size=1)), fill_value=0)\n",
    "\n",
    "        df = pd.DataFrame(all_data[new_comp], columns=places, index=dates)\n",
    "        df.reset_index(inplace=True)\n",
    "        df = pd.melt(df, id_vars='time', value_name = new_comp, var_name='place')\n",
    "        outcomes = pd.merge(outcomes, df)\n",
    "\n",
    "\n",
    "        # Make duration\n",
    "        if config_outcomes[new_comp]['duration'].exists():\n",
    "            duration = config_outcomes[new_comp]['duration']['value'].as_random_distribution()\n",
    "            all_data[new_comp+'_curr'] = np.cumsum(all_data[new_comp], axis = 0) - shift(np.cumsum(all_data[new_comp], axis=0), int(duration(size=1)))\n",
    "\n",
    "            df = pd.DataFrame(all_data[new_comp+'_curr'], columns=places, index=dates)\n",
    "            df.reset_index(inplace=True)\n",
    "            df = pd.melt(df, id_vars='time', value_name = new_comp+'_curr', var_name='place')\n",
    "            outcomes = pd.merge(outcomes, df)\n",
    "            \n",
    "    elif config_outcomes[new_comp]['sum'].exists():\n",
    "        outcomes[new_comp] = outcomes[config_outcomes[new_comp]['sum'].as_str_seq()].sum(axis=1)\n",
    "    "
   ]
  },
  {
   "cell_type": "code",
   "execution_count": 13,
   "metadata": {},
   "outputs": [
    {
     "ename": "SyntaxError",
     "evalue": "unexpected EOF while parsing (<ipython-input-13-9ad390f58833>, line 1)",
     "output_type": "error",
     "traceback": [
      "\u001b[0;36m  File \u001b[0;32m\"<ipython-input-13-9ad390f58833>\"\u001b[0;36m, line \u001b[0;32m1\u001b[0m\n\u001b[0;31m    all_data[new_comp+'_curr'\u001b[0m\n\u001b[0m                             ^\u001b[0m\n\u001b[0;31mSyntaxError\u001b[0m\u001b[0;31m:\u001b[0m unexpected EOF while parsing\n"
     ]
    }
   ],
   "source": [
    "all_data[new_comp+'_curr'"
   ]
  },
  {
   "cell_type": "code",
   "execution_count": 22,
   "metadata": {},
   "outputs": [
    {
     "data": {
      "text/plain": [
       "array([[0, 0, 0, ..., 0, 0, 0],\n",
       "       [0, 0, 0, ..., 0, 0, 0],\n",
       "       [0, 0, 0, ..., 0, 0, 0],\n",
       "       ...,\n",
       "       [0, 0, 0, ..., 0, 0, 0],\n",
       "       [0, 0, 0, ..., 0, 0, 0],\n",
       "       [0, 0, 0, ..., 0, 0, 0]], dtype=int32)"
      ]
     },
     "execution_count": 22,
     "metadata": {},
     "output_type": "execute_result"
    }
   ],
   "source": [
    "all_data['incidence']"
   ]
  },
  {
   "cell_type": "code",
   "execution_count": 80,
   "metadata": {},
   "outputs": [
    {
     "data": {
      "text/plain": [
       "(0, 100)"
      ]
     },
     "execution_count": 80,
     "metadata": {},
     "output_type": "execute_result"
    },
    {
     "data": {
      "image/png": "[encoded data removed]",
      "text/plain": [
       "<Figure size 432x288 with 1 Axes>"
      ]
     },
     "metadata": {
      "needs_background": "light"
     },
     "output_type": "display_data"
    }
   ],
   "source": [
    "ax = outcomes[outcomes['place'] == '51091'].plot(x = 'time')\n",
    "ax.set_ylim(0,100)"
   ]
  },
  {
   "cell_type": "code",
   "execution_count": 16,
   "metadata": {},
   "outputs": [],
   "source": [
    "\n",
    "    parameters = {}\n",
    "    for new_comp in config_outcomes:\n",
    "        parameters[new_comp] = {}\n",
    "        if config_outcomes[new_comp]['source'].exists():\n",
    "            # Read the config for this compartement\n",
    "            parameters[new_comp]['source'] = config_outcomes[new_comp]['source'].as_str()\n",
    "            parameters[new_comp]['probability'] = np.mean(\n",
    "                config_outcomes[new_comp]['probability']['value'].as_random_distribution()(size = 10000))\n",
    "            \n",
    "            parameters[new_comp]['delay'] = int(np.round(np.mean(\n",
    "                config_outcomes[new_comp]['delay']['value'].as_random_distribution()(size = 10000))))\n",
    "            \n",
    "            if config_outcomes[new_comp]['duration'].exists():\n",
    "                parameters[new_comp]['duration'] = int(np.round(np.mean(\n",
    "                    config_outcomes[new_comp]['duration']['value'].as_random_distribution()(size = 10000))))\n",
    "                if config_outcomes[new_comp]['duration']['name'].exists():\n",
    "                    parameters[new_comp]['duration_name'] = config_outcomes[new_comp]['duration']['name'].as_str()\n",
    "                else:\n",
    "                    parameters[new_comp]['duration_name'] = new_comp+'_curr'\n",
    "            \n",
    "            if (config[\"outcomes\"][\"param_from_file\"].get()):\n",
    "                colname = 'R'+new_comp+'|'+parameters[new_comp]['source']\n",
    "                if colname in branching_data.columns:\n",
    "                    print(f\"Using 'param_from_file' for probability {colname}\")\n",
    "                    parameters[new_comp]['probability'] = parameters[new_comp]['probability'] * \\\n",
    "                        branching_data[colname].to_numpy()\n",
    "                else:\n",
    "                    print(f\"NOT using 'param_from_file' for probability {colname}\")\n",
    "\n",
    "        elif config_outcomes[new_comp]['sum'].exists():\n",
    "            parameters[new_comp]['sum'] = config_outcomes[new_comp]['sum']\n",
    "        else:\n",
    "            raise ValueError(f\"No 'source' or 'sum' specified for comp {new_comp}\")"
   ]
  },
  {
   "cell_type": "code",
   "execution_count": 15,
   "metadata": {},
   "outputs": [
    {
     "data": {
      "text/plain": [
       "{}"
      ]
     },
     "execution_count": 15,
     "metadata": {},
     "output_type": "execute_result"
    }
   ],
   "source": [
    "parameters"
   ]
  },
  {
   "cell_type": "code",
   "execution_count": 209,
   "metadata": {},
   "outputs": [
    {
     "name": "stdout",
     "output_type": "stream",
     "text": [
      "81.9 ms ± 1.36 ms per loop (mean ± std. dev. of 7 runs, 10 loops each)\n"
     ]
    }
   ],
   "source": [
    "%timeit np.mean(probability(10000000))"
   ]
  },
  {
   "cell_type": "code",
   "execution_count": 217,
   "metadata": {},
   "outputs": [
    {
     "ename": "KeyError",
     "evalue": "'sum'",
     "output_type": "error",
     "traceback": [
      "\u001b[0;31m---------------------------------------------------------------------------\u001b[0m",
      "\u001b[0;31mKeyError\u001b[0m                                  Traceback (most recent call last)",
      "\u001b[0;32m<ipython-input-217-3a72e8688c3d>\u001b[0m in \u001b[0;36m<module>\u001b[0;34m\u001b[0m\n\u001b[0;32m----> 1\u001b[0;31m \u001b[0mparameters\u001b[0m\u001b[0;34m[\u001b[0m\u001b[0;34m'hospitalization'\u001b[0m\u001b[0;34m]\u001b[0m\u001b[0;34m[\u001b[0m\u001b[0;34m'sum'\u001b[0m\u001b[0;34m]\u001b[0m\u001b[0;34m.\u001b[0m\u001b[0mexist\u001b[0m\u001b[0;34m(\u001b[0m\u001b[0;34m)\u001b[0m\u001b[0;34m\u001b[0m\u001b[0;34m\u001b[0m\u001b[0m\n\u001b[0m",
      "\u001b[0;31mKeyError\u001b[0m: 'sum'"
     ]
    }
   ],
   "source": [
    "parameters['hospitalization']['sum'].exist()"
   ]
  },
  {
   "cell_type": "code",
   "execution_count": 18,
   "metadata": {},
   "outputs": [],
   "source": [
    "    config_outcomes = config[\"outcomes\"][\"settings\"][scenario]\n",
    "    parameters = {}\n",
    "    for new_comp in config_outcomes:\n",
    "        parameters[new_comp] = {}\n",
    "        if config_outcomes[new_comp]['source'].exists():\n",
    "            # Read the config for this compartement\n",
    "            parameters[new_comp]['source'] = config_outcomes[new_comp]['source'].as_str()\n",
    "            parameters[new_comp]['probability'] = np.mean(\n",
    "                config_outcomes[new_comp]['probability']['value'].as_random_distribution()(size = 10000))\n",
    "            parameters[new_comp]['delay'] = np.mean(\n",
    "                config_outcomes[new_comp]['delay']['value'].as_random_distribution()(size = 10000))\n",
    "            \n",
    "            if config_outcomes[new_comp]['duration'].exists():\n",
    "                parameters[new_comp]['duration'] = np.mean(\n",
    "                    config_outcomes[new_comp]['duration']['value'].as_random_distribution()(size = 10000))\n",
    "            \n",
    "\n",
    "\n",
    "        elif config_outcomes[new_comp]['sum'].exists():\n",
    "            parameters[new_comp]['sum'] = config_outcomes[new_comp]['sum']"
   ]
  },
  {
   "cell_type": "code",
   "execution_count": 19,
   "metadata": {},
   "outputs": [
    {
     "data": {
      "text/plain": [
       "{}"
      ]
     },
     "execution_count": 19,
     "metadata": {},
     "output_type": "execute_result"
    }
   ],
   "source": [
    "parameters"
   ]
  },
  {
   "cell_type": "code",
   "execution_count": 184,
   "metadata": {},
   "outputs": [],
   "source": [
    "out_df = pa.Table.from_pandas(outcomes, preserve_index = False)\n",
    "pa.parquet.write_table(out_df, f\"test.parquet\")"
   ]
  },
  {
   "cell_type": "code",
   "execution_count": 3,
   "metadata": {},
   "outputs": [],
   "source": [
    "import scipy.stats"
   ]
  },
  {
   "cell_type": "code",
   "execution_count": 82,
   "metadata": {},
   "outputs": [
    {
     "data": {
      "text/plain": [
       "19.599172807610472"
      ]
     },
     "execution_count": 82,
     "metadata": {},
     "output_type": "execute_result"
    }
   ],
   "source": [
    "parameters[new_comp]['delay']"
   ]
  },
  {
   "cell_type": "code",
   "execution_count": null,
   "metadata": {},
   "outputs": [],
   "source": [
    "exp(X_pars[1] + X_pars[2]^2 / 2)"
   ]
  },
  {
   "cell_type": "code",
   "execution_count": 56,
   "metadata": {},
   "outputs": [
    {
     "data": {
      "text/plain": [
       "1.4947442342529345"
      ]
     },
     "execution_count": 56,
     "metadata": {},
     "output_type": "execute_result"
    }
   ],
   "source": [
    "np.exp(1.23) + (0.79)**2 / 2)"
   ]
  },
  {
   "cell_type": "code",
   "execution_count": 58,
   "metadata": {},
   "outputs": [
    {
     "data": {
      "text/plain": [
       "0.31205000000000005"
      ]
     },
     "execution_count": 58,
     "metadata": {},
     "output_type": "execute_result"
    }
   ],
   "source": [
    "(0.79)**2 / 2"
   ]
  },
  {
   "cell_type": "code",
   "execution_count": 57,
   "metadata": {},
   "outputs": [
    {
     "data": {
      "text/plain": [
       "4.4816890703380645"
      ]
     },
     "execution_count": 57,
     "metadata": {},
     "output_type": "execute_result"
    }
   ],
   "source": [
    "np.exp(1.5)"
   ]
  },
  {
   "cell_type": "code",
   "execution_count": 62,
   "metadata": {},
   "outputs": [],
   "source": [
    "meanlog= 2.442\n",
    "sdlog= 0.198"
   ]
  },
  {
   "cell_type": "code",
   "execution_count": 64,
   "metadata": {},
   "outputs": [
    {
     "data": {
      "text/plain": [
       "11.684002751330507"
      ]
     },
     "execution_count": 64,
     "metadata": {},
     "output_type": "execute_result"
    }
   ],
   "source": [
    "np.mean(scipy.stats.lognorm(s=sdlog, scale=np.exp(meanlog), loc=0).rvs(10**4))"
   ]
  },
  {
   "cell_type": "code",
   "execution_count": 94,
   "metadata": {},
   "outputs": [],
   "source": [
    "branching_data = pd.read_csv('COVIDScenarioPipeline/Outcomes/data/usa-geoid-params-output.csv', converters={\"geoid\": str})"
   ]
  },
  {
   "cell_type": "code",
   "execution_count": 100,
   "metadata": {},
   "outputs": [],
   "source": [
    "branching_data = branching_data[branching_data['geoid'].isin(diffI.drop('time', axis=1).columns)]"
   ]
  },
  {
   "cell_type": "code",
   "execution_count": 108,
   "metadata": {},
   "outputs": [],
   "source": [
    "assert(branching_data.shape[0] ==diffI.drop('time', axis=1).columns.shape[0])"
   ]
  },
  {
   "cell_type": "code",
   "execution_count": null,
   "metadata": {},
   "outputs": [],
   "source": []
  },
  {
   "cell_type": "code",
   "execution_count": 175,
   "metadata": {},
   "outputs": [
    {
     "data": {
      "text/plain": [
       "array([0., 0., 1., 0., 1., 0., 1., 0., 1., 1., 0., 0., 1., 0., 1., 0., 0.,\n",
       "       1., 0., 0., 1., 0., 1., 1., 1., 1., 1., 0., 1., 1., 1., 0., 1., 0.,\n",
       "       0., 0., 0., 1., 0., 0., 1., 1., 1., 0., 1., 0., 0., 0., 1., 1., 1.,\n",
       "       1., 1., 1., 1., 1., 1., 1., 1., 1., 1., 1., 0., 0., 1., 1., 1., 1.,\n",
       "       1., 1., 1., 1., 1., 1., 1., 1., 1., 1., 1., 1., 1., 1., 1., 1., 1.,\n",
       "       1., 1., 1., 1., 1., 1., 1., 1., 0., 1., 1., 1., 1., 1., 0., 1., 1.,\n",
       "       1., 1., 1., 1., 1., 1., 1., 1., 1., 1., 1., 1., 1., 1., 1., 1., 1.,\n",
       "       1., 1., 1., 0., 1., 1., 1., 1., 1., 1., 1., 1., 1., 0., 1., 1., 1.,\n",
       "       0., 1., 1., 0., 1., 1., 1., 1., 0., 0., 1., 1., 1., 0., 1., 1., 1.,\n",
       "       1., 0., 0., 1., 0., 0., 1., 1., 1., 1., 1., 0., 0., 2., 1., 0., 1.,\n",
       "       1., 1., 1., 1., 1., 0., 1., 0., 1., 1., 1., 1., 1., 1., 1., 0., 1.,\n",
       "       0., 0., 1., 1., 1., 1., 1., 1., 1., 1., 1., 1., 1., 0., 0., 1., 1.,\n",
       "       1., 0., 1., 1., 1., 1., 0., 0., 1., 1., 1., 0., 0., 1., 1., 1., 1.,\n",
       "       1., 0., 1., 0., 1., 0., 0., 1., 1., 1., 0., 0., 1., 0., 0., 1., 1.,\n",
       "       1., 1., 0., 0., 1., 1., 1., 0., 0., 1., 0., 1.])"
      ]
     },
     "execution_count": 175,
     "metadata": {},
     "output_type": "execute_result"
    }
   ],
   "source": [
    "branching_data['RincidD|incidence'].to_numpy().astype(np.int).astype(np.double)"
   ]
  },
  {
   "cell_type": "code",
   "execution_count": 116,
   "metadata": {},
   "outputs": [
    {
     "data": {
      "text/plain": [
       "False"
      ]
     },
     "execution_count": 116,
     "metadata": {},
     "output_type": "execute_result"
    }
   ],
   "source": [
    "('R'+new_comp+'|'+parameters[new_comp]['source']) in branching_data.columns"
   ]
  },
  {
   "cell_type": "code",
   "execution_count": 117,
   "metadata": {},
   "outputs": [
    {
     "data": {
      "text/plain": [
       "'RincidD|incidH'"
      ]
     },
     "execution_count": 117,
     "metadata": {},
     "output_type": "execute_result"
    }
   ],
   "source": [
    "'R'+new_comp+'|'+parameters[new_comp]['source']"
   ]
  },
  {
   "cell_type": "code",
   "execution_count": 118,
   "metadata": {},
   "outputs": [
    {
     "data": {
      "text/html": [
       "<div>\n",
       "<style scoped>\n",
       "    .dataframe tbody tr th:only-of-type {\n",
       "        vertical-align: middle;\n",
       "    }\n",
       "\n",
       "    .dataframe tbody tr th {\n",
       "        vertical-align: top;\n",
       "    }\n",
       "\n",
       "    .dataframe thead th {\n",
       "        text-align: right;\n",
       "    }\n",
       "</style>\n",
       "<table border=\"1\" class=\"dataframe\">\n",
       "  <thead>\n",
       "    <tr style=\"text-align: right;\">\n",
       "      <th></th>\n",
       "      <th>geoid</th>\n",
       "      <th>RincidD|incidence</th>\n",
       "      <th>RincidH|incidence</th>\n",
       "      <th>RincidVent|incidICU</th>\n",
       "      <th>RincidICU|incidH</th>\n",
       "    </tr>\n",
       "  </thead>\n",
       "  <tbody>\n",
       "    <tr>\n",
       "      <th>316</th>\n",
       "      <td>10001</td>\n",
       "      <td>0.998860</td>\n",
       "      <td>0.991309</td>\n",
       "      <td>1.000001</td>\n",
       "      <td>0.994525</td>\n",
       "    </tr>\n",
       "    <tr>\n",
       "      <th>317</th>\n",
       "      <td>10003</td>\n",
       "      <td>0.961039</td>\n",
       "      <td>0.980814</td>\n",
       "      <td>1.000000</td>\n",
       "      <td>0.979636</td>\n",
       "    </tr>\n",
       "    <tr>\n",
       "      <th>318</th>\n",
       "      <td>10005</td>\n",
       "      <td>1.436205</td>\n",
       "      <td>1.274490</td>\n",
       "      <td>0.999987</td>\n",
       "      <td>1.236132</td>\n",
       "    </tr>\n",
       "    <tr>\n",
       "      <th>319</th>\n",
       "      <td>11001</td>\n",
       "      <td>0.913411</td>\n",
       "      <td>0.952960</td>\n",
       "      <td>0.999999</td>\n",
       "      <td>0.950545</td>\n",
       "    </tr>\n",
       "    <tr>\n",
       "      <th>1193</th>\n",
       "      <td>24001</td>\n",
       "      <td>1.298336</td>\n",
       "      <td>1.175052</td>\n",
       "      <td>0.999990</td>\n",
       "      <td>1.165125</td>\n",
       "    </tr>\n",
       "    <tr>\n",
       "      <th>...</th>\n",
       "      <td>...</td>\n",
       "      <td>...</td>\n",
       "      <td>...</td>\n",
       "      <td>...</td>\n",
       "      <td>...</td>\n",
       "    </tr>\n",
       "    <tr>\n",
       "      <th>2949</th>\n",
       "      <td>51800</td>\n",
       "      <td>0.897344</td>\n",
       "      <td>0.955297</td>\n",
       "      <td>1.000002</td>\n",
       "      <td>0.943254</td>\n",
       "    </tr>\n",
       "    <tr>\n",
       "      <th>2950</th>\n",
       "      <td>51810</td>\n",
       "      <td>0.841638</td>\n",
       "      <td>0.908939</td>\n",
       "      <td>1.000003</td>\n",
       "      <td>0.908255</td>\n",
       "    </tr>\n",
       "    <tr>\n",
       "      <th>2951</th>\n",
       "      <td>51820</td>\n",
       "      <td>1.224563</td>\n",
       "      <td>1.120141</td>\n",
       "      <td>0.999995</td>\n",
       "      <td>1.130607</td>\n",
       "    </tr>\n",
       "    <tr>\n",
       "      <th>2952</th>\n",
       "      <td>51830</td>\n",
       "      <td>0.974758</td>\n",
       "      <td>0.886794</td>\n",
       "      <td>1.000011</td>\n",
       "      <td>0.974589</td>\n",
       "    </tr>\n",
       "    <tr>\n",
       "      <th>2953</th>\n",
       "      <td>51840</td>\n",
       "      <td>1.050348</td>\n",
       "      <td>1.023918</td>\n",
       "      <td>0.999999</td>\n",
       "      <td>1.023973</td>\n",
       "    </tr>\n",
       "  </tbody>\n",
       "</table>\n",
       "<p>250 rows × 5 columns</p>\n",
       "</div>"
      ],
      "text/plain": [
       "      geoid  RincidD|incidence  RincidH|incidence  RincidVent|incidICU  \\\n",
       "316   10001           0.998860           0.991309             1.000001   \n",
       "317   10003           0.961039           0.980814             1.000000   \n",
       "318   10005           1.436205           1.274490             0.999987   \n",
       "319   11001           0.913411           0.952960             0.999999   \n",
       "1193  24001           1.298336           1.175052             0.999990   \n",
       "...     ...                ...                ...                  ...   \n",
       "2949  51800           0.897344           0.955297             1.000002   \n",
       "2950  51810           0.841638           0.908939             1.000003   \n",
       "2951  51820           1.224563           1.120141             0.999995   \n",
       "2952  51830           0.974758           0.886794             1.000011   \n",
       "2953  51840           1.050348           1.023918             0.999999   \n",
       "\n",
       "      RincidICU|incidH  \n",
       "316           0.994525  \n",
       "317           0.979636  \n",
       "318           1.236132  \n",
       "319           0.950545  \n",
       "1193          1.165125  \n",
       "...                ...  \n",
       "2949          0.943254  \n",
       "2950          0.908255  \n",
       "2951          1.130607  \n",
       "2952          0.974589  \n",
       "2953          1.023973  \n",
       "\n",
       "[250 rows x 5 columns]"
      ]
     },
     "execution_count": 118,
     "metadata": {},
     "output_type": "execute_result"
    }
   ],
   "source": [
    "branching_data"
   ]
  }
 ],
 "metadata": {
  "kernelspec": {
   "display_name": "Python 3.7.5 64-bit",
   "language": "python",
   "name": "python37564bitb6a8cbcde2634e63883867447f9de255"
  },
  "language_info": {
   "codemirror_mode": {
    "name": "ipython",
    "version": 3
   },
   "file_extension": ".py",
   "mimetype": "text/x-python",
   "name": "python",
   "nbconvert_exporter": "python",
   "pygments_lexer": "ipython3",
   "version": "3.7.7"
  }
 },
 "nbformat": 4,
 "nbformat_minor": 4
}

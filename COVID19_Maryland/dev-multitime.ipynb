{
 "cells": [
  {
   "cell_type": "code",
   "execution_count": 1,
   "metadata": {
    "execution": {
     "iopub.execute_input": "2020-12-08T20:51:36.531391Z",
     "iopub.status.busy": "2020-12-08T20:51:36.531047Z",
     "iopub.status.idle": "2020-12-08T20:51:38.180392Z",
     "shell.execute_reply": "2020-12-08T20:51:38.179686Z",
     "shell.execute_reply.started": "2020-12-08T20:51:36.531314Z"
    }
   },
   "outputs": [],
   "source": [
    "import numpy as np\n",
    "import pandas as pd\n",
    "import datetime\n",
    "\n",
    "import pytest\n",
    "\n",
    "from Outcomes import outcomes\n",
    "from SEIR.utils import config\n",
    "\n",
    "\n",
    "\n",
    "import pandas as pd\n",
    "import numpy as np\n",
    "import datetime\n",
    "import matplotlib.pyplot as plt\n",
    "import glob, os, sys\n",
    "from pathlib import Path\n",
    "\n",
    "#import seaborn as sns\n",
    "import pyarrow.parquet as pq\n",
    "import click\n",
    "import pyarrow as pa\n",
    "\n",
    "import os\n",
    "\n",
    "npi_r =  pq.read_table('model_output/snpi/Maryland/inference/2020.08.20.12:11:11.UTC/000000001.2020.08.20.12:11:11.UTC.snpi.parquet').to_pandas()"
   ]
  },
  {
   "cell_type": "code",
   "execution_count": null,
   "metadata": {},
   "outputs": [],
   "source": []
  },
  {
   "cell_type": "code",
   "execution_count": 2,
   "metadata": {
    "execution": {
     "iopub.execute_input": "2020-12-08T20:51:40.585824Z",
     "iopub.status.busy": "2020-12-08T20:51:40.585576Z",
     "iopub.status.idle": "2020-12-08T20:51:40.590745Z",
     "shell.execute_reply": "2020-12-08T20:51:40.590121Z",
     "shell.execute_reply.started": "2020-12-08T20:51:40.585803Z"
    }
   },
   "outputs": [],
   "source": [
    "\n",
    "import SEIR.NPI as snpi"
   ]
  },
  {
   "cell_type": "code",
   "execution_count": 3,
   "metadata": {
    "execution": {
     "iopub.execute_input": "2020-12-08T20:51:41.931359Z",
     "iopub.status.busy": "2020-12-08T20:51:41.930854Z",
     "iopub.status.idle": "2020-12-08T20:51:41.943884Z",
     "shell.execute_reply": "2020-12-08T20:51:41.943066Z",
     "shell.execute_reply.started": "2020-12-08T20:51:41.931324Z"
    }
   },
   "outputs": [
    {
     "data": {
      "text/html": [
       "<div>\n",
       "<style scoped>\n",
       "    .dataframe tbody tr th:only-of-type {\n",
       "        vertical-align: middle;\n",
       "    }\n",
       "\n",
       "    .dataframe tbody tr th {\n",
       "        vertical-align: top;\n",
       "    }\n",
       "\n",
       "    .dataframe thead th {\n",
       "        text-align: right;\n",
       "    }\n",
       "</style>\n",
       "<table border=\"1\" class=\"dataframe\">\n",
       "  <thead>\n",
       "    <tr style=\"text-align: right;\">\n",
       "      <th></th>\n",
       "      <th>geoid</th>\n",
       "      <th>npi_name</th>\n",
       "      <th>parameter</th>\n",
       "      <th>start_date</th>\n",
       "      <th>end_date</th>\n",
       "      <th>reduction</th>\n",
       "    </tr>\n",
       "  </thead>\n",
       "  <tbody>\n",
       "    <tr>\n",
       "      <th>0</th>\n",
       "      <td>51720</td>\n",
       "      <td>local_variance</td>\n",
       "      <td>r0</td>\n",
       "      <td>2020-04-15,2020-05-15,2020-05-15</td>\n",
       "      <td>2020-04-20,2020-05-20,2020-05-20</td>\n",
       "      <td>0.495477</td>\n",
       "    </tr>\n",
       "    <tr>\n",
       "      <th>1</th>\n",
       "      <td>51017</td>\n",
       "      <td>local_variance</td>\n",
       "      <td>r0</td>\n",
       "      <td>2020-04-01,2020-05-01</td>\n",
       "      <td>2020-04-15,2020-05-15</td>\n",
       "      <td>0.514003</td>\n",
       "    </tr>\n",
       "    <tr>\n",
       "      <th>2</th>\n",
       "      <td>42023</td>\n",
       "      <td>local_variance</td>\n",
       "      <td>r0</td>\n",
       "      <td>2020-04-15,2020-05-15,2020-05-15</td>\n",
       "      <td>2020-04-20,2020-05-20,2020-05-20</td>\n",
       "      <td>0.503371</td>\n",
       "    </tr>\n",
       "    <tr>\n",
       "      <th>3</th>\n",
       "      <td>51720</td>\n",
       "      <td>local_variance2</td>\n",
       "      <td>r0</td>\n",
       "      <td>2020-04-15</td>\n",
       "      <td>2020-05-01</td>\n",
       "      <td>0.000097</td>\n",
       "    </tr>\n",
       "    <tr>\n",
       "      <th>4</th>\n",
       "      <td>42023</td>\n",
       "      <td>local_variance2</td>\n",
       "      <td>r0</td>\n",
       "      <td>2020-04-15</td>\n",
       "      <td>2020-05-01</td>\n",
       "      <td>0.000016</td>\n",
       "    </tr>\n",
       "  </tbody>\n",
       "</table>\n",
       "</div>"
      ],
      "text/plain": [
       "   geoid         npi_name parameter                        start_date  \\\n",
       "0  51720   local_variance        r0  2020-04-15,2020-05-15,2020-05-15   \n",
       "1  51017   local_variance        r0             2020-04-01,2020-05-01   \n",
       "2  42023   local_variance        r0  2020-04-15,2020-05-15,2020-05-15   \n",
       "3  51720  local_variance2        r0                        2020-04-15   \n",
       "4  42023  local_variance2        r0                        2020-04-15   \n",
       "\n",
       "                           end_date  reduction  \n",
       "0  2020-04-20,2020-05-20,2020-05-20   0.495477  \n",
       "1             2020-04-15,2020-05-15   0.514003  \n",
       "2  2020-04-20,2020-05-20,2020-05-20   0.503371  \n",
       "3                        2020-05-01   0.000097  \n",
       "4                        2020-05-01   0.000016  "
      ]
     },
     "execution_count": 3,
     "metadata": {},
     "output_type": "execute_result"
    }
   ],
   "source": [
    "npi_r"
   ]
  },
  {
   "cell_type": "code",
   "execution_count": 4,
   "metadata": {
    "execution": {
     "iopub.execute_input": "2020-12-08T20:51:45.755359Z",
     "iopub.status.busy": "2020-12-08T20:51:45.755075Z",
     "iopub.status.idle": "2020-12-08T20:51:46.051697Z",
     "shell.execute_reply": "2020-12-08T20:51:46.050217Z",
     "shell.execute_reply.started": "2020-12-08T20:51:45.755333Z"
    }
   },
   "outputs": [
    {
     "ename": "NameError",
     "evalue": "name 'npi' is not defined",
     "output_type": "error",
     "traceback": [
      "\u001b[0;31m---------------------------------------------------------------------------\u001b[0m",
      "\u001b[0;31mNameError\u001b[0m                                 Traceback (most recent call last)",
      "\u001b[0;32m<ipython-input-4-1a56074828bc>\u001b[0m in \u001b[0;36m<module>\u001b[0;34m()\u001b[0m\n\u001b[0;32m----> 1\u001b[0;31m \u001b[0mnpi\u001b[0m\u001b[0;34m[\u001b[0m\u001b[0;34m'start_date'\u001b[0m\u001b[0;34m]\u001b[0m\u001b[0;34m\u001b[0m\u001b[0;34m\u001b[0m\u001b[0m\n\u001b[0m",
      "\u001b[0;31mNameError\u001b[0m: name 'npi' is not defined"
     ]
    }
   ],
   "source": [
    "npi['start_date']"
   ]
  },
  {
   "cell_type": "code",
   "execution_count": 5,
   "metadata": {
    "execution": {
     "iopub.execute_input": "2020-12-08T20:52:42.486339Z",
     "iopub.status.busy": "2020-12-08T20:52:42.486032Z",
     "iopub.status.idle": "2020-12-08T20:52:42.642725Z",
     "shell.execute_reply": "2020-12-08T20:52:42.642104Z",
     "shell.execute_reply.started": "2020-12-08T20:52:42.486312Z"
    }
   },
   "outputs": [],
   "source": [
    "import pandas as pd\n",
    "import numpy as np\n",
    "import datetime\n",
    "import matplotlib.pyplot as plt\n",
    "import glob, os, sys\n",
    "from pathlib import Path\n",
    "#import seaborn as sns\n",
    "import matplotlib._color_data as mcd\n",
    "import pyarrow.parquet as pq\n",
    "import click\n",
    "\n",
    "import matplotlib.dates as mdates\n",
    "import matplotlib.cbook as cbook\n",
    "from matplotlib.backends.backend_pdf import PdfPages\n",
    "\n",
    "from SEIR import NPI, setup, file_paths\n",
    "from SEIR.utils import config\n",
    "import pathlib\n",
    "\n",
    "config.set_file('config_test_joseph.yml')\n",
    "scenario = 'inference'\n",
    "deathrate = 'med'\n",
    "spatial_config = config[\"spatial_setup\"]\n",
    "stoch_traj_flag = True\n",
    "index = 0\n",
    "run_id = 0\n",
    "prefix = 0\n",
    "spatial_base_path = pathlib.Path(spatial_config[\"base_path\"].get())\n",
    "scenario = scenario\n",
    "deathrate = deathrate\n",
    "stoch_traj_flag= stoch_traj_flag # Truthy: stochastic simulation, Falsy: determnistic mean of the binomial draws\n",
    "nsim = 10\n",
    "interactive = False\n",
    "write_csv = False\n",
    "write_parquet = True\n",
    "\n",
    "s = setup.Setup(\n",
    "    setup_name=config[\"name\"].get() + \"_\" + str(scenario),\n",
    "    spatial_setup=setup.SpatialSetup(\n",
    "        setup_name=spatial_config[\"setup_name\"].get(),\n",
    "        geodata_file=spatial_base_path / spatial_config[\"geodata\"].get(),\n",
    "        mobility_file=spatial_base_path / spatial_config[\"mobility\"].get(),\n",
    "        popnodes_key=spatial_config[\"popnodes\"].get(),\n",
    "        nodenames_key=spatial_config[\"nodenames\"].get()\n",
    "    ),\n",
    "    nsim=nsim,\n",
    "    npi_scenario=scenario,\n",
    "    npi_config=config[\"interventions\"][\"settings\"][scenario],\n",
    "    seeding_config=config[\"seeding\"],\n",
    "    ti=config[\"start_date\"].as_date(),\n",
    "    tf=config[\"end_date\"].as_date(),\n",
    "    interactive=interactive,\n",
    "    write_csv=write_csv,\n",
    "    write_parquet=write_parquet,\n",
    "    dt=config[\"dt\"].as_number(),\n",
    "    first_sim_index = index,\n",
    "    in_run_id = run_id,\n",
    "    in_prefix = prefix,\n",
    "    out_run_id = run_id,\n",
    "    out_prefix = prefix\n",
    ")\n",
    "\n",
    "snpi_fn = 'model_output/snpi/Maryland/inference/2020.08.20.12:11:11.UTC/000000001.2020.08.20.12:11:11.UTC.snpi.parquet'\n",
    "\n",
    "snpi = pq.read_table(snpi_fn).to_pandas()\n",
    "npi = NPI.NPIBase.execute(\n",
    "    npi_config=s.npi_config,\n",
    "    global_config=config,\n",
    "    geoids=s.spatset.nodenames,\n",
    "    loaded_df = snpi)\n",
    "p_draw = setup.parameters_load(snpi_fn.replace('snpi', 'spar')[:-8],\n",
    "    'parquet',\n",
    "    len(s.t_inter),\n",
    "    s.nnodes\n",
    ")\n",
    "\n",
    "#npi = NPI.NPIBase.execute(\n",
    "#    npi_config=s.npi_config,\n",
    "#    global_config=config,\n",
    "#    geoids=s.spatset.nodenames,\n",
    "#    loaded_df = snpi)\n",
    "\n",
    "parameters = setup.parameters_reduce(p_draw, npi, s.dt)\n",
    "beta = parameters[1]"
   ]
  },
  {
   "cell_type": "code",
   "execution_count": 6,
   "metadata": {
    "execution": {
     "iopub.execute_input": "2020-12-08T20:52:48.817530Z",
     "iopub.status.busy": "2020-12-08T20:52:48.817191Z",
     "iopub.status.idle": "2020-12-08T20:52:48.826317Z",
     "shell.execute_reply": "2020-12-08T20:52:48.825453Z",
     "shell.execute_reply.started": "2020-12-08T20:52:48.817512Z"
    }
   },
   "outputs": [
    {
     "data": {
      "text/html": [
       "<div>\n",
       "<style scoped>\n",
       "    .dataframe tbody tr th:only-of-type {\n",
       "        vertical-align: middle;\n",
       "    }\n",
       "\n",
       "    .dataframe tbody tr th {\n",
       "        vertical-align: top;\n",
       "    }\n",
       "\n",
       "    .dataframe thead th {\n",
       "        text-align: right;\n",
       "    }\n",
       "</style>\n",
       "<table border=\"1\" class=\"dataframe\">\n",
       "  <thead>\n",
       "    <tr style=\"text-align: right;\">\n",
       "      <th></th>\n",
       "      <th>geoid</th>\n",
       "      <th>npi_name</th>\n",
       "      <th>parameter</th>\n",
       "      <th>start_date</th>\n",
       "      <th>end_date</th>\n",
       "      <th>reduction</th>\n",
       "    </tr>\n",
       "  </thead>\n",
       "  <tbody>\n",
       "    <tr>\n",
       "      <th>0</th>\n",
       "      <td>51720</td>\n",
       "      <td>local_variance</td>\n",
       "      <td>r0</td>\n",
       "      <td>2020-04-15,2020-05-15,2020-05-15</td>\n",
       "      <td>2020-04-20,2020-05-20,2020-05-20</td>\n",
       "      <td>0.495477</td>\n",
       "    </tr>\n",
       "    <tr>\n",
       "      <th>1</th>\n",
       "      <td>51017</td>\n",
       "      <td>local_variance</td>\n",
       "      <td>r0</td>\n",
       "      <td>2020-04-01,2020-05-01</td>\n",
       "      <td>2020-04-15,2020-05-15</td>\n",
       "      <td>0.514003</td>\n",
       "    </tr>\n",
       "    <tr>\n",
       "      <th>2</th>\n",
       "      <td>42023</td>\n",
       "      <td>local_variance</td>\n",
       "      <td>r0</td>\n",
       "      <td>2020-04-15,2020-05-15,2020-05-15</td>\n",
       "      <td>2020-04-20,2020-05-20,2020-05-20</td>\n",
       "      <td>0.503371</td>\n",
       "    </tr>\n",
       "    <tr>\n",
       "      <th>3</th>\n",
       "      <td>51720</td>\n",
       "      <td>local_variance2</td>\n",
       "      <td>r0</td>\n",
       "      <td>2020-04-15</td>\n",
       "      <td>2020-05-01</td>\n",
       "      <td>0.000097</td>\n",
       "    </tr>\n",
       "    <tr>\n",
       "      <th>4</th>\n",
       "      <td>42023</td>\n",
       "      <td>local_variance2</td>\n",
       "      <td>r0</td>\n",
       "      <td>2020-04-15</td>\n",
       "      <td>2020-05-01</td>\n",
       "      <td>0.000016</td>\n",
       "    </tr>\n",
       "  </tbody>\n",
       "</table>\n",
       "</div>"
      ],
      "text/plain": [
       "   geoid         npi_name parameter                        start_date  \\\n",
       "0  51720   local_variance        r0  2020-04-15,2020-05-15,2020-05-15   \n",
       "1  51017   local_variance        r0             2020-04-01,2020-05-01   \n",
       "2  42023   local_variance        r0  2020-04-15,2020-05-15,2020-05-15   \n",
       "3  51720  local_variance2        r0                        2020-04-15   \n",
       "4  42023  local_variance2        r0                        2020-04-15   \n",
       "\n",
       "                           end_date  reduction  \n",
       "0  2020-04-20,2020-05-20,2020-05-20   0.495477  \n",
       "1             2020-04-15,2020-05-15   0.514003  \n",
       "2  2020-04-20,2020-05-20,2020-05-20   0.503371  \n",
       "3                        2020-05-01   0.000097  \n",
       "4                        2020-05-01   0.000016  "
      ]
     },
     "execution_count": 6,
     "metadata": {},
     "output_type": "execute_result"
    }
   ],
   "source": [
    "npi_r"
   ]
  },
  {
   "cell_type": "code",
   "execution_count": 7,
   "metadata": {
    "execution": {
     "iopub.execute_input": "2020-12-08T20:52:50.611095Z",
     "iopub.status.busy": "2020-12-08T20:52:50.610882Z",
     "iopub.status.idle": "2020-12-08T20:52:50.620855Z",
     "shell.execute_reply": "2020-12-08T20:52:50.620169Z",
     "shell.execute_reply.started": "2020-12-08T20:52:50.611076Z"
    }
   },
   "outputs": [
    {
     "data": {
      "text/html": [
       "<div>\n",
       "<style scoped>\n",
       "    .dataframe tbody tr th:only-of-type {\n",
       "        vertical-align: middle;\n",
       "    }\n",
       "\n",
       "    .dataframe tbody tr th {\n",
       "        vertical-align: top;\n",
       "    }\n",
       "\n",
       "    .dataframe thead th {\n",
       "        text-align: right;\n",
       "    }\n",
       "</style>\n",
       "<table border=\"1\" class=\"dataframe\">\n",
       "  <thead>\n",
       "    <tr style=\"text-align: right;\">\n",
       "      <th></th>\n",
       "      <th>geoid</th>\n",
       "      <th>npi_name</th>\n",
       "      <th>start_date</th>\n",
       "      <th>end_date</th>\n",
       "      <th>parameter</th>\n",
       "      <th>reduction</th>\n",
       "    </tr>\n",
       "  </thead>\n",
       "  <tbody>\n",
       "    <tr>\n",
       "      <th>0</th>\n",
       "      <td>51720</td>\n",
       "      <td>local_variance</td>\n",
       "      <td>2020-04-15,2020-05-15,2020-05-15</td>\n",
       "      <td>2020-04-20,2020-05-20,2020-05-20</td>\n",
       "      <td>r0</td>\n",
       "      <td>0.495477</td>\n",
       "    </tr>\n",
       "    <tr>\n",
       "      <th>1</th>\n",
       "      <td>51017</td>\n",
       "      <td>local_variance</td>\n",
       "      <td>2020-04-01,2020-05-01</td>\n",
       "      <td>2020-04-15,2020-05-15</td>\n",
       "      <td>r0</td>\n",
       "      <td>0.514003</td>\n",
       "    </tr>\n",
       "    <tr>\n",
       "      <th>2</th>\n",
       "      <td>42023</td>\n",
       "      <td>local_variance</td>\n",
       "      <td>2020-04-15,2020-05-15,2020-05-15</td>\n",
       "      <td>2020-04-20,2020-05-20,2020-05-20</td>\n",
       "      <td>r0</td>\n",
       "      <td>0.503371</td>\n",
       "    </tr>\n",
       "    <tr>\n",
       "      <th>3</th>\n",
       "      <td>51720</td>\n",
       "      <td>local_variance2</td>\n",
       "      <td>2020-04-15</td>\n",
       "      <td>2020-05-01</td>\n",
       "      <td>r0</td>\n",
       "      <td>0.000097</td>\n",
       "    </tr>\n",
       "    <tr>\n",
       "      <th>4</th>\n",
       "      <td>42023</td>\n",
       "      <td>local_variance2</td>\n",
       "      <td>2020-04-15</td>\n",
       "      <td>2020-05-01</td>\n",
       "      <td>r0</td>\n",
       "      <td>0.000016</td>\n",
       "    </tr>\n",
       "  </tbody>\n",
       "</table>\n",
       "</div>"
      ],
      "text/plain": [
       "   geoid         npi_name                        start_date  \\\n",
       "0  51720   local_variance  2020-04-15,2020-05-15,2020-05-15   \n",
       "1  51017   local_variance             2020-04-01,2020-05-01   \n",
       "2  42023   local_variance  2020-04-15,2020-05-15,2020-05-15   \n",
       "3  51720  local_variance2                        2020-04-15   \n",
       "4  42023  local_variance2                        2020-04-15   \n",
       "\n",
       "                           end_date parameter  reduction  \n",
       "0  2020-04-20,2020-05-20,2020-05-20        r0   0.495477  \n",
       "1             2020-04-15,2020-05-15        r0   0.514003  \n",
       "2  2020-04-20,2020-05-20,2020-05-20        r0   0.503371  \n",
       "3                        2020-05-01        r0   0.000097  \n",
       "4                        2020-05-01        r0   0.000016  "
      ]
     },
     "execution_count": 7,
     "metadata": {},
     "output_type": "execute_result"
    }
   ],
   "source": [
    "npi.getReductionToWrite()"
   ]
  },
  {
   "cell_type": "code",
   "execution_count": 24,
   "metadata": {
    "execution": {
     "iopub.execute_input": "2020-12-07T19:22:03.739853Z",
     "iopub.status.busy": "2020-12-07T19:22:03.739574Z",
     "iopub.status.idle": "2020-12-07T19:22:05.478949Z",
     "shell.execute_reply": "2020-12-07T19:22:05.478272Z",
     "shell.execute_reply.started": "2020-12-07T19:22:03.739827Z"
    }
   },
   "outputs": [
    {
     "data": {
      "image/png": "[encoded data removed]",
      "text/plain": [
       "<Figure size 432x288 with 1 Axes>"
      ]
     },
     "metadata": {
      "needs_background": "light"
     },
     "output_type": "display_data"
    }
   ],
   "source": [
    "npi.getReduction('r0').T.plot(legend=False);"
   ]
  },
  {
   "cell_type": "code",
   "execution_count": 25,
   "metadata": {
    "execution": {
     "iopub.execute_input": "2020-12-07T19:22:07.278227Z",
     "iopub.status.busy": "2020-12-07T19:22:07.277936Z",
     "iopub.status.idle": "2020-12-07T19:22:07.676019Z",
     "shell.execute_reply": "2020-12-07T19:22:07.674882Z",
     "shell.execute_reply.started": "2020-12-07T19:22:07.278201Z"
    }
   },
   "outputs": [
    {
     "data": {
      "image/png": "[encoded data removed]",
      "text/plain": [
       "<Figure size 432x288 with 1 Axes>"
      ]
     },
     "metadata": {
      "needs_background": "light"
     },
     "output_type": "display_data"
    }
   ],
   "source": [
    "plt.plot(beta);"
   ]
  },
  {
   "cell_type": "code",
   "execution_count": 9,
   "metadata": {
    "execution": {
     "iopub.execute_input": "2020-12-07T18:51:30.476063Z",
     "iopub.status.busy": "2020-12-07T18:51:30.475799Z",
     "iopub.status.idle": "2020-12-07T18:51:30.478901Z",
     "shell.execute_reply": "2020-12-07T18:51:30.478069Z",
     "shell.execute_reply.started": "2020-12-07T18:51:30.476040Z"
    }
   },
   "outputs": [],
   "source": [
    "loaded_df = snpi"
   ]
  },
  {
   "cell_type": "code",
   "execution_count": 10,
   "metadata": {
    "execution": {
     "iopub.execute_input": "2020-12-07T18:51:30.480310Z",
     "iopub.status.busy": "2020-12-07T18:51:30.479954Z",
     "iopub.status.idle": "2020-12-07T18:51:30.491676Z",
     "shell.execute_reply": "2020-12-07T18:51:30.491002Z",
     "shell.execute_reply.started": "2020-12-07T18:51:30.480285Z"
    }
   },
   "outputs": [
    {
     "data": {
      "text/html": [
       "<div>\n",
       "<style scoped>\n",
       "    .dataframe tbody tr th:only-of-type {\n",
       "        vertical-align: middle;\n",
       "    }\n",
       "\n",
       "    .dataframe tbody tr th {\n",
       "        vertical-align: top;\n",
       "    }\n",
       "\n",
       "    .dataframe thead th {\n",
       "        text-align: right;\n",
       "    }\n",
       "</style>\n",
       "<table border=\"1\" class=\"dataframe\">\n",
       "  <thead>\n",
       "    <tr style=\"text-align: right;\">\n",
       "      <th></th>\n",
       "      <th>npi_name</th>\n",
       "      <th>start_date</th>\n",
       "      <th>end_date</th>\n",
       "      <th>parameter</th>\n",
       "      <th>reduction</th>\n",
       "    </tr>\n",
       "    <tr>\n",
       "      <th>geoid</th>\n",
       "      <th></th>\n",
       "      <th></th>\n",
       "      <th></th>\n",
       "      <th></th>\n",
       "      <th></th>\n",
       "    </tr>\n",
       "  </thead>\n",
       "  <tbody>\n",
       "    <tr>\n",
       "      <th>51720</th>\n",
       "      <td>local_variance</td>\n",
       "      <td>2020-04-15,2020-05-15,2020-05-15</td>\n",
       "      <td>2020-04-20,2020-05-20,2020-05-20</td>\n",
       "      <td>r0</td>\n",
       "      <td>0.496656</td>\n",
       "    </tr>\n",
       "    <tr>\n",
       "      <th>51017</th>\n",
       "      <td>local_variance</td>\n",
       "      <td>2020-04-01,2020-05-01</td>\n",
       "      <td>2020-04-15,2020-05-15</td>\n",
       "      <td>r0</td>\n",
       "      <td>0.480746</td>\n",
       "    </tr>\n",
       "    <tr>\n",
       "      <th>42023</th>\n",
       "      <td>local_variance</td>\n",
       "      <td>2020-04-15,2020-05-15,2020-05-15</td>\n",
       "      <td>2020-04-20,2020-05-20,2020-05-20</td>\n",
       "      <td>r0</td>\n",
       "      <td>0.509052</td>\n",
       "    </tr>\n",
       "  </tbody>\n",
       "</table>\n",
       "</div>"
      ],
      "text/plain": [
       "             npi_name                        start_date  \\\n",
       "geoid                                                     \n",
       "51720  local_variance  2020-04-15,2020-05-15,2020-05-15   \n",
       "51017  local_variance             2020-04-01,2020-05-01   \n",
       "42023  local_variance  2020-04-15,2020-05-15,2020-05-15   \n",
       "\n",
       "                               end_date parameter  reduction  \n",
       "geoid                                                         \n",
       "51720  2020-04-20,2020-05-20,2020-05-20        r0   0.496656  \n",
       "51017             2020-04-15,2020-05-15        r0   0.480746  \n",
       "42023  2020-04-20,2020-05-20,2020-05-20        r0   0.509052  "
      ]
     },
     "execution_count": 10,
     "metadata": {},
     "output_type": "execute_result"
    }
   ],
   "source": [
    "loaded_df.index = loaded_df.geoid\n",
    "loaded_df = loaded_df[loaded_df['npi_name'] == 'local_variance']\n",
    "parameters = loaded_df[['npi_name','start_date','end_date','parameter','reduction']]#.copy()\n",
    "parameters"
   ]
  },
  {
   "cell_type": "code",
   "execution_count": 11,
   "metadata": {
    "execution": {
     "iopub.execute_input": "2020-12-07T18:51:30.492775Z",
     "iopub.status.busy": "2020-12-07T18:51:30.492577Z",
     "iopub.status.idle": "2020-12-07T18:51:30.503458Z",
     "shell.execute_reply": "2020-12-07T18:51:30.502722Z",
     "shell.execute_reply.started": "2020-12-07T18:51:30.492753Z"
    }
   },
   "outputs": [
    {
     "data": {
      "text/html": [
       "<div>\n",
       "<style scoped>\n",
       "    .dataframe tbody tr th:only-of-type {\n",
       "        vertical-align: middle;\n",
       "    }\n",
       "\n",
       "    .dataframe tbody tr th {\n",
       "        vertical-align: top;\n",
       "    }\n",
       "\n",
       "    .dataframe thead th {\n",
       "        text-align: right;\n",
       "    }\n",
       "</style>\n",
       "<table border=\"1\" class=\"dataframe\">\n",
       "  <thead>\n",
       "    <tr style=\"text-align: right;\">\n",
       "      <th></th>\n",
       "      <th>geoid</th>\n",
       "      <th>npi_name</th>\n",
       "      <th>parameter</th>\n",
       "      <th>start_date</th>\n",
       "      <th>end_date</th>\n",
       "      <th>reduction</th>\n",
       "    </tr>\n",
       "    <tr>\n",
       "      <th>geoid</th>\n",
       "      <th></th>\n",
       "      <th></th>\n",
       "      <th></th>\n",
       "      <th></th>\n",
       "      <th></th>\n",
       "      <th></th>\n",
       "    </tr>\n",
       "  </thead>\n",
       "  <tbody>\n",
       "    <tr>\n",
       "      <th>51720</th>\n",
       "      <td>51720</td>\n",
       "      <td>local_variance</td>\n",
       "      <td>r0</td>\n",
       "      <td>2020-04-15,2020-05-15,2020-05-15</td>\n",
       "      <td>2020-04-20,2020-05-20,2020-05-20</td>\n",
       "      <td>0.496656</td>\n",
       "    </tr>\n",
       "    <tr>\n",
       "      <th>51017</th>\n",
       "      <td>51017</td>\n",
       "      <td>local_variance</td>\n",
       "      <td>r0</td>\n",
       "      <td>2020-04-01,2020-05-01</td>\n",
       "      <td>2020-04-15,2020-05-15</td>\n",
       "      <td>0.480746</td>\n",
       "    </tr>\n",
       "    <tr>\n",
       "      <th>42023</th>\n",
       "      <td>42023</td>\n",
       "      <td>local_variance</td>\n",
       "      <td>r0</td>\n",
       "      <td>2020-04-15,2020-05-15,2020-05-15</td>\n",
       "      <td>2020-04-20,2020-05-20,2020-05-20</td>\n",
       "      <td>0.509052</td>\n",
       "    </tr>\n",
       "  </tbody>\n",
       "</table>\n",
       "</div>"
      ],
      "text/plain": [
       "       geoid        npi_name parameter                        start_date  \\\n",
       "geoid                                                                      \n",
       "51720  51720  local_variance        r0  2020-04-15,2020-05-15,2020-05-15   \n",
       "51017  51017  local_variance        r0             2020-04-01,2020-05-01   \n",
       "42023  42023  local_variance        r0  2020-04-15,2020-05-15,2020-05-15   \n",
       "\n",
       "                               end_date  reduction  \n",
       "geoid                                               \n",
       "51720  2020-04-20,2020-05-20,2020-05-20   0.496656  \n",
       "51017             2020-04-15,2020-05-15   0.480746  \n",
       "42023  2020-04-20,2020-05-20,2020-05-20   0.509052  "
      ]
     },
     "execution_count": 11,
     "metadata": {},
     "output_type": "execute_result"
    }
   ],
   "source": [
    "loaded_df"
   ]
  },
  {
   "cell_type": "code",
   "execution_count": 12,
   "metadata": {
    "execution": {
     "iopub.execute_input": "2020-12-07T18:51:30.505237Z",
     "iopub.status.busy": "2020-12-07T18:51:30.504630Z",
     "iopub.status.idle": "2020-12-07T18:51:30.519305Z",
     "shell.execute_reply": "2020-12-07T18:51:30.518574Z",
     "shell.execute_reply.started": "2020-12-07T18:51:30.505188Z"
    }
   },
   "outputs": [
    {
     "name": "stderr",
     "output_type": "stream",
     "text": [
      "/Users/chadi/opt/miniconda3/envs/covidSP/lib/python3.7/site-packages/ipykernel_launcher.py:1: SettingWithCopyWarning: \n",
      "A value is trying to be set on a copy of a slice from a DataFrame.\n",
      "Try using .loc[row_indexer,col_indexer] = value instead\n",
      "\n",
      "See the caveats in the documentation: https://pandas.pydata.org/pandas-docs/stable/user_guide/indexing.html#returning-a-view-versus-a-copy\n",
      "  \"\"\"Entry point for launching an IPython kernel.\n"
     ]
    },
    {
     "data": {
      "text/html": [
       "<div>\n",
       "<style scoped>\n",
       "    .dataframe tbody tr th:only-of-type {\n",
       "        vertical-align: middle;\n",
       "    }\n",
       "\n",
       "    .dataframe tbody tr th {\n",
       "        vertical-align: top;\n",
       "    }\n",
       "\n",
       "    .dataframe thead th {\n",
       "        text-align: right;\n",
       "    }\n",
       "</style>\n",
       "<table border=\"1\" class=\"dataframe\">\n",
       "  <thead>\n",
       "    <tr style=\"text-align: right;\">\n",
       "      <th></th>\n",
       "      <th>npi_name</th>\n",
       "      <th>start_date</th>\n",
       "      <th>end_date</th>\n",
       "      <th>parameter</th>\n",
       "      <th>reduction</th>\n",
       "    </tr>\n",
       "    <tr>\n",
       "      <th>geoid</th>\n",
       "      <th></th>\n",
       "      <th></th>\n",
       "      <th></th>\n",
       "      <th></th>\n",
       "      <th></th>\n",
       "    </tr>\n",
       "  </thead>\n",
       "  <tbody>\n",
       "    <tr>\n",
       "      <th>51720</th>\n",
       "      <td>local_variance</td>\n",
       "      <td>[2020-04-15, 2020-05-15, 2020-05-15]</td>\n",
       "      <td>2020-04-20,2020-05-20,2020-05-20</td>\n",
       "      <td>r0</td>\n",
       "      <td>0.496656</td>\n",
       "    </tr>\n",
       "    <tr>\n",
       "      <th>51017</th>\n",
       "      <td>local_variance</td>\n",
       "      <td>[2020-04-01, 2020-05-01]</td>\n",
       "      <td>2020-04-15,2020-05-15</td>\n",
       "      <td>r0</td>\n",
       "      <td>0.480746</td>\n",
       "    </tr>\n",
       "    <tr>\n",
       "      <th>42023</th>\n",
       "      <td>local_variance</td>\n",
       "      <td>[2020-04-15, 2020-05-15, 2020-05-15]</td>\n",
       "      <td>2020-04-20,2020-05-20,2020-05-20</td>\n",
       "      <td>r0</td>\n",
       "      <td>0.509052</td>\n",
       "    </tr>\n",
       "  </tbody>\n",
       "</table>\n",
       "</div>"
      ],
      "text/plain": [
       "             npi_name                            start_date  \\\n",
       "geoid                                                         \n",
       "51720  local_variance  [2020-04-15, 2020-05-15, 2020-05-15]   \n",
       "51017  local_variance              [2020-04-01, 2020-05-01]   \n",
       "42023  local_variance  [2020-04-15, 2020-05-15, 2020-05-15]   \n",
       "\n",
       "                               end_date parameter  reduction  \n",
       "geoid                                                         \n",
       "51720  2020-04-20,2020-05-20,2020-05-20        r0   0.496656  \n",
       "51017             2020-04-15,2020-05-15        r0   0.480746  \n",
       "42023  2020-04-20,2020-05-20,2020-05-20        r0   0.509052  "
      ]
     },
     "execution_count": 12,
     "metadata": {},
     "output_type": "execute_result"
    }
   ],
   "source": [
    "parameters[\"start_date\"] = [[datetime.date.fromisoformat(date) for date in strdate.split(\",\")] for strdate in parameters[\"start_date\"]]\n",
    "parameters"
   ]
  },
  {
   "cell_type": "code",
   "execution_count": null,
   "metadata": {},
   "outputs": [],
   "source": []
  },
  {
   "cell_type": "code",
   "execution_count": 13,
   "metadata": {
    "execution": {
     "iopub.execute_input": "2020-12-07T18:51:30.520944Z",
     "iopub.status.busy": "2020-12-07T18:51:30.520679Z",
     "iopub.status.idle": "2020-12-07T18:51:30.526320Z",
     "shell.execute_reply": "2020-12-07T18:51:30.524744Z",
     "shell.execute_reply.started": "2020-12-07T18:51:30.520918Z"
    }
   },
   "outputs": [
    {
     "ename": "SyntaxError",
     "evalue": "invalid syntax (<ipython-input-13-dc1faf74dbe9>, line 1)",
     "output_type": "error",
     "traceback": [
      "\u001b[0;36m  File \u001b[0;32m\"<ipython-input-13-dc1faf74dbe9>\"\u001b[0;36m, line \u001b[0;32m1\u001b[0m\n\u001b[0;31m    print(self.parameters[\"start_date\"])        self.parameters[\"end_date\"] = [datetime.date.fromisoformat(date) for date in self.parameters[\"end_date\"]]\u001b[0m\n\u001b[0m                                                   ^\u001b[0m\n\u001b[0;31mSyntaxError\u001b[0m\u001b[0;31m:\u001b[0m invalid syntax\n"
     ]
    }
   ],
   "source": [
    "        print(self.parameters[\"start_date\"])        self.parameters[\"end_date\"] = [datetime.date.fromisoformat(date) for date in self.parameters[\"end_date\"]]\n",
    "        self.affected_geoids = set(self.parameters.index)\n",
    "        self.param_name = self.parameters[\"parameter\"].unique()"
   ]
  },
  {
   "cell_type": "code",
   "execution_count": null,
   "metadata": {
    "execution": {
     "iopub.status.busy": "2020-12-07T18:51:30.527231Z",
     "iopub.status.idle": "2020-12-07T18:51:30.527757Z"
    }
   },
   "outputs": [],
   "source": [
    "[datetime.date(2000,1,1),datetime.date(2000,2,1), datetime.date(2000,1,1),datetime.date(2000,2,1)].astype(\"str\")"
   ]
  },
  {
   "cell_type": "code",
   "execution_count": null,
   "metadata": {
    "execution": {
     "iopub.status.busy": "2020-12-07T18:51:30.528977Z",
     "iopub.status.idle": "2020-12-07T18:51:30.529655Z"
    }
   },
   "outputs": [],
   "source": [
    "b = set([1,2,4])"
   ]
  },
  {
   "cell_type": "code",
   "execution_count": null,
   "metadata": {
    "execution": {
     "iopub.status.busy": "2020-12-07T18:51:30.530848Z",
     "iopub.status.idle": "2020-12-07T18:51:30.531374Z"
    }
   },
   "outputs": [],
   "source": [
    "type(b)"
   ]
  },
  {
   "cell_type": "code",
   "execution_count": null,
   "metadata": {
    "execution": {
     "iopub.status.busy": "2020-12-07T18:51:30.532655Z",
     "iopub.status.idle": "2020-12-07T18:51:30.533221Z"
    }
   },
   "outputs": [],
   "source": [
    "len(b)"
   ]
  }
 ],
 "metadata": {
  "kernelspec": {
   "display_name": "Python (covidSP)",
   "language": "python",
   "name": "covidsp"
  },
  "language_info": {
   "codemirror_mode": {
    "name": "ipython",
    "version": 3
   },
   "file_extension": ".py",
   "mimetype": "text/x-python",
   "name": "python",
   "nbconvert_exporter": "python",
   "pygments_lexer": "ipython3",
   "version": "3.7.9"
  }
 },
 "nbformat": 4,
 "nbformat_minor": 4
}

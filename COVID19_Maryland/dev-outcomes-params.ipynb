{
 "cells": [
  {
   "cell_type": "code",
   "execution_count": 1,
   "metadata": {
    "execution": {
     "iopub.execute_input": "2020-12-22T11:51:38.399270Z",
     "iopub.status.busy": "2020-12-22T11:51:38.398942Z",
     "iopub.status.idle": "2020-12-22T11:51:40.222865Z",
     "shell.execute_reply": "2020-12-22T11:51:40.221644Z",
     "shell.execute_reply.started": "2020-12-22T11:51:38.399151Z"
    }
   },
   "outputs": [
    {
     "ename": "FileNotFoundError",
     "evalue": "[Errno 2] No such file or directory: 'COVIDScenarioPipeline/test/test_inference/'",
     "output_type": "error",
     "traceback": [
      "\u001b[0;31m---------------------------------------------------------------------------\u001b[0m",
      "\u001b[0;31mFileNotFoundError\u001b[0m                         Traceback (most recent call last)",
      "\u001b[0;32m<ipython-input-1-8e406bafd2a7>\u001b[0m in \u001b[0;36m<module>\u001b[0;34m()\u001b[0m\n\u001b[1;32m     31\u001b[0m \u001b[0;32mfrom\u001b[0m \u001b[0mOutcomes\u001b[0m \u001b[0;32mimport\u001b[0m \u001b[0moutcomes\u001b[0m\u001b[0;34m\u001b[0m\u001b[0;34m\u001b[0m\u001b[0m\n\u001b[1;32m     32\u001b[0m \u001b[0;34m\u001b[0m\u001b[0m\n\u001b[0;32m---> 33\u001b[0;31m \u001b[0mos\u001b[0m\u001b[0;34m.\u001b[0m\u001b[0mchdir\u001b[0m\u001b[0;34m(\u001b[0m\u001b[0;34m'COVIDScenarioPipeline/test/test_inference/'\u001b[0m\u001b[0;34m)\u001b[0m\u001b[0;34m\u001b[0m\u001b[0;34m\u001b[0m\u001b[0m\n\u001b[0m\u001b[1;32m     34\u001b[0m \u001b[0;34m\u001b[0m\u001b[0m\n\u001b[1;32m     35\u001b[0m \u001b[0mconfig_path\u001b[0m \u001b[0;34m=\u001b[0m \u001b[0;34m'config.yml'\u001b[0m\u001b[0;34m\u001b[0m\u001b[0;34m\u001b[0m\u001b[0m\n",
      "\u001b[0;31mFileNotFoundError\u001b[0m: [Errno 2] No such file or directory: 'COVIDScenarioPipeline/test/test_inference/'"
     ]
    }
   ],
   "source": [
    "import pandas as pd\n",
    "import numpy as np\n",
    "import datetime\n",
    "import matplotlib.pyplot as plt\n",
    "import glob, os, sys\n",
    "from pathlib import Path\n",
    "#import seaborn as sns\n",
    "import matplotlib._color_data as mcd\n",
    "import pyarrow.parquet as pq\n",
    "import click\n",
    "\n",
    "import matplotlib.dates as mdates\n",
    "import matplotlib.cbook as cbook\n",
    "from matplotlib.backends.backend_pdf import PdfPages\n",
    "\n",
    "import pyarrow.parquet\n",
    "import pyarrow as pa\n",
    "import pandas as pd\n",
    "import Outcomes\n",
    "\n",
    "\n",
    "import multiprocessing\n",
    "import pathlib\n",
    "import time\n",
    "\n",
    "import click\n",
    "\n",
    "from SEIR import seir, setup, file_paths\n",
    "from SEIR.utils import config\n",
    "from SEIR.profile import profile_options\n",
    "from Outcomes import outcomes\n",
    "\n",
    "os.chdir('COVIDScenarioPipeline/test/test_inference/')\n",
    "\n",
    "config_path = 'config.yml'\n",
    "\n",
    "config.set_file(config_path)"
   ]
  },
  {
   "cell_type": "code",
   "execution_count": null,
   "metadata": {
    "execution": {
     "iopub.status.busy": "2020-12-20T17:18:55.327063Z",
     "iopub.status.idle": "2020-12-20T17:18:55.327530Z"
    }
   },
   "outputs": [],
   "source": [
    "\n",
    "spatial_config = config[\"spatial_setup\"]\n",
    "spatial_base_path = pathlib.Path(spatial_config[\"base_path\"].get())\n",
    "scenario = 'None'\n",
    "deathrate = 'high_death_rate'\n",
    "stoch_traj_flag= True # Truthy: stochastic simulation, Falsy: determnistic mean of the binomial draws\n",
    "nsim = 10\n",
    "interactive = False\n",
    "write_csv = False\n",
    "write_parquet = True\n",
    "\n",
    "index = 1\n",
    "run_id = '2020.09.14.11:56:34.UTC'\n",
    "prefix='test_inference/None/high_death_rate/2020.09.14.11:56:34.UTC/global/intermediate/000000001.'\n",
    "s = setup.Setup(\n",
    "    setup_name=config[\"name\"].get() + \"_\" + str(scenario),\n",
    "    spatial_setup=setup.SpatialSetup(\n",
    "        setup_name=spatial_config[\"setup_name\"].get(),\n",
    "        geodata_file=spatial_base_path / spatial_config[\"geodata\"].get(),\n",
    "        mobility_file=spatial_base_path / spatial_config[\"mobility\"].get(),\n",
    "        popnodes_key=spatial_config[\"popnodes\"].get(),\n",
    "        nodenames_key=spatial_config[\"nodenames\"].get()\n",
    "    ),\n",
    "    nsim=nsim,\n",
    "    npi_scenario=scenario,\n",
    "    npi_config=config[\"interventions\"][\"settings\"][scenario],\n",
    "    seeding_config=config[\"seeding\"],\n",
    "    ti=config[\"start_date\"].as_date(),\n",
    "    tf=config[\"end_date\"].as_date(),\n",
    "    interactive=interactive,\n",
    "    write_csv=write_csv,\n",
    "    write_parquet=write_parquet,\n",
    "    dt=config[\"dt\"].as_number(),\n",
    "    first_sim_index = index,\n",
    "    in_run_id = run_id,\n",
    "    in_prefix = prefix,\n",
    "    out_run_id = run_id,\n",
    "    out_prefix = prefix\n",
    ")\n",
    "\n",
    "print(f\"\"\"\n",
    ">> Running ***{'STOCHASTIC' if stoch_traj_flag else 'DETERMINISTIC'}*** SEIR and Outcomes modules\n",
    ">> Scenario: {scenario}\n",
    ">> Starting {s.nsim} model runs beginning from {s.first_sim_index}\n",
    ">> Setup *** {s.setup_name} *** from {s.ti} to {s.tf}\n",
    ">> writing to folder : {s.datadir}{s.setup_name}\n",
    "    \"\"\")\n",
    "setup_name = s.setup_name\n",
    "\n",
    "\n",
    "onerun_OUTCOMES_loadID = lambda index: outcomes.onerun_delayframe_outcomes_load_hpar(config,\n",
    "                                                                                     run_id, prefix, int(index), # input\n",
    "                                                                                     run_id, prefix, int(index), # output\n",
    "                                                                                     deathrate, stoch_traj_flag)\n",
    "onerun_OUTCOMES = lambda index: outcomes.run_delayframe_outcomes(config,\n",
    "                                                                 run_id, prefix, int(index), # input\n",
    "                                                                 run_id, prefix, int(index), # output\n",
    "                                                                 deathrate, nsim=1, n_jobs=1, stoch_traj_flag = stoch_traj_flag)\n",
    "onerun_SEIR_loadID = lambda sim_id2write, s, sim_id2load: seir.onerun_SEIR_loadID(int(sim_id2write), s, int(sim_id2load), stoch_traj_flag)\n",
    "onerun_SEIR = lambda sim_id2write, s: seir.onerun_SEIR(int(sim_id2write), s, stoch_traj_flag)\n",
    "\n",
    "onerun_OUTCOMES(0)\n",
    "#onerun_OUTCOMES_loadID(0)"
   ]
  },
  {
   "cell_type": "code",
   "execution_count": null,
   "metadata": {},
   "outputs": [],
   "source": []
  }
 ],
 "metadata": {
  "kernelspec": {
   "display_name": "Python (covidSP)",
   "language": "python",
   "name": "covidsp"
  },
  "language_info": {
   "codemirror_mode": {
    "name": "ipython",
    "version": 3
   },
   "file_extension": ".py",
   "mimetype": "text/x-python",
   "name": "python",
   "nbconvert_exporter": "python",
   "pygments_lexer": "ipython3",
   "version": "3.7.9"
  }
 },
 "nbformat": 4,
 "nbformat_minor": 4
}

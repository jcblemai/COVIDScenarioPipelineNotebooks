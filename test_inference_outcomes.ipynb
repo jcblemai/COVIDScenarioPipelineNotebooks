{
 "cells": [
  {
   "cell_type": "code",
   "execution_count": 1,
   "metadata": {
    "execution": {
     "iopub.status.idle": "2020-12-22T11:59:23.525838Z",
     "shell.execute_reply": "2020-12-22T11:59:23.524836Z",
     "shell.execute_reply.started": "2020-12-22T11:59:22.088051Z"
    }
   },
   "outputs": [],
   "source": [
    "import pandas as pd\n",
    "import numpy as np\n",
    "import datetime\n",
    "import matplotlib.pyplot as plt\n",
    "import glob, os, sys\n",
    "from pathlib import Path\n",
    "#import seaborn as sns\n",
    "import matplotlib._color_data as mcd\n",
    "import pyarrow.parquet as pq\n",
    "import click\n",
    "\n",
    "import matplotlib.dates as mdates\n",
    "import matplotlib.cbook as cbook\n",
    "from matplotlib.backends.backend_pdf import PdfPages\n",
    "\n",
    "import pyarrow.parquet\n",
    "import pyarrow as pa\n",
    "import pandas as pd\n",
    "import Outcomes\n",
    "\n",
    "\n",
    "import multiprocessing\n",
    "import pathlib\n",
    "import time\n",
    "\n",
    "import click\n",
    "\n",
    "from SEIR import  NPI, setup, file_paths\n",
    "from SEIR.utils import config\n",
    "from SEIR.profile import profile_options\n",
    "from Outcomes import outcomes\n",
    "\n",
    "os.chdir('COVIDScenarioPipeline/test/test_inference/')\n",
    "\n",
    "config_path = 'config.yml'\n",
    "\n",
    "config.set_file(config_path)"
   ]
  },
  {
   "cell_type": "code",
   "execution_count": 2,
   "metadata": {
    "execution": {
     "iopub.execute_input": "2020-12-22T11:59:23.527792Z",
     "iopub.status.busy": "2020-12-22T11:59:23.527502Z",
     "iopub.status.idle": "2020-12-22T11:59:23.548297Z",
     "shell.execute_reply": "2020-12-22T11:59:23.547503Z",
     "shell.execute_reply.started": "2020-12-22T11:59:23.527763Z"
    }
   },
   "outputs": [
    {
     "data": {
      "text/html": [
       "<div>\n",
       "<style scoped>\n",
       "    .dataframe tbody tr th:only-of-type {\n",
       "        vertical-align: middle;\n",
       "    }\n",
       "\n",
       "    .dataframe tbody tr th {\n",
       "        vertical-align: top;\n",
       "    }\n",
       "\n",
       "    .dataframe thead th {\n",
       "        text-align: right;\n",
       "    }\n",
       "</style>\n",
       "<table border=\"1\" class=\"dataframe\">\n",
       "  <thead>\n",
       "    <tr style=\"text-align: right;\">\n",
       "      <th></th>\n",
       "      <th>geoid</th>\n",
       "      <th>npi_name</th>\n",
       "      <th>start_date</th>\n",
       "      <th>end_date</th>\n",
       "      <th>parameter</th>\n",
       "      <th>reduction</th>\n",
       "    </tr>\n",
       "  </thead>\n",
       "  <tbody>\n",
       "    <tr>\n",
       "      <th>0</th>\n",
       "      <td>15005</td>\n",
       "      <td>Place1</td>\n",
       "      <td>2020-04-01</td>\n",
       "      <td>2020-05-15</td>\n",
       "      <td>r0</td>\n",
       "      <td>0.288982</td>\n",
       "    </tr>\n",
       "    <tr>\n",
       "      <th>1</th>\n",
       "      <td>15007</td>\n",
       "      <td>Place1</td>\n",
       "      <td>2020-04-01</td>\n",
       "      <td>2020-05-15</td>\n",
       "      <td>r0</td>\n",
       "      <td>0.199216</td>\n",
       "    </tr>\n",
       "    <tr>\n",
       "      <th>2</th>\n",
       "      <td>15009</td>\n",
       "      <td>Place1</td>\n",
       "      <td>2020-04-01</td>\n",
       "      <td>2020-05-15</td>\n",
       "      <td>r0</td>\n",
       "      <td>0.289728</td>\n",
       "    </tr>\n",
       "    <tr>\n",
       "      <th>3</th>\n",
       "      <td>15001</td>\n",
       "      <td>Place1</td>\n",
       "      <td>2020-04-01</td>\n",
       "      <td>2020-05-15</td>\n",
       "      <td>r0</td>\n",
       "      <td>0.297097</td>\n",
       "    </tr>\n",
       "    <tr>\n",
       "      <th>4</th>\n",
       "      <td>15003</td>\n",
       "      <td>Place1</td>\n",
       "      <td>2020-04-01</td>\n",
       "      <td>2020-05-15</td>\n",
       "      <td>r0</td>\n",
       "      <td>0.286405</td>\n",
       "    </tr>\n",
       "    <tr>\n",
       "      <th>5</th>\n",
       "      <td>15005</td>\n",
       "      <td>Place2</td>\n",
       "      <td>2020-04-01,2020-05-01</td>\n",
       "      <td>2020-04-15,2020-05-15</td>\n",
       "      <td>r0</td>\n",
       "      <td>0.279149</td>\n",
       "    </tr>\n",
       "    <tr>\n",
       "      <th>6</th>\n",
       "      <td>15007</td>\n",
       "      <td>Place2</td>\n",
       "      <td>2020-04-01,2020-05-01</td>\n",
       "      <td>2020-04-15,2020-05-15</td>\n",
       "      <td>r0</td>\n",
       "      <td>0.150002</td>\n",
       "    </tr>\n",
       "    <tr>\n",
       "      <th>7</th>\n",
       "      <td>15009</td>\n",
       "      <td>Place2</td>\n",
       "      <td>2020-04-01,2020-05-01</td>\n",
       "      <td>2020-04-15,2020-05-15</td>\n",
       "      <td>r0</td>\n",
       "      <td>0.201816</td>\n",
       "    </tr>\n",
       "    <tr>\n",
       "      <th>8</th>\n",
       "      <td>15001</td>\n",
       "      <td>Place2</td>\n",
       "      <td>2020-04-01,2020-05-01</td>\n",
       "      <td>2020-04-15,2020-05-15</td>\n",
       "      <td>r0</td>\n",
       "      <td>0.175099</td>\n",
       "    </tr>\n",
       "    <tr>\n",
       "      <th>9</th>\n",
       "      <td>15003</td>\n",
       "      <td>Place2</td>\n",
       "      <td>2020-04-01,2020-05-01</td>\n",
       "      <td>2020-04-15,2020-05-15</td>\n",
       "      <td>r0</td>\n",
       "      <td>0.150430</td>\n",
       "    </tr>\n",
       "  </tbody>\n",
       "</table>\n",
       "</div>"
      ],
      "text/plain": [
       "   geoid npi_name             start_date               end_date parameter  \\\n",
       "0  15005   Place1             2020-04-01             2020-05-15        r0   \n",
       "1  15007   Place1             2020-04-01             2020-05-15        r0   \n",
       "2  15009   Place1             2020-04-01             2020-05-15        r0   \n",
       "3  15001   Place1             2020-04-01             2020-05-15        r0   \n",
       "4  15003   Place1             2020-04-01             2020-05-15        r0   \n",
       "5  15005   Place2  2020-04-01,2020-05-01  2020-04-15,2020-05-15        r0   \n",
       "6  15007   Place2  2020-04-01,2020-05-01  2020-04-15,2020-05-15        r0   \n",
       "7  15009   Place2  2020-04-01,2020-05-01  2020-04-15,2020-05-15        r0   \n",
       "8  15001   Place2  2020-04-01,2020-05-01  2020-04-15,2020-05-15        r0   \n",
       "9  15003   Place2  2020-04-01,2020-05-01  2020-04-15,2020-05-15        r0   \n",
       "\n",
       "   reduction  \n",
       "0   0.288982  \n",
       "1   0.199216  \n",
       "2   0.289728  \n",
       "3   0.297097  \n",
       "4   0.286405  \n",
       "5   0.279149  \n",
       "6   0.150002  \n",
       "7   0.201816  \n",
       "8   0.175099  \n",
       "9   0.150430  "
      ]
     },
     "execution_count": 2,
     "metadata": {},
     "output_type": "execute_result"
    }
   ],
   "source": [
    "snpi = pq.read_table(\"model_output/snpi/test_inference/Scenario1/high_death_rate/test_inference/global/intermediate/000000001.000000001.000000001.test_inference.snpi.parquet\").to_pandas()\n",
    "snpi"
   ]
  },
  {
   "cell_type": "code",
   "execution_count": 3,
   "metadata": {
    "execution": {
     "iopub.execute_input": "2020-12-22T11:59:23.553315Z",
     "iopub.status.busy": "2020-12-22T11:59:23.553066Z",
     "iopub.status.idle": "2020-12-22T11:59:23.832011Z",
     "shell.execute_reply": "2020-12-22T11:59:23.831093Z",
     "shell.execute_reply.started": "2020-12-22T11:59:23.553288Z"
    }
   },
   "outputs": [
    {
     "name": "stdout",
     "output_type": "stream",
     "text": [
      "\n",
      ">> Running ***STOCHASTIC*** SEIR and Outcomes modules\n",
      ">> Scenario: Scenario1\n",
      ">> Starting 10 model runs beginning from 1\n",
      ">> Setup *** test_inference_Scenario1 *** from 2020-04-01 to 2020-05-15\n",
      ">> writing to folder : model_output/seir/test_inference/Scenario1/high_death_rate/test_inference/global/intermediatetest_inference_Scenario1\n",
      "    \n",
      "Loaded geoids in loaded relative probablity file: 3226 Intersect with seir simulation:  5 keeped\n",
      "Using 'param_from_file' for relative probability incidI -->  incidH\n",
      "Using 'param_from_file' for relative probability incidI -->  incidD\n",
      "Using 'param_from_file' for relative probability incidH -->  incidICU\n",
      "\n",
      ">> 1 outcomes simulations completed in 0.2 seconds\n",
      "\n"
     ]
    },
    {
     "data": {
      "text/plain": [
       "1"
      ]
     },
     "execution_count": 3,
     "metadata": {},
     "output_type": "execute_result"
    }
   ],
   "source": [
    "\n",
    "spatial_config = config[\"spatial_setup\"]\n",
    "spatial_base_path = pathlib.Path(spatial_config[\"base_path\"].get())\n",
    "scenario = 'Scenario1'\n",
    "deathrate = 'high_death_rate'\n",
    "stoch_traj_flag= True # Truthy: stochastic simulation, Falsy: determnistic mean of the binomial draws\n",
    "nsim = 10\n",
    "interactive = False\n",
    "write_csv = False\n",
    "write_parquet = True\n",
    "\n",
    "index = 1\n",
    "run_id = 'test_inference'\n",
    "prefix='test_inference/Scenario1/high_death_rate/test_inference/global/intermediate/000000001.'\n",
    "s = setup.Setup(\n",
    "    setup_name=config[\"name\"].get() + \"_\" + str(scenario),\n",
    "    spatial_setup=setup.SpatialSetup(\n",
    "        setup_name=spatial_config[\"setup_name\"].get(),\n",
    "        geodata_file=spatial_base_path / spatial_config[\"geodata\"].get(),\n",
    "        mobility_file=spatial_base_path / spatial_config[\"mobility\"].get(),\n",
    "        popnodes_key=spatial_config[\"popnodes\"].get(),\n",
    "        nodenames_key=spatial_config[\"nodenames\"].get()\n",
    "    ),\n",
    "    nsim=nsim,\n",
    "    npi_scenario=scenario,\n",
    "    npi_config=config[\"interventions\"][\"settings\"][scenario],\n",
    "    seeding_config=config[\"seeding\"],\n",
    "    ti=config[\"start_date\"].as_date(),\n",
    "    tf=config[\"end_date\"].as_date(),\n",
    "    interactive=interactive,\n",
    "    write_csv=write_csv,\n",
    "    write_parquet=write_parquet,\n",
    "    dt=config[\"dt\"].as_number(),\n",
    "    first_sim_index = index,\n",
    "    in_run_id = run_id,\n",
    "    in_prefix = prefix,\n",
    "    out_run_id = run_id,\n",
    "    out_prefix = prefix\n",
    ")\n",
    "\n",
    "print(f\"\"\"\n",
    ">> Running ***{'STOCHASTIC' if stoch_traj_flag else 'DETERMINISTIC'}*** SEIR and Outcomes modules\n",
    ">> Scenario: {scenario}\n",
    ">> Starting {s.nsim} model runs beginning from {s.first_sim_index}\n",
    ">> Setup *** {s.setup_name} *** from {s.ti} to {s.tf}\n",
    ">> writing to folder : {s.datadir}{s.setup_name}\n",
    "    \"\"\")\n",
    "setup_name = s.setup_name\n",
    "\n",
    "\n",
    "onerun_OUTCOMES_loadID = lambda index: outcomes.onerun_delayframe_outcomes_load_hpar(config,\n",
    "                                                                                     run_id, prefix, int(index), # input\n",
    "                                                                                     run_id, prefix, int(index), # output\n",
    "                                                                                     deathrate, stoch_traj_flag)\n",
    "onerun_OUTCOMES = lambda index: outcomes.run_delayframe_outcomes(config,\n",
    "                                                                 run_id, prefix, int(index), # input\n",
    "                                                                 run_id, prefix, int(index), # output\n",
    "                                                                 deathrate, nsim=1, n_jobs=1, stoch_traj_flag = stoch_traj_flag)\n",
    "onerun_SEIR_loadID = lambda sim_id2write, s, sim_id2load: seir.onerun_SEIR_loadID(int(sim_id2write), s, int(sim_id2load), stoch_traj_flag)\n",
    "onerun_SEIR = lambda sim_id2write, s: seir.onerun_SEIR(int(sim_id2write), s, stoch_traj_flag)\n",
    "\n",
    "onerun_OUTCOMES(0)\n",
    "#onerun_OUTCOMES_loadID(0)"
   ]
  },
  {
   "cell_type": "code",
   "execution_count": 4,
   "metadata": {
    "execution": {
     "iopub.execute_input": "2020-12-22T11:59:23.833238Z",
     "iopub.status.busy": "2020-12-22T11:59:23.832964Z",
     "iopub.status.idle": "2020-12-22T11:59:23.876782Z",
     "shell.execute_reply": "2020-12-22T11:59:23.876191Z",
     "shell.execute_reply.started": "2020-12-22T11:59:23.833214Z"
    }
   },
   "outputs": [],
   "source": [
    "snpi_fn = 'model_output/snpi/test_inference/Scenario1/high_death_rate/test_inference/global/intermediate/000000001.000000001.000000001.test_inference.snpi.parquet'\n",
    "\n",
    "snpi = pq.read_table(snpi_fn).to_pandas()\n",
    "npi = NPI.NPIBase.execute(\n",
    "    npi_config=s.npi_config,\n",
    "    global_config=config,\n",
    "    geoids=s.spatset.nodenames,\n",
    "    loaded_df = snpi)\n",
    "p_draw = setup.parameters_load(snpi_fn.replace('snpi', 'spar')[:-8],\n",
    "    'parquet',\n",
    "    len(s.t_inter),\n",
    "    s.nnodes\n",
    ")\n",
    "\n",
    "#npi = NPI.NPIBase.execute(\n",
    "#    npi_config=s.npi_config,\n",
    "#    global_config=config,\n",
    "#    geoids=s.spatset.nodenames,\n",
    "#    loaded_df = snpi)\n",
    "\n",
    "parameters = setup.parameters_reduce(p_draw, npi, s.dt)\n",
    "beta = parameters[1]"
   ]
  },
  {
   "cell_type": "code",
   "execution_count": 5,
   "metadata": {
    "execution": {
     "iopub.execute_input": "2020-12-22T11:59:23.878063Z",
     "iopub.status.busy": "2020-12-22T11:59:23.877659Z",
     "iopub.status.idle": "2020-12-22T11:59:23.882085Z",
     "shell.execute_reply": "2020-12-22T11:59:23.881341Z",
     "shell.execute_reply.started": "2020-12-22T11:59:23.878038Z"
    }
   },
   "outputs": [],
   "source": [
    "a = snpi[snpi['parameter']=='r0'].parameter.unique()"
   ]
  },
  {
   "cell_type": "code",
   "execution_count": 13,
   "metadata": {
    "execution": {
     "iopub.execute_input": "2020-12-22T12:09:38.860450Z",
     "iopub.status.busy": "2020-12-22T12:09:38.860129Z",
     "iopub.status.idle": "2020-12-22T12:09:38.863585Z",
     "shell.execute_reply": "2020-12-22T12:09:38.862806Z",
     "shell.execute_reply.started": "2020-12-22T12:09:38.860416Z"
    }
   },
   "outputs": [],
   "source": [
    "a = ['sds', 'df'] "
   ]
  },
  {
   "cell_type": "code",
   "execution_count": 15,
   "metadata": {
    "execution": {
     "iopub.execute_input": "2020-12-22T12:09:43.314656Z",
     "iopub.status.busy": "2020-12-22T12:09:43.314362Z",
     "iopub.status.idle": "2020-12-22T12:09:43.319175Z",
     "shell.execute_reply": "2020-12-22T12:09:43.318374Z",
     "shell.execute_reply.started": "2020-12-22T12:09:43.314628Z"
    }
   },
   "outputs": [
    {
     "data": {
      "text/plain": [
       "['sds', 'df', 'r', '0']"
      ]
     },
     "execution_count": 15,
     "metadata": {},
     "output_type": "execute_result"
    }
   ],
   "source": [
    "joined_list = [*a, *'r0']\n",
    "joined_list"
   ]
  },
  {
   "cell_type": "code",
   "execution_count": 16,
   "metadata": {
    "execution": {
     "iopub.execute_input": "2020-12-22T12:10:18.824667Z",
     "iopub.status.busy": "2020-12-22T12:10:18.824382Z",
     "iopub.status.idle": "2020-12-22T12:10:18.828254Z",
     "shell.execute_reply": "2020-12-22T12:10:18.827499Z",
     "shell.execute_reply.started": "2020-12-22T12:10:18.824641Z"
    }
   },
   "outputs": [
    {
     "name": "stdout",
     "output_type": "stream",
     "text": [
      "d\n",
      "f\n",
      "s\n",
      "d\n",
      "f\n"
     ]
    }
   ],
   "source": [
    "p.be"
   ]
  }
 ],
 "metadata": {
  "kernelspec": {
   "display_name": "Python (covidSP)",
   "language": "python",
   "name": "covidsp"
  },
  "language_info": {
   "codemirror_mode": {
    "name": "ipython",
    "version": 3
   },
   "file_extension": ".py",
   "mimetype": "text/x-python",
   "name": "python",
   "nbconvert_exporter": "python",
   "pygments_lexer": "ipython3",
   "version": "3.7.9"
  }
 },
 "nbformat": 4,
 "nbformat_minor": 4
}
